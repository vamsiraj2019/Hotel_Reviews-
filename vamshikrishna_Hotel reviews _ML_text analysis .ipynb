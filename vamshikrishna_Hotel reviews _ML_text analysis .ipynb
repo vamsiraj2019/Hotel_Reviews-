{
 "cells": [
  {
   "cell_type": "code",
   "execution_count": 1,
   "metadata": {},
   "outputs": [],
   "source": [
    "import numpy as np\n",
    "import pandas as pd\n",
    "import os\n",
    "import re #regular expression re Identifiers, and White space characters"
   ]
  },
  {
   "cell_type": "code",
   "execution_count": 2,
   "metadata": {},
   "outputs": [
    {
     "name": "stderr",
     "output_type": "stream",
     "text": [
      "ERROR: Invalid requirement: 'textblob#library'\n",
      "WARNING: You are using pip version 19.2.1, however version 19.2.2 is available.\n",
      "You should consider upgrading via the 'python -m pip install --upgrade pip' command.\n"
     ]
    }
   ],
   "source": [
    "!pip install -U textblob#library for processing textual data\n"
   ]
  },
  {
   "cell_type": "code",
   "execution_count": 3,
   "metadata": {},
   "outputs": [
    {
     "data": {
      "text/html": [
       "<div>\n",
       "<style scoped>\n",
       "    .dataframe tbody tr th:only-of-type {\n",
       "        vertical-align: middle;\n",
       "    }\n",
       "\n",
       "    .dataframe tbody tr th {\n",
       "        vertical-align: top;\n",
       "    }\n",
       "\n",
       "    .dataframe thead th {\n",
       "        text-align: right;\n",
       "    }\n",
       "</style>\n",
       "<table border=\"1\" class=\"dataframe\">\n",
       "  <thead>\n",
       "    <tr style=\"text-align: right;\">\n",
       "      <th></th>\n",
       "      <th>Reviewid</th>\n",
       "      <th>Hotelid</th>\n",
       "      <th>userid</th>\n",
       "      <th>Date</th>\n",
       "      <th>reviewtext</th>\n",
       "      <th>Sentiment</th>\n",
       "    </tr>\n",
       "  </thead>\n",
       "  <tbody>\n",
       "    <tr>\n",
       "      <th>0</th>\n",
       "      <td>Review_1</td>\n",
       "      <td>hotel_101</td>\n",
       "      <td>hotel_1608</td>\n",
       "      <td>Nov 16, 2007</td>\n",
       "      <td>Nice Marriot       View of my king bed room</td>\n",
       "      <td>good</td>\n",
       "    </tr>\n",
       "    <tr>\n",
       "      <th>1</th>\n",
       "      <td>Review_2</td>\n",
       "      <td>hotel_101</td>\n",
       "      <td>hotel_6939</td>\n",
       "      <td>Oct 30, 2007</td>\n",
       "      <td>Good hotel, charges for internet access The Ma...</td>\n",
       "      <td>good</td>\n",
       "    </tr>\n",
       "    <tr>\n",
       "      <th>2</th>\n",
       "      <td>Review_3</td>\n",
       "      <td>hotel_101</td>\n",
       "      <td>hotel_3976</td>\n",
       "      <td>Oct 12, 2007</td>\n",
       "      <td>Small but adequate rooms If you have an early ...</td>\n",
       "      <td>good</td>\n",
       "    </tr>\n",
       "    <tr>\n",
       "      <th>3</th>\n",
       "      <td>Review_4</td>\n",
       "      <td>hotel_101</td>\n",
       "      <td>hotel_2851</td>\n",
       "      <td>Aug 31, 2007</td>\n",
       "      <td>Better than average, some noisy rooms I have s...</td>\n",
       "      <td>good</td>\n",
       "    </tr>\n",
       "    <tr>\n",
       "      <th>4</th>\n",
       "      <td>Review_5</td>\n",
       "      <td>hotel_101</td>\n",
       "      <td>hotel_7897</td>\n",
       "      <td>Jul 18, 2007</td>\n",
       "      <td>Ordinary Although it is highly rated in these ...</td>\n",
       "      <td>bad</td>\n",
       "    </tr>\n",
       "  </tbody>\n",
       "</table>\n",
       "</div>"
      ],
      "text/plain": [
       "   Reviewid    Hotelid      userid          Date  \\\n",
       "0  Review_1  hotel_101  hotel_1608  Nov 16, 2007   \n",
       "1  Review_2  hotel_101  hotel_6939  Oct 30, 2007   \n",
       "2  Review_3  hotel_101  hotel_3976  Oct 12, 2007   \n",
       "3  Review_4  hotel_101  hotel_2851  Aug 31, 2007   \n",
       "4  Review_5  hotel_101  hotel_7897  Jul 18, 2007   \n",
       "\n",
       "                                          reviewtext Sentiment  \n",
       "0        Nice Marriot       View of my king bed room      good  \n",
       "1  Good hotel, charges for internet access The Ma...      good  \n",
       "2  Small but adequate rooms If you have an early ...      good  \n",
       "3  Better than average, some noisy rooms I have s...      good  \n",
       "4  Ordinary Although it is highly rated in these ...       bad  "
      ]
     },
     "execution_count": 3,
     "metadata": {},
     "output_type": "execute_result"
    }
   ],
   "source": [
    "data=pd.read_csv(\"train_phd.csv\") #Reading data\n",
    "type(data) #Type is a data frame\n",
    "data.head(5) #Displays first five records"
   ]
  },
  {
   "cell_type": "code",
   "execution_count": 4,
   "metadata": {},
   "outputs": [
    {
     "data": {
      "text/plain": [
       "pandas.core.frame.DataFrame"
      ]
     },
     "execution_count": 4,
     "metadata": {},
     "output_type": "execute_result"
    }
   ],
   "source": [
    "type(data)"
   ]
  },
  {
   "cell_type": "markdown",
   "metadata": {},
   "source": [
    "## transform our reviewtext into lower case.This avoids having multiple copies of the same words"
   ]
  },
  {
   "cell_type": "code",
   "execution_count": 5,
   "metadata": {},
   "outputs": [
    {
     "data": {
      "text/plain": [
       "0                nice marriot view of my king bed room\n",
       "1    good hotel, charges for internet access the ma...\n",
       "2    small but adequate rooms if you have an early ...\n",
       "3    better than average, some noisy rooms i have s...\n",
       "4    ordinary although it is highly rated in these ...\n",
       "Name: reviewtext, dtype: object"
      ]
     },
     "execution_count": 5,
     "metadata": {},
     "output_type": "execute_result"
    }
   ],
   "source": [
    "data['reviewtext'] = data['reviewtext'].apply(lambda x: \" \".join(x.lower() for x in x.split()))\n",
    "data['reviewtext'].head()"
   ]
  },
  {
   "cell_type": "markdown",
   "metadata": {},
   "source": [
    "## Removing Punctuation\n"
   ]
  },
  {
   "cell_type": "code",
   "execution_count": 6,
   "metadata": {},
   "outputs": [],
   "source": [
    "data['reviewtext'] = data['reviewtext'].str.replace('[^\\w\\s]','')"
   ]
  },
  {
   "cell_type": "markdown",
   "metadata": {},
   "source": [
    "##lemmetize"
   ]
  },
  {
   "cell_type": "code",
   "execution_count": 7,
   "metadata": {},
   "outputs": [],
   "source": [
    "from textblob import Word"
   ]
  },
  {
   "cell_type": "markdown",
   "metadata": {},
   "source": [
    "## lemmetize"
   ]
  },
  {
   "cell_type": "code",
   "execution_count": 8,
   "metadata": {},
   "outputs": [
    {
     "data": {
      "text/plain": [
       "0                nice marriot view of my king bed room\n",
       "1    good hotel charge for internet access the marr...\n",
       "2    small but adequate room if you have an early m...\n",
       "3    better than average some noisy room i have sta...\n",
       "4    ordinary although it is highly rated in these ...\n",
       "Name: reviewtext, dtype: object"
      ]
     },
     "execution_count": 8,
     "metadata": {},
     "output_type": "execute_result"
    }
   ],
   "source": [
    "data['reviewtext'] = data['reviewtext'].apply(lambda x: \" \".join([Word(word).lemmatize() for word in x.split()]))\n",
    "data['reviewtext'].head()"
   ]
  },
  {
   "cell_type": "markdown",
   "metadata": {},
   "source": [
    "#stemming "
   ]
  },
  {
   "cell_type": "code",
   "execution_count": 9,
   "metadata": {},
   "outputs": [
    {
     "data": {
      "text/plain": [
       "0                nice marriot view of my king bed room\n",
       "1    good hotel charg for internet access the marri...\n",
       "2    small but adequ room if you have an earli morn...\n",
       "3    better than averag some noisi room i have stay...\n",
       "4    ordinari although it is highli rate in these r...\n",
       "Name: reviewtext, dtype: object"
      ]
     },
     "execution_count": 9,
     "metadata": {},
     "output_type": "execute_result"
    }
   ],
   "source": [
    "from nltk.stem import PorterStemmer\n",
    "st = PorterStemmer()\n",
    "data['reviewtext'][:5].apply(lambda x: \" \".join([st.stem(word) for word in x.split()]))"
   ]
  },
  {
   "cell_type": "markdown",
   "metadata": {},
   "source": [
    "## spelling correction"
   ]
  },
  {
   "cell_type": "code",
   "execution_count": 10,
   "metadata": {},
   "outputs": [
    {
     "data": {
      "text/plain": [
       "0                nice married view of my king bed room\n",
       "1    good hotel charge for internet access the merr...\n",
       "2    small but adequate room if you have an early m...\n",
       "3    better than average some noisy room i have sta...\n",
       "4    ordinary although it is highly rate in these r...\n",
       "Name: reviewtext, dtype: object"
      ]
     },
     "execution_count": 10,
     "metadata": {},
     "output_type": "execute_result"
    }
   ],
   "source": [
    "from textblob import TextBlob\n",
    "data['reviewtext'][:5].apply(lambda x: str(TextBlob(x).correct()))"
   ]
  },
  {
   "cell_type": "markdown",
   "metadata": {},
   "source": [
    "## Stop words removal "
   ]
  },
  {
   "cell_type": "code",
   "execution_count": 11,
   "metadata": {},
   "outputs": [
    {
     "data": {
      "text/plain": [
       "0                      nice marriot view king bed room\n",
       "1    good hotel charge internet access marriott air...\n",
       "2    small adequate room early morning flight catch...\n",
       "3    better average noisy room stayed hotel time in...\n",
       "4    ordinary although highly rated review pay prem...\n",
       "Name: reviewtext, dtype: object"
      ]
     },
     "execution_count": 11,
     "metadata": {},
     "output_type": "execute_result"
    }
   ],
   "source": [
    "from nltk.corpus import stopwords\n",
    "stop = stopwords.words('english')\n",
    "data['reviewtext'] = data['reviewtext'].apply(lambda x: \" \".join(x for x in x.split() if x not in stop))\n",
    "data['reviewtext'].head()\n"
   ]
  },
  {
   "cell_type": "markdown",
   "metadata": {},
   "source": [
    "## Common word removalThis avoids having multiple copies of the same wordsFor example, while calculating the word count, ‘Analytics’ and ‘analytics’ will be taken as different words."
   ]
  },
  {
   "cell_type": "code",
   "execution_count": 12,
   "metadata": {},
   "outputs": [
    {
     "data": {
      "text/plain": [
       "wa          22237\n",
       "hotel       14179\n",
       "room        13614\n",
       "great        5910\n",
       "stay         4909\n",
       "would        3902\n",
       "location     3902\n",
       "night        3734\n",
       "good         3705\n",
       "staff        3558\n",
       "dtype: int64"
      ]
     },
     "execution_count": 12,
     "metadata": {},
     "output_type": "execute_result"
    }
   ],
   "source": [
    "freq = pd.Series(' '.join(data['reviewtext']).split()).value_counts()[:10]\n",
    "freq"
   ]
  },
  {
   "cell_type": "markdown",
   "metadata": {},
   "source": [
    "## Now, let’s remove these words as their presence will not of any use in classification of our text data.\n",
    "\n"
   ]
  },
  {
   "cell_type": "code",
   "execution_count": 13,
   "metadata": {},
   "outputs": [
    {
     "data": {
      "text/plain": [
       "0                           nice marriot view king bed\n",
       "1    charge internet access marriott airport seattl...\n",
       "2    small adequate early morning flight catch choi...\n",
       "3    better average noisy stayed time inthe last se...\n",
       "4    ordinary although highly rated review pay prem...\n",
       "Name: reviewtext, dtype: object"
      ]
     },
     "execution_count": 13,
     "metadata": {},
     "output_type": "execute_result"
    }
   ],
   "source": [
    "freq = list(freq.index)\n",
    "data['reviewtext'] = data['reviewtext'].apply(lambda x: \" \".join(x for x in x.split() if x not in freq))\n",
    "data['reviewtext'].head()"
   ]
  },
  {
   "cell_type": "code",
   "execution_count": 14,
   "metadata": {},
   "outputs": [],
   "source": [
    "Text_data = data['reviewtext']"
   ]
  },
  {
   "cell_type": "code",
   "execution_count": 15,
   "metadata": {},
   "outputs": [],
   "source": [
    "Text_data1 = Text_data.tolist()"
   ]
  },
  {
   "cell_type": "markdown",
   "metadata": {},
   "source": [
    "## Rare words removal  this time let’s remove rarely occurring words from the text. Because they’re so rare, the association between them and other words is dominated by noise"
   ]
  },
  {
   "cell_type": "code",
   "execution_count": 16,
   "metadata": {},
   "outputs": [
    {
     "data": {
      "text/plain": [
       "disappointedits    1\n",
       "minumum            1\n",
       "terriblelot        1\n",
       "5oh                1\n",
       "endwould           1\n",
       "updatedwell        1\n",
       "timewarped         1\n",
       "patina             1\n",
       "sometimesmy        1\n",
       "watchif            1\n",
       "dtype: int64"
      ]
     },
     "execution_count": 16,
     "metadata": {},
     "output_type": "execute_result"
    }
   ],
   "source": [
    "freq_rare= pd.Series(' '.join(data['reviewtext']).split()).value_counts()[-10:]\n",
    "freq_rare"
   ]
  },
  {
   "cell_type": "code",
   "execution_count": 17,
   "metadata": {},
   "outputs": [
    {
     "data": {
      "text/plain": [
       "0                           nice marriot view king bed\n",
       "1    charge internet access marriott airport seattl...\n",
       "2    small adequate early morning flight catch choi...\n",
       "3    better average noisy stayed time inthe last se...\n",
       "4    ordinary although highly rated review pay prem...\n",
       "Name: reviewtext, dtype: object"
      ]
     },
     "execution_count": 17,
     "metadata": {},
     "output_type": "execute_result"
    }
   ],
   "source": [
    "freq_rare = list(freq_rare.index)\n",
    "data['reviewtext'] = data['reviewtext'].apply(lambda x: \" \".join(x for x in x.split() if x not in freq))\n",
    "data['reviewtext'].head()"
   ]
  },
  {
   "cell_type": "code",
   "execution_count": 18,
   "metadata": {},
   "outputs": [],
   "source": [
    "Text_data = data['reviewtext']"
   ]
  },
  {
   "cell_type": "code",
   "execution_count": 19,
   "metadata": {},
   "outputs": [],
   "source": [
    "Text_data1 = Text_data.tolist()"
   ]
  },
  {
   "cell_type": "code",
   "execution_count": 20,
   "metadata": {},
   "outputs": [
    {
     "data": {
      "text/plain": [
       "list"
      ]
     },
     "execution_count": 20,
     "metadata": {},
     "output_type": "execute_result"
    }
   ],
   "source": [
    "type(Text_data1)"
   ]
  },
  {
   "cell_type": "markdown",
   "metadata": {},
   "source": [
    "## removing white spaces and numbers # it has to be executed after converting to list "
   ]
  },
  {
   "cell_type": "code",
   "execution_count": 21,
   "metadata": {},
   "outputs": [],
   "source": [
    "for i in range(len(data)):\n",
    "    Text_data1[i]=re.sub(r'\\s+', ' ', Text_data1[i]) #Removing more than one white spaces in the sentence\n",
    "    Text_data1[i]=re.sub('[\\d]', '',Text_data1[i])#Removing numbers"
   ]
  },
  {
   "cell_type": "code",
   "execution_count": 22,
   "metadata": {},
   "outputs": [
    {
     "data": {
      "text/plain": [
       "['nice marriot view king bed',\n",
       " 'charge internet access marriott airport seattle reasonable choice seatac area paid  per shuttle generally quick airport encourage use rather taxi service spotty seattle second floor back long walk matter way took interior nice check quickbreakfast restaurant bit pricey drink service bar fine complaint imagine must get noisy lobby crowd hanging thebar guess marriott ha new program guest charged internet service  free business center near checkin counter two internet pc one boarding pas access pcpersonally ability sit check personal work email nice sure many taker pay extra access hoping get nickel dimed thati offer four star overall quality',\n",
       " 'small adequate early morning flight catch choice right airport ha recently renovated new clean service fast efficient food negative small bathroom smallest ive encountered many year hardly turn around im small person however countertop granite nice also one elevator seemed odd size may self park valet park fee recommend extended fine one visit',\n",
       " 'better average noisy stayed time inthe last several month first best subsequent one got better obviously taken note comment card seriouslythe located near seatac frequent shuttle tower  floor high atrium area  floor high note tower really view although advertised mt rainier view maybe tree grew regardless tower youwill looking roofventilation roofassociate entrance avoid ending x x bit noisy truck show odd numbered tower little noisy ac frankly wasnt badthe bathroom small double double little crowded king seem bigger chair ottoman redone recently dont big flat screen tv desk pretty roomy cabinet  small drawersnot greatest storagerooms atrium area noisier reason aside noise pool function held near pool seems wall thinnerlast time actually thought someone left cellphone ringing loudlyfood goodcould better bit pricy restaurant due redone st quarter  dessert however tasty since issue meal free try chocolate cake lobbybar nice music lot loud one song played ha sort random spoken soundsvery disconcertinginternet part  wired business package dont make call expensive dont know marriott get brainsstop charging internet business center  computer ethernet cable use free also get free use internet concierge loungethere couple dining choice walking distance dennys  coinswhich think also expensive restaurant need car cab self parking  per day valet very high norm citiesbe careful showertubs get slippery fell able get rubber mat also informed gm several people situation housekeeping need rinse carefullythe clean even noticed housekeeper vacuuming rock wall outside restaurant friendly remembering name luggagewhich seems go someplace else come seattleseems also popular cruiser large number folk heading alaska vision seasmaybe royal caribbean precruise hotelsome people hate pacific northwest design hotelthe lobby look like lodge frankly think appropriate area plenty place inthe area nice flyer anyone needing inthe seatac area  minute downtown hop bus airport also think stop end hill drive also tour arrangedmany pick airport area hotelsgive try',\n",
       " 'ordinary although highly rated review pay premium price compared airport nothing special proximity seatac thinking staying pay attention trip advisor comment hideous view hvac equipment window one whole side although top floor building view looked like industrial site equipment roof lower wing building spacious bed comfortable bathroom functional rainstorm middle ceiling leaked club lounge paid extra modest ive ever seen food breakfast best part experience restaurant extremely ordinary looking like roadside restaurant freeway food service firstrate bottom line slept well even though collect marriott point dont think id return',\n",
       " 'awesome early flight wow suprise stayed property one july  wife two child   month check faster ever experienced newly renovated th floor overlooking airport parking garage actually larger expected two double bed plenty porta crib bellman helpful bag even set crib u son went swimming time bed super comfortable slept well quiet busy slow dont think change busycheck efficient shuttle come every  minute le five minute airportwe definatly early flightgreat job property marriott im big fan',\n",
       " 'spent two jun close airport shuttle run every  min free clean comfortable bed linen although somewhat small functional lobby seemed noisy although quiet didnt eat restaurant service quick seemed take forever get seem spread',\n",
       " 'stayed overnight last week may flying morning problem leaving car except checked asked aaa card evidently rate got park sleep fly aaa member option even mentioned web reservation form front desk quickly recognized error super comfy dinner restaurant super efficient drop departure day much quicker pick used past one tiny little thing way back guy picked u stopped pick take dinner dropped u back kind weird overall experience',\n",
       " 'fine choice seatac lobby attractive bit small noisy seemed newly redecoratedremodeled big comfortable king bed lovely duvet many pillow bathroom luxury level granite countertop attractive large framed mirror free computer lobby printing boarding pass hilton block away easily walk restaurant large steak house type place choice well noted parking ripoff dropped rental car early avoid overnight charge',\n",
       " 'value looking nice expensive nice service looking lodge old outdated place try breakfast place coming going alaska cruise seattle take car service terminal service well priced',\n",
       " 'nice expensive parking nicely renovated modern bar beautiful indoor pool treed atrium friendly helpful immaculately clean bed extremely comfortable due nice linen pillow concern expensive parking run  per day expect la seattle wonderful food restaurant',\n",
       " 'happy property ha gotten rave review wanted sleep arevive bed gave try arrived  pm tired greeted eric front desk found u  wewanted even took u came dinner bar ordering dining menu food ill return horseradish crusted salmon faced pretty atrium didnt hear noise  reception area downstairs comfy ha warm feeling like  ranked stayed christmas cold uninviting space dont know one elevator rd floor problem crowded maybe missed another elevator wonderful comfortable relaxing ill go back nice marriott waterfront far comfort go im hooked bedsthis place fussy older woman young men travel mother fussy old woman family love',\n",
       " 'nickel dimed death nice conveniently located youre flying seatacits also incredibly expensive  bed parking run  find place otherwise unsecured lot want valet youif youre staying hotelairport area make use airport shuttleinternet connection youll pay day want light forget youll dim watt bulbed point youre wondering stock flashlight water pressure none st floor shower warm hot im environmental consideration dont make stumble dark take cold shower shaving leg either environment becomes bloody mess literallythe bed actually incredibly comfortable thing wall window insulated airport noise ask inside',\n",
       " 'extraordinaily positive stayed march th wasnt expecting lot airport someone work firm ha gone ritz carlton seminar im sure marriott owns ritz employee go processthe fine pool decent gym frequent shuttle airportall free internet printer nice touch wellevery single employee amazingly friendly solicitious even kind lost someone always go way offer helpthere lot construction going completed soon didnt negatively affect megood job marriott',\n",
       " 'birthday party fun stayed overnite one daughter th birthday daughter two friend herswe loved two queen bed one hide bedit surpisingly comfortable pool area beautiful relaxingwhile girl swam rested one chaise loungeswe swimming atrium area pool lit lightsso fabulous state remodel lobby area walkway corridor hall noisy inconvenient waywe live local area treat every awhile always pleased service amenitiesstay hereyou wont dissapointed',\n",
       " 'excellent stayed one excellent put u concierge floor marriott reward silver member request view mt rainer toothpaste rollaway accommodated renovated looked comfortable bed new bedding loved look feel swimming poolhot tub area outdoors tropic enjoyed warm water food lunch delicious  minute away downtown seattle note lobby currently renovated needed walk tent get inside building registration business center',\n",
       " 'business trip somewhat dated nice recently remodeled new furniture carpet bedding bed duvet cover clean bathroom also part remodel granite countertop new tile fixture stayed two week got know well airport side loud aircraft noise throughout change inside get sleep lobby dated need remodeled parking real problem key doe allow access parking lot every person must stop attendant cause huge backup peak time  horrible service vip lounge nice friendly inside pool heated huge nice exercise facility two week experience nice marriott spend money update lobby bar restaurant parking access using card reader',\n",
       " 'sleep park fly parked suv within ft front lobby two bright light told secure parking left th first trip cabo san lucas arrive back home th find suv broken many item stolen inside damage thing strewn everywhere waited long time police arrive make report heard corporate office told yet made phone call today left message see like proceed update know stand behind respected name',\n",
       " 'comfortable spacious staying two redmond area conference wife booked last flight home lobby large fireplace comforable couch wife commented pool area pas elevated walkway make way elevator looked like something youd see disney lot indoor treesplants clean quiet nicebut bathroom felt bit small breakfast buffet well stocked sort hot cold item also two cook hand made order egg including salmon scramble delicious stayed top floor conceige level received upgrade marriott point elevated ceiling impressed quality decor',\n",
       " 'beautiful recent renovation exercise st level',\n",
       " 'hit miss stayed  separate occasion recently one average renovated found one second noisy food average fare public area dark  day parking lot far front desk disappointing shuttle tofrom airport time driver helpful price ha better option',\n",
       " 'july  stayed courtyard princess cruise alaska pleased arrived seatac airport called free shuttle arrived  minute later told  minute early driver friendly  minute trip airport courtyard checkin fast problem thought could get free shuttle cruise ship far desk arrange town car service pick u next morning guaranteed nonsmoking got one smell smoke large  queen bed quilt overstuffed chair desk chair vanity mirror bureau tv clean bathroom part toilet tubshower one large sink mirror separate area outside made convenient dinner charleys restaurant reasonably pricedwestern burger fry patty melt fry  breakfast buffet bread bagel omelet bar fruit hot cold cereal yogurt pleased hotelespecially cleanlinessand definitely',\n",
       " 'pretty impressed stayed one dropping daughter seatac yes property little bit older felt kept well nicely appointed bedding sooooo comfortable loved duvet absolutely complaint pool atrium area awesome lot real foliage bright enjoyed swim warm water time hot tub definitely',\n",
       " 'interesting marriott property another view double bed',\n",
       " 'kind worn showreview full',\n",
       " 'average old tired showreview full',\n",
       " 'used still choice spent weekend del sol chose cow hollow neighbourhood wed stayed year back pleased property isnt nice used longer offer aveda product one favorite thing sound carry quite bit ask top floor available small clean furnishing starting become bit dated also picture tv poor couldnt watch couple channel parking included feature sf walking distance many shop restaurant pretty trendy area probably elsewhere next time given choice unless refurbishing',\n",
       " 'fun must better place chose del sol  day san francisco basis review indicated might fun two boy   pool free parking fact de sol motel rather fact overlook central public courtyard mean inherently noisy fortunately guest making much noise could imagine unlucky coincided rowdy group could pretty unpleasant pool small really worthwhile whilst site car parking bonus think next time get rid hire car reaching san francisco get using public transport said drive muir wood well worth near anything interest admittedly bus stop two block away use bus go everywhere time consumingthe superb friendly extremely helpful provides light breakfast even though doe facility get bagel coffee reception sit pool building colourful jolly big benefit u price could afford two rather share boy reflection though better found fisherman wharfe im sure however none stood looking particularly welcomingwe took trip alcatraz fantastic one best tourist trip ever done boy also really enjoyed exploratorium science museumpeople warned san fracisco cold hadnt really believed left sacramento  mile inland temperature  f got san francisco  f stayed like week however welcome relief heat experienced remainder tripoverall although del sol fun advice find either fisherman wharfe union square',\n",
       " 'comfy festive friendly',\n",
       " 'del sol family stayed del sol end july loved  standard  double bed s motor lodge style brightly colored call artdeco nice courtyard small pool pool quite chilly adult kid age   didnt seem mind afternoon cooky milk also hit back wont deny quite small bathroom consisted pedistal sink shower stall commode said come san francisco bed comfortable boutique soap shampoo treat overlooked greenwich street didnt get traffic noise read review also top floor probably helped area well fully booked little bit noise heard died  pm continental breakfast standard fare city pay big eat free breakfast bonus biggest appeal marinacow hollow district wonderfulsafe kid friendly restaurant within walking distance mels drivein diner amicis pizzeria along lombard st want something offer quieter dining experience delicious adult fare well kid menu perry union st also parking free del sol car sf unnecessary bought muni pass u kid  ride free bus stop block since main line able go everywhere ease neighborhood safe evening stroll within walking distance presidio chrissy field exploratorium palace fine art walking around neighborhood looking architecture also san francisco mustsee final note say del sol really make place stand booked rental car day checking heading yosemite problem enterprise nightmare jorge heard problem offered call rental car company u hour located car avis also allowed u keep avis came pick u almost  pm others front desk also helpful pocket size map invaluable ask recommendation happily give ',\n",
       " 'refreshing mom stayed del sol san francisco recommended didnt disappoint perfect block union chestnut walking distance ocean ambiance refreshing small basic bright color lot character outdoor pool parking small continental breakfast also part deal definitely european feel may seemed mostly european traveler staying price incredibly reasonable well definitely back nice find doesnt break bank isnt part boring ol chain',\n",
       " 'disappointed booked entirely due favourable review site nice thing ill get overall quite disappointed whole time kept thinking cant wait write review place tripadvisor main problem tiny cramped least one standardtype  queen bed everyones face fell first walked claustrophobic reread many review im back even many favourable one mention small roomsthe bathroom equally cramped space shower stall disappointed bath person another disappointment lack fridge something always appreciate roomanother disappointment size swimming pool much bigger bathtub cold temperature waterthe courtyard nicely done particular light palm tree breakfast fairly uninteresting continental style danish etc im really complaining id rather simple breakfast none cooky offered every afternoon  appreciated kid another thing like hair product moisturizer soap lovelynext time san fran definitely try somewhere else',\n",
       " 'overrated family stayed del sol four day august  payed  suite supposedly discounted price frankly disappointed much brightly painted noisy motel small pool tiny freezing continental breakfast fair best realize san francisco expensive parking included big deal however still overpriced plus side extremely well located people desk well housekeeping lovely next trip san francisco pay necessary nicer place',\n",
       " 'ray sunshine booked based review disappointed arrived uk discovered booking   oops guy reception didnt bat eyelid put u spare tired flight didnt really care went moved stuff better morning awake am time difference etc etc cheerful porter made coffee go  young child tow grateful mistake sorted easily without fuss  del solthe tidy neat bright cheerful family dining close mels diner pizza chinese japanese etc short walk excellent public transport link also easy pleasant walk along front fisherman wharfe area touristy bitssan francisco cool misty pool equally cool still go dip splash kidsbreakfast standard fare juice coffee bagelscream cheese pastry fruit adequate cheerful friendly case went way sort little errorid recommend anyone wanting nofrills comfortable accomodation away city centre hustle bustle close enough get easily',\n",
       " 'place kid friend friend recommended place  san francisco everything wonderful arrived freshly baked cooky parking free kid hung pool afternoon continental breakfast helped u get going morning loved neighborhood happy union square buzz found del sol could direct u bus anywhere wanted go walked lot found local restaurant organic type supermarket nearby also suite separate space adult kid return minute',\n",
       " 'decent decent includes parking simple breakfast bagel cream cheese jam coffee hot chocolate tea milk orange juice cooky afternoon one clerk friendly another le food recommendation blah pasta place forgot name hohum sandwich place submarine also average pool freezing cold elevator brightly painted jolt stop reach d floor need go updown step warning stroller bathroom shower okay nice shampoohand cream parking tight included brightly coloured cheerful clean adequate storagewe quoted  phone june arrived someone front u got kind  dbl bed  asked got price check checking',\n",
       " 'option family booked  del sol largely reputation familyfriendly place byandlarge disappointed queen bed another may converted bathroom small   yearolds loved trundle bed ageappropriate childrens decoration also asked crib  yearold although space little tight reasonably comfortablethe afternoon cooky milk hit courtyard pool although wind time pretty fierce breakfast really nothing special chance start day coffee pastriesbagels spent leisurely morning planning day invaluablelocation cant beat regarding noise thin wall solution turn air conditioningheating unit white noise drowned lot although never bothered noise made sleeping comfortablethe friendly even let park small lawn courtyard available parking tight positive outweighed slight negative smallish oddity structuresize family unlimited budget fancy suite near union square might stylish del sol option youre budget dont mind little funkiness',\n",
       " 'away noise bother del sol okay however noise issue youwe enjoyed use colour attempting convert  motel something current however end fo day remains  motel bathtub hook bathroom three day used bath soap replaced electrical outlet resulting many thing added outlet started worryrooms small even  one bedroom  people cramped breakfast coffee juice fruit either overly sweet doughnut breakfast little bagel cut bagel cutter mash bagel noise kept window closed okay however slightly open window kept awake street traffic argument street guest noisily departing am even window closed unfortunate group middle aged folk motor cycle loved rev even idle hog entire building literally shook per day internet ouchfor price impressedhowever always plus one del sol advantage accessibility key area city one one half short block away  muni bus take fisherman wharf except trip alcatraz want go dont know five ten minute union square  minute passing north beach chinatown view alcatraz coit tower telelgraph hill along way trip alone worth price ticket car free parking major plus factored pricea friendly helpful day afternoon could tell access messagesthe close fun restaurant chestnut street easy walk upscale shop union streetso free parking want keep window closed time avoid breakfast internet reasonable choice',\n",
       " 'cant go wrong del sol loved ha lot character helpful friendly hospitable place kid welcome breakfast amazing even generous spread cheese cracker wine etc friday afternoon warm cooky kid every afternoon felt welcome stayed one bedroom suite spacious two large closet two minor complaint wall thin mattress sagged little however price san francisco standard anyway think highly recommend',\n",
       " 'family arriving sf car family arrived via minivan five day sf booked based able tworoom suite generally excellent review receives guidebook found del sol exceeded high expectation almost every way longer better liked downgrading either  expected something ie posh place middle walkable tourist area something wrooms resembling hampton quality innit pretend none  need use forum register minor beef people absorb part normal hassle traveling esp family said experience wfour peoplethe general feel really nice city safe instead courtyard making thing seems overly noisy familiar expected ground outside came feel familiar homey child urbansavvy kid nice city spend time watching back union square even fisherman wharf lot european traveler staying understand youre arriving another country reassuring place landthere fabulous place walk eat either two block north two south also fast food taco bell colonel chicken win block small grocery store block away one city best safeways five block away one best running route ive ever right door toward marina gg bridge sf marathon go along route park one block away easy car access bridge golden gate park rest city youre inclined drive park place cant imagine better unless need walk door middle everything lived nyc likened staying equivalent getting upperwestside nyc throng midtownplenty ha written breakfast wthe consistently best breakfast coffee weve ever stuff ill add beef roomwise terrible shower water pressure dont know citypipe hotelpipe showerhead issueall id return hds heartbeat though make reservation early possible could claim configuration suite wanted laid bit differently',\n",
       " 'okay amazing booked reading super positive review tripadvisor viewing websitewe disappointed pro marina district restaurant waterfront within short walking distance loved marina neighborhood loved away touristed area city perky pretty funon outside quality bagel pastry fresh banana breakfast enjoy morning mealthe con  full bed  queen bedding average best comfort really comfortable  stayed fairly small bathroom small also bathroom sorry shape rust evident worn small shelf handheld shower really bathroom reminded college apartment dig quirky funky okay travel want feel comfortable clean bathroomthe front desk guy young bit cavalier taste mean nice enough level professionalism let feel competent handsoverall choice quick visitnothing get excited traveled husband young daughter dont know fuss regarding best family choice sanfrani dont mean naysayerwe simply didnt find outstanding place hyped happy travel',\n",
       " 'cow hollow area small story old nicely updated colorful quaint relaxing restaurant chestnut union history transportation shopping go straight fillmoreroom  jr suite fridge q bedcomfortable comfy quilt clean bathroom wlight shower sofa bed little uncomfortable roomy  modsized closet safe tv vcr elevator old jump end ride pool nice sunny temp clean ftft nice breakfast snack around tall palm tree wlightsnice effect parking free toyota runner fit restaurant must go chestnut also walgreens bus muni go ghiradelli sq go columbus italian district city light bookstore continues chinatown also go near baseball park runner enjoy running around areavery close crissy fieldfort masonexploratorium stayed frimon marathon breakfast oj coffee doughnut bagel pastriesthe usual fri sat noisy people street am keep window closed overallyes',\n",
       " 'excellent family choice stayed four del sol day california trip wife two daughter age   booked advance one two suite worked perfectly u well worth extra dollar bed even pullout comfortable dvd player nice surprise issue lack closet space tiny bathroom coped fine enjoyed continental breakfast every morning pleasantly surprised variety quality food especially complimentary breakfast daughter made way pool couple time despite eary june chilly daysthe ok safe neighborhood doesnt feel crowded however take bit patience occasion get taxi catch bus best bet call front desk  minute want leave call cab waiting get ate one restaurant area recommended casual family place front desk unimpressed several place close loved try didnt look kidsthe free convenient parking big plus several commented overflow lot problem across street overall gladly make another family trip san francisco spike family',\n",
       " 'choice first average young man george absolutely wonderful helped u tremendously knew go go made u feel like home right lombard streethwy  busy road taxi car easy call get around sf family suite kid loved bed theme real european feel time well worth money',\n",
       " 'value returned san francisco staying del sol week front desk people helpful kind lot dining option chestnut union street appreciated ease del solnot touristy fisherman wharf area etc bus system confusing u first got hang traveled city also rented car get city day tripsevery quiet except saturday bar got two year old early bedtime rising time stayed small suite felt value money unfortunately crib pack play small child overall family place front desk loaned u sesame street video book particularly fussy evening like review mention del sol really glorified motel feel clean safe quiet accomodating definitely',\n",
       " 'nice loud family child nearly adult age spent one nice front desk clerk helpful polite however wall thin could hear way wanted unattended child woke knocking door heard say wrong felt lack privacy propertythe courtyard cute look spacious photo actually quirky drive car courtyard covered parking continental breakfast nice look incoming car sitting table courtyard free parking perk reason stayed last sf paid quite bit got return definitely choice light sleeper young childphobic',\n",
       " 'fun friendly fabulous booked  bedroom family rollaway arranged u travelling three older teenage boy plenty rooma small kitchenette useful although utensil neededrooms bright cheerful spotlessly clean decor lovely small pool light tree add special feel nightthe extremely friendly helpfulbreakfast plentiful sun poolbuses close place may want golike reviewer loved quick walk mels diner car mad men dinner treat many lovely little place eat browsestay bus wherever need gowe bought  day muni pas give unlimited bus cable car ride go anywherethank del sola lovely experience',\n",
       " 'value next time sf family  sweden made trip coast coast  day wonderful town excellent nice personell close busline take heart sf  minute recommend nice clean one day came back afternoon barbecue pool thougt special company people it麓s told u nice even wine extra chargethe martensson family',\n",
       " 'nervous first warmed del sol booked  day del sol based frommers guide recommendation one familyfriendly sf generally tripadvisor review first arrived disappointed really motel nervous thin wall proximity street make noisy sleepless never significant problem noisewe hear foot traffic stair morning usually awake anyway del sol clean comfortable nice bedding loved aveda product wonderful helpful also appreciated free parking kid loved milk cooky afternoonwarm chewy cooky hammock pool skipped breakfast many breakfast spot neighborhood wed rather drink cappuccino regular coffee im glad didnt tourist trap like union square fisherman wharf think get better sense city place like loved neighborhood pretty laid back full shopping food option walking distance plenty site like crissy field fisherman wharflongish walk totally doable id definitely kid opt something refined husband',\n",
       " 'valuelocation stayed  day family mini vacation two child looking safe clean budgetlocationeasy get via transit excellent restaurant choice nearby reccomend amicis pasta breadstick felt safe whenever went area going several travel considered area city felt made choice locationroomsstayed regular  day upgraded one bedroom rest clean expecteded moneyserviceexcellent friendly helpful breakfast milk cooky evening',\n",
       " 'family looked several trip advisor result san francisco finally settled del sol got  min early ready fully understandable early apologized upgraded u  bedroom suite inconvience suprised arrived early ask upgraded way start trip got treat  yr old complimentary trip aqaurium bay everyone nice return anytime go city thank del solyour customer service wonderful clean well stocked rave enough',\n",
       " 'cookie cutter nice free breakfast value central marina district older moteltype different clean brightly colored sunday litte street traffic always city lobby continental breakfast juice cereal coffee fruit surprisingly topoftheline pastry free sf chronicle tiny outdoor pool friendly service unusualfunky decor friendly small size even guest say hi unusual city hotelprice without tax sunday  cant beat price clean mediumsize midtown sf',\n",
       " 'lovely area disappointing booked based previous review firstly main reason booking bunk bed family suite child girl boy age   big usual pull trundle bed hence find problem booking arrived advised infact longer exist receptionist advised u someone informed u time booking bearing mind phoned booked three month previous specifically asked bunk bed time actually end dec  jan rd  still advertised web site faultless infact possibly friendly helpful ever come across reception excellent cleaning general porter say though overall disappointed del sol dont quite get hype quite literally bog standard motel even brightly coloured outrageous expected guess previously mentioned fairly noisy alot traffic noise late evening early morning hear bus lorry infact could hear much outside noise swear window werent properly shut motel fairly compact part serviced rear outside stair constant stream guest stair hour also previously mentioned noise heatingair conditioning neighbouring drive crazy toilet constantly blocked much longer went asked plunger went broom cupboard helped need one frequent finally checked receptionist kind enough deduct couple dollar bill due inconvenience getting bunk bed nice gesture honestly say san francisco year wont staying del sol isnt value money money expect little comfort space quietness little undisturbed sleep',\n",
       " 'nice helpful people overall everything written board management front desk people wonderful go way help let u check early check late helped u find open restaurant christmas eve christmas dayit within walking distance many restaurant shop interesting street walked union square fisherman wharf north beach etcthe bus line right around cornerthe con paper thin wall actually heard guy next door u snoring really didnt bother u much dont like noise probably place',\n",
       " 'comfortable bed colourful clean little  motel ha turned pleasant clean bathroom although small nicely decorated also clean bed comfortable aircon neededthe pool large perfectly adeqhate refreshing dip long  hour flight ukbreakfast fresh pastry bagel etc coffee juice fresh fruit eaten near pool back roomsnice relaxed area walked fisherman wharf via park along side bay also take bus nearbyi certainly recommend',\n",
       " 'kid recently traveled husband  year old  month old mother stayed kid suite includes seperate trundle bed toy especially nap time mother also able  year old used pack play provided  month old suggest bring linen pack play also kitchenette small served purpose breakfast helpful also free parkinga real gem find sf',\n",
       " 'lovely hip intown neighborhood husband  year old son visited san francisco long weekend first part october stayed del sol based review read tripadvisor well let say review right money loved del sol highly recommend located safe intown neighborhood close everything far enough away noise tourist trap located marina district home shop restaurantsall easily walk loved explore different street neighborhood restaurantsplenty outdoor cafe coffee shop upscale residential neighborhood alot fun young helpful friendly gave u lot recommendation restaurant etc done bright color like show website dont think could get better value money took city bus stop located  short block away everywhere easy get around san francisco without car one thing awesome wasrent bike blazing saddle bike bike across golden gate bridge saulsalito fun day take ferry right back across bay san francisco beautiful boat ride across bay definately return',\n",
       " 'wonderful wow loved place super kid friendly loved especially cooky milk evening rest u loved neighborhood nice quiet still close lot place eat shop union street two block away marina district quick bus ride one way north beach way fisherman wharf pretty close really worth many better place see w e loved walking street admiring shop house definitely back',\n",
       " 'nice got back ten day san francisco stayed del sol time isnt luxorious really comfy spotlessly clean torn staying near touristy area fisherman wharf paying extra privilege saving money staying hds spending couple hds visiting fisherman wharf happy chose tourist area tacky restaurant tried werent unless want eat chowder del sol cow hollow close union st fantastic area full small restaurant bar mostly full local try get eat least beetelnut sure make reservation least day advance always packed serf fabulous food easy get around public transport system wasnt problem ten minute ride union square shopping breakfast coffee orange juice cereal bagel pastry eat pool take back whole recommend',\n",
       " 'neighborhood cheerful comfortable place yes basically updated motor inn bright color comfortable bed lovely planting really make cut average motel huge closet could store suitcase hang clothes bathroom fine usual lowflow shower everything clean extremely helpful recomending local restaurant giving direction thing loved best del sol shopping restaurant park short walk away basically nice residential area thats quiet throw free parking think hard go wrong place',\n",
       " 'loved bright collors pleasant elevator painted bright color furniture fit right loved window blind lent u baby crib charge best thing lot game young kid video could borrow kid still talking dora game played therethe bathroom small ventilation clean bed short we鈥檙e tall people foot sticking edge breakfast basic worth write friendly problem check early came get late check leftso overall recommend',\n",
       " 'nice area spent three julyalthough basically motel done got certain charm particularly like colour brightthe kid friendly enjoyed right center sf outdoor space pool even though small side right road kid particularly liked evening milk cooky two month later theyre still talking themlocation also exploratorium fantastic kid delight union st chestnut st short ride cable car fisherman wharfyou could pay get nicer somewhere central del sol value place based',\n",
       " 'loved del sol del sol first disappointed nicely decorated definitely motor lodge issue ventilation noise etc soon became smitten friendly special touch aveda skin product friday afternoon reggae barbecue palm tree lit hammock world music pumped elevator named young restless courtyard swimming pool small grassy areaand free parking didnt hurt either best part del sol right heart marina union chestnut street travelling  year old son ball excellent neighborhood park right nearby took stroller around marina chrissy field fisherman wharfi definitely recommend del sol',\n",
       " 'loved family stayed  loved itfriendly nicely redone property cheerful color complimentary breakfast vcr video kid parking included nice amenitiestheres even small outdoor pool definitely',\n",
       " 'greatagain whils visiting san fran second time partner used del sol second timeit really place stayas post said safe area plenty resaurants within short walking distancethe parking free big plus sf breakfast nothing write home pointed short walk put pay post also said motor lodge yes ha charm old fifty style motor court add used recommendation eating brazen head strange name foodwe intend go back  staying',\n",
       " 'smelly noisy cramped dont mindmoldy smelly roomswe saw mold growing behind bed buy air freshenersno adequate closet space storage suitcase clothes bureau roomnot able open bathroom door toilet locationno place hang wet towel familyhearing conversation footstep early morning stairwell adjoining roomshaving request blanket returned enough towel family suite every eveningeating rock hard pastry bagel breakfastparking across street free parking sight could accomodate half guestsgo right ahead',\n",
       " 'wonderful value delightful one gem found using trip advisorit trendy marina district felt rather smug saw tourist paying nose usual chain fishmens wharf area trendy peole getting deal well simple bright soft furnishing clean bathroom perfectly adequate albeit little small child thought milk cooky  idea even teenager hadnt yet supper continental breakfast fine limited number table around pool guest tend hog longer appropriate either waiting member party surface simply sit table planning day sightseeing minor gripethe situated area plenty nice bar restaurant within block walked ghiardelli square day back evening felt completely safe throughout little italy chinatown direct bus go right along union street within block convenientwhen arrived need laudry get clean clothes pleasant helpful front desk recommended chinese laundry close wonderfuldont expect fancy flash facility reasonably priced base explore wonderful city hard beat arrived top  star luxury venetian resort la vega enjoyed del sol much',\n",
       " 'still maintaining high standard hot press review left today came absolutely surprise accurately reflected high standard previous review trouble giving rave review folk visit make future reservation difficult get actually already made recommendation enough del sol even credible recomendation  teenage kid thought cool often parent kid agree anything ok stop procrastinating book',\n",
       " 'loved know important loved hotelit converted motor lodge right thriving marina district small redone bright color open window breeze flow nieghborhood full beautiful building shop away main tourist locatiosn plus u pool shade day didnt seem bother kid splashed around morning eveninggood coffee bagel morning although breakfast many little place egg right around corner chestnust street evening warm cooky milk familieswe sleep nice time much term service friendly guy happiest desk clerk ever family chill couplesif uptight away',\n",
       " 'perfect family two del sol enjoyable experience entire family mother father daughter son  exceptionally accomodating friendly first requested move nd floor due frolic  year old overhead met zero friction average size brightly decorated clean ground fun sunny feel pool nice bonus waste time lying around son enjoy swimming daughter walked nearby shop family give although central trendy marina distict local chocked full fantiastic neighborhood restaurant bar love feel much tourist trap go sure meal two grove corner chestnut hmmmmi forget believe worth research local know another favorite andele street grove mexican cantina feel like del sol definate find',\n",
       " 'golden gate greeter program real winner de sol looked trip advisor review prior booking de sol booked directly flash comfortable offered everything family  needed make comfortablethe union street shop road lovely restuarants eat bus block away made travelling easy free parking car bonus breakfast looking place eat  child fun early morningthe offer guded tour local golden gate greeter program main reason chose chain please took opportunity greeter bob lovely person gave frrely time knowledge san franscisco local insite city someone take u site made much easier get without aggravation finding way around unfamiliar territoryi highly recommend htose happy liitle downtown golden gate greeter must tourist wish available placesdonna',\n",
       " 'kid took  year old niece weekend san francisco stayed del sol fantastic time accomodated need got check video book game closet front desk favorite part chocolate chip cooky afternoon hung hammock pool live nearby chance see neighborhood visitor safe neighborhood lot amenties nearby ha price',\n",
       " 'kid spent   boy del sol april nice clean storage separate closet bathroom definitely tiny clean functional especially shower enjoyed del sol really want enjoy upscale neighborhood marina cow hollow pacific height many restaurant bar shop playground short walk able park car free san francisco definitely plus charge  parking breakfast ok dont expect much service complaint overall value especially car travelling child',\n",
       " 'stayed double double del sol  april  adult  child  the bathroom clean tidy shower walkin wardrobe storage safe bed comfortable decor groovy bit small  people budget stretch suite familly worth also heated pool kid available use am pm kid need supervised could seen bedroom window  minute walk pier   taxi ride  restaurant near post office around corner lucky could get parking within court yard otherwise additional parking next walk along lombard street steep hill crookedest st part catch cable car trolley cable car museum union square thus avoiding  minute queue terminus worth getting one day travel pas  per person used cable car street car bus day otherwise pay get also get  day pas',\n",
       " 'nice bathroom bit small perfectly fine',\n",
       " 'best visiting san francisco  block union street chestnut street abundance shop bar retaurants located safe residential neighborhood give visitor true taste local living easily visit nearby attraction walking taking one many thousand bus honeymoon cute elegant',\n",
       " 'almost perfect hidden jewel quirky funky base weeklong visit jan   city since actually converted motel parking provided addl fee guest big plus city although place older  well maintained decor bright airy  think overlook courtyard small pool bistro table vending machine two comfortable queensize bed small table two chair entertainment center held tv vcr  small drawer large walkin closet personal safe small bathroom bathtub exposed ventilating fan shower stall fan extremely dustygrimy looked like never cleaned water pressure shower big disappointment u honestly slight difficult rinse one hair shampoo conditioner heatingcooling unit efficient modern although slightly loud one see daylight around closed door though since large gap door frame third floor two staircase either end floor also old tiny elevator near reception area lucky fit two u suitcase unit move slowly used elevator transported luggage though friendly helpful although continental breakfast provided guest every morning wanted full breakfast one day one suggested place within walking distance food selection portion pricesthere couple noisy one hear toilet flushing door closing etc regular basis noise fade background get used rowdy folk overall noise ge nerally contained sign posted around request folk keep noise locationin marina section sfwas convenient shop pier  fisherman wharf public transportation etc place lap luxury wicked comfortable reasonably priced return del sol price right although id worry rinsing hair',\n",
       " 'family chose del sol rated  family sf book picked bn although perfect positive far outweighed negativesnegatives first stayed week family suite dresser place clothes closet tiny clothes stayed suitcase second need tv kid  u fought one located main finally shower bathroomno tub made difficult keep toddler clean since used bath like shower big deal negative suggestion improvementthe del sol week never used car exploratorium easy walk one direction northwest think fisherman wharf easy walk direction playground  yard area safe people friendly need go farther dont like walk  bus ha stop  yard go everywhere city purchase citypass online making trip ride bus trolley cable car etc free  day sf incredible city del sol wonderful place enjoy plan many visit future',\n",
       " 'funky cute husband going sf  way wedding wanted something inexpensive bargain got one funkiest ever seen color scheme cozy little noisy since next stair street care poolcourtyard free breakfast decent front desk friendly helpful pointed u restaurant couple block away mentioned free parking silverado wouldnt fit site parking free lot across street definitely staying next trip sf',\n",
       " 'wonderful place incredibly impressed motel comfortable bed ive ever slept manager even sent name company buy one fantastic color palm bamboo huge hammock aveda toiletry handmade soap large walkin closet desk area comfortable sitting area nice art terrific bathroom issue get extra comfy rollaway toddler cleaning team absolute best adding aveda daily even folding toddler blankie bear top fact entire impressive cabana parking lot terrific loved view balcony coffee day gave toddler beach ball sunglass pool loved place husband cow hollow beautiful residential urban neighborhood could walk everythinganything bad anythingok muffin homemade thats ithonestly loved place much think every ownermanager required every understand excellent renovation value excellent staffbefore going sf tossup btwn castle inn im glad chose del sol fantastic earned lifetime customer u hard time imagining someone wouldnt like cant wait go back',\n",
       " 'loved del sol husband spent wonderful san fran little find motel del solthis place best kept secret san fran big fancy big lobby doorman fancy overpriced stuff adorable colorful believe s  remodeled end result simply breathtaking feel like walked onto set miami vice tropic colorful hot color pink blue yellow pastel wonderful painted elevator beautiful colorful tiled courtyard beautiful tree hammock fun heated pool large clean bright cheerful wicker furniture soft comforter pillow walkin closet safe clean bathroom selection shampoo soap plus real art photograph hanging wall also vcr rent video free charge main lobby colorful tile door number artsy colorful little fruit treets floor outside place pretty special wonderful anything make trip worthwhile best free parking miracle san fran wonderful breakfast morning lot bagel cheese jam egg juice coffee setup beautiful someone must artist someone creative really nice special touch neighborhood nice best restaurant found block either direction motel close lombard street crooked street also union street like blocks sight see wonderful shop world say pleasant surprise find tiny little place like many personal touch go san fran free parking wonderful art landscape ground pretty twinkle light nice breakfast beachstyle cant ask anything drive short distance fisherman wharf see overcrowded high price motel crammed together really make place feel like home hope help disappointed del sol special',\n",
       " 'place place parking free also covered parking cleanvery clean excellent also went wayexcellent easy access access transit system blocks whether car placeheated pool nice quite hope enjoy back soon',\n",
       " 'family san francisco tourist  del sol must accept isan older motor inn given fresh coat paint paint longer fresh reasonably clean bargain family  werea two suite queen bed plus small bunk free breakfast day spiced selection local bakery short walk away small pool greatin cow hollow short walk trendy union street bit longer walk quite doable lombard street marina district fisherman wharf north beachchinatown free parking worth  city centrally located city still fairly quiet neighborhood settingthey even loan free video movie set sf one warningsf summer quiet cool  especially fog come wind blow view golden gate bridge  day july driving prepared light jacket fleece long pant irony del sol july sunny',\n",
       " 'fun fab attentive free park cool decor returned conference went one see city searched searched avid traveller well extreme bargain hunter happy find hotelthis funky older s lovely sure gay anything wrong group folk totally rennovated basic follows standard  motor court shape door window facing center courtyard small pool parking underneath free parking compared charge  night bathroom  tile small shower  motor court size fine child two bed nice bright accent paint accessory added give cute modern feel without sacrificing retro cool art furniture bedding give warm mod feel exceptional friendly helpful direction etc even get free continental breakfast note coffee maker fine included breakfast also lot towel upscale toiletry free video library featuring movie made san francisco pool heated cold outside use bit neighborhood area called cow hollow area restaurant nice shopping area union street close urban spot upscale folk associated local grocery store hamburger shop yoga studio convenient fisherman wharf walk drive take public transport close marina district golden gate bridge crissy field presidio far north beach chinatown market street thanks perfect price perfect spot definately back bright spot area vanilla accomodations',\n",
       " 'pleased pro friendly clean quaint setting convenient marina district attractionsresidential setting cafe lively corner bar restaurant etc  min walk fort mason coastal park fisherman wharf parkingcons bit expensive accommodation san franciscowhenever return sfo certainly book del sol',\n",
       " 'well back spent  del sol neighborhood residental short walk shop restaurant close bus nice area renovated motel colorful bright cheery located stairwell facing street noisy time however slept fine small size completely fine decoration colorful tired showerhead faulty sprayed water bathroom drain clogged fun handmade soap nice aveda product bathroom parking site free overall definitely return youre looking luxury accomodations place clean safe convenient rate',\n",
       " 'gem motel stayed del sol august having read really glowing review uk daily telegraphwe disappointedits little motel excellent friendly helpful staffthe relatively basicalthough cleanspacious quirky decorthe free substantial parking facility real benefityet motel mean san franciscos main spot union squarefishermans wharf easily accessible footeven taking account hillswe thoroughly recommend del solits poshbut represents valuein factconsidering san francisco locationa little gem place offering much better value character chain establishment near fisherman wharfwhere stayed',\n",
       " 'fun colorful atmosphere del sol fun relaxing colorful place youre surrounded bright tropical color hammock attached palm tree await clean comfortable friendly knowledgable always greet smile away busy part sf yet close shopping union palace fine art marina strongly recommend del sol everyone including family',\n",
       " 'tr猫s d茅莽ue showreview full',\n",
       " 'pleasant undergoing renovation rebranding construction going couple day agobut obtrusiveroom pleasant working kitchen downtown seattle near public trpt system attractionsstaff pleasant enough helped direction cant complaina pleasant experience highly recommended',\n",
       " 'place family five stayed beautiful  bdrm suite dec  th suite newly renovated tell soon walk everything look smell new husband slept spacious bedroom comfy king sized bed white bedding fluffy duvet similar westins heavenly bed flat screen tv dresser nice modern furnishing  boy slept living area  sleeper sofa  rollaway still plenty space really liked watching movie large flat screen tv mounted wall suite also ha kitchen everything need make meal bathroom large nice really cool sink fancy tap also gas fp really nice christmas able lay stocking like home also brought small xmas tree sat nicely top cabinet next fp lovely boy alot fun outdoor heated pool really enjoyed sitting outdoor hot tub sipping hot tea cool air also indoor hot tub fitness sufficient husband quick work breakfast included pretty boy ate lot favorite cinnamon toast crunch cereal waffle also egg sausage oatmeal bagel toast fruit yogurt juice coffeethe cant beat close restaurant cheesecake factory street movie theatre shopping course lot free parking around area wellcustomer service helping u find restaurant open christmas eve christmas day prompt request towel toiletriesthe negative thing outside small unattractive lobby area evident renovation going although never heard noise definitely hopefully price wont go much becomes homewood suite hilton spring',\n",
       " 'value friendly stayed pike street suite last week november rd visit last year impressed time family traveling seattle mini vacation shopping trip since prefer little bit space contacted directly see option based recommendation reserved junior suite adjoining king standard junior suite living kitchen separate bedroom adjoined regular king bed turned idea wonderful deal lot small kitchen prepared dinner couple nightseach morning went complimentary breakfast lobby whole fruit yogurt pastry cereal juice egg sausage coffee fresh breakfast bright clean miss fresh waffle used serve thoughthe close enough pike market number shopping mall movie theater restaurant used vehicle easy walk catch monorail seattle center space needle scifi museum othersfront desk housekeeping friendly competent like say thanks britt sara dan especially helpfulall time seattle pleased hotelhighly recommended',\n",
       " 'like lot customer service need improvement stayed  day end december  bedroom compared best western stayed big nicely newly decorated breakfast expected egg sausage pastry usual stuff outdoor pool warm kid lost fun bathroom fan loud front desk person male tried talked like girl helpful question get around shuttle take u fortunately coworker came around help answered question quicklywe willing pay  parking parked outside cheaper pm am parking free walking downtown shop market close cheesecake factory new favorite place eatwe',\n",
       " 'fantastic place perfect family enormous spectacular view space needle downtown macys set firework kick holiday shopping season right downtown shopping touring capitol hill exceptional reasonable restaurant breakfast substantial lot choice fresh fruit super helpful front desk bellman engineer housekeeping sleeper sofa bit beat process renovating actually big enough took mattress frame put floor kid',\n",
       " 'nice place rude shuttle driver stayed marine expo convention  day nice bed comfortable walking distance every thing pike street ha offer complaint courtesy driver sure guy ha managed keep job service terrible rude time used shuttle service basically acted like pissed asked give u ride day driver sure driver tipped minimum  dollar short ride perk nice  second next ride start pissed attitude need work people skill maybe need quit job get job remote everyday',\n",
       " 'part really anniversary  prompt free shuttle service train station back next day plus service pike place market genuinely friendly courteous super nice kingsized bed living area kitchen doublesinks bathroom whirlpool tub plus  flat screen tvsthe minor complaint  door wasnt light proof lot light spilling hallway remedied shutting bedroom door  hallway noise customer excessive soundproofing hallway wall greatotherwise surprisingly fantastic place let u walk kind place including paramount theater saw spamalot dinner',\n",
       " 'surprisegreat wow booked suite got huge one bedroom suite renovated new furniture carpet granite counter flat screen tv free internet breakfast deal back recommend sure',\n",
       " 'smoky dirty friend woman mids wanted weekend girl shopping trip booked hotwire said  star place divey near convention centre downtown shopping although called pike street suite famous pike street market nowhere sightthe lobby worn dated front desk inconsistent friendly rude none classy uniform bit odd first given sick reeked smoke ash tray tv even though wed asked nonsmoking dehumidifier blasting tiny carpet quite stained think csi miami cleaning crewwe went complained upgraded u suite amazing much cleaner big bathroom seperate bedroom living area paid  hotwire dont know type normally go adequate view well back alley highway mid construction although wasnt loud overall wouldnt recommend tried give u sick hadnt complained trip lousy however get suite free brekfast lot selection',\n",
       " 'value thought value money since got upgrade suite due booking close downtown nice filling full breakfast included price construction problem noticed noisemy complaint poolhot tub chemical must balance ended chemical burn think must get one controlstaff appear overly friendly broken item entertainment unit cabinet door track minor detail mention thing hurry value corrected',\n",
       " 'currently renovation pike place suite currently major remodel mode prepared expect construction noise day minor inconvenience none le nice new contemporary without glitch remodel wired internet service yet sofa sleeper still wired shut shipping one phone improperly connected yet functional engineering pleasant quick remedy problem desk couteous helpful typical free breakfast farevalet particularly helpful beware parking garage meant small vehicle attested scrape wallfurther beware shuttle driver lloyd accommodating one day mean nasty next pike place suite close everythingavoid shuttleafter reading review requested quiet side due renovation request granted pleased turned case though i almost immediately front acceptably quiet window closed plus city view',\n",
       " 'fantastic lobby',\n",
       " 'disappointment galore property drastically understaffed acceptable felt sorry every employee busy weekend several mariner game expected one front desk person one guy running tail get everyones car free shuttle ballpark crowded couldnt never',\n",
       " 'value stayed week attending convention really convenient convention center downtown general suite  little tired eg carpet sofa need replacing bed comfortable clean although need ask extreme vacuuming friendly overall service quiet often really hard find cheapest place value downtown seattle kitchenette definite plus recommend without hesitation',\n",
       " 'pro con friendly bad experience checkin colored put clearly smoking based smell despite requested n advance confirming checkin also poorly cleaned preoccupied young child thus took u  day change much happier housekeeping still ok nice size layout generally picky disappointing get bad start one person tried tell u first n clearly one smoking floor rd breakfast nice convenient parking valet tipping involved car delivered quickly fair amount street noise traffic pedestrian youre planning walk place note walk back pike place market steep climb however free bus ha shuttle',\n",
       " 'loved two luxury really convenient convention center access refrigerator stove day tea coffee nice average fitness center weight recumbent bike elliptical trainer two treadmill breakfast though wish breakfast general ran  id love next time im seattle',\n",
       " 'best experience ever seattle stayed several place seattle past couple year pike street suite gave friendly courteous enjoyable ever experienced businesswoman ordinary mom needed nice treated wonderfully everyone minute made reservation time left suite beautiful everything place including disturb sign previous three place stayed checked understaffed reason lady front desk handled beautifully pressure handling incoming guest always smile ever courteous ha earned loyalty headsup though choose use valet parking service need walk updown ramp parking garage access elevator garage',\n",
       " 'poor service stayed attending seattle gift show january  minute away recently renovated nicebut service mediocre tell miserable job one place example tick day motivated write first ever review yet respond question phone bill front desk told someone get back didnt phoned three time told three time someone get back never didthey wont get penny next time im town',\n",
       " 'family friendly breakfast ideal family  yr yr yr old crib thew bedroom kid sofa sleeper livingroom nice put baby nap able play kid make snack access restroom without disturbing baby traveling kid full kitchen blessing',\n",
       " 'value ha changed hand currently known pike street suite look independent operation temporary situation summer paraphrase note elevator hyatt picture hilton take remodel thats supposed completed sometime summer part homewood suite chaintheir ownership situation ha affected negatively slightest found everyone front desk friendly helpful requested high floor early check got asked help getting airport early flight came amtrak flew back arranged everything got best dealwe got one suite th floor facing courtyard quiet youre nervous road noise i really isnt bad imo request courtyard view property must apartment condo point sound insulation really pretty goodthe show age bit wasnt bad plenty bed comfortable kitchen fridge stove microwave stocked plate utensil glass use couple timesthe continental breakfast morning adequate usual suspect available like fresh fruit cereal pastry etc run amthe exercise decent  true treadmill elliptical machine recumbent stationary bike free weight also tv hot tub heated pooli lot research booking believe best deal downtown paid night booking website two block convention center close shopping also  minute walk pike place market le popular shopping area like pacific place nordstroms westlake center like minute pioneer square area still bad walk ha courtesy shuttle take askyou spend  per couple minute closer thing decide think worth sure didnt maybe youre company dimeour gripe ha vagranthomeless situation downtown youre bigger city seeing people around isnt big surprise seemed every corner downtown tend bit aggressive asking money compared city almost point hope walk sign cross intersection dont stop subjected another inyourface request money youre okay giving change power otherwise ignore theyll usually go away',\n",
       " 'pike street suite change name summer  jan   longer hyatt chain called pike street suite sign elevator say undergo renovation renamed homestead suite think part hilton chain sign say managment remian samethe friendly accomodating one overlooking freeway street noise background level honking hornsdifferent different floor plan  bedroom suite ha kitchenette complete dishwasher dish felt roomy foldout couch bed adequate uncomfortable breakfast quiet thick wall floor',\n",
       " 'bed soso stayed excellent next door convention center around corner pacific plaza mall  short block pike place  capitol hill ended extremely small alone worked two u challenging th floor facing court yard made noise interesting see high rise residentials surrounding courtyard could look others window kind disturbing time intriquing remind rude watch people eat watch tvthe undergoing name change undergoing severe renovation much needed since upscale area course hwne get done probably double price  paid scedule done summer i definately probably spring suite rather standard also parking day kind steep internet free even wasnt enough unsecure wifi network area worry chargea decent experience overall know expect',\n",
       " 'nice place nice pleased ha nice walking distance plenty food option movie theater mall etc clean couch kitchen king size bed internet free yea nice breakfast typical free stuff extended place reheated egg waffle fruit etc fine encounter dirt excessive noise review mentioned road noise hear acceptable staying city warning country folk city hear road noise go back suburb problem youi bought hotwire  per  best luck travel',\n",
       " 'formerly summerfield suite wyndham small needed cleaning garbage floor dirty table top bathroom floor needed cleaning said property ha',\n",
       " 'home base seattle sighseeing husband spent long weekend summerfield suite alaska cruise steal  hotwire walking pike market space needle use free shuttle bring u waterfront dinner drive friendly got tip dinner elliott鈥檚 oyster bar one best meal ever free breakfast seattle summerfield suite clean view space needle friendly helpful heartbeat',\n",
       " 'bad goodlocation  block pike place marketshuttle service take visitor locationsclose shopping lot eating establishmentshuge one bedroom suite full kitchen door opened small concrete patiogreat breafast buffet included cheese omelet sausage make waffle cereal milk fruit juice pastry yogurt oatmeal next door convention centercomfy bed clean bathroomthe badmy reservation said jetted tub inquired didnt one said many primary reason chose several others downtown seattle option reservation cant deliver made reservation two month prior websitewe also requested quiet fourth floor facing boren street hill really four floor traffic window insulated traffic noise horrible sound sleeper used type thing may problem sure request face inner courtyard outdoor pool showing wear wouldnt put shabby category yet mold door track outside patio',\n",
       " 'price sunset along pier ',\n",
       " 'walk straight pike street  block pike place market restaurant right around quieter park downtown although really close expressway wasnt clean checked gave u new upgrade really nice helpful whole place nice clean breakfast definitel oh perfect veiw spaceneedlle place',\n",
       " 'place youll enjoy seattle place really want park car walk take mass transit youll find well situated walk street pike market easy access monorail space needle number place visit suite pretty nice several day road breakfast breakfast little small always take want pool enjoyable hot tub outdoor friendly helpful parking  excellent bed much enjoyed definitely',\n",
       " 'deal try hotline stayed summerfield suite pike street seattle several time past two year always hotline buy  per deal price minifridge microwave sometimes small certainly adequate two people ask quiet noisy street freeway excellent free breakfast hot makeyourself waffle variety fruit variety cereal egg sausage etc available free van trip downtown nearby deal tip dollar parking  per figure cost vehicle every time stayed loud noise central air conditioning unit always came quickly turn seldom need ac seattle anyway helpful decent downtown seattle seldom  deal get price range',\n",
       " 'move time booked reservation  time stayed  changed ownership wyndham hyatti chose particular going business conference convention center block awayi like fact reasonable price one get kitchenette usually stayed due fact wyndham ensure get asked change hyatt specified reservation wanted away elevator vending machine also called directly week beforehand specifying request clerk advised cannot guarrantee placement hyatt assign since made reservation nonrefundable payment full wyndham also left work early check soon available could get quiet work got found next elevator one side stair side extremely noisy told available even though arrived  minute check time everyone polite sorry doesnt cut one hears stairway elevator traffic ha work next day frustratingin general thing well attended wyndham ran thingsfor example light work wyndham always make sure fixture fall disrepair coffee tastelesswhen got roon around pm scattered array breakfast dish lining hallway year staying wyndham left dish lying hall day continental breakfast usual caloric cocktail minimuffins microscopic danish combination air starch crystallline sugar chemical sadly seattle summerfield suite sliding slopein new capacity hyatt pull toyhow disappointing quiet accommodating well runhotel',\n",
       " 'one immaculate professional small fridge free internet accessi really enjoyed breakfast buffet consisted fruit cereal oatmeal juice orange apple grapefruit boiled egg waffle made wafflemaker toasted toast muffin english muffin bagel cream cheese yoghurt coffee tea probably thing forgotten free shuttle hesitate',\n",
       " 'nice stayed summerfield suite  easter long weekend april  made reservation hotwire checkin quick business competition next door convention center many high schoolers walking around given th floor close elevator opened door someone walked back reception desk asked another checkin clerk saw made mistake gave u suite th floor suite big full kitchen living separate bedroom full bathroom trade small inconvenienceeverything suite clean bed comfortable bathroom spotless toiletry hyatt workout hot tub outdoor swimming pool th floor dont business center although offer wireless internet take laptop every morning serve complimentary continental breakfast includes bread bagel waffle fresh fruit cereal juice coffee first time seattle wanted see everything practically walk everywhere although tired pike place market  block towards water offer free shuttle downtown area used drop u pioneer square also found bus downtown area free last stop  block summerfield suite right front convention center parking charge  parking car want pay fee parked street free pm sunday day parking lot pike th th offer  day parking weekend paid total  parking stayon second people stayed door suite dog hear barking loudly pm stopped allergy pet may want confirm get pet beforeall summerfield suite next time seattle',\n",
       " 'summerfield heartbeat stayed one chance bid priceline perfect walk minute east capitol hill walk minute west shopping district eventually pike place market wasnt huge attractive quiet  full sized bed crowded tried fit  adult bed fine bed comfortable didnt gross traditional comfortors continental breakfast greathot cold food including waffle bar front desk quiet welcomingthe girl mumbled much ask several time repeat figure deal  minute check doesnt really ruin experience used cab sure parking cost inconvenience place plan',\n",
       " 'clean comfortable suite family four stayed summerfield suite seattle  march first bit nervous staying recent poor review wonderful mini holiday apparently summerfield suite taken hyatt group march  reserved priceline deal checked given standard  double bed clean mini refrigerator check told wanted upgrade one bedroom suite cost additional  decided try standard first fine  u bit cramped  young child next day inquired upgrading cost quoted additional  took advantage clean one bedroom suite spacious huge king bed bedroom pull sofa living full kitchen large bathroom comfortable family although unit overlooked pike street i traffic noise bother u shuttle service taking u pike place market science center etc complimentary continental breakfast buffet huge many many choice whole professional friendly easy walking distance shop restaurant area felt safe walk around  young childrenour family wouldnt hesitate',\n",
       " 'excellent last stayed  previously wrote positive review time even better experience thats possible booked priceline arrived checkin around  pm wait three people checked turn clerk told u automatically given u late checkout  pm wouldnt rush morning happy particularly getting without asking didnt ask particular bedding arrangement figuring work got imagine delight find two double bed bedroom well sofa hideabed didnt need used complimentary breakfast pretty standard  id personally like le sugar wholegrain protein option reasonably healthy selection available chose care suite two tv noticed tv could raised high volume remembered reading another forum instituted noise disturb neighbor make perfect sense two tv every suite high volume could quite cacophony im one bothered thing quest objective reviewer see couple chipped spot benefit spot paint nice fullyequipped apartment including full kitchen facilitiesnote january   summerfield suite hyatt brand rather wyndham clerk explained improvement got free local call free internet didnt use either agree',\n",
       " 'doggie people smell stain hallway tell everythingthis caters people dog checked stench dog potent cleaning solution smell practically knocked u friendly tried accommodate said werent designated people dont mind paying dog obviously summerfield may place',\n",
       " 'bright spacious functional wonderful trip seattle kind courteous allowed early checkin come early flight even gave u upgradethe bright spacious functional kitchenettethe safe area downtown seattle walking distance pier nearly point interest citythough glamorous doubt meet even exceeds everything could expected need business traveler practical tourist',\n",
       " 'stayed one nice balcony overlooking space needle downtown extremely helpful free shuttle nice restaurant overlooking puget sound definately',\n",
       " 'definitely stayed  july  aug   chose primarily kitchenette needed prepare meal  yearold bedroom suite corner comfortable bright clean kitchenette convenience sure beat living bedroom small balcony gave little girl explore play place felt like small apartment furniture comfortable carpet need replacinglocationwise complaint straight shot pike street pike place market although walk back slightly uphil close shop department storesstaff friendly helpful though miscalculation parking charge put right quite easily definitely',\n",
       " 'worked well family enjoyed shuttle spent split time seattle trip vancouver stayed time total four clean kitchenette kitchenette handy picky threeyearold also vegetarian plenty leftover keep happy took shuttle operated everywhere restaurant attraction microbrewery one place get microbrewed beer seattle shuttle driver knowledgable courteous made minor deviation route help u get needed go',\n",
       " 'deal kitchen didnt use',\n",
       " 'home away home view towards capitol hill',\n",
       " 'disappointing like describe describe thoroughly disappointing experience made reservation property month advance based several factor wyndham reputation service available courtesy shuttle amenity disappointed except upon checkin told reserved available reserved king suite given suite two double bed specifically reserved king traveling infant knew extra space needed portable crib told property sold nothing could arrived even disappointed kitchen area filthy dish cupboard dirty utensil drawer full mold water bathroom mold caulk daughter  month old found playing empty beer back cabinet spent next several hour cleaning portion kitchen satisfaction feel comfortable preparing daughter meal one day mother staying courtesy van take daughter space needle area extremely happy service received however ready return called driver come pick told pick courtesy pick area exactly dropped morning discussion extremely rude person spoke manager told outside area manager stated shuttle oil change mother said wait van finished told come get attitude behavior desk awful shining star one member valet dani extremely disappointed property attitude member whole experience put damper business pleasure portion',\n",
       " 'place business person extended since  traveled seattle  time per year usually summerfield first admit place perfect however money plus far outweigh minus starter place apartment building converted mean vast majority reasonably kitchen equipped standard applianceswith exception oven microwave oven cook know onebedroom suite spacious bathroom cozy living tv living area bedroom many balcony although chair mattress comfortable south side side face away pike st surprisingly quiet consider close i busy pike st join free wyndham byrequest program high speed internet free select free array welcome snack beverage delivered also specify sort pillow prefer whether want extra towel hanger etc short try make pleasant one close convention center littleknown stairway step downhill front door take quickly convention center side door freeway park restaurant convenience store tiny lobby buy food drink take ha complimentary breakfast breakfast lobby better yet service provided evening excellent tango tapa restaurant block away also neighborhood within easy walking distance bambuza vietnamese cuisine union square grill upscale chophouse parking  per night le sheraton hill dont car loss thats downtown seattle plenty place walk also offer free shuttle van drop pick back anywhere downtown core regarding price find best deal wyndham web site stayed summerfield anywhere  per  per price seem vary convention center use true public area getting shabby carpet need replacing wall need repair whole place could use makeover however minus reached critical mass opinion summerfield suite place already made reservation next trip seattle',\n",
       " 'family family five stayed two august pleasant staynothing really complain  minute walk pike market didnt drive parked car hoteleasy access i nice breakfast provided fruit rollsetc cerealsomething everyone huge nice u spread couple kitchen nice didnt really use except frig microwave like home nice exercise small pool spa desk friendly shuttle van gave u ride mariner game walked back gamea little far walk two teenage boy cheescake factory streetright downtown pro con right downtown',\n",
       " 'go somewhere else go somewhere else caribbean ponce town pretty awful nothing see many abandoned building little outside going beach definitely ha shady people loitering around im sure nice  year ago currently tired doesnt deserve category  rating get hilton caveat dont family big kidfriendly activity didnt play golf individual travel requirement may feel differently word found disappointing stayed hiltons hawaii hawaiin village barbados well marriott sheraton st thomas bermuda found far exceed quality accommodation service ponce hilton turquoise industrialquality tile think nursing home turquoise wall  rug side bed look like walmart luxury bathroom expect nonexistent bathroom utilitarian best think hojo far exceeded luxury comfort hampton inn stayed san juan service plate sit outside door day although ground pretty mediumsized pool doe seperate area adult barbados overrun kid vacation local kid presumably belong hiltons beach club also supervision literally saw group kid screaming profanity egging two little girl hit one another one intervened towel hard find gone noon one hot tub hold  people pineapple rind inside surrounding tub work facility like outdated  rickety treadmill hiltons work  past year alone superior luckily used point although disappointed least pay hundred dollar nightif one bright spot nadine concierge extremely helpful candid friendly also meal la cava although expensive quality food befits price',\n",
       " ' star pretending  star beware pretend considered  star best  star ocean view service range ok mediocre food expensive nothing die main lobby way dark considering extremely elevated crime rate area driving property youll pay parking fee interesting fact personnel gate bunch crook assaulted shotgun took money petty cash employee actually told fact yes crime doorstep extremely careful lookoutsome nice general dont make feel welcome place',\n",
       " 'get away got back  exceptionally clean well maintained quiet member need trained hospitality cordial little casino caters mostly local unfortunately lot nepotism customer grievance handled haphazardly unprofessionally wait really try treat customer like family fantastic job casino rate player able get  day blackjack  hand  virgin pina coladas took slot tight since nicest area dont much choose since family life area deal come hope positve experience remember youve warned isolated spot plenty sun beach like volcanic ash charged  guest park overnight even thoough casino playing local parking validated charge  resort tax boat kayak beach toy little gym restaurant patronize day trip ponce area done three hour',\n",
       " 'excellent retreat third visit ponce hilton addition excellent ponce hilton offer many amenity reasonable rate walked around ground kept clean morning used fitness center pool main time use pool clubhouse highly recommend prefer quieter setting mosquito huge problem sprayed kept ground free debris food continental breakfast lunch cold breakfast buffet offer numerous choice including fresh fruit yogurt soy juice cheese cereal pastry etc option hot breakfast well ponce hilton excellent choice plan explore historic ponce puerto rico southern beach forest natural preserve venture make sure stop front desk confirm travel route important information planning visit gilligans island changed plan based information consierge obtained boat operator contacted company behalf main dock gilligans damaged recent period heavy rain boat still operating accessibility difficult',\n",
       " 'mosquito dengue fever wife drove san juan  nightthe nice dated modernour ok fridge loved ac diamond vip selection chocolate strawberry large bottle fiji water waitingthe ha casino doesnt even call attention nicely styled outdoor pool poor ratty fitness center soso beach area watch undertow soft fine dark sandall accessed exterior executive tower guess supposed exclusivenow bad part perhaps due recent rain per local ponce leeward side islanddrier hotter horrendous mosquito invasion could avoided even despite heavy chemical spraying thrived loving recessed door patio area mention puerto rico closely monitoring outbreak dengue fever others running flailing arm towel going outside roomsremember accessed exterior truly horrible slept ac fan high impressive temp set  degree ceiling fan high bedwe slept cover covering head mosquitoesnot even free using point comforting still paid parkingnothing',\n",
       " 'nice clean rate hotwire bad place nothing much around though kind isolated decent exotic looking pool bad',\n",
       " 'wedded bliss getting married local mansion castillo serralles  minute away felt best place host guest regret itwe started planning wedding march continious communication enid monte customer service far one helpful person ensured guest got best accomidations catered every need also helpful getting limo two day wedding gave wonderful recommendation local venuesthe day wedding allowed check morning order relax get ready chaotic day husband booked spa day day girl spa amazing gladys carla friendly wonderful job day wedding stylist cancelled gladys able acommodate morning weddingthe service bit slow understood hosting two convention weekendso disturbedin term appearancei loved pool open  hour day pool clean enough host child adult alike true indeed leave facility picturesque youd like travel ive encountered experience say non spanish speaking guest able get quickly right highway my husband decided whenever go enchanted island puerto rico least one ponce hilton love recommend everyone',\n",
       " 'best area stayed least  time finally decided write review nicest area nice pool area beach area nothing write home leave beach area walk along beach city park nothing garbage dump always stayed business executive lounge area benefit hilton honor gold free internet free snack etc averagethe tower newer walkingself parking  prepared slow service resturant dinner usually go bar smaller menu faster service common area non smokingthe excellentslow service resturants typical puerto rico',\n",
       " 'ill back past july hopped stayed fajardo isla verde ponce staying ponce allowed u visit central part island many mountain incredibly beautiful wich half hour away northern part island  hour away west coast  min drive never stayed hilton reading review helped u decide risk well worth unfortunately spent evening morning enjoy facility enough next time spend time hotelthe clean neat sort modern decor open lobby invite enjoy ocean breeze lower lobby restaurant seemed formal semi formal setting ill try next time pool spacious many palm tree alot facility kid parking extensive casino entertaining inexpensive couldnt friendlier beach swimming hey  min away many beautiful beachesabout  minute south place called la guancha typical food music beatiufl sunset currently computer background concierge gave u map ponce visited downtown historical architectural landscape unbelievable took picture people friendly cop every corner ck fire station ice cream store right front fire station coconut one reallll gooodcant wait revisit',\n",
       " 'best holiday value getaway super weather spent last  xmas vacation going back th time dec  best weather island seldom rain side mountain easy drive  minute san juan dont raise rate holiday nice beautifully landscaped pool area beach fair restaurant ponce little tricky find way around downtown nice golf course  hole reasonable rate le half golf rate san juan best value find holiday',\n",
       " 'nd visit returned ponce visit perhaps  year ago stayed hilton wanted return pretty much remembered though larger really enjoyed open lobby ocean breeze blowing got bounceback rate included breakfast otherwise person ponce hilton  hour drive san juan airport warning pr driver strongly favor riding along left hand lane slowest one particular migrate left soon make maddening driving added since last visit hole golf course shuttle take bridge course got really rate saturday afternoon  pm complimentary club   club lot kid around offered free food kid  staying parent large number family seemed enjoying recreational offering etcchose eat lunchdinner instead drove restaurant el ancla  min drive along industrial water front area seafood service also wife came  discount coupon took tour ponce playing golf lunch waterfront area adjacent hilton area industrial area many many reasonable choice',\n",
       " 'book loved first trip pr last loved ponce hilton stayed  exec tower didnt pay ahead given unknown paid  w tax included never negative experience well attentive helpful resort impeccably maintained clean spacious tastefully decorated ocean front w large balcony bistro set refrigerator hospitality suite priviledges well worth expense always well stocked aa continental brkfst food thing missing meat egg move beyond continental fruit cheese day p p hot hors deurves cheese tray beverage juice soda water alcoholic included p p beer wine champagne hard liquor mixer even dessert evening liquor pp saved u deal meal ultra convenient also  computer printer easy internet access chose bring laptop helpfulwhen dine chose local place wherever toured day resort food looked fine get home try experience local cuisine activity resort family  yr old daughter bike bike trail minigolf volleyball basketball ping pong baseball equipment included cost checked fitness club fitness club well equipped clean saturday evening  hour latin dance demonstration incredible performer near buffet area enjoy casino small open hour inexpensive table limit  minumum roulette table try finding vega biloxi even came around grilled cheese ham sandwich addition drink onsite club husband dancer didnt take advantage thisas mentioned real swimming beach  minute drive several beautiful one  pool w hot tub plus access golf country club facility pool got crowded weekend took shuttle country club side much le crowded kayak available  unlimited time cool little island aim explore snorkeling decent country club side better areaswe car made excursion returned ponce hilton absent changing several time youll need wherever given size distance rain forest beach old san juan area best beach area rincon swimming beach several le commercialized one within  minute drive poncediving used paradise diving parguera  min drive ponce hilton  incl tax  tank dive snack water rough youre sea sick prone take pill ahead time total trip time  hour compare hawaii   hr trip stayed condado beach area  comfort inn make touring area easier loved old san juan hated condado recommend condado area  yr essentially go partying dont consider beach connoseurs incredibly crowded driving exit well marked road construction heavy traffic add confusionhaving vacationed hawaii often continually compared pr hi prefer pr east coast travel time far le crowd far smaller feel le like number condadoold san juan definitely get waikiki welcome island give money get way deal next person treatment pr much le expensive hi essentially vacation obvious difference asian v latin culture many side trip  day didnt permit time must car really enjoy place unless want  day resort getaway recommend rincon want ocean swimming ponce hilton pool walking beach fine wholeheartedly recommend visiting puerto rico people wonderful price reasonable something everyone thoroughly enjoyed',\n",
       " 'clean spotless family  stayed june  roughing  week throughout pr vieques relative bungalow guest house needed place mattress hot water cable tv pleasantly surprised spotless clean shower picked place wanted enjoy ground venturing since exploring  week wanted relax nice surroundings explored ponce year ago liked fact pesky mosquito around ground took  minute shuttle golf club pool side beach swimming beach beached time got spectacular oceanview peaceful balcony let also mention arrived  western pr available nice',\n",
       " 'mixed feeling hilton noise stayed hilton ponce business trip sunday monday tuesday june  stayed previously also businessit moderately attractive property interesting airy layout lobby main restaurant lead pool area beach nice sit restaurant look koi pond pool palm tree food ok little expensive  dinner one beer including tip  plus tip continental breakfast breakfast includes nice variety fruit bread pastry meat cheese hot item egg pancakesthe nice large bed comfortable real complaint poor sound insulation one evening woman phone conversation apparently balcony door open sound bounced concrete beam outside back even balcony door closed could hear understand every wordit perhaps fortunate place doe seem get crowded based two time ive never wait restaurantthe beach small sort unattractive pool surrounding play area volleyball miniminigolf basketball nice enough looking didnt use themtheres huge excess parking yet charge  per day  valetpark youre west wing parking closer valet desk youll actually le walking selfparkno hbo premium movie channel course pay moviessome colleague work resident ponce area grew say central historic area nice want careful area town travel',\n",
       " 'never go back one worst ever stayed service horrible suppose resort tip  want glass water w meal start asking early took exactly  request every time got one  magic number tip  prepare key fail make sure take time god forbid get stuck outside oh say  take thirty three minute send someone let tip important plan getting buzz drink mixed bar even though appears pour liquer drink take advice  tab go liquer store located outside guard gate happy tell buy bottle purchase virgin drink add liquer expect get food either inexpensive oh tip one woman american prepared apparently puerto rican woman like american woman even though puerto rico part united state treated friend horrible tip unless manhattan tampa bay might want take defensive driving course get prescription zanex never pr instore worst driver country white line road yes right line therefore place never complain new york driver ever tip final one like blend driver simply lay horn blow red light stop sign make sure music blarring cant hear anybody el horn fine btw service beach expect resort style service resort child disney resort advice san juan much much beautiful hope help someone save hard earned money happy travel',\n",
       " 'beautiful relaxing vacation ponce hilton ponce hilton golf club pool',\n",
       " 'nice friendly stayed executive tower access executive pay little extra get value free breakfast happy hour desert fruit ect use computer express check friendly helpful facility nice beach enjoyed',\n",
       " 'liked part stayed hilton ponce puerto rico review however first think helpful say word puerto rico general ponce particular visited puerto rico many year ago day puerto rico poor frankly depressing chanced trip back san juan year ago couldnt believe difference traveled extensively latin america 鈥our recent trip punta cana dominican republic definitely dont act together puerto rico clean prosperous safe place visit head shoulder anywhere else latin america ever visited puerto rico everything work 鈥click click click place latin america know drink tap water eat vegetable wihtout wishing hadnt trust police bribe tradition use american money english widely spoken many time could hear trace accent seems like nearly everyone drive late model car time visited weather perfect 鈥low eighty middle winter saw beggar street american store restaurant everywhere dont need passport get sprint cell phone free roaming 鈥i cant tell convenience could call separated teenager wandered could call business tell u get teenager sat balcony talked friend back united state hourswe liked san juan lot last visit stayed hilton well also liked lot decided go ponce four day see something different three u 鈥two adult teenager hitch ran booked connecting flight san juan ponce cape air cheepoaircom itinerary cheepoair said booked flight cape air stated cheepoair canceled flight 鈥something never mentioned u something certainaly never ordered agreed however cape air said could get u flight cost lot lot advance purchase fare booked dont know made mistake tend get little suspicious profitable error anyway worked declined walked right hertz rental car four day including tax  much le original air fare connecting flight one person let alone three except short stretch san juan turnpike  toll way lovely drive rolling hill took le hour half arrived scheduled three hour layover san juan use car ponce total gas cost  round trip running around ponce charged something like  day park therenow hilton ponce bottom line liked stayed part called executive tower get substantial discount rate pay full advance spacious clean two double bed wouldnt call bed roomy adequate balcony looked ocean desk wanted nearly ten dollar day high speed internet connection executive center could get free wireless connection swiping card door get work people duty always quickly buzzed smile last evening however lady duty told hilton vip member use nothing door effect saw mention guest guide rubbed little wrong say lady apologetic nice itthe ground beautifully landscaped however ponce beach destination narrow beach life guard suffered liter pool nice food bit pricy outstanding figure  person supper tax tip  person lunch dont think ponce famous restaurant ate several guide book recommended restaurant ponce okay food hilton u spoiledmost service personnel spoke english well polite twice maid forgot leave coffee coffee maker time called front desk clerk showed door almost coffee pack toilet stopped called front desk guy showed flash fix everyone went way friendly plenty security uniformed security guard wandering around timeponce ha nice little square downtown surrounded nice shop hard find place park park car couple block away walk wasnt much problem sort shuttle bus get around downtown area didnt use also nice boardwalk along harbor several local restaurant close nice place go stroll especially ate one restaurant boardwalk impress u ponce nice well kept little town run thing see pretty fast worth trip town spent time hilton plenty dowe arrived back san juan rental car hour midafternoon flight drove part san juan called condado leisurely lunch enjoyed immensely condado tourist area san juan close old town ha quite really nice restaurant sure beat air port food time car get therein short highly recommend puerto rico ponce ponce hilton condado san juan also recommend rent car drive ponce rather taking connecting flight',\n",
       " 'weekend getaway perfect vacation rejuvenating effect decided take weekend go carribean san juan last year thought ah ok ponce hand well least resort reason dont give excellent first impression got person checked u wasnt helpful granted checked am could friendlier two thumb ground resort kept well everything clean lawn manicured small beach nice casino mainly slot machine  crap table  roulette table  black jack table  carribean poker table  texas holdem table local regular casino seem retired age nothing better burn money cost thing u price like traveling dr youll get dollar food expensive  dollar lunch buffet  dollar dinner buffet one seafood restaurant pitos seafood restaurant food service ok went drive thru town golf area nicely kept actually residence ground course  hole pga course probably mean get fund pga keep place cleanquick trick decide go short stay pack light take carryon luggage only rent car even  day worth going town looking around get economy size car cheap itll enough get around fork extra  buck executive give acces executive lounge includes free continental breakfast free drink nonalcoholic snack throughout day plus get free internet access could check print boarding pas ready leave check pier right lot food kiosk eating typical greasy puerto rican foodoverall fun',\n",
       " 'place beautiful golf facilitieswe really enjoyed wife loved beach spa facility food restaurant best townfor relaxing vacation visit family place ha also saw wedding celebration pool seems also cater special event banquet groupswe back valentine day spend another romantic get away',\n",
       " 'relaxation view ',\n",
       " 'nice place nice got deal full suite two four u overall service service rediculously slow otherwise loved',\n",
       " 'absolutely terrible stayed august  one worst ever stayed furniture appliance old thought motel small highway food soso restaurant service absolutely terrible absolutely unimpressed',\n",
       " 'pleasant surprise stayed resort three day liked clean comfortable bed facility well maintained could friendlier seem tendency nickel dime restaurant pricey enough pool beach chair go around tennis court activity guest want active beach greatest quite stony get place near city also route  major shopping mall still far enough away every day life hide want definitely',\n",
       " 'hilton feasible option ponce wife son spent  day ponce hilton earlier year february beach greatest reasearched advance knew drive half hour west guanica region higher quality beach food worth cost researched knew local authentic restaurant ponce salina guayanilla go want clean newerconstructed executive towerpay extra  willingly attractive resortstyle facility rate le youll pay north coast resort place worth staying ponce adjacent caribe golf course newer hole track  hole oceanside   relatively flat unchallenging unless wind dont want venture dinner italian restaurant golf clubhouse best option tip plus pool smaller nicer le crowded',\n",
       " 'nice resort returned  day trip ponce staying hilton reading reveiws little nervous ended pleasantly surprised arrived  immediately ready sat breakfast middle breakfast receptionist came table tell u ready thought service another receptionist happily gave u perfect direction restauraunt ponce looking beach resort may place matter dont think anywhere ponce ha nice beach beach nice enough walk morning put foot water enjoy view go sit pool pool nice sat day long easy access tropical drink open air get nice breeze whenever lobby main restauraunt buffet little expensive  lunch  breakfast plenty option around noon friday sure check fashion showvery awkwardly entertaining clean casino reasonable  blackjack crap  roullette rented car used self parking  day thought little crazy charge parking  better  valet unless extremely lazy need valetthe parking lot right front ever go back ponce hilton next time id sure bring stick order check golf course',\n",
       " 'disappointed ucky beach ponce hilton',\n",
       " 'best ponce city better place ponce city ha golf facility private village best casino city pool others facility excellents restaurant expensive food weekend ha life music differents show beach go saturday sunday caja de muerto island la guancha near beach caja muerto island excellent see color fish seagul different bird plant island ha litter museum bathroom facility historical ligth house beautiful view important thinking go caja de muerto island buy food walmart place island dont place buy return trash pr monday friday go car rent others beautiful beach near ponce guanica lajas town recommend beautiful beach rincon aguadilla isabela town located west pr  hour ponce north beautiful beach isla verde carolina city better beach puerto rico located culebra fajardo island east ponce city many attractive place serralles casttle best art museum caribbean history museum museum ponce ha la guancha tourist place many restaurant histoy town secound mall bigger puerto rico caribbean many many place baby boomer adult puerto rico island x  mile rent car cross island differents recommend copamarina beach resortin guanica honey moon hilton ponce family westin rio mar beach golf resort spa rio grande beautiful conquistador fajardo san juan el convento one best  world according vanidades magazing intercontinental whytham people vip high class ritz carton paradissus puerto rico traveled pr season come pr information visit',\n",
       " 'okay want nice beach booked priceline got  bad resort normally isla verde right next san juan family near maniti puerto rico time wanted try something different told ponce beautiful let say dont even bother checking ponce waste time dry like dessert dirty beach hilton horrible told beach black river empty area ugly beach resort nice basketball ping pong tennis nice pool food resort expensive guess thats hiltons money dont also pay arrive check bill  day resort fee  day parking  day valet parking including tip  day want internet access add pretty quickly overall nice since ponce guess wont happen',\n",
       " 'cant wait go back stayed ponce hilton  complaint regarding property checkin process flawless nice clean first went boardwalk eat drive took  minute next day went town center tour  minute drive away everything close rental car resort nice enough relax onsite entire food pricey course thats expect resort never walk parking area since always person waiting golf cart give u ride enjoyed live music saturday quietness sunday beach isnt best didnt spend time anyway also sure take advantage free bicycle tour property  basketball court exercise gym small sufficient vacation need wouldnt hesistate',\n",
       " 'trip relaxing affordable accommodating stayed six day ponce hilton golf beach resort booked wife child travel jet blue jfk first opulent moderate resort offer many amenitiesthe sizable expand time share purpose parking lot massive ha  seat convention center vacationer never crowded stayed executive tower th floor view ocean  yard away wonderful way wake toothe spacious excellent shower big overhead shower head cable tv popular channel espnespn casino small puerto rico one largest feature game blackjack roulette crap slot yes poker texas hold emi never puerto rico didnt know expect weather weather amazing cloud humidity  degreesthe landscape well maintained palm tree everywhere pool shaped liked clover leaf spacious weekend poolside get active lot mainlanders pop saturday sunday mondayfriday quiet peaceful pool also offer jacuzzias well pool  tennis court bike trail  basketball court mini golf playscape beach bad ha written grew cal water contaminated doesnt stop anyone diving beach small black sand water sky blue water warm downfall ha lot seaweed growing sand kid played hour beach issue remaining strip beach owned littered beach meticiously maintained problemthe offer shuttle golf resort take le  minute get found golf resort beach much better plus swimming pool excellent didnt golf  hole play golf resort ha villa sale starting k reminder resort ha highend commitmentthe food little pricey place go somewhere tropical generally expensive nice since kid morning buffet free child chowed didnt bad meal site time left resort eat one time pitos seafood want go hawaii spend twice much money better beach want go vega gamble huge casino work wife work wanted go place never nothing except soak sun swim pool go beach relax u',\n",
       " 'ponce hilton cracked februarymy husband decided visit family ponceprthey told u best ponce nowi read review trip advisor quite leary hiltonbut way first live new jersey flight ponce left pm arrive am realize two airline go airport jet blue continental flight arrive time  people luggage carosel picking luggge next try picking rental car  people line pick car agency dont open till am disaster start finally got car hilton visited family first booked reservation aaa booked excutive tower executive tower entrance executive lounge get fooddrinks etc part price roomand anyone know food pr expensive also called confirm desk check doe front deck try put executive tower without access lounge said pricei paid said thats aaa contracted paid got paper work showed clearly stated executive tower entrance lounge saw way put wanted entrance lounge also go  free drink casinoi ask got ticket nice view bathroom spacious fridge plus executive lounge food okay worth extra money since dinner  entree carefulmy coffee make blewupi got new one pool beach disgusting beach person traveled including hawaii  time know beacheswhat hilton comb clean beach right ended beach contined say mile junk beach oil cansglass shoesplastic fish net gross see around excuse dirty beach seems lack pride land pr knowhawaii similar pr landscape wise hawiians pride land unfortunately living pr thats differencethe city ponce ha part bad watch driver crazy blinker husband lived ponce  year growing shocked different wanted tell going ponce watch getting ripped tried resturants store work u dont look like tourist dont get itheres best sunday husband wanted eat property sushi placesanchos golf course youd taken golf cart asked front desk yes open go valet take got dressed went lounge drink asked lounge sanchos open yes story went valet toldno sorry theyre open tuesday also nice resturant closed go eat say lack communication among evident say least ia hilton go sake claim resortbut mean know checked asked map hotelno thing discover everything supposedly ponce building port cruise shipsif ponce continues course poor treatment traveler get repeat tourism need think pr doe get tourism creates job job create money happy traveler tell others bad trip youll tell world',\n",
       " 'rally experience stayed mostly husband could use casino friendly price charge food etc expensive really business people expense account breakfast started  dinner ridiculous pretty much know captured go ponce really feel safe thank god  beside fire station really nothing seepool smaller appeared picture beach nothing write home question happy answer',\n",
       " 'real disappointment husband returned week puerto rico honeymoon week spent bb forest accommodation however wanted luxury last two booked hilton ponce resort spa disappointment everyone worked unfailingly pleasant absolute best make management decision made bore seriously uncomfortable wayswe homeworkread tripadvisor fodors everything hilton said place nowhere anyone say almost everything place closed sunday spa closed monday place get anything eat sunday restaurant outdoorshot cigarette smoke mosquito true breakfast bitten several time breakfast second morning poor woman working desk could offer repellant obviously know problem correct itwe wanted use spa closed one suggested spa completely separate golf villa found online got home beach bar never opened neither bar upstairs attendant ever showed booth beach whole time truly nothing except sit ocean underfilled pool waste money dirty smoky tiny casino arrived fully ready happy place resort u spa golf maybe dont play way expansive shopping arcade described fodors one tiny storebesides equally tiny minimart elsewhere property everything else ha reduced meeting obviously place haas reduced business make clear others wont waste limited time resource way',\n",
       " 'mixed experience hilton ponce hilton ponce nice nothing special husband stayed one two melia downtown ponce stayed downtown base visiting city driving around island went mountain arecibo everywhere came hilton day pool sun okaythey call hilton ponce resort guess depends impression resort perhaps spoiled excellent service get cancun hilton ponce offered decent service understated say american attitude people polite going way make extra efforthere example called book massage spa two full week advance knew supposed fully booked didnt want chance called afternoon reconfirm appointment time nobody answered phone spa specifically asked last two appointment day could take advantage sun pool thought big deal ill call front desk ask time spa close call front desk lady doesnt know answer question put hold couple minute come back tell spa closed monday well thats funny sure booked february  monday husband started waving brochure front explains huge spa golf course next ask front desk lady possible massage booked golf course spa ha clue talking apologize simply transferred golf course turn full service spa golf course give massage anyway lost spa reservation thought whole thing handled better least apologetic instead seemed cluelessaside experience resort nice really amazing definitely need updating like chipping paint kind thing beach really small ive since learned side puerto rico doe beach pool smallish chilly lot kid learned little late really nice pool golf shop wished found morning seemed much quieter also seemed really really nice wonder part timeshare area called costa caribe probably go back planned trip ponce got really rate drink pool bar expensive especially elsewhere puerto rico generally dirt cheap dinner salad barsoupdessert  gave extremely big portion quality mediocre thoughmy husband never gamble decided poke casino check couldnt  second smoky gross much smell fresh smoke bothersome smell year smoke ha penetrated carpet everything putrid even gambler smoker take pas casino',\n",
       " 'relaxingand pretty really enjoyed hoteli mean nothing special lowkey relaxing lobby open airy pool area many palm tree wasnt crowded really able spoti accidentally dropped necklace deck mentioned waiter told wasnt big deal fault wearing necklace pool within  minute  guy taking deck apartquick efficient werent bad either could updated little clean smelled goodwere open airy one best opinion make sure get ground floor  slider opened right awesome view carribean pool right free breakfast selection free entrance club premise fun salsa dancingthe sport bar pool ha decent burger chicken ceaser salad also corona light hard get place u',\n",
       " 'nice resort golf course flew san juan rented car payless forced take cdw even though showed ny insurance card check car cowe drove ponce  hour pleasant drive thru mountainsi played  round golf course attractive interesting memorable problem bogy golfer pond hole    end ocean otherwise oceanviewsfood sat excellent pig roast local specialty buffet meal parbut big eater get money worthwine list expensive starting  asked offered decent list wine our best meal mark melia ponce went time gone back morepitos ocean wes also lunch drive pitosotherwise take cab ponce area unless like drive around lost clueless seedy enviornswe drove famous rain forest worth  hour round trip nyc style traffic shoud ok san juanoverall agree positive review',\n",
       " 'christmas week hiltonponce pr returned christmas midweek hilton ponce little concerned reading review course already booked place jetblue getaway price gohusband pr many time teen daughter mostly staying around san juan took flight jetblue ny ha ponce christmas arriving  short cab ride hilton one person working reception desk pleasent upgraded  br suite w magnificent deck husband crashed immediately whilst daughter went exploring darkvery secure camera security folk everywhere place beautifully decorated christmas lot light flower everyone met friendly welcoming plesently suprised beach area yes gated locked black sand unexpected carribian beach  mile cresent perfect walking finding shell beach glass padded lounge chair nice treat waiter service beach always plus spent day lounging reason relax water clear warmer pool lot folk swimming recommend water shoe get past rock snorkeling also hawker hair braiders jet ski noise para sailers banana boat ride quiet resort sight big difference isla verde condodo etc liked see kayak cat use quiet worth trade place offered nothing teen day playground mini golf younger crowd also arcadepool table area rear lobby played air hockey daughter couple time dinner forgot mention bike available free fitness center touring ground ground public area never seemed crowded even holiday week spa miniscule worker may leave manicure table answer phone make appointment massage table outside better going day spa near home food drink price high expected best meal week came service salmon done perfectly steak tender lobster night ran lobster ordered  pm luck round drink compensate tried japanese place shuttle golf area wait intermidable fish fresh presentation ok waiter came every half hour tell u food right seated two hour appetizer came pack kid running place screaming didnt help matter much round drink complimenty desert appropriate balm frazzeld patience place last  minute anywhere else back main complained front next day half food price removed bill right thing done clean pretty large absolutely complaint husband went casino three lot local playing lot money joined hilton player club recd perk walked away ahead ok dealer seemed know regular didnt perceive snobbishness towards american drink hard come ask dealer told pit bos send waitress soon sit get drink win first hour play actually gave waiting went adjoing bar purchase drink one also consider joining executive lounge continental breakfast delicious cafe con leche well worth daily price  per last requested wake call  set alarm thank goodness wake call never came check easy enough cab back airport getting nervous am departure found still waiting front am people behind u really upset attempted get manager release hilton van shuttle u go make time airport tiny ha one screening area divided line jetblue continental also assured plane depart everyone got go back yes teen daughter perfect couple long weekend probably become bored  day without something else used stepping inexpensive local food drink option nothing around place guided accordingly however seeking quiet sunnyside pr hilton choice content got came sun beach warmth clean beautiful accomadations',\n",
       " 'spent week hilton easter year visitor pleasant mix vactioners business traveller english spanish speaking impeccably well maintained professionally managed staffed stayed executive tower concierge lounge access clean large nicely creatively furnished marble bathroom large cleanthe concierge lounge located ground floor offer standard continental breakfast fare canape cocktail hour sweet later lounge airconditioned well appointed free internet access offered well lounge mostly staffed enthusiastic friendly student one local university unfaillingly polite youth limited llife experience curtailed usefullness inquiry hiring tour guide contacting realtor even eating fielded without much successto beach looked nice enough maybe walk sunning dark sand water doe quintessential gin clear look found island swim sea either beach chair taken windy many appealling quiet place beach busy pool take sun read restaurant bar service offered areasthe restaurant well run staffed though menu hilton north american standard local fish prominently featured though might finest lamb chop ive quite time restaurant adjacent golf club shuttle pick truly outstanding ate final gone often discovered sooner supposedly italian influenced restaurant however offered limited menu dont remember delicious mahi mahi tomatillo cilantro sauce fried plantain',\n",
       " 'beach terrible returned half week pr spent couple day ponce hilton amazing oceanfacing north tower sound wave large king size bed really comfy bathroom could better floor tile desperate need strong bleachthe ha nice disco called bohemia play peppy latino music casino lost money restaurant serve decent food bar open till  amhas amazing pina colada ive ever hadthe poolside jacuzzi lawn wellmaintained pool towel free extremely helpful friendly help direction sightseeing however beach really terrible full pebble stone rock try take footwear therewe went la paraguera tiny fishing village hour drive ha facility snorkeling beautiful bioluminencent bay swam enchanted watersno trip puerto rico complete without experience like magical kingdom surrounded stardust mixed water tip  wear wet suit avoid feeling cold give opportunity swim enchanted water feel scared jumping dark water wear life jacket',\n",
       " 'nice decent beach stayed  nights day march thth ponce small area carved industrial plant attractivegetting interestingdriving san juan honestly take life hand drive beautiful sj nicesolid  star black sand beach grey water continually cloudy large unseen rock youd crack foot walking beach water got much clearer however beach littered lot trash last day approached local stated water polluted industrial waste swimming beach robbery american common away resortfood goodthe upper scale restaurant superb employee always friendly helpful spacious clean nice fridge pool nice filled loud kidsif go ponce plan eat fast food could find one restaurant ponce proper little place water seafood discover pr ff capital world looking authentic pr food probably wont find ponce also given stink eye everywhere went outside resort see many nonlocals looking trip boardwalk interesting say least ponce local seem thrilled touristsbased observation crime rampant pr extra careful leaving possession rental car house iron gate balcony door decent car ha large lojack sign window definately visit side island looking area hugely touristy least friendly nice looking ponce dirty little bit scary however pretty easy navigate got hang',\n",
       " 'relaxing family ha returned  day ponce hilton pleased sorry reviewer oregon felt uncomfortable felt exact opposite white mainlanders  small child always friendly helpful comment service pool half accurate place order bar waitstaff delivers pool even waitstaff return see needed anything elsei agree comment food expensive variety eat whatever want whenever want last went la cava  year old daughter wanted pancake son wanted pasta marinara sauce happy accommodate restaurant friendly generous think paid total  meal kid ate every meal property kid even got gift free ice cream loved itthe surrounding town exciting definately place property relaxthe fitness center although small every piece equipment need workout also bike ride walkingriding path around perimeter property walked every morning nice outside perfect weatherwe found pool clean kind floating toy chair volleyball play pool volleyball net added basketball hoop last day kid played together funthe beach bit disappointing shelly windy found nice sandy spot left enjoyed warm watersthere lot kid age basketball half court  volleyball court table tennis playground toddler older kid small rock wall lot beach toy really thought everything even water cooler beachall thoroughly enjoyed looking place relax pool play game kid enjoy exactly found',\n",
       " 'glamour south ended southern part island escaping cold wind north ritzy small city enjoyed one  big open air lobby large pool black sand beach water clear observed distance interesting walk channel boardwalk ponce almost european atmosphereand culturallots museumsfood service ok spoke english well enjoyed',\n",
       " 'relaxation goal stayed  business trip husband came along get away relax flew san juan rented car drove  minute ponce driver impatient somewhat crazy self parked car checked fourth floor decorated tropical feel clean like idea clean tile floor v carpet view beach area ocean place go want relaxing vacation time year number guest pool varied   beach area lot lounge chair play area child picnic table access appeared inaccessible public public beach area jog walk along beach nice gate beach close pm also enjoyed using gym facility food average average buffet breakfast dinner watching sport big screen outdoor bar area access exec lounge breakfast appetizer dessert coffee convenient outstanding never eat la cava restaurant since review site rave casino time could bit cleaner tidy fun friendly went way help u misunderstanding inquired tuesday morning haircut told salon open friday saturday could arrange call someone declined called friday appointment told open week  pm friday saturday  anyway got haircut reasonable price city quite ready tourist visited seralles castle nice tourguide adjacent cross downtown congested tried visit cathedral closed pm day purchase made rum coffee traveled ponce port expected find lot shop restaurant found nice place go walk several food stand place relax place business traveler look like golf course quite nice ha wonderful open air atmosphere staffed friendly helpful people spoke english enjoyable',\n",
       " 'oasis showreview full',\n",
       " 'nice showreview full',\n",
       " 'place relax garden view',\n",
       " 'recommend rivolilocation adequate large group got small roomswe nice balcony back side happy roomnice black security shade roomsthe breakfast continental full breakfast satisfactorywalking distance hard rock shopping well life ramblas right front doorgreat little deli next door food price grocery store right across street buy soda roomthe werent overly friendly werent rude eitheri recommend hoteltaxis easy get price',\n",
       " 'checked review booking went ahead purely simply locationwe asked got high floor rear boy view the th floor balcony  degree view rooftop barcelona buffet breakfast excellent hot plenty choiceeverything within easy reach catalunya square  yard awayoverall base barcelona recommend confidence',\n",
       " 'u  adult  son aged  unbelievably slow small lift sometimes prompted u deal  floor stair learned squishyslow lift seem norm europe back small balcony enjoyed quiet bathroom large small side inclined rate  star even though breakfast quite nice compared part spain',\n",
       " 'rivoli ramblas  minute walk aerobus bus stop plaza catalunya directly opposite subway ramblas couldnt better situated general sight seeingthe clean tidy st floor rear wonderfully quiet always helpful attentive whenever needed assistance restaurant used u breakfast pleasantwe wouldnt reservation using next visit fabulous citysteve dark',\n",
       " 'average found reception rude breakfast helpful sweet though excellent rudeness enterence put offthe shown picture bit cramped',\n",
       " 'stayed july  right center everything  minute walk underground convenient supermarket across street many worthwhile site walking distance walking lobby may little dissapointing fearing worst luckily first impression quickly dispersed stayed standard rd floor facing la rambla get little noisy fairly spacious clean cabinet storage space somewhat limited breakfast buffet nicely done apart scrambled egg ha varied selection try get table outside terrace claim wifi throughout however sit lobby order connect perfectly suited u  adult week sightseeing  star little overated though',\n",
       " 'fantastic airport  euro fare arobus every  minute take directly plaza cataluna  minute walk la ramblas left rivoli ramblas could simpler warm welcome arriving pm give choice either st floor th choose th choice spaciouse bathroom jucuzzi large wardrobe safe  euro per day key obtained reception mini fridge bed king size comfortable ask  booking view personal balcony right busy rablas quite even though central electrically operated black blind breakfast included felt cost expensive couple stride away could get english continentaln breakfast reasonable price pianio bar drink coffee set reception area many bar restaraunts choose within easy walking distance fantastic right middle everything tour bus minute away well worth trip see main highlight city well worth visit highly recomended  star right heart action liitle expensive quality major city',\n",
       " ' star attitude traveling friend feel marked star worthy enough prefer apartment bb booked apartment amsterdam compromised barcelona boy sad didthe small nonopening window provided view back sublimely uninteresting wall service aloof felt like intruding asked desk anything one know smile always hear french hate american rude spanish beat landslidethere bidet american idea use perfectly showertub right next la rambla nice towel fluffy neither justify price multistar',\n",
       " 'lovely value money recommended time rivoli ramblasfor price get reasonably sized might even call large european standard tasteful contemporary decor especially marvelous right la ramblas close placa de catalyuna airport bus even bothered noise street though nyc clean slight drawback  actually two building connected together one side little inconvenient get  step updown elevator heavy bag wheelchair  hear scraping chair floor arent ton people hanging bar downstairs huge distraction u bathroom detail gigantic tub water pressure shower though door curtain get bit wet postbathing bidet toilet sink large surface vanity arearoom detail bed reasonably sized wide twin king bed two wide twin pushed together though many blanket get quite chilly ac running mini fridge think electric kettle tea made perfect large window faced onto la ramblas electronic shade keeping noonday sun siestaid definitely next time visit barcelona certainly recommend traveller want nice without high price tag budget luxury fauxcontemporary either actually contemporary one one recently renovated',\n",
       " 'superb stayed  day july  surprised review excellent overlooking la ramblas delighted overall service spotless towel changed daily yes renovation work upgrading floor time floor worked closed resident disruption whatsoever booked local independant travel agent able secure u excellent rate internet always cheapest reliable way book accommodation buffet breakfast adequate reception bar area small historic building heart historic city going limited space quality three thing matter return without hesitation',\n",
       " 'excellent round reading earlier review overly confident arrival really  star every respect betterwe family spacious equipped whirlpool bath mini bar safe balcony view ramblas could helpful friendly use terrace bargym spa ha extra charge though area sufficient piano bar main reception friendly bar excellent six year old sonit appear undergone refurbishment area extremely clean tidy nice atmosphere breakfast included price excellentlocation  metre placa catalunya main line metro stop sightseeing bus tour whilst minor noise metro doe disturb day nightwhen returning barcelona top list return planning trip certainly recommendtop tip use pizzeria grill restaurant opposite probably worst food ever extremely overpriced turn left towards end la ramblas many varied restaurant',\n",
       " 'nothing  fair enough got discounted last minute price still cost around  euro per bed onlygood top ramble supermarket immediately opposite get orange milk snack etc conveniently placed fridge keep freshbreakfast dinner price highthe rooftop ha little area stretch enjoy sunall pretty average',\n",
       " 'lovely  rather concerned travelling reading review contruction work heard one drill whilst breakfast last morning seems wellhotel comfortable well situated shop art lot walking around town could always find way back street well signposted side second floor overlooking la ramblas noisy middle first thing morning however small price pay could watch hustle bustle area fantastic street artist day evening balcony breakfast pastry bread though cooked breakfast taste restaurant open late evening ish time barcelona city wonderful love visit city',\n",
       " 'lovely experience stayed rivoli ramblas two day cruise med last year happy roomwas fantastic size huge balconyterrace enjoyed breakfast morning bar nice although could bit livelierwe also dined restaurant travel guide recommended however food dissapointingso dine somewhere else lovely time rivoli ramblas definately recommend',\n",
       " 'construction alert terracetop floor',\n",
       " 'sad smelly rooftop terrace nice view bar piano live piano music advertised booked particular breakfast buffet big disappointment  euro lobby funky garbage smell ok towel quality however overall disappointing experience',\n",
       " 'ocean suite booked old allocated ocean suite th floor never stayed big others say definitely pot luck youre allocated excellent balcony sit early evening obstruction sun although wasnt overly noisy fact front mean possible hear siren noisier tourist peculiar time morning ongoing work th floor gym facility still werent open didnt sample anything extra cant really comment service food price also agree excellent explore cityone thing didnt realise price quoted via opodo exclusive local tax',\n",
       " 'overrated overpriced summary rivoli ramblas poor given cost four star rating much expected specific problem weretired decor exceptionally rude scruffy bar warm air aircon indeed confirmed reception common gym spa closed due refurbishment note earlier post underway july  unadvertised local charge sauna fee use inroom safe drilling hammering noise day owing refurbson plus side breakfast one best ive really primeif getting rate comparison others area may worth punt hindsight looked availability   star price point',\n",
       " 'sewerage drenched recommended rated blatant false advertising overrated sewerage drenched hole spain smell sewerage everywhere unfriendly small extremely small bathroom light fitting fell window broken dirty curtins noisy much better expected 拢 per',\n",
       " 'cracking stayed rivoli july checkin easy service ha standard cleanliness high standard sheet towel changed everyday evening maid went turn bed clothes back leave choccies pillow one newly refurbished lovely unfortunately spa gym use due refurbishment however encouraged use facility sister ambassador beautiful member party arrived different day different time checkin welcoming simple pleasant rivoli certainly go',\n",
       " 'standard standard  returned  rivoli positive side hotellocation excellent although given ease people canfind way around city matter breakfastwas also excellent choice fresh fruit cooked buffet style verygoodthe well like gone website built anexpectation beautiful spacious well appointed youcheck standard anything standard  starhoteli stayed load  ireland standard  rivoli standard  push small carpet stained bathroom clear cieling tile bit debris fallen onto shower door didnt work floor flooded shower th floor lift could barely hold  people took age come balcony spectacular view next door back yard entusisatic cleaner tried start cleaning am air conditioning pathetic sleep balcony door openfor luxury paid  euro per approx 拢 stg issue paying  euro standard accomodation feel totally let experience rivoli utterly ashamed dont know claim  status level accomodationcome across uk ireland see  really',\n",
       " 'get pay stayed rivoli ramblas feb  got deal expedia standard arrived awful paint peeling wall grotty decor moved shown one equally awful moved one modern lovely fab bathroom decor throughout obviously redecorated settled time perfect centre ramblas ok definitely recommend donnt settle rubbish',\n",
       " 'superb managed get real bargain expedia decorated spanish rustic style even sofa well ludicrously comfortable bed lucky enough th floor back balcony table chair perfect watching sun go cathedral hadnt visited februarybathrooms extremely high standard bath shower toilet bidet thoughful array toiletry provided including unusually sponge comb hairdryer next basinthe rivoli breakfast  euro probably work breakfast england however note additional  iva real feast featuring orange juice large fresh fruit salad marinated real orange juice bacon egg toast fruit ie orange apple delicious danish pastry one containing custard cream particularly popular toast croissant jam marmalade butter tea coffee final touch cl bottle cava ideal something celebrateon second arrived back late find bed turned little chocolate leftservice excellent speak english better spanish anyway happy order cab airport blue moon bar ground floor nice place relaxing drink perfect top ramblas close metro el cortes ingles cathedral short cannot recommend highly enough child welcome base family wishing explore city definitely',\n",
       " 'must changed hand reading recent review feel must changed hand stayed june  excellent overlooking la ramblas food really extremely helpful bar particularly bar lively natured',\n",
       " 'vary   obvious review site vary widely booked three twin two nd floor excellent every respect however rd floor smaller minor fault mirror bedroom sound sky missing light bulb quite well furnished pleasant balcony overlooking ramblasmany review comment helpfulness pleasant attitude assume change personel since review found reception porter friendly helpful bar sorely need retraining attempt make customer feel welcome smile eye contact greeting drink plonked silently plenty pleasant bar around ramblas didnt frequent rivolis miserable bar put miserable moreover bar advertised piano bar february  piano player large notice piano warning guest play instrument like afraid might actually enjoy pity since one party competent piano player might cheered place bitin spite criticism return want insist paid price three feel standard werent score highly couldnt bettered',\n",
       " 'tale two rivoli ramblas ha one best barcelona experience depond wether standard superior stayed begining december standard  star quality average looked refurbished superior see  star excellence suppose get pay difference seemed unfair',\n",
       " 'wonderful husband returned short break barcelona stayed rivoli ramblas cant praise highly enough wonderful third floor small balcony overlooking ramblas spotless bathroom gorgeous huge bath bed really comfortable plus mini bar really nice accommodating couldnt better shopping doorstep taxi metro train close want explore afield thing warn light sleeper dont take front ramblas bit jovial place well definitely back',\n",
       " 'loved rivoli ramblas four star meet standard ramblas close plaza catalunyawhere airport bus stopsand metro although faced courtyard problem bathroom well appointed breakfast included rate bit steep  euro ate one morning local resturant  euro',\n",
       " 'got paid stayed may  found always pleasant helpful arranging large vehicle get u shipwe lot luggagethe rate le taxi happy fullsize bathroom clean enjoyed watching parade la rambla balcony price lower nearby planning october',\n",
       " 'muy bien showreview full',\n",
       " 'wonderful experience sign building',\n",
       " 'ok bad terrible looming noisy i viaduct nearby also king co courthouse far lot people hang around around whole area greatest nice tourist destination near youre much better staying nearer convention center visiting pioneer square area daylight specific thing want see near convention center put closer place downtown area like pike st market',\n",
       " 'excellent visit seattle elegantly restored inside romanesquevictorian style stayed sept perfect',\n",
       " 'spent first pacific northwestnorthern ca trip pioneer square happy first shown slightly odd arrangement tv side bed easily viewable boston road first world series able view tv important u front desk request easily politely accomodated given tv viewable roomwe found particularly free public transport offered seattle professional helpful slight negative breakfast found pretty mediocre overall happy selection',\n",
       " 'hospitalityyour ha dear jo wanted thank let much enjoyed beautiful nicely decorated extremely comfortable traveled rus rosemarie regn thank also including u bottle champagne basket goody sharedtheir bottle u first shared second thank hospitality extra courtesy extended u well made memorable pleasure meeting much see seattle much awareof loved pike place market tour seattle definitely worth certainly recommend place others greetingsfrom delaware rus pat clatts',\n",
       " 'wed excellent short walk everything',\n",
       " 'stayed  start west coast adventure really nice cheap chinese next door clean big free internet complaint tiny bathroom nowhere lay anything',\n",
       " 'convenient highly recommend husband spent week seattle basically sightseeingpub crawl tour city one pioneer square within walking distance everything fact across street waterfront popular place go walking sightseeing never rented car taxi didnt need one granted walked  mile day stopped anywhere wanted along way dont need car city call taxi anywaywhy walkthe always clean decent size two u weird smell though wasnt something couldnt tolerate though charming cozy within yard restaurant bar fact meal ate restaurant next door al boccalinos best provide service best italian food ive ever somewhat pricey friendly knowledgeable question asked help reservation victoria clipper bus take go ballard etc nice always tried helpthe quiet even though seemed crowded recommend anyone aaa membership paid  except friday expensive',\n",
       " 'one enough trust disappointed say best western pioneer square hasnt already said welcome seattle girl reception trip bell captain get vote bestat end long tiring day travelled plane boat reach seattle care disappeared soon opened door large beautifully decorated king size bed taking pride place looked peaceful welcoming period furniture matching appointment couldnt wait unpack relax cup tea lighting excellent  watt bulb evident towel plentiful fluffy load bathroom lay toiletry thought framed picture wall nice homey touch quiet noise disturb dreamless sleep fact glad next morning set alarm beforei enjoyed continental breakfast next morning toast jam yoghurt fruit coffee also cold cereal danish muffin offer learned bus transportation free pioneer square area bus stop step away entrance yesler however since wanted explore foot easy walk uwajimaya shopping complex chinatown delightful place although rate little normally pay retrospect one worth every cent fully intend make return visit future',\n",
       " 'noisy stayed seattle business check complicated parking available arrived front desk helpful parking situation company paying arrived wait  minute someone office figure going arrived plesantly surprised large clean comfortable wireless internet left lot desired slow constant drop offs evening noise freeway nearby constant money establishment cost could stayed sheraton hilton lot happier',\n",
       " 'lot charm normal best western charming high ceiling warm appointment quality excellent spacious particularly considering architectural restriction older building use tiny elevator heck climb wide staircase heartstep outside fun day life seattle one block waterfront trolley one block ton bus opposite end town space needle load store shop eatery nearby bring comfy walking shoe alley next ie one block directly behind wonderful diner complete quaint vinyl booth get tasty filling affordable breakfastget rate sure winner',\n",
       " 'customer service lacking area stayed place business meeting downtown seattle right downtown seattle pioneer square area area pretty bad walk around alone woman feel safe anyway pretty nice customer service first rate large bed extremely uncomfortable pillow body ached sleeping hard bed shower best part big plenty hot water loved partluckily didnt pay pretty expensive worth money parking mess park  block away parking garage run inconveinant',\n",
       " 'game access pioneer square culture looking nice boutiqueish downtown seattle long dont mind culture pioneer square definitely better block two stadium middle district shopping pioneer square doe bit homeless problem ive never seen spill fairly small nicely appointed free breakfast okay',\n",
       " 'okay seattle every booked historic ha remodeled budget traveller mind corner right next big outdoor neon sign luckily blink couple paper clip blackout curtain took care problem big clean heating unit bit quirky remote control maintaining comfortable temperature challenge cycled either bit cool bit hot bath clean bathroom fixture new flawless bring  watt bulb want read bed open curtain dont mind pink hue biggest downside thin wall next loud guest price quality expect',\n",
       " 'security pioneer square nice seattle two day moment checking noticed appeared vagrant sitting unattended lobby couple time including early morning checking wife left bag moment get muffin continental breakfast came back bag handbag gone fellow sitting across counter checking didnt see anything see suspicious fellow sitting lobby move bag manager sunday treated u like trying pull scam claim liability baggage untended least take responsibility making sure lobby clear derelict waiting prey customer   pm supposed someone front door outside hour nobody clerk unable see coming leaving manager say security camera think bluffing see backed claim none employee morning knew camera furthermore manager never returned call promisedwe feel weve treated disrespectfully none suggestion taken seriously ie need fulltime frontdoor conciergesecurity part seattle ha really become full vagrant beware',\n",
       " 'old reliable clean comfortable quiet welllocated leave car home take train seattle psh within walking distance king street train station located heart historic pioneer square convenient waterfront antique art gallery designerfurniture fine restaurant pub club theater international district pike place market downtown ferry alaska marine hwy ive stayed   recommend friend',\n",
       " 'place love amazing never seattle probably terribly annoying endless question need direction extremely patient every person talked cant say enough thing best western pioneer square chose spotless time definitely back',\n",
       " 'game booked two st august arrived pm told thay parking given direction public parking tell u match stadium could find anywhere park drove best western executive inn space needle see roomswe impressed service phoned back pioneer square see could transfer booking extra chargewell done best westernso remember book parking space booking driving',\n",
       " 'nice nice well remodelled tasteful accommodation helpful polite unobtrusive major problem number outright face quality derelict inhabit every street corner bench doorway pioneer square area forced watch dont step someone urine trail turn back watch derelict urinate broad daylight biulding main street push one away kept circling back closer closer muchi never downtown seattle well hundred dollar prisoner derelict taken pioneer square bench doorway covered area pioneer squarewake seattle take city backguess staying airport nextime lot restaurant shop loosing customer due prevalence derelict',\n",
       " 'nice pioneer square area stayed late august decent decent price time year service awesome clean morning late afternoon candy pillow historic area right across street pier underground tour waterfront walk area positive transistion older area town lot see easy catch bus area town totally redone refurbished service dont care view much cheaper rate however older area town panhandler everywhere panhandler quite polite aggresive',\n",
       " 'historic area block',\n",
       " 'safeco field',\n",
       " 'one catch clipper century located pioneer district feel locationprice family beware double bed queen bed parking really  block historical district worth yes homeless seem area due mission need send response city otherwise dont fault hotelthey city need respond something w homeless entire city ha probelm travel internationally lot usa ha serious issue beg hostile seattle showed ugh',\n",
       " 'fine located pioneer square though quick walk water frontpikes market however immediate bit rough around edge apparent homeless population youve walked several block away towards market get noticeably better nice spacious nicely decorated toxic cleaning agent odor required u open window leave open otherwise nice big sized bathroom breakfast served adjoining breakfast roomcafe includes cereal pastry bagel beyond continental included breakfast parking   block away cost  day relatively convenient though returned back lot around   pm attending wedding sketchy shady character lingering around garage locked requires access key card open door anyone cruise convenient decent place reasonable price youre looking luxury isnt adequate',\n",
       " 'charming brace seattle parking go read site review braced additional parking fee stayed anyway glad seattle like sfo nyc ha joined rank big city parking headache drive prepared hand parking rate gracious allowing u checkin early noon upfront day parking deal street saw plenty parking ticket windshield wiper downtown around pike take consideration centrally located walk pike restaurant first pioneer square boutique artisian storefront downtown shopping service pretty darned friendly say nothing professional long know youre downtown seattle parking pay pay pay youll go clean full character breakfast bw standard fare bad id recommend want little old world charm round',\n",
       " 'almost perfect wanted love best western pioneer square part excellent nicely appointed continental breakfast kudos best western fine hotelour biggest beef frontdesk person quite rude unbecoming hospitality professional conduct inappropriate distasteful walked slouching desk looked father unwelcome surly u number subject got thing rotten start however found rest quite helpful friendly end happy stayed',\n",
       " 'planned twonight early october best western pioneer square train ride la seattle first seeing much within walking distance added third nightthis typical best western beautiful c building modern inside wireless internet access retaining charm huge door beautiful woodwork high ceiling absolutely spotless friendly helpful read many review know expect free parking issue didnt rental could smallish side mine certainly adequate largerthanaverage bathroom window airshaft chose lowest priced expected use sleep view scenery issue hear someone complaining one morning highway noise side glad quiet brick wallthey offer continental breakfast average separate lobby numerous table complimentary newspaper two keep thing clean filled seattle pc city yes lot homeless found street one bothered concern walking restaurant alone street filled people quite late vibrant area rowdy mean recommend family friend block waterfront ferry pike place market monorail station within easy walking distance taxi seattle reasonably priced easy find free city bus transport within block every kind restaurant could desire many antique art shop ever return seattle know pioneer square hotelsmurphynh',\n",
       " 'dont understand complaint website stayed two late august loved everything first within walking distance waterfront pike place market could easily take monorail space needle hill seattle someone ha trouble walking may want consider taking bus taxi lobby nicely decorated helpful pioneer square meant could go next door right across street get drink andor something eat course didnt walk square street people hung thats common sense never bothered anyone well located able easily enjoy city youre worried street noise call directly ask interior interior king quiet plan return seattle well best western pioneer square',\n",
       " 'customer always right pioneer square sunday april town concert evening crew gave effort physically showing u different smallest ive ever seen view backend brick wall led u believe asked parking could either park street charge park garage block road thinking getting parking pas save hassle later simply said talk shift get back set coming back young man working claimed new got manager asked parking asked parking pas wanted  refused telling led believe conversation evening shift free manager told u wasnt policy pulled policy book either pay  park street started meter  news coming  exhausted felt cheated obvious bluff attempt proceeded tell u check video tape told u everything recorded throughout day werent told charge give u pas charge accepted offer staring face proceeded go back offer refused offer pas running circle mean didnt give pas yet excuse pas already parking lot parking car middle argument paying checked hour earlier told manager wanted money back go find another case refused refund u money forced late tired running circle lame argument decided wake  pay meter couple hour leave wasnt giving place another dollar next day found another near space needle treated utmost respect subsequent visit never dive thing reason gave   one bellhop showed u small helped u door never swipe really helped u place nice based experience lack management skill others read parking problem pas pioneer square best western',\n",
       " 'everything looking perfect seattle consider best western pioneer square also called pioneer square located square downtown seattle block away waterfront within easy walking distance safeco field baseball fan new seahawks football stadium pike place marketas far downtown go best western bargain compared caliber inside decent size huge tiny either clean friendly helpful along highlight hotelthe negative thing think fact pay parking complemetary continental breakfast lacking term selection qualityhaving said clean price heart seattle heck bargain ill back',\n",
       " 'fabulous ill showreview full',\n",
       " 'value located close space needle value two queen bed clean although carpet somewhatworn bed pillow linen bed lower quality like shower towel small view downtowna little far downtown area walk free downtown shuttle bus didnt begin  quiet noise inside outside',\n",
       " 'okjust well look nice modern outside front desk werent particularly friendly corridor dark smelt steam cleaned carpet maybe thingthe right space needle thrilling first pulled min walk away unfortunately rear view building parking lot even space needle viewthere laundry suprising larger hotelhotel restaurant made mistake menu ordering new guy think numerous item left tray service breakfast phone call promptly delivered though',\n",
       " 'seattle value pleasantly surprised bw exec inn isnt fancy however clean goodsized excellent also selfcontained restaurant bar small business center hottub workout really dont need reminded star stayed europe modern standardsthe bit dated remind  floral print spread honey oak furniture comfortable bed funky shampoo dispenser stuck shower wall call environmentally friendlythe hall dark lowceilinged could use carpet cleaning lightening started charging parking real bummer free parking make deal downtown thing particularly seattle center area however disco across street little loud saturday power substation one end buildingoverall ritz perfectly acceptable',\n",
       " 'price truly enjoyed clean helpful bit walk pike place close space needle sure',\n",
       " 'nice place stayed one cruise could see seattle arrived am naturally wasnt ready stored luggage left tour city upon returning went nice large roomafter small stateroom week seemed huge  queen bed also microwave fridge place cruise noticed shuttle pier morning ate restaurant people friendly highly recommend',\n",
       " 'worth every penny family checked two terrible another checking quick easy nice professional called morning check see could check early wanted get crappy soon possible said problem lobby comfortable offer coffee morning fruit cooky daythe clean felt clean know mean bathroom clean plenty towel didnt view space needle side view hill still plesant coffee maker real coffee blow dryer ironing board cable tv local call free helpful making reservation getting direction read another review shuttle bust problem shuttle actually life saver walking seattle really needed ride called shuttle ready go even got downstairs driver forgot something drove u pick nice knowledgable area used shuttle drop u pike st called picked pioneer sq quick even durring rush hour highly recommend trying shuttlei use hottub time went empty peaceful also offer internet access two computer somewhat private look attraction pricing hour wasnt bad overall perfect space needle attraction around one parking lot away little farther away city center still pleasant walking distance away issue safety walked resturant queen anne neighborhood back around pm still family teenager tourist kind still fun walked back small child around pm downtown felt completely secure welloverallwe vacation added bonus',\n",
       " 'sleepless seattle unmarked nightclub',\n",
       " 'average outstide look rundown inside nice literally across street monorail terminal space needle emp booked impression parking free actually daynot bad thought free boast free shuttle downtown doesnt begin running day  noon spa also something looked forward broken entire overall deal',\n",
       " 'mediocre right across street exp music project space needle make easy keep bearing get lost seattle site restaurant ha decent food price ha site free parking guest accessible password card freebie continental breakfast funky smell hallway kind pine deoderizer reasonably clean matresses firm like soft sleepable want place sleep close attraction okay block walk free ride area bus service major downtown area',\n",
       " 'right next space needle recently spent  best western executive inn average located next space needle ok king size bed comfy furniture appeared used dated fridge microwave nice addition obvious environmental far food foodcourt seattle center short walk ha nice variety mcdonalds starbucks block two away didnt see choice nearby nightlife offer free shuttle service downtown long wait front desk call cab towncar plentiful expensive taxi airport  reccommend tourist business traveler given',\n",
       " 'decent environmentally friendly stayed two problem speak typical budget decor furnishing block seattle center space needle music experience shuttle available take downtown little mile pike place market shopping district etcclean immaculate view space needle window patched duct tapethe elevator slowest ive ever ridden pretty annoyingenvironmental fluorescent light recycling bin placard requesting keep sheet towel duration decline choose soapshampoo dispenser save packaging kind thinking need spreadsome personnel quite helpful others much second person asked referred zeeks lunch two block away got salad pizza drink  lunch nice',\n",
       " 'place stayed best western executive inn three trip perfect four minute walk seattle center seeing experience music projectsci fi museum space needle monorail etc easy along several regular bus route near different restaurant eatery walking queen anne neighborhood problem term itselfthe friendly double queen clean wellfurnished fridge microwave came handy also free wireless access throughout hotela big plus previous reviewer mentioned smelled  hour servicethis true think reviewer confusedthere best western loyal inn block look appealing best western executive inn im seattle im definitely going book best western executive inn',\n",
       " 'back clean comfortable convenient seattle center free onsite parking generally friendly helpful one like walk many restaurant choose next door next time seattle first choice suggestion one rely shuttle service best accommodate people cant always available time people like might useful set reservation system one know whether mini bus available needed also miss continental breakfast many best western provide although tea coffee well apple cooky lobby early enough',\n",
       " 'place seattle conveniently located close seattle center space needle emp northern surroundings seattle nice enjoyed two different july  fine service large wifi available free every secured closed parking etc quiet top appreciated quality food restaurant recommend specially 鈥淏elgian waffles鈥for breakfast鈥we know talking belgium excellent choice seattle',\n",
       " 'first year staying best western year vacation stayed  different bw pleased executive booked upgraded satisfied everything even little expensive couch chair footstool fridge microwave king size bed touch made little luxurious average view space needle took monorail pike place market walked around waterfront pioneer square glad didnt drive seattle alone could ruined visit cheaper one waterfront right downtown business district monorail free zone bus make getting around easy actually like walk except mono back forth space needle front desk gave u direction ferry trip olympic penisula general courteous helpful wed ever return seattle',\n",
       " 'service rated  star stayed best western year maybe start indication clean quiet confortable clean rooms size rooms decent exercise indoor hot tub price  excellent location free parking definitely played decision book   guests free shuttle service used serveral time baseball game downtown drop etc wonderful front desk friendly went norm help u question think young ha energy best western must training properly think greeted almost every time came day standard actually made feel like wanted client rather another annoying tourist thanks',\n",
       " 'better expected wanted something cheap near space needle expecting tired worn property well cared nicely decorated neighborhood soso two block space needle pizza salad head zeeks',\n",
       " 'noisy soundproofing showreview full',\n",
       " 'convenient terrible trip paid advance charged second time trying get refund  week nonresponsiveno internet access except kiosk lobby found shocking considering even super  offered free wireless last time stayed dumpy side hallway elevator screamed run picture website deceptive look glamorous elegant',\n",
       " 'bad one stayed sunday front desk friendly helpful early checkin early checkout large spacious rather bland excellent business traveler stayover early departure phoenix sky harbor airport took  minute get airport via  freeway ideal affordable rate low  pool looked nice restaurant didnt try either one',\n",
       " 'dont know many rated low thought fine shower head may little weak worked nice pool poolside atmosphere didnt think theroom outdated nice clean located arizona mill group factory outlet restaurantswe nice',\n",
       " ' star dont know received  star rating need updated shower head hanging wall bathroom sink another metal pipe rubber pipe like one use car ac didnt work properly neither bath water go cold scalding hot vice versa excellent part town dont recommend never known better read used best western bed arent comfortable either luckily werent lot helped',\n",
       " 'clean decent stayed  attend conference clean large comfortable nothing fancy noise though half empty im extremely sensitive noise disturbed evening morning older building appeared well maintained interior corridor clean well lit exterior ground well kept ha elevator side building ha nice pool hot jaquizzi clean pool well heated swimming possible winter climate even provides free pas gold gym five minute walk front door freindly professional part ha airport shuttle ten minute unless heavy traffic worst  minute convienently located southeast phoenix right next tempe nice neghborhood safe conference facility set well',\n",
       " 'total dump lobby old dated smelled like mildew bed old uncomfortable bed bedding need remodeled dated like walking back time  never',\n",
       " 'well average looking aboveaverage traveler onenight unfortunately average large plain furnishing fixture cheap possible show age badly need refurbishing bathroom sink slight slant pulling wall nothing especially terrible unacceptable subpar',\n",
       " '  star nice march march  i pleasantly surprised drove upto six story pink building southwest theme ground top shape nice palm laden pool area sunlight exposure big king size bed full bathshower also fridge small cocktail sink coffee maker zillion tv channel movie left everyday around am golf upon return made maid service lounge seperate resturant site front desk lovely young lady named lindsey knew ever need know area airport shuttle service available plus drive area resturants mall golf club within  mile cannot give anymore  star beacuse nice need updated newer rug furnishing bell whistle clean area go back',\n",
       " 'un road bello facade',\n",
       " 'always phoenix innsuites phoenix northern blvd near th street always phoenix area time due coupon received able upgrade suite separate bedroom two double bed living sofa bed two bathroom person lr could use bathroom full tubshower without waking bedroom one didn鈥檛 time take advantage small kitchen outdoor swimming pool innsuites ha free breakfast best we鈥檝e seen waffle hot cold cereal egg hashbrowns fruit yogurt etc also free computer use internet lobby handy bringing laptop sofabed uncomfortable older adult arthritis although fine kid quiet next freeway convenient airport take hwy  north northern close foothill park hiking',\n",
       " 'pretty nice clean convenient needed place flew home close airport restaurant breakfast healthy limited free reception nice touch pool towel skimpy big deal take two nice desk folk expected',\n",
       " 'ok price minute airport bad hotelbut really short towel pool towel like face clothes little tired nice andtidy keep shoe carpet little dirty nice happy hour bad breakfast hot tub air jet broken pool jet broken clean area nice safe outoftowners',\n",
       " 'skip place got back phoenix stayed four normally hampton inn wanted squaw peak area thus decided right checkin known expect arrived early check since travel often knew possible leave baggage checkin initially rude gentleman finally agreed u leave luggage said checked back later course second floor elevator  convenient either husband breakfast boring thing every day like hampton inn vary menu air conditioning function well water tub drain taking shower knee water arrived asked one could go check email advertised listing service available business center told expected mondaythis sat monday checked told still tuesday one couple standing desk asked question heard turned heal left businessman needed service inconvenient still left wednesday maintenance terriblelot evidence place ha let go breakfast area smallas pooland tendency cater kid traveling sport team lucky find spot sit second time encountered best western never one hampton inn much better skip place',\n",
       " 'motel poor stayed four overall sense motel comparatively inexpensive pro comparatively inexpensive microwave refrigerator coffee maker decent repetitive breakfast included price wafles scrambled egg cereal etc free internet access including printing lobby nice staffcons average size limited space hang clothesmy biggest problem far away site wanted seem',\n",
       " 'service rude desk clerk oct   arrived went front desk check inthe desk clerk checking information computer asked suite available called week arrival assured could upgrade suiteshe immediately began yell wanted upgrade pay went took aaa tour book back desk showed specifically stated reservation could upgraded suite available free chargethe desk clerk started yell stating told called could upgrade charge rule fact spoken gentleman called week never spoke lady asked raising voice way spoke guest completely ignored kept yellingi asked speak manager told manager fact manager name clearly displayed wallshe walked away desk manager came assist  min laterthis incident humiliating guest present writing review kind behavior totally unacceptable hopefully guest treated manneroverall service whole courteous helpful',\n",
       " 'convenient clean stayed wide range  star  star generally expectation managed bw actually little expectation part might fact arrived fairly early check around noon ready upgraded u suite th floor suite best western still nice extra space convenient downtown although light rail construction thats going around city need plan little extra time plenty extra parking although none covered dont leave anything car youre summer cooked definitely also recommend restaurant zen couple mile north central ave recently opened fitness center bit joke pool although small clean ample seating lounge chair table',\n",
       " 'place recently renovated average especially consider price bed comfy pillowtop mattress complimentary breakfast includes egg hashbrowns cereal toastbagels laundry facility make choice extended nearby dreamy draw park aunt chiladas restaurant bonus choice frugal traveler',\n",
       " 'everything need stayed  day phoenix three wished booked whole friendly available time requested something attended right away clean bonus breakfast social time  computer lobby definately thanks david pamela mila',\n",
       " 'traveling toddler stayed inn suite beginning may looking budget got awesome deal best western site  point clean comfortable expect note traveled  year old crib playpen two queen bed proved problematic inout bed therefore keep mind order two queen free breakfast make waffle yummy lot juice cereal goody unfortunately breakfast small often cramped well may wait turn waffle cooker polite offered travel tip first wed month free bbq hamburger looked ok skipped pool cleanest scum around edge pool hot tub either bath tub temp hot also pool located around parking lottherefore relaxing private scenic place sit outside little deck pool area close daughter sleeping sat cement railing way cleaning staffadvice traveling kid especially young one resort lot amenity want putting kid inout hot car trying find place eat activity relaxingalso avoid tempe town lake much water park zoo fun choice lot shadeavoid cost forgot name cowboy steakhouse hill phoenix cut tie hang ceilingterrible  meal poor steak potato chip store bought bread one bowl bean sharewould go back phoenix yes husband maybe older independant child could play pool lot enjoy shopping ritz spa treatment ect',\n",
       " 'deluxe accomodations fine ive stayed  star worse thing liked amenity wanted high speed internet access cost free breakfast one typical continental fax service nc nice pool spa two drink beer wine soda every afternoon nc bed quiet mw fridge price deal',\n",
       " 'pleasedbut minor quirk stayed one attend conference hyatt next door wyndham gave much better rate hyatt  upgraded junior suite th floor bathroom spacious incredibly comfortable bed high quality linen wonderful pillow asked quiet didnt hear peek neighboring corridor pool pleasantly heated evening swim unwind traveling perhaps best sleep ive ever amazingly friendly helpful chilled ice water awaited arrival rooma nice touch phoenixa minor quirk heater didnt work although ac noticed morning dont usually watch tv tv small old carpet upgraded posted none problem top priority quiet comfort service',\n",
       " 'blahbut itll like im finding typical wyndham gorgeous lobby substandard bad plain vanillaalthough comfortable  year outdated carpet getting worn furniture getting scuffed almost funny smallest tv ever hard maybe  inch wide tinyon positve note bathroom area large seperate dressing toilet area wyndham amenity nice bath body worksif id probably try hyatt next door think real step',\n",
       " 'conference conference job enjoyed surrounding area could use better touch deal construction going average average help little better average charged arm leg parking well average recommend parking lot across street looking nightlife go scottsdale downtown ghost town dark',\n",
       " 'wyndham working returned speaking arizona state speech hearing conference booked wyndham th floor request sign free member received free snack soft drink business traveler dozen year light sleeper bit trouble noise roomthe went way assistance convention facility several restaurant within  block walk also amc theatre ate breakfast also house starbucks need grab quick bitethe ball park also close remodeling working smoking situationthey aware problem cannot tolerate smoke never smelled stayi recommend anyone need downtown quite satisfactory complimented checked',\n",
       " 'badnot fabulous lobby beautiful arrived prior checkin time problem went lunch returned promptly given keysthe fine nothing used fitness center next morning am via poolpatio door however left fitness center entire th floor reeked cigarette smoke something want breathe working th floor returned fitness ctr entire th floor smelled cigarette asked front desk th floor partially nonsmoking told th th floor smoking obviously ventilation best smelled cigarette smoke unpleasant nonsmokerthe restaurant breakfast buffet decent bad this convenient diamondback game',\n",
       " 'worst experience life booked wyndham hotelscom arrived given paid nonsmoking double bed instead given queen size bed next pool gym attempted go sleep evening however people running hall person next throwing throughout people partying pool tried call front desk several time however answer around  thought going quiet people started running treadmill side wall complained management asked refund told could refund money take hotelscom spoke hotelscom called wyndham told thing took place case security taken care romey wyndham even went far say one else complained know true becuase many people front desk complaining including pilot flight attendant upset fly plane sleep called romey wyndham asked tell hotelscom something untrue explained many others spoken andria day manger fully aware problem occurred throughout nightromey rude said want calling u explained satisfied like refund romey informed authorized gone hotelscom appalled wyndham allow injustice occur treat customer poorly never wyndham property chance right thing chose',\n",
       " 'much better  star stayed  day attending medical congress nearby located convention center long trip greece  hour athens new york thereafter atlanta phoenix found nice surely much better  star food ok guest ampious although without mini bar lobby lounge bar small well decorated also downtown copper sqouare many restaurant nearby overall opinion category situated',\n",
       " 'wyndham phoenix big disappointment stayed wyndham phoenix onsight conference january  travel bit business demand lot disappointed major need overhaul talked many coworkers also staying said thing carpet worn stained enough lamp adequate lighting wallunit hairdryer longer hanging get entire unit closet day bathroom tiny mine unclean every morning breakfast people complaining hot water took cold shower two day lukewarm others addition remote tv work positive note lobby fairly nice attractive unfortunately elevator often long line take quite time get downstairsthe want downtown sure obvious though recommend',\n",
       " 'decent pricey stayed business trip group rate  lobby gorgeous helpful friendly easy walk baseball basketball venue area nice clean ha bar restaurant across street  minute  cab ride airport real complaint another poster alluded fact tired need upgrade true carpet worn stained decor reminded holiday inn wyndhamwe problem elevator worked fine',\n",
       " 'lobby need work downtown phoenix lot choice central lobby wonderful contemporary design nice place hang relax also ha starbucks lobby renovation obviously ended elevator  look king petite suite roomy view nice th floor dated carpet worn dirty service front desk quick friendly service lobby bar nonexistent unless walked actual bar crowded busy got decent rate youre expecting reflect cool lobby youll disappointed',\n",
       " 'nice pity elevator stayed convention september nice large spacious comfortable bed friendly happy attend detail arrived joined free wyndham byrequest club seeing benefit listed website nice complimentary snack drink waiting arrived central convention center  block away lot place eat around well price range quality happy however elevator really let entire  day stayed problem  occasion took  minute come th floor loby could walked much faster option time elevator arrive stopped every floor making tedious journey even orderly line formed lobby people waiting go back understand mechanical failure happening put short time entire time hope problem ha fixed',\n",
       " 'bloody bedding like bloody sheet comfortor clean elevator wher broke worked slow price ask clean bedding',\n",
       " 'nice downtown stayed august  diamondback game explore phoenixthis extremely convenient downtown attraction like chase field etc friendly courteous  day clean comfortable secure use service eat restaurant use fitness center either idea vacation pool closed guest given pass use hyatt pool right next door control wasnt much complain unless expecting kind star luxury treatment wyndham ritz need downtown recommend get decent ratethings around know roll sidewalk downtown phoenix around  except local watering hole restaurant construction everywhere downtown need outside town much nicer parking usually free scottsdale happening part town wyndham andor downtown avoid subway sandwich shop across street horrible instead go downtown deli also across street food delicious',\n",
       " 'nice convenient downtown activity stayed conference  may found king bed nice nicely appointed spacious disappointing aspect quality food served service found food level bland unacceptable fortunately several really terribly expensive eatery immediate area excellent restaurant phoenix area',\n",
       " 'nice downtown strayed going two game chase field short walk lobby impressive front desk friendly nice big bed comfortable outdoor pool nice especially day  excersise lot machine use parking per day  day bad downtown reccomend foranybody town going u air arena chase field',\n",
       " 'reservation line general okay deal w making reservation time wyndams main reservation line ha cumbersome ever dealt take  minute make modification left phone w  minute modifying  reservation also explain problem experience making modification apologize profusely personally find nauseatingthey need efficient one time experience three separate occasion call make modification grueling slow experience',\n",
       " 'talk modern got back arizona trip say take lot impress nyers sure impressed loved itmuch expected seeing photo wyndham website super modernsuper cleangreat servicegreat foodgreat wine list cocktail vacation actually set go tour downtown area yes dead small walked around  seperate spoke bar club peopleif looking partygo elsewhereim sure arizona even party place cancel plan looking go grand canyon tourshighly recommendedthey work open road tour book rate cheaper  different tour greatarizona beautifulhonestly idea felt confident tour going worth every penny wyndham recommends roomsmaller expected amazingly comfortable best bed pillow everrrrri wrote manufacturer info order pillowsi bought new mattrress ill hold elsewe didnt get chance see pool needed print voucher one tour although lap top printerno worriesthey computer use computer internet access printer freeeeeeeeeor connect laptop print away need breakfast really goodthe buffet  worth starbucks lobbyhair nail salon lobby well best allonly  minute airportthats plus overall pleased definitely',\n",
       " 'reason returned wyndham phoenix must say impressed begining lobby new cold temperature style doesnt match architecture big deal elevator unpredictable concerned safety two occassions dark tired bathroom ha spacious seperate dressing area however must shower small dark cave boring little scary cannot reccomend return unless required business best worth le  sure didnt pay amount',\n",
       " 'spent  wyndham wasnt overly impressed especially money paying wasnt bad either whole area still construction hard rock cafe nearby ambassador walking around help get around parking little much day difficult finding front door front desk nice friendly efficient best yet starbucks site got place eat bed comfy shower odd took figure closet bathroom took getting used housekeeping dont know rule',\n",
       " 'downtown wynhdam downtown located city center area phoenix yes lobby still construction visitthe ha large lobby area courteous front desk comfortable fairly large offer roof top pool ha starbucks lobby well restaurant fast food located across street coffee service provided',\n",
       " 'alot thsi place frill sometimes dark dreary remodeling wyndham request member get free internet bottle winesnacks free find cheaper another website alot business alot choice choose unless downtown',\n",
       " 'lobby still construction company arranged tradeshow team wyndham outstanding friendly helpful making arrangement conference problem lobby area remains construction might chosen bring client wed known',\n",
       " 'business downtown going business downtown weekend place dead however service beautiful picture window large bathroom downside contruction lobby werent aware apparently theyve renovation long time however bother u staying th floor top floorthe convenient store sell stuff outrageous price get another place going hotelparking easy access clean try pool seemed nice could see tv channel dissapointing expecting full hbo golf channel  choicesall woulndt vacation id favour scottsdale paradise valley vacationing',\n",
       " 'nice resort spent  day wyndham relatively nice pool area service excellent restaurant mostly ate clean little outdated still ok biggest complaint noise adjacent highway definitely normal light sleeper book view highway nice place maybe little far city business',\n",
       " 'place lay head showreview full',\n",
       " 'lobby construction january showreview full',\n",
       " 'showreview full',\n",
       " 'choice showreview full',\n",
       " 'showreview full',\n",
       " 'bad service bad facility bad worst embassy stayed airport shuttle service took  hour three call pick call said way  minute le  minute given free dinner coupon trouble restaurant eitherthe old sold rebuilt asked quiet especially since loud construction going courtyard placed next busy street loud especially crack sliding glass window street trying nap meeting gave asked move desk person informed king busy side placed double bed quiet didnt first person desk tell explained sick requested quiet roomwhen tried use internet service instruction given front desk wrong eventually figured correct sign work never recommend anyone marriott block closer airport much nicer little',\n",
       " 'embassy suite phoenix th wonderful wonderful beautiful built around lovely courtyard spacious bed incredibly comfortable went beyond left purse courtyard waiter recognized returned even realized id left behind went way accommodating helpful pleasant food restaurant fitness excellent condition  treadmill  ellipticals one stationery bike plenty free weight lot towelsthere minor thing didnt like bathroom suite small side wifi free occasion difficulty connecting meeting public restroom rd floor anywhere near ocotillo conference used public meeting open guest u use throughout day service  however generally minor issuesand wifi charge option meant need sign make password need enter credit card number etc definitely ever get back phoenix',\n",
       " 'absolutely gross',\n",
       " 'sweltering indoors phoenix dont even know began stayed twenty embassy suite last eleven year first booked twenty dollar cheaper chain little nervous never stayed bad embassy web site doesnt mention  outside front back entrance leading outside particular day  degree phoenix arrived hot driven two twelve hour day sun wanted relax checked front desk courteous gave u key went way first thing noticed upon walking smell musty comfortable  degree air completely turned waited cool lucky two hour  degree wasnt going lower medication supposed watch heat exposure already way hot saw sign said pay internet local call also website called front desk complainthen went front desk inform air said send maintenance gold member internet free  minute pas make another call oh havent yet probably doesnt radio ill look speak manager oh one property standing letter say dont rate u ten call manager duty find someone give call oktwenty minute pas calling  hilton number oh way internet isnt strong enough reach temperature still  degree finally hour first call maintenance show meanwhile hilton honor trying get another hilton finally reach manager say leave still pay way also asking switch told available finally three hour checking released go somewhere else ended beautiful twenty dollar believe problem resolved quickly hilton honor gold member way maintenance took cover air conditioner took apart put back together said fixed temperature upon checking  degree away',\n",
       " 'forget park live northern arizona two hour away sky harbor airportand family always flight stayed many airport never arrived late evening signed early morning shuttle airport pool  degree offered respite  degree heat definately dated le optimal neighborhood breakfast wasnt bad ive better embassy suite returned one week later  saturday afternoon called pickup told shuttle available take cab reimburse driver  cab driver asked paid refused pay stuck bill said record asked manager tamara carter wanted see receipt dug luggage produced receipt  said neglected sign arrived week couldnt reimburse cab ride pointed parked airport cost lot  pointed wouldnt stayed known going charge transportation administration obviously trying cut expense paying shuttle sticking guest never found situation despite three four trip sky harbor per year past ten year many airport phoenix avoid one',\n",
       " 'greatest regular guest various embassy suite hilton product one bust dated need lot work noisy within construction noise even weekend early morning bathroom small plumbing problem front door old energy efficient sound proofed front desk could use really lesson manner professionalism genuine hospitality could use little polishing professional conversational skillsthe complimentary breakfast warm accomodating manager reception kind sad w plastic cup instead glass pool area nice pool could use scrub slimey dirty tilescould real gem since older propertybuilding could get original character back renovating better front desk',\n",
       " 'goto used goto wed fly phoenix since handy airport offer free breakfast however recent disappointment previously wed quieter side property time bedroom window next busy street traffic noise kept awake cold draft air vent blow across bed property starting show age carpeting stained front tv cabinet gouged plumbing line make lot racket also couple duh note managementin bathroom sink  hot cold faucet wrong side hot left cant create nonsmoking suite simply calling need fumigate everything doesnt smell like old ashtray',\n",
       " 'wonderful party  difficult find nice accomodate u went phoenix spur moment escape cold mid west called around embassy suite best deal even better deal arrived right size  adult  child boy loved pool excellent breakfast crew work breakfast nice accomodating miss already thanks job well done',\n",
       " 'think im pilot many first time ive paid internet access censored could view privacy last time dealt something like middle east',\n",
       " 'little fan make luxurious weve stayed many embassy suite across country felt fairly confident booking suite one bit difficulty getting due road construction helpful check though directed u park elevator order fortunately several elevator outside building lovely pool hand wall living behind sofa filthy furniture dated worn one lampshade several hole teen tossed turned torture rack sofabed everywhere looked little pleated fan ice bucket liner paper towel rack even toilet paper hate break management little fan doe make desirable luxurious exhausted travel decided try restaurant property dinner huge mistake asian chicken salad came tomato wait assured really bell pepper wasnt food equally odd flavor cooked order breakfast next morning nice though quite long line',\n",
       " 'park ride rip beware offer park car embassy suite alternate airport parking word verbal promise offer free shuttle airport lie return deny picking unless booked forced pay  cab fair  minute ride',\n",
       " 'home away home stayed embassy suite july th th enjoyable experience front desk helpful always smiling spacious clean courtyard expansive clean large covered patio area taht ha two tv perfect place cold drink long convention needed print document fron flash drive went front desk ask could find kinkos office max woman front desk printed unbelievable also computer access internet fiound later staying pleasant experience',\n",
       " 'value packed embassy suite felt embassy suite phoenix airport th street worth price person get pay complex consists four story courtyard style five glass elevator five set stair ha security gate controlled key fitness third floor agave grill onsite restaurant located north end facility portion dated like flooring bathroom popcorn ceiling clean spacious kitchenette bathroom sink made high quality granite kitchenette also ha microwave mini refrigerator bar sink coffee maker four set coffee mug glass two suite ha work desk telephone task chair sofa sleeper use chair tv second bed ha bureau double tv cabinet clothing storage ironing boardstaff front desk management restaurant personnel maid service outstanding felt well maintained husband love temperature freezing level pleased air conditioning felt air cold enoughthe hot cooked serve breakfast outstanding nightly manager receptiion agave grill costwith regard comment fearful neighborhood walked across street grocery store named food city consider ethnic oriented area person used around people financially challenged may afraid however crime happen anywhere rich poor neighborhood person make individual call neighborhoodoverall felt enjoyable certainly line paid',\n",
       " 'short business stayed four day three business trip first arrived given next elevator nd floor made reservation fourth floor pool realized went back desk requested new request granted however still nd floor however wonderful complaint service entire stall wonderful accomodating meeting held also nicely handled food served wonderul also completely booked entire time party never known pool relaxing well maintained even leave pool open later normal since guest meeting dinner party got back relax nice could pool time breakfast wonderful cook funny start day cocktain reception fun place meet guest kept clean like said complaint however wanting walk around outside area wouldnt recommend well recommending area phx alone walking even daytime far concerned however one time daytime scared hear guest shower toilet going used noisey thats guess one however extended something super special somewhere else perhaps nothing really bad say',\n",
       " 'enjoyed embassy suite little nervous staying embassy suite reading review pleasantly surprised returned home staying two first found outstanding everyone friendly went way help second quite nice spacious bed comfortable really near anything except airport didnt mind since meeting recommend someone doesnt mind definitely exceeded expectation',\n",
       " 'happily spent eight past nine march  at problem breakfast pool appealing complimentary happy hour jovial service cheerful friendly service restaurant quite central farflung phoenix handy airport freeway grocery store couple block away provides barbecue dish want dine east side quieter west people using parking lot hour noisy',\n",
       " 'band kid well controlled resturant service bad husband dtr stayed order get flight next morning expected embassy suite noise level bedroom side road loud disturbing h band fiesta bowl still running wild pm service resturant terrible food mediocre eat',\n",
       " 'reasonable rate showreview full',\n",
       " 'nice place showreview full',\n",
       " 'thought fabulous showreview full',\n",
       " 'youve got kidding showreview full',\n",
       " 'got sleep airplane flight showreview full',\n",
       " 'value showreview full',\n",
       " 'terrible experience twice bad management stayed april  town nascar race arrived late cold heat bring portable space heater hot water maintenence man am working bathtub ordered service right closed forgot part order could call get left manager greg promised make u visited november came nascar checked find hot water hair tub immediately checked stayed ay marriott courtyard street wonderful day neither greg manager rick general manager ha followed complaint bad management bad dirty uncomfortable accomodations',\n",
       " 'old dated dirty disappointing like embassy suite happy unfortunately place huge disappointment old dirty dated carpeting stained furniture cheap looking dirty located next busy freeway outdoor hallway main lobby building ha odor like gas saw complained front desk escorted another corridor worse smelled like cigarette smoke even though nonsmoking bed spread cigarette burn hole third took slightly better stayed therethey admit bought another chain reminded motel  say major renovation away placeyou disappointed',\n",
       " 'loved family road trip northern california austin texas stayed embassy suite phoenix north one loved moment stepped spacious lobby efficient friendly helpful check throughout pool huge additional kiddie pool hot tub relaxing lovely ground breakfast also made order omeletes french toast bacon sausage fruit etc free wifi lobby area free cocktail appetizer evening large kitchenette separate bedroom clean noise price  family four adult includes breakfast certainly choose',\n",
       " 'nice stayed fastpitch softball team nice loved extra place  day breakfast overall price greatonly problem rule youth swimming pm pool right outside anyones summer vacation hot finished game girl wanted swim u adult present guard kicked girl  two adult pool',\n",
       " 'embassy suite level recent embassy suite quite horrible stayed embassy suite many time never expereinced one like level one start motelfirst arrive main lobby musty smell second day start get used defintely smell old pleasent carpet several noticable stain around ceiling two buldged area looked like could come soon also smelled old musty floor slanted strangest thing seemed slanted well walk way surrounding pool area started sink make matter worse offered free movie ready view tv could show movie service person arrived tried minute said sorry nothing pool area decsent however ordered several drink family pina colada strawberry daquries wattered tast breakfast worker food area nice helpfull rated three star old refurbished asap par embassy suite come know please know stayed many travel often first time take time comment decided another embassy suite like hilton try hilton garden inn newer similar breakfast howerver alwasy free embassy suite hope helpfull',\n",
       " 'terrific weekend stayed iin late may attending wedding reception front desk cordial helpful arrived shortly noon due early flight arrival able give u several choice relaxed ground enjoyed cocktail evening breakfast deck facing courtyard large comfortable far front area like could take walk beautiful well maintained ground sat around pool although swim enjoyed going easy find close freeway stayed embassy suite nice experience check',\n",
       " 'lovely ground breakfast wanted north side phoenix could fly evening begin trip grand canyon morning without deal much traffic impressed lovely ground included beautiful pool tennis court clean quiet comfortable easy getting interstate free made order breakfast take patio eat overlooking pool wanted something near airport still go best western papago inn since nice little money north phoenix loved embassy suite',\n",
       " 'experience back   year old cousin sothe pool lovely safe ground run around round pool courtyard ground outside pool animal lover happened dog show within resort enjoyed talking handler seeing dog ate restaurant food slow service happy hour nice  hour free drink appetizer crowded first breakfast buffet best large cooked order omelet stayed highway couldnt hear noisethe sunset beautiful suggestion built balcony facing pool courtyard walkway attach building convenientwould definitely return',\n",
       " 'family actually stayed many many time pool fantasic family child pool shallow shade jacuzzi large accomodate large party huge nice staying several day buffet breakfast bestmade order omlettes fresh fruit ton meatside dish every afternoon cocktailsfree charge enjoy pool drink',\n",
       " 'unbelievable value finding within company budget getting difficult time particular embassy suite ha solved problem phoenix although close scottsdale amenity fair trade additonal drive time make sure dont outside near i youll finefor  company rate got wonderful suite full size fridge microwave living kitchen table separate vanitybath shower spaciousthere huge inner courtyard shallow  foot pool still okay modest lap pool big nice hot tub toothe restaurant cajunnew orleans style service fastest ever price service affordable enough could afford eat per diemi petite prime rib  huge sweet potato souffle mixed vegetable bread salad nice spacious lobby area breakfast ha cooked order egg pancake well simply really deal phoenix',\n",
       " 'really liked place nice usual embassy amenity pool nice clean bed comfortable resturant although slow service even though sold never disturbed outside noise',\n",
       " 'free breakfast stayed two weekend thanksgiving road trip az checkin easy friendly helpful breakfast best buffet including cooked order omelette pancakesfrench toast scrambled egg sausage bacon muffin fruit etc best already included bathroom small refridgerator deeper everything clean overall wed recommend anyone',\n",
       " 'perfect nfl weekend stayed weekend nov th perfect home base weekendthe ground beautiful despite right freeway never issue noise facing east roomy clean possibly bit dated isnt w pool quiet even weekend despite temperature  breakfast brilliant cocktail fine except enough seatingthe friendly accomodating used free shuttle take u bar picked u end perfect place spend weekend doubt next year',\n",
       " 'fantastic returned nascar race spent five day clean pool free cooked order breakfast every morning free cocktail two hour evening friendly helpful clean recommend place anyone without question',\n",
       " 'nothing special brother stayed last week definitely get facing courtyard pool area rear property face i expressway loud even evening expected embassy suite furniture old showed definite sign wear arm loose one chair shower curtain dirty along bottom nice large outdoor pool better average made order breakfast decent  pm happy hour didnt use internet due hefty  fee unless conference visist make convenient average expect embassy suite potential solid property avearge best',\n",
       " 'horrible service place beautiful service disgustingi major hospitality tourism managment work act way firedthere smile self locking door werent locking friend got broken could care le people make betterscott front desk lady scotland checked one worker go forgot something going late meeting got document found gave nice told door unlocked know locked first sign something wrong door bartender nice well reccoment staying',\n",
       " 'nice minor problem older resort ha remodeled requested upgrade checkion upgraded two bedroom two bath suite microwave minifridge utinsels kitchen itmes provided unit clean ligithing horrible even bulb replaced still dark minor problem could tell place older bed comfortable ground mature tree lovely landscaping lobby huge beautiful arrived shortly wind storm pool full leaf two pool cleaned properly time pile leaf left along pool side instead cleared away pool nice enjoyable maintained better breakfast buffet made order omelette pancakesfrench toast fruit muffin breakfast meat etc evening social hour also nice finger food alcoholic nonacoholic drink friendly helpful accommodating recommended bbq place called bobbyqs best food twoweek trip get chance make sure eat ate twice loved reasonable price excellent food definitely request better lighting one first floor',\n",
       " 'fabulous vacation embassy suite phoenix north exceeded expectation pool area gorgeous ground meticulously maintained anything could want available breakfast buffet looked forward drink snack happy hour daily family vacation convenient airport tourist area visited attentive need mirrored closet door come track fall break housekeeping maintenance arrived immediately rectify damagewe look forward another trip embassy suite future',\n",
       " 'nice place spent last grand canyon trip second favorite next  hyatt gainey ranch staying make sure ask face court yardpool get facing highway noisey breakfast outstanding free drink snack every evening bonus week going dinner kid decided order service last highly recommend food reasonalbly pricedwe definitly go back place',\n",
       " 'th embassy suite north phoenix two girlfriend go year phoenix baseball spring training sun seeking shopping done  year row staying embassy suite north phoenix time keep coming back due gorgeous pool area ha right mix sun shade lot chaise lounge also love free buffet breakfast also manager reception evening free snack free drink drink limited beer wine serve margarita daquiries mixed spirit always try tip bartender serviceif go ask interior courtyard side fronting freeway lot road noisethe average embassy recent trip noticed couch chair living small hole upholstery bathroom sink crack issue regarding functionality come microwave small fridge coffeemaker wear tear issue furnishing freeway noise reason giving  star instead oh one thing really service front desk checking without u asking pedro asked u going phoenix took map show u easiest way get destination without getting stuck trafficwe back next year',\n",
       " 'awesome showreview full',\n",
       " 'convenient way begin wester vacation showreview full',\n",
       " 'typical embassy suite showreview full',\n",
       " 'bargain showreview full',\n",
       " 'average accomodations showreview full',\n",
       " 'value keep eye open special got price convenient airport gym average ha weight equipment elliptical machine  bike treadmill nice work long flight hilton bed comfortable airport noise heard complaint hallway noise unusually loud others pointed',\n",
       " 'perfectly close airport booked proximity airport departure friendly helpful upgraded queen bed without u asking lovely quiet even though close airportthe  hour shuttle airport convenient get  minute ate restaurant food hearty best avocado ive ever hadso cant beat deal clean service',\n",
       " 'value paid booked hotwire got deal  three twodouble bed hall little stuffy first arrived clean comfortable carpet could used cleaning make sure wear slipper sock walking around bed comfortable back ache etc woke bathroom little small ive seen worse supply hairdryer shampoo conditioner soap shower cap mouthwash refrigerator filled drink snack pay locked ask key front desk need fridge personal thing need ask one brought absolutely anything coffee kiosk located downstairs morning always sure fire thing two three morning one tending self serve option also pay coffee get downstairs kiosk might better making sure coffee roomthe pretty quiet area improvement could noise hallway faced hohokam highway quiet several area nothing walk restaurant better getting back onto university drive heading bit east tempe find lot spot hit',\n",
       " 'average pick airport described others late cramped clean bright shower didnt work eeerily empty except contractor something pool pleasant except plaster water hot sort place take walk outside sit relaxing drink stp gap flight ok',\n",
       " 'didnt expect much pleasantly surprised flight delayed put expected dingy motel surprise clean even little spacious obviously wasnt ritz carlton cant say relieving come clean comfortable ten hour airport terminal continental breakfast excellent want clean place without frill especially youre business traveler seem businesspeople mind',\n",
       " 'little kitchy southwest comfortable delay due crazy monsoon got second leg weeklong business trip waited little shuttle rained terribly hot upon arrival tested zip checkin ive seen hiltons allows bypass front desk completelymuch like airline kiosksi got key started walking big square think exact opposite corner spacious clean comfortable beddingthe decor little top southwest guess come territory workout ok ac broken quite warm even am window cracked still pretty toastyoverall pretty decent',\n",
       " 'business nice business traveler kid comfortable bed big pool area fitness center nice lobby common area excellent shuttle service sport bar food reasonable price downside per minute charge use business center computer',\n",
       " 'nice average airport hilton hilton located inside court alongside courtyard fairfield etc border expressway greatest area overall close airport seems safe enough ha openaired lobby make nice first impression seems efficient enough parking complimentary business center new sweet sleeper bed minibar',\n",
       " 'get deal stranded airport family home book hotwire deal shuttle u comfortable bedding shower amenites nice luggage workout rm pool looked',\n",
       " 'must airport told booked balked dont choose airport business much closer scottsdale offer nevertheless pleased service hilton certainly par even jacuzzi tub find amazing still smoke indoors arizonathe bar allowed smoking opinion drawback',\n",
       " 'acceptable nice furnishing comfortable food restaurant pricey standard everything internet access   hour period check flight using business center cost  included three minute use internet printing seven page boarding pas liked exception charged thing provide freestaff pleasant helpful',\n",
       " 'adequate disappointed phoenix airport traveling phoenix business wanted near airport first issue arrived called shuttle airport waited outside hour waiting normally wouldnt bad except pm tropical  degree evening checking found heat wasnt working swap assured orginal suite ready first thing morning wasnt fact hadnt even passed information following suffered problem fire alarm alarm want wake  checked earlyoverall noisy clean one hope front desk unhelpful flying fine sticking around week try find something else',\n",
       " 'solid buy get deal got  priceline staying one driving phoenix didnt much expectation since airport property airport property chic upscale downtown city property usually thing liked several entrance could park car near staying ground floor convenient loading unloading stuff unfortunately key card work door nearest prop open went get stuff larger high rise offer convenience something youre looking check property outthis extremely quiet got rest hear freeway airport noise highly recommend property seeking sleep bed comfortable warm next bed cool alarm clock aparently standard hiltons plug ipod convenient methe  dbl bed nonsmoking average sized decor southwestern style bit dated taste hey arizona guess make sense gripe bathroom door open bathroom bathroom little small door kinda block access shower youre single traveler want leave door open taking shower let steam free wifi able pick access neighboring property didnt bother muchi ate restaurant breakfast really nice breakfast buffet hot cold item declined didnt want eat much food server friendly problem taking custom breakfast order menu healthy hiprotein style ordering breakfast  egg white  yolk scrambled together food delicious work property well equipped  treadmill  bike  eliptical machine  stair climing machine life fitness complimentry water work towel like offer open pmi use pool spa front desk told open til midnight pretty nice touch long drive chose work insteadthis also ha bar onsite amenity use say pretty youre passing phoenix even staying youre looking resort vacation style probably isnt place airport',\n",
       " 'solid reliable place probably fourth fifth time stayed booked priceline hotwire something   dollar range centrally located interested shopping food zoo excellent eager please public area attractive couple thing par time broken ice machine card key reader outside extremely comfortable safe ha bar restaurant open late forgive',\n",
       " 'everyone else thinking honest everyone rated five either smoked crack doe travel much least guy paid  buck got paid average best lot nice option phoenix find one basically motel lame restaurant service wireless plan tethered desk work vacation staying airport traffic pattern probably need medication fair clean nice',\n",
       " 'loved place even though airport really liked lot  comfortable pool view large spacious balcony two queen bed comfortable hated getting morning high speed internet reliable reataurant surprising array tasty choice highly recommend fish chip restaurant front desk really friendly suggested place city visit eat work relaxed pool every evening people evening felt almost private negative airport plane come right property landing ignore beginning noticeable parking plentiful free overall liked whole package apart aircraft noise outdoors pool highly recommend anyone looking clean high quality accomodation near airport',\n",
       " 'near airport asu th time stayed property definitely next trip phoenix ideal near airport  mile road asu near major freeway phoenix bed comfortable pool whirlpool nice generally empty toiletry better quality  star hotelthe interior pool view much quieter parking lot facing interior also either patio balcony  charge internet usage agree annoying since many provide service free time go gift shop found price quite high plenty store within  mile radius really need frequent',\n",
       " 'comfortable staynice showreview full',\n",
       " 'free interent showreview full',\n",
       " 'well average airport go showreview full',\n",
       " 'place convenient showreview full',\n",
       " 'weary traveller showreview full',\n",
       " 'pricelinesecond class treatment showreview full',\n",
       " 'clean lovely ground terrible front desk completely unknowledgeable unenthused job didnt follow promise reported broken bed sliding door twice never got fixed checking took  min incorrect billing even time still charged incorrectly credit card waste time phone trying fix error bed uncomfortable thing since uneven broken sleep number little competent average wondersinstead alone made one prompt poorly review radisson phoenix airport travel review site visit',\n",
       " 'ok stayed phoenix airport radisson couple weekend ago around  buck got clean quiet front desk shortstaffed best could get u checked quickly possible tv new sleep number bed well breakfast buffet next morning well plenty scrambled egg potato baconsausage pastry fruit juice etc compared one get dennys day real bargain around  buck person ill need place near airport',\n",
       " 'front desk clueless everything else ok booked thru priceline  con air cancelled flight find somewhere web said shuttle air ran am nowhere web doe say call cab paid rental extra transportation airport close however call cab mentioned front desk told must looked wrong website given kingsize bed  people asked two bed called booking told request check told none available resign sleeping  bed get find sleeper sofa could mentioned satisfactory returned rental car called ride back couldnt tell meet van call blue diamond area however airport employee call door  south curb never airport easier everyone call thing call cab town car friendly driver am u however noone front desk u check waited  minute someone come could checkout service delicious prompt clean perfect needed front desk frustrating  day vacation flagstaff wanted simple wasnt',\n",
       " 'ok layover stayed approx  hour layover three child elderly mother waited shuttle approx  minute hire another company shuttle guest way home long vacation  pc luggage plus carry ons shuttle driver nice helpful upon arriving told four star front desk girl guest haul luggage laughed desk girl attitude arrived  pm restaurant closed walked next waffle house front take bad considering ok bed dbls comfortable definitely  star paid  hotwire wouldnt pay front desk clerk david made difference',\n",
       " 'overall problem stayed one generally pleased arrived latenight flight check am front desk clerk friendly clean spacious arrived unfortunately attempted go bed sleep number bed inflate changing am really pleasant thing new bed worked new called front desk request wakeup call late pm checkout receive wakeup call late checkout documented overall impression public area recently renovated attractive spacious clean pool located next freeway offramp deck area around small best experience acceptable airport see earlier review also mentioned nonfunctioning sleepnumber bed recommend checking bed soon arrive front desk friendly overly effective',\n",
       " 'near airport wife stayed last weekend fly phoenix airport ungodly hour am advertised hour shuttle service fairly rare experience although claim expert checked informed shuttle ran am pm call u cab pay something else never experienced past cab towncar servicethe somewhat oddly laid functional radisson recently upgraded include sleep number bed found bed comfortable certainly comfortable ive ever slept fair neither wife sleep well early morning flight probably due fear missing plane im sure might optimistic bed different circumstance well appointed relatively spacious one could found fault cleanliness wireless internet service included well front desk pleasant professional drink bar try eat site restaurantoverall excellent recommended',\n",
       " 'nice husband young child stayed child flying town early next morning nice upper floor balcony view balcony wasnt best neat leave curtain open look outward downward tv hutch broken biggy bed nice couch sofa bed also nice use ate dinner restr lobby food margarita also used shuttle take son airport shuttle came back pick husband back meant parking hassle airport anything nice july th weekend airport complete mess packed front desk service wonderful well restr shuttle driver',\n",
       " 'definitely deal named price  priceline accepted found afterward radisson phoenix airport university blvd review bad figured price couldnt bad young son traveling phoenix family gettogether needed one arrived late raging monsoon storm yikes got radisson desk clerk man look computer screen seemed like long time standing right across finally looked said need something uh yeah check duh fine requested pm checkout normal  noon said wouldnt problem got king sleepnumber bed got tried bed tried lower number side bed remote thing completely deflated flat pancake wouldnt respond remote longer calling desk moved another executive level  need th floor key card elevator even go level seemed cool little safe  buck cant beat new layout sure executive whatever bed worked wellthe disappointment fridge microwave helpedthe clean bathroom clean nice didnt see problem give little card fill hang door order service breakfast need door  delivered promptly indicated next morning forgot toast called brought right marginally nice get shower get dressed etc go breakfast tiredwe went swimming later pool one except one guest nice checked took quite long time one desk clerk two people front clerk professional woman foreign accent pakistan like think name venetia goodthe easy get convenient neighborhood fine didnt understand people felt unsafe thereoverall pleased radisson sister paid full rate wasnt quite pleased understand paid nice',\n",
       " 'ok get deal got discount radisson hotwire deal money comfortable enjoyed pool hot tub free use internet downstairs negative lobby first floor smell like bottom ashtray restaurant look like afterthought workout nice open  couldnt complain isnt really close airport shuttle available also dont ground transportation may take cab restaurant office park area waffle house restaurant saw within walking distance',\n",
       " 'perfect apcentral phx nice full service central phoenixairport newly remodelednice barrestaurantno comlplaintswould',\n",
       " 'lousy service  star adequate front desk employee morning breakfast waiter le friendly like bothering ask simple question staying',\n",
       " 'small nice stayed radisson last weekend desert getaway car thing within walking distance waffle house think food pool small lounge chair got crowded quick people close wasnt relaxing clean nice pillowtop mattress comfortable elevator broke took stair stairwell st floor locked little upsetting booked priceline  overall value got sleep',\n",
       " 'radisson phoenixairport bad weekend radisson told made reservation publc remodeled certainly even swimming pool limit told go across street use another pool bad news busy yet overlooked busy street facing west eight hour bright hot sunshine overpriced depressing decorating aspect restaurant food ok extremely overpriced every time asked question say didnt know week two week tell u go street waffle house better le expensive food impressive three day',\n",
       " 'loved new travel phoenix couple time year visit ailing mom last time came completely construction left even staying returned year pleasantly surprised find well turned completely redid everything even new furniture pool kid enjoyed since much cold swim new expanded fitness center new equipment plus husband happy quite breakfast food wonderful accommodating didnt worry thing whole time must give chanceyou thoroughly satisfied',\n",
       " 'horrible checked look outside look terrible inside floor dirty well smokey smell traveled throughout even smoke free big contributor well one asked money back left careful neighborhood surrounding',\n",
       " 'cosy fair price nice comfortable safe convenient close airport interstate maid perhaps left aircon unit f outside mean sleep hot really comfortable bed furnishing clean bathroom power shower pool looked downstairs bar well stocked cosyit really nothing like bad made review clean well maintained polite friendly breakfast ok nothing write home range healthy option suited fine shop around could get  deal bargain definitely next time phx',\n",
       " 'pay dollar somewhere else pay dollar somewhere else friendly ok however serious need upgrade carpet worn bathroom bad shape   price range much nicer cleaner',\n",
       " 'fine restaurant lousy reading negative review scared found id staying fine yes could helped renovation large comfortable clean style absence thereof complaintsbreakfast restaurant however literally inedible service poor try nearby waffle house insteadthe free hour airport shuttle offer lot convenience',\n",
       " 'love place resort beautiful lush ground fireplace lounging pool service incomparable incredibly professional food spa wonderfulto top found deal expedia given worry keep mind  per resort fee top charge cover incredible service seriously folk everywhere anticipating every need',\n",
       " 'best experience wonderful experience beautiful ground cook restaurant cant say enough food spectacular service minute stepped onto ground minute left impeccable photo justice spa outstanding eucalyptus steam die cant wait go back romantic place get away',\n",
       " 'wonderful place ha fabulous service everyone worked seemed go extra mile make sure one exceeded expectation ground romantic full flower also outdoor fireplace everywhere booked least expensive still nice well appointed bathroom bedroom also ate dinner resort superb bar popular ha two fireplace inviting space offer wine tasting bar lot fun nice wine boot photo property justice gorgeous',\n",
       " 'time came back lovely weekend royal palm visiting family knew spend fair amount time away resort therefore book one higher priced still enjoyed immensely valencia casita number  generally pleased although bathroom definitely need updating plumbing wasnt ant sink big deal even though went property fair bit still managed enjoy much royal palm ha offer lovely ground lunch cook well breakfast morning fitness small reasonably well equiped nice outdoor yoga studio lovely place excercise early morning hot think spa wonderful massage therapist excellent facility lovely book right away trouble getting reservationweve stayed number nice place phoenixscottsdale including hermosa inn lovely small fitness facility site sanctuary overrated thought though spa excellent phoenician like lot though big fitness facilityspa etc biltmore also like also bigafter visit second concluded like return ha feel',\n",
       " 'cracked husband stayed royal palm celebrate th wedding anniversary although ground beautiful romantic cook restaurant lounge service pool extraordinary business end leaf quite bit desiredwhen arrived ready person checkin desk said call within hour let u know status check received phone call two hour later stopped front desk person seem remember u another person desk asked phone number file said call second royal palm representative call ended checking  pm  hour scheduled checkin time even though sent request asking early checkin since knew arriving around  although understand ready early appreciated call first representative said going make could made better use afternoon surprised fireplace called property inquire fireplace deluxe casitas booked told fireplace yet placed without one cozy looking forward particular amenity second call housekeeping receive turn service request towel changed biggest problem royal palm checkoutbilling procedure first minor issue asked boarding pass printed since service royal palm offer person front desk remember give asked ok little oversight coupled followed made little oversight magnifiedmy major issue ha billing first given wrong bill someone charged half paid per lodging given bill three charge rose petal turndown service service first royal palm checkout representative deducted subsequent two informed u receive updated email version bill charged receive email version bill credit card charged total invoice received upon departure additional amount calling resort several time speak someone accounting left message asking someone send updated corrected invoice explanation additional charge received email updated copy bill another fraudulent charge spoke someone receiving invoice seemed bit annoyed inquiry request charge explained removedfinally many event hosted royal palm least one every day visit often seemed pulled away lodging guest seemed sufficient address need guest lodging property hosting special eventsfor property size requesting royal palm request per lodging service seamless guest feel like special picky guest abovementioned snafu never interacted royal palm since arranged activity dining option prior arrival event service seamless guest made feel extra special property management followup guest best ability explain situation offer sort compensation traveled extensively business pleasure stayed large small management generally seemed concerned wellbeing guest feel approach royal palm',\n",
       " 'luxuirious relaxing resort pulling palmtree lined driveway got instant feeling somewhere else city oasis greeted u warmly helped u vehiclewe arrived early reservation front desk said may ready hour took opportunity breakfast restaurant property cook breakfast excellent value ready within hourwe stayed portion complex also several private bungalow spacious quiet comfortable loved comfortable bed candle private balcony every need request taken care ofthe spa wellequiped classic massage carol fantastic pool chilled cool heat dayit way relax unwind spend first anniversary vacation',\n",
       " 'romance business robynne reiber nyc reading review decided sounded perfect one scottsdale finishing long difficult week traveling several city thought last day business spa resort help chill place romance couple people want veg spa try take another level wanted computer connection worked left alone write lot hot coffee exactly match made heaven truthfully felt like living alternative universe everyone smiled nodded repeatedly asked fabulous time wasnt ready wait  hour nice lady front desk suggested get hot stone message waited clear help writing got falling nap  hour rest finishing business someone knocked door woke offered tea okay get place gorgeous ground manicured within inch life exceedingly comfortable meant totally romance please come youll probably give  star like many given past stress produce work away like youll end leaving stressed edge entered',\n",
       " 'everytime perfect stayed since  think get better every time come town service top notch food excellent course beautiful view nice quality mattress linen amenity service comparable beverly hill example asked restaurant brought review u decided dine made reservation printed map everything waiting envelope went get car evening treated well weather smaller summer discount suite march spring training employee royal palm inn go way assist best ability hear 鈥渘o鈥with valid reason came alternative highly recommend place relax pampered',\n",
       " 'shy perfection always heard thing royal palm obviously judging comment ha many loyal follower looking forward weekend wife nice offseason rate many satisfied guest noted property initimate wellgroomed historic romantic part schtick promote romance utterly refreshing change mega resort like biltmore phoenician nearby camelback high point along service friendly however thought didnt quite live expectation frankly im bit surprised surfeit  tripadvisor rating royal palm goodbut designer casita thought bit dark maybe bit inyourface romantic furnishing fair theme place bathtub mundane tub huge walk shower one head far better thought tub twoperson jacuzzi tub shower routine stick romance theme two patio back patio small wall high planting vegetation quite claustophobic larger front patio sit eat breakfast one morning especially private people could walk right within foot table curtain could pull acrossbut made le scenic also noisy ac noisy constant running water like toilet shower running next door maybe unique  end row casitas near kitchen could kitchen plumbing overall seemed nice pretty luxurious mean incidentally designer casitas west side property bit isolated casitas ask east side youll closer pool spa finally mind one drawback lack public yes know boutique kind establishment guess expectation guest walk ground hole couple indoor public space nice lobby big checkin area  outside outside sitting area always comfortablecall nitpicker wasnt perfect  least judged property try reach customer base price range problem recommending sweet alternative big resort especially looking special romantic kind getaway',\n",
       " 'upsetting start place overall wife celebrating  year anniversary booked back june montevista terrace suite arrived taken seemed like last lot told chose u due extra privacy walked knew right away wasnt requested asked going bellman chris contacted front desk turn overbooked gave u higher end wife rarely complain situation upset didnt tell front looked lone window saw fence whatever business next door vehicle could see camelback spent  hour trying get front desk cooperate eventually moved u designer casita nice still originally requested nice place later evening knock door food beverage gentleman came w tray truffle  plate  card tray left  card plate w u apology expect place like least hide fact made several mistake seemed routine maybe last stop made genuine dont want bash royal palm impressive place everyday service everyone else ha stated rick jose kevin solid pool valet make feel special tcooks opinion overrated went houston nd roys rd roys  appetizer  entree  beer  glass wine dessert  le  appetizer  average meal tcookswe see resort appearance royal palm blow away definitely returnkeep privacy door hanger outside maid service knock  time day',\n",
       " 'beautiful stayed   last month little old clean mind really liked warm spanish design interior big walking closet convenient bedding sheet smooth enjoyed sleep bed curtain prettythe garden nice enjoyed everytime walked outside bar restaurant especially enjoyed sunday branch buffet  buffet price one    buffet buffet  includes buffet one order branch menu menu buffet branch sort difficult understand system doe state clearly price include buffet excellent already full meal didnt taste desert unfortunately several kind desert looked refined ate one desert rapsberry square cake small one big plate tangy strong rapsberry taste personally liked much buffet beautiful feel like going back phoenix thatthe steam juccuzi bath located alvadora spa free use anytime am pm give locker keyparking convenient vallet parkingonly downsizing several mosquito bite outside roomoverall enjoyed ',\n",
       " 'beautiful resort excellent service reading review website others husband decided book resort anniversary resort website indicated  per day resort fee covered valet service gratuity fitness center etc even sure whether tip valet went ahead attempted give tip immediately said mam everything already covered service cant tell nice worry figuring amazed friendly resort receptionist valet way bellhop definitely made u feel welcome even message waiting u phone welcoming u resort booked least expensive wasnt expecting much georgeous front back patio sit bed large comfortable beautiful scenery excellent service accomodations guarantee back',\n",
       " 'wonderful arrived  th july uk came la vega south west airline vega stayed four seasonson arrival ready pm appeared norm even though full occupancywe spa give complimentary massage per person  minute day therapist come doe massage draw bath nice herbal salt lovely herbal tearoom large three part nice balcony really view mountainsservice housekeeping bit slap dash time report certain incident happy however dealt director operation general manager immediately service went overdrive really value customer everything ensure level comfortspa treatment pricey wonder stafft cook excellent ate three timesloved pool small never crowded especially loved float pool servicewe chose hire car used executive car company get around booked normally hour ahead taxi literally impossible getthe cook lounge bar nice atmosphere well healed localswe left  time  day say time def return',\n",
       " 'unforgetable anniversary wife spent th anniversary royal palm put simple coming scottsdale resort wife felt like royalty service spa grape ice cold towel pool cook restaurant awesome well made celebration best far next timecheers',\n",
       " 'amazing sevrice food atmosphere husband conference royal palm came early weekend celebrate anniversary peaceful ha beautiful landscaped garden fountain spent time pool somewhat small side feel crowded drink pool cabana ask rick jose make raspberry royale menu request itwe lunch pool cabana bar burger fry gourmet turkey wrap fresh husband sirloin burger cheese never heard also breakfast cook fresh service top notch anything needed fingertip asked bellman valet accept tip overall really enjoyed july phoenix price exceptional one last thing note ha lot history originally home ha renovated year camelback mountain provides beautiful view behind husband hiked early one morning get early like  else waiting parking spot',\n",
       " 'predictably perfect say th trip back always end june royal palm gracious ever heartwarmingto walk day age greeted name along inquiry family member arent trip visited u previously sara office outstanding job welcoming u back along favorite pool rick jose rick favorite drink waiting u along amazing onion ring jose always ha smile share like going back see old friend wouldbe upset werent therenights enjoyed listening dwight play piano bar jason entertaining u story cant wait return nextyear',\n",
       " 'regal paradise flair point accommodation valet hand retrieved car quietbad point mandatory valet brickwork near pool hot tub need foot rinse prevent natural debrisdust entering water layout confusing maybe need simplified mapping distributed upon checkin',\n",
       " 'really nice confusing aspect looking small classy intimate beautiful resort ground public area stunning cool little nook cranny relax peace favorite thing see hummingbird buzzing around early evening havent seen casita suiteive stayed regular stayed s trip wasfine especially bath opulent wonderful closetin small real dresser drawer coffee roomfrench press style greatand fridge doesnt charge accidently pick item little dark fully open blind light thing perplexed refilling minifridge coffee give enough inroom coffee one usebut almost  day figured maid service replenish called front desk someone brings bunch loose coffee drinking glass plastic italso drank bottled water minifridge first daybut never replenished called request replenished brought huge glass bottle evian restaurantalso small ant problem chair got bit toe one itching driving crazy phoenix thing happen overall definitely place essentially free screaming child reason alone id go back id probably choose casita',\n",
       " 'ha best stayed well say actually changed holiday plan went back  moving sedona next bryce canyon ending la vega  boston royal palm next stop perfect really want chill bell boy park car need need call waiting outside main door air con already fantastic mention guy cabana pool bar iced water constantly topped cold flannel given u keep u cool really well looked could get used lifestyle ground beautiful small villa set amongst garden stayed one villa returned although prefer first montivista terrace newest resort fitted beautifully gorgeous sunken bath comfiest bed ever slept cook restaurant resort fantastic reccomend pork belly gorgeous definatley returning royal palm one day wish todayalaina wes manchester uk',\n",
       " 'nice arrived resort pm saturday overnight getaway upon arrival everyone greeted fiance nice u checked quickly lead part montavista collection looking website im sure booked ill contact casita stayed beautiful bed nice comfortable even though fiance complained bedbug think insect bite u laying hammock sitting outside patio area pool area small people visited bar area service pool bar polite chit chatted u city surroundings eat cook reservation needed order service okay could offer better variety food complaint visit spa either probably wouldnt matter long severly overpriced visit recommend resort lot resort phoenix intimate better couple honeymooner',\n",
       " 'beauty choose local transportation wisely however found last minute deal website  le normal advertised rate expedia etc called directly said publishing day always check hotelhotel looked beautiful website expected old musty wasnt absolutely perfect ground could ask moreyou could wander around ground without even seeing anybodyelse like guest beautiful spanish home pool busy holiday wend poolstaff super attentive  star servicethe gripe transportation first ordered taxi limo pullled thought complimentarynice wasnt although little expensive taxi depending driver felt bit ripped offturns couldnt get taxi without waiting almost  min use limo service always always charged diferent price wend dont car use discount taxi call least half hour taxi allowed wait hotelwe ate tcooks restaurant food bad atmospherewonderfulalso loved kettle cafetiere never seen difference nice cuppa make get bed',\n",
       " 'relaxing vacation returned  royal palm girl weekend friend another state wonderful relaxing time loved royal palm service excellent beautiful quiet resort pool refreshing enjoyed relaxing enjoying perfect arizona weather went spa massage pedicure yoga pilate enjoyed cook restaurant one service enjoyed garden fountain general atmosphere one day didnt even bother leave day cant wait go back issue booked expedia requested  double bed arrived told  double bed given king suite one bed pull couch living well neither u wanted pay  per sleep pull couch thats bargain compared normal price made king size bed told u first could move different  bed next day went office next morning told different people available day could move next day well half way trip getting rather annoying girl front desk seem accommodating said best could asked speak manager informed manager anyway afternoon come u upgraded u spa suite still king size bed private patio overlooking courtyard fountain also informed come patio balcony safe indicated website told mistaken reading want better call ahead verify exactly getting overall time definitely recommend royal palm afford guy pool wonderful enjoyed pool side restaurant every day lunch lemon ice water best along ice cold towel brought chaise lounge sun treat felt pampered spoiled',\n",
       " 'loved treasure hunt really fun husband stayed royal palm day really enjoyed never arizona didnt know expect resort ha spanish feel lovely foundtains garden roomsuite spacious nice though bathroom quite small comparison pool small nice enough didnt problem getting sunbeds also tried spa plesant though nothing spectacular best part resort activites went service encouraged play treasure hunt game every helpful directing u giving u hint also stargazing huge telescope garden quite amazing overall thought royal palm real gem huge luxurious resort golf course  swimming pool relaxing boutiqueish resort service amenity',\n",
       " 'lovely returned rd visit royal palm time splurged booked designer casita front back patio area fireplace beautifully appointed always ground pool area lovely surrounded fragrant flowering plant always backdrop camelback mountain service front desk pool attentive professional dined cook dinner one food wine excellent service also outstanding overall high end feel boutique inn look forward next vist thank making memorable',\n",
       " 'royal palm hospitality stayed property last week arizona celebrating wedding spend previous  sedona two reason staying nightfirst reason reduced drive time day departure sedona  phx airport royal palm easy   minute drivesecond reason many friend colleague industry spoken highly propertythe hospitality extremely everyone professional resort fee included bell valet gratuity thought service top notch feeling high end atmosphere attractive paid attention little detail every property wish pay attention tohonestly trip arizona mostly leisure take u sedona area consider making special trip spend extra day two property really want use spa next time brief tour looked really',\n",
       " 'place hang clothes wife love ground second visit definately return visit easter weekmy title review hopefully get attention someone royal palm management address complaint place put clothesat  per dont really want live suitcase royal palm provides dresser chest drawer two small one drawer nightstand hook towel rack bathroom towel rolled place counterno hook anywhere wet bathing suit pjs whatever wearing bathroom cold marble floorthe news last visit  upgraded small suite bad news must handicaponly bar closet space lowered wheelchair access  memory serf correctly long hang ability lady dont remember problem  remember also convenient place put clothing wife hang fancy dress drapery rodthe ground camelback vista picture postcard perfect food service pool fantastic need pool rick jose biggest reason returned againmpj',\n",
       " 'go back main entrance',\n",
       " 'intimate beautiful pleased service royal palm extremely attentive helpfulthe ha beautiful ground suggest romantic getaway small rommantic little terraceshowever dont go lay pool small crowded want desert loved one place nice activites quaint',\n",
       " 'slice heaven earth left royal palm phoenix wanted write review right away beautiful propertysimply put win lottery retire early plan building house mexican beach feel like place courtyard covered passageway nook cranny place embodies exactly picture dream house bethe food uberhelpful courteous viewsmy huge bed thick mattress hop im  giant shower nice touch thereif ever get chance visit place wont disappointed',\n",
       " 'amazing place  business trip paid company thank goodness otherwise admit price bit much comfortable bed ever slept fact pulled bedding could see company made mattress came back home got one bedroom comfy scenery amazing took many photo ground best surprise citrus tree filled fruit amazing outdoor fireplace sit around lovely december also enjoyed dinner restaurant outside put large heater keep u comfortable stayed valencia suite wonderful husband get early meeting could get ready watch news slept amazing bed living opened lovely courtyard sitting area outdoor fireplace bedroom opened patio roomservice breakfast one morning side view camelback mountain gorgeous visited spa lovely one nicest ive company treated spouse  spa treatment yes spoiled much around take walk neighborhood behind quite hike huge hill honestly content royal palm enjoy ground pool crowded december weather lovely',\n",
       " 'amazing weekend getaway dont even know begin mother sister met girl weekend getaway  royal palm couldnt picked perfect place looking nice relaxing place could spend time together live  different state across country resort absolutely beautiful outstanding spa beyond word told checkin resort fully committed yet felt almost one casita consisted living bedroom large bathroom enough  u comfortably relax also patio overlooked lovely courtyard area fountain several wood fireplace pit lit friday others little disappointing however im sure asked lit done right away ate dinner outside resort  evening enjoy cook saturday overall lovely service could better feel waitress could friendlier involved dining experience opposed serving u food fitness center spa excellent enjoyed two treatment spa phenomenal worth every penny like comment one event happened explains royal palm royal bookduring massage mother massage therapist talking eaten prior mom commented eaten cook asked mom dinner mom told duck asked enjoyed mom said yes little dry went discus thing mom didnt think anything conversation got back received call front desk advising u duck going removed bill surprise especially expected thing like make feel like guest truly cared aboutall royal palm nicest place ever stayed really child die hard partier looking life entertainment definitely better suited romantic looking destress pampered going hard staying anywhere else time royal palm',\n",
       " 'beyond expectation wow treat moment drive gorgeous driveway special place amazed level consideration none seemed fake im pay offer activites guest property received excellent care service one attended spa best massage life get regularly didnt want leave steam absolutely fantastic favorite weekend getaway far',\n",
       " 'amazing experience stayed royal palm boyfriend birthday back july year amazing experience courteous cheerful overall goodthe pool closed renovation rp offering free shuttle service phoenician pool feel like swimming bother u one bit thought nice touch accomodate wanted swim alvadora spa couple massage worth every penny left spa feeling relaxedthey scalp massage along regular swedish massage extra chargedinner cook call exceptional service averagethe last thing must share arranged breakfast delivered ahead time arrived promptly however due spa appointment overslept asked reheat food got back spa said thing recooked entire breakfast waiting u hot fresh returned spa appointment extra charge awesomei highly recommend resort anyone regardless age anything else',\n",
       " 'wedding husband stayed wedding instead crashing home romantic casita perfect romance package rose petal champagne chocolate covered strawberry ending wonderful wedding day stayed one place want go back anniversary every year missed  unfortunately',\n",
       " 'enjoyed royal palm stayed royal palm almost five year agoit memorable reason im wiriting review late found given oppurtunity return business trip royal palm offered comfortable delightful breakfast wonderful pool two one wife double two child spacious however costly company paid ver relaxing emperience much like expect hawaii',\n",
       " 'booked next left also cannot say enough thing property moment arrived felt pampered relaxed spa phenomenal incredible booked three  casitadefinitely dine food exceptional romance director paul every member encountered went way unobtrusively make u feel special well royal',\n",
       " 'royal treatment spent evening royal palm business trip think one finest united sataes even major construction property perfect condition well trained informed overal experience expectationas returning guest regular think food track menu needssome update overal quality food need attentionwould returnwithout question',\n",
       " 'oasis desert cant say enough thing royal palm true  star resort even though located busy camelback road oasis calm beautiful garden ton place relax outdoors comfortable casita style accomodations restaurant phenomenal waiter knowledgable affable dont know people complaining resort fee tried tip valet bellboy want take money since gratuity included seemed really appreciative insisted think worth  buck smiling facesi definitely go back hopefully longer next time',\n",
       " 'best best stayed wedding everything needed perfect exactly could say enough wonderful thing member wonderful beautiful romantic could choose go anywhere got right right champagne strawberry rose petal truly impressed service highly recommend place even pickiest peoplewhom one wish could stayed forvever',\n",
       " 'loved awesome spread casitas private like small apartment patio plenty space ground gorgeous lot flower tree hammock fountain lounging area throughout relaxing atmosphere valet nice one guy wheeled luggage stayed half hour telling fun thing place go town front desk concierge impress much lobby tiny coffee breakfast morning oh  resort fee included need tip hear spa one best country inroom toiletry made custom spa fabulous next time hope get spa definitely',\n",
       " 'absolutely best stayed royal palm early june never impressed every needthe valet bellman front desk pool staffall incredibly wonderful rick pool amazing disappointed facility beautiful welcoming comfortable clean absolutely gorgeous',\n",
       " 'perfect stayed two memorial day weekend romantic quiet beautiful casitas well maintained attention detail bed extremely comfortable although could used step get thick mattress overly large maybe size funishings filled say overly furnished appreciated attentiveness always eager answer question resort area attractionsetc smoking permitted decorative ashtray placed front rear patio making nonissue smoker highly recommend property afford',\n",
       " 'amendment posted earlier review disappointing small group royal palm also wrote gm greg miller ha gone board trying make right believe interest guestcentric even refered posting book property rest assured correct error romantic setting expensive get right worth certainly better hundred behemouths compete scottsdaledonbrownbrownchildcom',\n",
       " 'birthday getaway april took husband royal palm birthday getaway thmonday researched many resort narrowed choice lake austin spa resort royal palm royal palm clearly interesting destination option outside resort endless chose booked expedia rp either expensive nd expensive choice phxscottsdale area seemed best fit description site rp website indicated small personal feel service appealing website award list beautiful photo especially showing proximity camelback mtn booked package air well advance least  month figured begin making spa restaurant excursion reservation one month long story short important call advance soon book best order get preferred time dine cook dinner breakfast lunch required especially spa time asked intitially unavailable even one month advance also speak someone take name call week trip confirm appts worked arrived welcomed fabulous service felt like due frequent contact beforehand sure plan ahead rpyour trip worth expense plan detail miss opportunity inclusion staying reason give resort full  although resort doe claim adult review even rp website alludes insurance broker conference many broker brought child minor issue worth noting resort pool area intimate childrens voice even joyful one carry tend interfere slightly romantic peaceful atmosphereeven book ahead time charge spa never saw online quoted b always seemingly random literally number simply drawn lottery way overpriced check bill carefully speak someone charge correct bill time consuming spa fabulous willing pay  paying  standard  minute massage ridiculous thinking disappointed one day spa booked two morning full spa activity service nd th day could simply ask  minute massage confirm price writing ahead time leave spa treatment worth every penny  minute massage manicure overpriced nearly relaxing enjoyable enough justify price found anxious entire time enjoying treatment bc knew spending hundred dollar something le  value last day stayed motley crew people looked belonged trashy music video took pool ordered grey goose champagne going style beginning noon played loud music smoked cigarette dancing scantily clad body around pool even brought yapper dog run around wildly bother guest folk obviously paid credit doubt two cabana inhabited didnt matter bc size pool area modestly larger large residential pool please also keep mind past day many child present quite peaceful pool visited folk similar interest sunbathing maybe   drink lunch enjoyng peaceful romantic atmosphere rick fab asking keep quiet physically invade guest space nothing could keep bringing drink grin bear needle say pool  minute last day disappointing sure rp could prevented occurance shocked sort people chose rp party certainly matchthanks deserved special touch rp make worth cost could bellagio le one remember name pool chair like whether prefer red white certainly wont receiving personally signed note beginnning end rose petal covered bedding chocolate covered strawberry surprise turndown superb especially gracious friendly ground beautiful food service suite worth extra extra couple different sleeping habitstips place personal item pool chair early morning get preferred spot sun strong sure wear sunscreen time sure go camelback mtn hike one recommended brochure level sunset horsesback riding highly recommended crowd youll  hour isnt classiest view breathtaking go arizonahorses one option skip shopping especially live metropolitan area cook restaurant site dined evening interested formal meal informal steakhouse cookout horseback riding sure check pizza bianco bar bianco pizza rest well worth wait cute setup lovely evening also youll right next stadium check decide rent car dont need unless plan leave resort per day def convertible regret',\n",
       " 'breathtaking lovely experience royal palm never seen beautiful property air smelled sweet flower blooming everywhere turned walk property led discover wonderful little secret garden courtyard everywhere hard believe previous review stating walked ten minute front desk doesnt take ten minute get anywhere royal palm yes pool small one thing loved hate large overcrowded resort pool worn chair personal service ambiance understand better others purpose darker give respite hot arizona sun give best world beautiful bright exterior cool calm interior must take responsibility travel much research possible clear everywhere read restaurant cook well known reservation strongly recommended advance fan big trendy resort  pool many restaurant look looking magical romantic quiet getaway grace fine european inn royal palm place',\n",
       " 'window wouldnt open view hall air conditioning machine prettiest horrible ever possibly casitas old section give rating see oneour corner plaze suite big extremely long walk two courtyard heart began sinking saw first courtyard idea saw open window people closed window along dark hall walking door opened large lovely living loud admittedly pretty stereo music greeting u blind closed bedroom adjoined opened realized bedroom looked air conditioning system six huge compressor tried open window chancethe living looked dark hall blank wall table stop eye window didnt open either sunny arizona way breathing air unless propped door open craned neck see sun sky turned stereo could hear roar even left still strange highpitched noise could obliteratei walked  minute walk back front desk wonderfully patient bellman working second job trying get real estate license ask different choice husband broken elbow horseback riding waited told booked new plaza area never told difference available told deluxe living might ok exchange air went look balcony opening door overlookingthe parking loti didnt bother trying choice actually supposedly none looked across courtyard much choice faced road hall option window didnt open noisy actually could still hear car fan vent bathroom ceilingas mentioned letter pool crowded restaurant fully booked dinner got one suggested reserved also reserve dinner way turned lucky mostly closed like roomsi could go daughter husband two son also booked sililarly difficult experienceswhat learn always ask window open american express say fine dont believe dont believe picture saving grace faced east lovely sunrise wakened u',\n",
       " 'wonderful place husband recently stayed royal palm  one plaza suite received service everyone resort also dinner resort restaurant cook loved smaller feel resort compared populart scottsdale resort visited like phoenician drink biltmore brunch ground absolutely beautiful perfect romantic getaway didnt see many kidsfamilies pool mostly couple group adult relaxing also treatment spa enjoyed spaaddicts cant compare many place everthing professional relaxing love return save first',\n",
       " 'royal palm hidden gem phoenix pool',\n",
       " 'royal palm old standby anymore well thing must come end eight year run royal palm resort phoenix thought changing annual destination year  decided change something ha usually well found front desk need training need learn treat guest ha faithful many return visit first choice requested month prior tripthen day arrival specific asked available given away  minute given waited day cleaned etc told roll aways anymoreall previous visit one issue year new rulethat problem since sold unable bed guest accomodating finding alternative offered ritz resortspa find alternative accomodations  pm friday basically ruined evening next day check move next day although moving phoenician pleasant one always problem bill incorrect royal palm one pool service one nice guy rp taking care entire pool knew entirely booked overworked little cranky understood plight dont spend kind money relax weekend away treated poorly disrespect vacation time definitely writing royal palm let know returning guest longernot care happy go phoenician large spacious superb expediant service every arena may little larger wow service impeccable p maid service knocking door  weekend morning phoenician like royal palmsthey need lesson luxury accomodationsas checking rp noticed lovely older couple wondering casita reserved  month advancethey upset wellthey heading four seasonswe definitely go back many mishap list lot disappointment',\n",
       " 'loved place one best ive stayed wife completed  royal palm resort phoenix loved town wedding staying royal palm able make wedding mini vacation u first stayed regular casitas wanted full nicely decorated perhaps bit small overall nice awesome friendly responsive always willing help next day moved deluxe casita fireplace nice though bit pricey  per loved concierge helpful pool service friendly thanks rick spa also wonderful perhaps minor disappointment dinner cook stated rather chaotic service improved dinner though still standard overall resort id clearly go back recommend youre willing pay rate others without reservation',\n",
       " 'expected spent  day resort definately price  also charge additional  day tip',\n",
       " 'check math one many courtyard',\n",
       " 'love place used live scottsdale go back love greatest little bar live music dance away spa wonderful service superb older resort world class ambiance like oldfashioned place modern type resort tucked away middle city among larger resort',\n",
       " 'paradise desert word cant even begin describe lovely bestkeptsecret tucked dusty foothill camelback mountain royal palm oasis historic palm tree lush garden vibrant lawn mosaic fountain reflecting pool entire experience appeal sensesthe mourning dove cooing gentle breeze carrying orange blossom perfume cool mist poolside cabana decadent food exquisitely appointed restaurant lounge mom went girl weekend indulged alvadora spa treaments orange blossom body buff aromatherapy massage spa handsdown handson decadent soulrefreshing spiritrejuvinating space ever pleasure lounging study catering one every whim could go endlessly peppermint towel plunge pool private outdoor shower suffice say nearly melted joy simply royal palm infinitely helpful friendly turndown service chocolate one many nice touch special inn return please dont ever change',\n",
       " 'beautiful resort boyfriend stayed royal palm june   business meeting rd decided use opportunity extend travel lot business stayed best resort u royal palm rank top  laptop crashed meeting concierge offered service well finding data drs nearby even though resort people go get away well equipped business traveler kris front desk recommended daniel small italian restaurant camelback wonderful highly recommend itdefinitely book spa appointment go book early especially friday saturday understandable one top ranked spa u accomodating ground beautiful mediterranean decor exquisite bed soooo comfortable one best sleep ive road loved definitely go back looking romantic getaway royal palm',\n",
       " 'meditteranean charmer returned girl weekend royal palm charming beautifully decorated property lot unique touch eg garden fountain meditteranean touch big resort area laid youll always plenty beautiful thing look stayed casitas wonderful garden front back helpful mostly pleasant alvador spa lovely place warm book early appointment tend fill quickly pool nice smallish fully booked cooke delicious restaurant every meal day royal palm special place recommend couple romantic getaway lady girl weekend especially engaged couple wedding ceremony',\n",
       " 'loved pool',\n",
       " 'pretty nice service average returned weekend trip business royal palm put regular next road low ceiling small bathroom water pressure dark main window looked walkway opened blind anybody hallway could look right truely awful setup also requested king bed given two double instead bed extremely comfortable dont like travel bed smaller mine home told move next day never contacted didnt bother switch tv old zenith  inch dull picture also towel small five star pool small lounge chair occupied wait pool guy find chair somebody left quite adult type area child positive side friendly went way helpful caring food function ground wonderful lobby warm inviting overall lovely resort dark depressing im sure want unless could get another ive stayed upscale place scottsdale darkness real turnoff also missed golf course ground bring kid resort real dissapointment compared phoenician biltmore hyatt princess',\n",
       " 'relaxation right price royal palm resort restful relaxing place ground nice day romantic stayed one deluxe casitas fireplace exceedingly polite extremely helpful restaurant outof control fabulous food also interesting art look ground however told refurbished designer already felt little warn really star caliber thats look better compared four season st regis royal palm likely disappoint also picture website look better real thing lighting bathroom harsh layout bed relative fireplace well thought whats bathroom fixturesdecor looked tackycheap outdated private terrace well integrated square seemed odd even ugly part royal palm much cheaper star made le disappointing',\n",
       " 'missed president bush wow many five star resort one rank top one return phoenix supposed street phoencian conference booked recommended royal palm glad touring property royal palm much intimate private phoenician seemed like mall property beautiful amazingly private fitness center perfect pool right temperature spa massage amazing best masseuse told done bush daughter month campaigning father restaurant excellent recommend ground floor handicap first type able hear people handicapaccessible shower enticing asked changed probably pleased hadnt changed since told getting type le  minute airport larger boutique style definite top contender phoenix',\n",
       " 'fabulous fabulous accomodations fabulous food fabulous service fabulous spa fabulous way around cant say enough thing',\n",
       " 'like coming home better returned spending past week royal palm simply arent enough thing said visitfrom moment arrived greeted amazingly friendly warm caring went way make u feel welcome first contact tony one valet attendant opened door introduced thereafter always knew u name trait everyone met propertyit staying friend always greeted u way took care luggage checked gave u tour property showed u roomwe splurged deluxe casita well worth beautiful isnt beautiful royal palm place seen completely visually appealing resort stayed tahiti obviously different environment beauty beauty matter found entire property make feel like living lovely watercolor painting color building flower artwork make serene soothing atmosphere find melting quicklythe casita beautifully decorated roomy private patio back view camelback mountain patio front well curtain let increase feeling privacy sat enjoyed lovely evening bathroom slice heaven huge walkin shower builtin tiled seating spa treatment selection soap lotion provided wonderfully luxuriouswe cant offer enough praise everyone mean literally everyone work everyone happy dont mean freakish disneystepford way everyone absolutely thrilled job finding way make feel content welcome never heard raised voice saw scowling face felt werent important guest therethe food restaurant wonderful little pricey youre paying unsurpassed quality service cook serf marvelous meal cabana grill ha wonderfully casual lunch breakfast brunch sunday poolside drink poolside service unsurpassed rick jose cant say enough thing two either make feel youre visiting home joy demonstrate job wonder feel waywe didnt use spa visited boutique area beautiful well also well stocked wide assortment spa productson last privilege attending general manager reception presidential villa president bush stayed  week priorregardless politics pretty cool know youre standing bedroom world leader ha recently slept wonderful friend jose also joy meeting greg miller gm rick behr delores hope spelled name correctly director experience gregory casale head chef entertaining charming lovely drink hors doeuvres made sendoff last truly sad leave fact left go back casita jose made point stopping u letting u know pleasure u felt much like saying goodbye friend hugged leftmy husband seen resort travel channel could remember exact name resort since never phoenix meant search every highend resort property recognized royal palm picture even looked property feeling royal palm couldnt happier made choice place u future visit phoenix coming back royal palm like coming homeand testament commitment service care royal palm offer look negative review comparable resort see response property management scant negative comment ive seen royal palm seemed come completely unreasonable people opinion took time respond see could make thing right say methis finest property phoenix hand dont need anywhere else know thank everyone royal palm made absolute joy back',\n",
       " 'acceptable choice business travel primarily speaking nearby conference site standard business nice appearance lobby king bed smaller everything nice didnt spend much time sleeping work enjoyable overnight front desk helpful suggesting nearby restaurant particularly recommending inexpensive local authentic mexican restaurant nearby business traveler family visiting phoenix scottsdale short acceptable choice one want relaxing two numerous resort better choice whether business pleasure',\n",
       " 'bad plan old dated loud stayed day end oct  wow dive could spent  per pointe hilton tapatio cliff resort order magnitude nicer nice entire place non smoking fine stunk smoke many burn mark carpet please cleaned day bet first  hour carpet still wet wife checking front desk stood lobby lissoned man call police report  pickup stolen parking lot   ok point wondering car still lot lot work need done bring place par guy blimpy sub place accross street nice could get fine dinner price go back blimpi time port strom place fine high class long shot',\n",
       " 'okay nothing exciting ha nice outward appearance attractive lobby woman checked civil overly friendly indicated staying two told actually one didnt say anything received key large sticker saying early checkout could result fee call desk indicate checking one day checked said oh youre checking early remind twice let know early departure pretty frustratingthe fairly large standard king size bed small sofa desk etc day internet charge didnt use cant speak quality coffee well customary ironing board iron also small safe closetthe condition main nice bed comfortable looked relatively new bathroom paint ceiling tile chipped shower making looked water soaked pretty rough shape tile spotty mold grouti ordered service arrived promptly  min ordered chicken caesar salad ice tea expensive tasted fine left tray outside still morningthe quiet didnt hear noise woke number time couldnt sleep reasonsthere shuttle airport take cab cost cab approximately in general average venue group dinner restaurant said food average took two hour dine slow servicethere nearby venue marriotts hiltons suggest use opting sheraton',\n",
       " 'horrible hot water spotty internet generally old without attention detail part spg starwood program disappointed',\n",
       " 'bad certainly maybe decent clean choice rate right except following first pool filthy lot scum debris floating surface one skimmed couple day never see first rate second bathroom pretty old tired im talking s tile bathtub uninspiringbut free parking rarity day comfortable bed easy access  maybe  go high season rate might make gag',\n",
       " 'never never booked last minute rather blindly retrospect spring training time look deal phoenix grossly overpaid quality property even busy time night tax fee  total friday saturday pretty much middle nowhereright highway somewhat worked u city well surrounding suburb getting anywhere nice dinner minimum  minute drive conservatively insult holiday inn thats level property performed atthe high except valet never showed park car garage parking  second stroll probably easier providing restaurant recommendationsdont miss marcellinos balcony faced mountain sunset obstructed highway light decor expected sheratonthe low faced highway even thick drape closed nearly impossible get sleep due highway noise although exactly ive seen sheraton property color bathroom seem little outdated tile around tub mids best irritating pinkishorange match marble sink worst part mold grout nice touch',\n",
       " 'really bad sale team stayed recently conference travel one two week month probably worst place stayed last five yearsthe level  per restaurant tiny menu expensive awful unless need interstate le five secondsthe worst part experience friendly useless one seemed know anything anythingon lighter side despite van shuttle needed gothere many place phoenix one',\n",
       " 'comfortable older sheraton crescent fine thing aware deciding book much older appears website issue dont also note experience club level perk far better sheraton crescent alcohol free  domestic beer evening hourdourves nothing get excited cheese cube veggie chip salsa etc unless like club level reason lounge spend extra money also like note stayed jr suite requested king size bed king size bed queen folded wall comfortable mind finally called concierge recommendation eat downtown phoenix transferred someone else informed phoenix familiar downtown asked could find someone told call back never heard past experience concierge even make reservation checking breeze clean recommend couple looking reasonably priced luxury website little deceiving come appearance wasn鈥檛 disaster disappointing get nothing seems way presented hope help making decision phoenix',\n",
       " 'okay place best picked price like starwood property disappointed book lot party music pepole constantly loud friendly checked give u helpful information asked bed best part trip comfy lacking bad lighting first hot water spend money',\n",
       " 'wife stayed visitng elderly parent thanksgiving checkin asked upgrade said pretty empty holiday gave u larger business entertaining odd murphy bed tv didnt face either chair couch bed wasnt inviting went back standard turned fine usual gift shop item overpriced  bottle oj thats price convenience altough cybercenter lobby say compliment sheraton crescent internet service free word implies come usual charge whether youre using laptop desktopson positive side member courteous helpful one problem slowrunning drain quickly attended close i metrocenter big shopping mall generally wellkept next time phoenix well definitely look crescent',\n",
       " 'nice business meeting stayed group meeting accommodating meeting area clean well litmy quite nice comfortablethe food business function goodoverall pleasant experience',\n",
       " 'need help husband reserved  bedroom suite month advance upon checkin told type suite facility long period argument front desk finally find suite reserved available occupied questioning told platinum guest decided longer could make move set makeshift suite huh okay accept checked find air conditioner work properly warm one maintenance could sayit cool soonokaysecond nighthuge cocroach stand moved stand hallway informed front desk morning told put back remove nightstand bug still hallway evening second call finally removedwould recommend everneed major clean stained carpet patio dirty bad smell many part hotelside note nice gym awesome bartender james',\n",
       " 'water slide stop people traveling across u want bed water slide super found overnight stop arrived san diego time resturant bar closed  year old u asked bar tender piece bread butter hot go look resturant nice brought son warm cinnamon muffin waited resturant open husband inquired nonworking hotspot immediately upgraded business provided cable connect service water slide fun whole family line',\n",
       " 'others got wrong stayed sheraton late may starwood gold member allocated club floor main reason writing arrived long flight london uk found reception friendly exceptionally helpful stayed one travelling around arizona return two end week found excellent even remembered name especially assisting u checking next flight holiday agree looking pool facility etc little small side hesitation using',\n",
       " 'business traveller set far outside city center wasteland tract home strip mall never one desk clerk duty result constant line front desk even worse despite advertising business center ha nothing internet bar doe provide access copier printer fax',\n",
       " 'bad look elsewhere next time nothing write home adequate flight place starting look tired small convenient pc printing boarding pass hard find doesnt seem street sign street next street similar name welllit guess everybody must make mistakenext time ill look cheap airport motel tripadvisor however dont find one place enough',\n",
       " 'rest booked thrown itinerary flight chicago delayed coming chicago thunderstorm forced plane circle airport delayed plane refuel long flight phx supposed get around pm phoenix time drive hour north williams however going feasible delay almost six hour originally booked gracious enough understand cancelled first needed place sleep inn airport rate online plenty nonsmoking available booked early chicago however time got turned away two phone call saying vacancy since free airport shuttle probably filled weary traveler like u last minutethe shuttle took little time getting u place pick shuttle doe feel secure fault sprawling design sky harbor airport neighborhood surrounding waiting another guest called shuttle nowhere found driver called turn called guest found person middle taxi area making way pick guest ground airport considerable distance away either arrived pleased see nicely lit wascheckin prompt sign swipe go seem two part older part newer part hallway doe awkward jut left door first floor first floor half way hallway desk quiet expected almost midnight amish basic frill older sleep inn design built furniture everything open also standup shower pressure extra hot water exhaust fan water vapor dissipaits quickly dry phx bed average sheet nice pillow steam iron worked greatin morning continental breakfast typical standard fare plus wonderful make belgian waffle everything fresh tasty check fast surprise attendant called shuttle u shuttle took u back morning airport could catch rental car bus facility driver dropped u appropriate place helped luggageall clean spend value weary traveler',\n",
       " 'convenient needed one flying home uk booked strength previous review disappointed checkin friendly helpful clean large contrary review maybe king bed free iced juice tea coffee hrs day lobby complimentary razor deodorant toothbrush toothpaste etc forget anything pool spa clean nice really needed deg f deg c arrived internet access free  computer didnt air conditioner little noisy thats small price pay sleep relative comfort baking outside bed fine  yes  pillow fridge microwave free breakfast next morning lot choice including fruit cereal even hot oattype selection bread n spread makeyourown waffle restaurant site hilton across road ha restaurant bar sandwichburgersnack type nice meal even get scottish beer guest beer called kilt lifter also dennys within  min walk free shuttle airport run approx every half hour take  min need book arrive arrive airport need shuttle use courtesy phone arrival hall come pick upfor goodpriced clean close airport flightpath really cant go wrong',\n",
       " 'pool friendly wanted reasonable price shuttle u airport early morning friendly mroe willing help u direction wanted turn rental car flew home provided u shuttle airport took  minute   computer guest charge u print boarding pass charge per page pool size spent  hour liked stand shower tub sure bed uncomfortable kept tossing turning could knew get early breakfast provided  still able eat left airport bargain',\n",
       " 'place day needed clean reasonablypriced place business trip stayed n queen small mentioned others ha little microwave frig although frig pizza box maid doesnt look cleanup also ha free wifi important methe ac typical noisy one window work well ok free breakfast think carbs fruit hardboiled egg free usa today paperi went across street hilton sport bar happy hour cocktail free munchies mentioned another poster tasty free munchies free beerwine anymore restaurant hotelstaff nice problem staying little confusing findth street next th place',\n",
       " 'got sleep sleep inn recently spent  clean average sized nice pool area near airport tempeasu pleasant greatest long period time youre planning exploring phoenix area town couple day especially using airport fine',\n",
       " 'uncomfortable bedding ever stranded airport picked airport courtesy phone give u toothbrush toothpaste shuttle driver water bottle however noisy husband said  pillow may well toilet paper used computer nicer street le next nite',\n",
       " 'ok reason flight early next day got stranded cancelled flight said perfectly adequate free shuttle airport available  hour day microwave ok breakfast spread starting am internet access outdoor pool perfectly pleasant air conditioner rattled little little difficult find place th street right next th place clean enough got u airport time low end choice chain dont expect really threestar place sleep catching plane morning rental car suggest head university mill ave near asu campuslots restaurant store people',\n",
       " 'get pay pro inroom microwave refrigerator menu restaurant deliver vending machine dispense hot pizza much pro impressive feat food distribution friendly shuttle driver think cheech chong 鈥man breakfast including doityourself waffle boiled egg bagel cereal oatmeal etccons postage stamp sized showertoilet enclave door lock noisy catch airport shuttle airport leave phone message message fails tell regardless must make way blue diamond north terminal pickup catch shuttle fact learn called front desk waiting  minute south terminalaside vending machine sleep inn doe onsite food service instead walk across street hilton enjoy free hors doeuvres happy hour pm onsite sport bar walk bar restaurant indulge reasonably priced dessertbottom line need spend phoenix wait flight home next day one sleep inn kill',\n",
       " 'absolutely fine stayed sleep inn th may wanted somewhere arrived phoenix picking car next dayfirst news rang shuttle bus got airport told  minute waited  didnt arrive rang told way waited another  still didnt arrive end got taxithe news got  minute away got immediate question asked refund taxi apology really dont seem well set shuttle bus wise got morning plain van bus logo plastered another note bus go half hour book early prepared may get slot wantthe fine size comfy bed microwave fridge vending machine load microwave meal similar stuff handy one nightall exactly wanted convinient sort shuttle really',\n",
       " 'nice poor service place money near airport lot construction around sky harbor little tricky black letter white sign see turn set back little road get turned around hunting finally found hunting called honestly let phone ring time time party answering well think embarassing chain customer line lobby check finally get holding cell phone hand ha ask clerk answering phone standing calling see anyone ever answer asked knew sound next morning checkout response daytime manager probably smoking tried call direction problem another woman claimed trainee apparently gotten far phone likely knocked  bill frustration dont dont hilton across way ha nice lounge none slepp inn burger well nice clean quiet comfortable could hire youd set',\n",
       " 'wow bargin sleep inn phoenix airport ha fabulous park shuttle sweet deal hour shuttle set apart others start trip airport around  unforeseen late arrival able sleep inn second return trip internet portal lobby helped alert others change plan free guest professional attentive need courteous competent phone skill bathroom set wheelchair microwave oven available heat burrito tv dinner purchased lobby vending machine',\n",
       " 'showreview full',\n",
       " 'smart smart price showreview full',\n",
       " 'nice small motel showreview full',\n",
       " 'buy airport showreview full',\n",
       " 'perfect price perfect showreview full',\n",
       " 'handy airport showreview full',\n",
       " 'recently returned seven property checkin breeze four standard suite one executive suite main building appeared recently rennovated bed comfortable quality linen along nice coffeetea maker concierge helpful making dinner reservation ate one breakfast hole wall nothing special im huge fan dining meal outside property plenty nearby dining option pool looked inviting however unseasonable cold weather swimming wasnt option played tennis basketball well maintained courtsa hiking area   mile property provided mapcheckout painless located one minor mistake bill promptly corrected overall nice',\n",
       " 'construction still going noticed review dating back  renovating going took chance scheduled weekend  well  end still renovating stayed casita ha updated knew trouble opened door ran bed small  small closet  small drawer clothes tiny bathroom door leading patio shared appeared boarded strange wanted print boarding pas day left informed cost  use computerprinter hr business center seemed okay though pool empty probably time yearbut definately highlight resort probably return',\n",
       " 'relaxing pointe getaway pointe squaw peak fabulous  getaway thing went smoothly special thanks wonderful concierge helped dinner reservation golf tee time babysitting service reserved  bedroom villa spacious  bath small kitchen indooroutdoor seating area special note excellent kid club called coyote camp boy loved team running super accomodating totally top little bundle energy renting car via lobby desk easy meal fine nice pool wind around bit difficult know exactly child given time explorer overall seem safe resort older ha charm respect new ultra luxurious top resort bed comfy go back',\n",
       " 'nice pool clean plenty space amenity pool nice lazy river kid central greater phoenix area',\n",
       " 'boy loved pool complete  daysnights arrived  pm told upgraded king exc suite huge  bathroom huge living coure board table seat  thing sofa pullout boy much upgrade went another king suite overlooked roadwork looked like trip boy went  queen suite st one offered  queen bell hop hanging found u  queen couldnt pleased overlooked courtyard pool  th floor area th floor peaceful partner hh gold vip  breakfast coupon included day childrens menu restaurant reasonable plentiful lot patio seating umbrella sad warm sit full sun ate hole wall first convenient fire pit people taking advantage resort special  day includes extra water park pas per day anyone check local phone call im using connect internet rather pay  per day usepools fine child oh fee includes mini golf cant really sit one spot see child time found looking even though   yr push wed come back like try resort went different pointe view thanksgiving dinner view definitely recommended glad didnt hilton needed ride upto restaurant apparently much water slide kid spoilt mind say favorite resort one costa rica swim bar kid allowed order mealsdrinks etc',\n",
       " 'nicegreat kid nice roomm',\n",
       " 'family favorite stayed  loved  decided jw marriott closer grandma grandpa two back pointe hilton rest kid friendly two child  really appreciate bedroom family suite separate living put kid bed time water park lot fun u nice also regular pool jacuzzi right rate decided place visit phoenix cant beat',\n",
       " 'better place money casita culdesac',\n",
       " 'consistenly comfortable stayed squaw peak hilton  stayed year ago experience seem renovation property unaffected itthe suite style like husband dont want necessarily go sleep timethe bedpillows comfortable clean free sort scentsodors family coming london requested building put u  door one another much appreciatedi loved individual service coffee maker make coffee didnt use poolfitness facility trip gone pool past greatwould definitely',\n",
       " 'resort first impression checkin nice public area helpful le arrival suite north building elevator order dark dingy ant counter drink areathings always look better daylight decent sleep still little dark roomy nice view small pool separate lounge area tv fridge comfy couch clean bathroom comfy bed internet access point roommain pool area excellent clean inviting disappointed closed  pm still hot could stayed several hour lazy river relaxing fun biggest problem finding shaded area lie food servicechoice poor slim pickens around pool area leave return another review said best buy  daily accesshole wall restaurant food fun country band friday eat relax drink service mexican restaurant front resort excellent service foodwill definitely return',\n",
       " 'phoenix family vacation okay didnt want go jersey shore summer decided go somewhere different exciting booked pointe hilton sqauw peak week   child    water park two wonderful pool clean everything well maintained decided go sedona day beautiful bit boring kid drove slide sliprock state park everyone enjoyed river slide scenery also wonderful kid didnt want leave since halfway south rim grand canyon decided go catch sunset way called inside park got lucky incredible picture cant justice next day took inpark tour bus extra charge although national park free u citizen since pay tax left midday drove back phoenix day later made another day trip slide rock way went montezuimas castle meteor crater pretty cool worth   adult  chilldren  recommend adventure family enjoy something different used frequent flier mile three airline ticket hilton honour point',\n",
       " 'nice pool booked based pool pool ha something everyone nice main street nice clean friendly helpfull asked direction couple time walked u destination instead pointing tocasierra spa disappointed still construction property also disappointed didnt wireless internet go lobby able use laptop time overall experience price',\n",
       " 'love resort family upgraded story casitas spacious lovely nice large living large bedroom even parking space nice stressfree pool area lazy river waterslide water volleyball minigolf kid also like western themed restaurant',\n",
       " 'rest booked website described studio suite found way easily sky harbour airport check quick easy directed back resort led outside step top apparently lock one casitas parking space able park roadway outside yard area travelling sedona wanted sleep travelling  hour ukthe consisted king bed stand tv washbasin separate bathroom clean bed comfortable area quiet pleased gotthe rate  included complimentary continental breakfast option menu could substituted difference paid breakfast able relax pool area continuing journey',\n",
       " 'treat kid overall enjoyed pool made whole trip worth since  degree desire leave area casitas large furnishing little drab find couple roach kitchen item helped like toaster maybe kitchen trash could hold cereal box nice pool open little later  hot though little pool around casitas mobbed hot felt oily nice laundry facility right near shop convenient buying small item fitness center well equipped employee snooty toward paying guest made u feel unwelcome apparently fitness club local resident toowere terribly fussy think could updated little cleaner pool also showed sign wear chipping tile around shallow end one hot afternoon whole pool closed nightbecause child gone bathroom huge disappointment generally  kid timeages  relaxing sit around pool see easily entertained  day',\n",
       " 'somehwat disappointed although resort lush green looked inviting outside bit disappointed suite itselfas work hospitality industry la vega took notice certain thing regarding disappointed see luggage rack waste basket powder narrow opening opinion wasnt effectivewe stayed north building adjacent pool area couple restarants shopping however felt like map campus really scale since drive looking spa salon following morning hoping werent late appointment building spa salon signed well construction going difficult manuever around campusthe spa salon treat welcoming made sister feel well taken care pampered cranberryapple ice tea offered u delicioussince prepaid hotelscom posted credit card incidental check breeze however disappointed wasnt asked anything also report morning check found ant agent made note didnt seem concerned offer apologiesi also didnt notice returned home la vega evening  bite foot ankle mosquito ant bed bug dont know week still gonemy overall opinion resort fair score  dont know return',\n",
       " 'renovation enjoyed hilton updated clean main pool really made positive impression   year old girl lot lifeguard big plus given size attraction surrounding pool run clear part going renovated ha high potential',\n",
       " 'thanks finish remodeling booked trip family together three generation first impression major construction taped loby much parking area roll back dump trailer etc could easily get lobby check met parent lobby also checking time frustrated also daughter family checked allready note request reservation building note redo  checked missed went pool area check entire water park area mess dirt chair patio bathroom disgusting also pool live area fully understand previous diust blowing take little hose thing pool chair hilton stayed cleaner motel  cleaner pool area pool water clean looking either little green looking dinner   casadillas  chicken fried steak  drink  soda  dinner band pool ok tub father tub drain hot water shower ice machine worked north building st nd rd floor service bring bucket ice promptly north building elevator scared u death rd floor chose use star even heat nice family king suite check price charged higher card process getting rate fixed express check using extra place ton little kid swim  grandchild time   year old return',\n",
       " 'awesom fun family absolutely beautiful ground clean nicely appointed friendly helpful hilton diamond member always nice traveling child friend highly recommend pointe hilton tapatio cliff  minute away better choice staying business round golf significant squaw peak resort offer water park fun activity restaurant brings lot kidsa like keep going back arizona relaxbut watch outyou wont get cell phone reception many place',\n",
       " 'fabulous beautiful definitely cleanest ive ever use work holiday inn house keeping quick request front desk little slow needed help check everything else perfect bed bedding comfy everyone working told u  hour drive grande canyon mom sister  hour stopped eat along way drive soooo beautiful time car fly speaking guest told go sedona youre going arizona must visit town every bit beautiful canyon also little restaurant called gallagher鈥檚 across street highly recommend little sport bar pool table video poker menu cheap price much cheaper restaurant gift shop price comparable local souvenir store don鈥檛 bother shopping around definitely go th ave shop scottsdale like party must visit barcelona scottsdale well dress classy fun place party dance river ranch water park resort also awesome kid perfect place',\n",
       " 'supercool phoenix place nice everything spacious situated small casitas perfect clean offer tv air condition video game nice bathroomthe pool area fantastic big pool volleyball net long artificial pool river swim along sensational water slide waterfall perfect family kid thing complain pool area close  pm service hilton averagestay',\n",
       " 'place family returned past week two u traveling three year old daughter suite remodeled spacious husband like late watching television able close bedroom sleep without disturbed tv enormous line checkin man checked u friendly apologized wait overall say friendlyroom service lacking recommend spending money two place eat river ranch bit overpriced beware extremely high price drink previous reviewer mentioned crowding river ranch agree appears people stake chair early morning come go throughout day leaving chair available able find chair going pool early evening staying closed  degree heat phoenix experiencing worked well u hottest part day anyway overall recommend property family due activity size',\n",
       " 'enjoyed stayed  really enjoyed resort south section clean comfortable wellsuited family  teenager early riser could section read watch tv drawback lack refrigerator cold water milk juice pool nice bring sandal concrete extremely hot bare foot inroom safe desk fairly quick allow u access safe provide weekend concierge excellent recommendation local restaurant laundry facility area grocery store shop snack definitely recommend',\n",
       " 'returned trip two child upon arrival front desk could seemed care le travelling day get arriving  degree heat hoping line least go quickly didnt least front desk personnel seemed care didnt even smile ok finally lazily called front desk waiting two child  minutesalso heard people u woke u television laughing fooling around daughter asked noise make something answer told manager didnt seem care much eitherthe pool area fun waited quickly often nice people bringing chair right pool thought rather dangerous pool didnt seem care either maybe heat gotten know recommend staying anyone',\n",
       " 'paradise preteen booked wanted make sure yearold enjoyed quick trip phoenix tripadvisor indicated phspr top choice family could made better choice regard loved pool lazy river water volleyball basketball saturday dive movie pool employee like camp counselor young energetic lot game contest could easily spent  hour day pool let suite spacious stylishly decorated much nicer expected air conditioner noisy used air conditioning problem sleeping could hear noise adjoining unit resort quiet complaint minor one pertains observation many people pool staying according phoenix friend resortcrashing common result hottest part day pool almost unbearably crowded corollary tough time finding place sit pool towel covered lounge swimming wanting watch son time sat edge pool chair reservedeven though one ever came sit annoying since pool management doesnt seem care practice advice anyone planning phspr show pool open place towel least twice many chair think might need pleasant getaway huge hit boy',\n",
       " 'excellent resort family relax spent  one casitas casita well kept service housekeeping twice day resort private quiet  mo old time water park never crowded ate restaurant food fantastic nearby preserve taking jog walk morning fitness center nice also kid friendly also adult oriented many pool private quiet one best thing close airport well scottsdale major shopping easy get',\n",
       " 'nice resort stayed  late april found ground facility condition friendly helpful expected hilton propertythe building brand new well maintained recommend upgrading casitas much standard suite worth extra cost small pool located throughout ground extra bonus main pool closed restaurant excellent breakfast try mealswould',\n",
       " 'fun family got back week hilton comfortable suite slept  adult  child live music lantana problem remedy turning ac resort excellent choice  active kid age   water slide lazy river main pool mini golf tennis situated campus made manageable due variety activity day also least three additional organized kid contest per day like balloon toss slide race pool crew friendly helpful pool food hole wall dining choice fine expected deal kid meal although price soda ice tea coffee seemed wack rest menu price go back recommend resort friend',\n",
       " ' big let well traveled family stayed many differenthotels around world th u supposed quality hiltonnot  fooled fantastic picture holiday booksof pool look fantastic freezing cold river ranchthough heated third daywe always phone prior booking disabled child go cold water assured pool heated year roundto  complaining guest told many differentexcuses many say rubbishin end pool stayed friged unusable full  nightsno one could use pool tried complain every day nothing ever donealso hot tub none working light around working bubble work also cold tile chipped hanging meant sharp edgesour chill time sit one glass wine kid beddid happen tried compain told rectified mean time told walk accross large dark car park lobby try one light work bubble manage heat one light put bubble emptied hot tubthe ranch staffexcept little old lil rude abrupt slack sevice food best fast food cafe stayed u somany time well accustomed tipping culture always tip like appreciate told bill doe cover gratuitytip still themiddle meal many different occaisons order wrong get cutlery drink sloshed table slammed daughter even spoken pleasant banter even still tipped  first week hoping get better seviceone day yr old founda large black hair breakfast never complaind know canadian american befreindedbooked go scotsdale hospitality suite aslo stayed past fantasic front desk hilton appeared nice enough actually nothing helpthe whole hilton experiance ha led u book go tunisa north africa know get better treatment fraction cost tattersall family united kingdom',\n",
       " 'highly recommend family returned  pointe hilton squaw peak resort pleasantly impressed resort family esp young child  year old  year old really loved resort think best part coyote camp childrens program camp profesionally run every day offer different activity centered arizona culture feel like kid actually learned something plus made new friend resort fully booked crowded rarely crowded affected enjoyment lot day however kid preferred going smaller pool outside suite expect river ranch bigger lazy river long winding main pool really big restaurant property need get act together little better hole wall ranch went several time could never get order right worth evening dessert stop smores similar price  better service food go lantana grille instead much varied menu lantana grill everything sandwich gourmet entree poolside service ran mediocre poor lack experience server part several time husband order something bill came item   expensive tell u looking old menusthe resort cleaner date expected low expectation reading website south section renovated clean plenty two adult two kid close pool hve disadvantage pool area noisy right  pmso despite minor complaint really enjoyed overall atmosphere loved suite coyote camp lantanna grill',\n",
       " 'return stayed  squaw peak nice experience checked late around pm sat march st received updated suite north buildingthe main pool lot fun open ampm visit checked given wrist band plenty towel went early morning got spot upper pool basketball net people reserving chair always saw available chair aroundwe enjoyed two day pool child age   met lot child enjoyed activity going example activity water balloon toss water slide race musical chair watermelon eating contest name sure always many activity going week easter spring break kid blast participating also college age guysgirls running activity super nice winner even prize ticket free smoothy snack bar deal paid  back gift shop candy countericecream shop get soda lot le expensive lot biggerwe ate lunch day pool ordering snackpool bar food expensive pretty know resort price surprised unfortunately get eat hole wall restaurant daughter became sick trip order pizza street new york delivered resort excellent day left lunch aunt chilads walking distance mexicanwe thought clean well furnished bed comfortable noise issue housekeeping job thing working conditionthe kid enjoyed quiet pool right outside building arrived open  pm go back',\n",
       " 'phoenix oasis older megaresort landscaping mature lush ha one first water park still cool planned activity kid constantly underway one resort still try maintain western theme pool area pretty casual able sneak food without much problem two nice restaurantbars onsite usually entertainment sport bar fine dining sandwich shop cool mexican restaurant enchilada within easy walking distance onsite waiter ditzy patient check bill tabsalthough didnt use workout facility lap pool spa hiking trailstoo bad safe fridge although jw marriott nicer newer like one casual feel mature landscaping',\n",
       " 'much maligned place family vacation reading review preceding pretty concerned hadnt made best selection pleasantly surprised experience resort beautifully landscaped service friendly helpful requested updated suite upon early checkin given squeaky clean wellsituated suite plenty privacy two adult two yearolds perfect resort child teen many pool activity especially golf worried gone pointe hilton tapatio cliff visit lunch agreed squaw peak superior needsthe food bit pricey thats typical resort made way block three time aunt chiladas lunch dinner fun affordable delicious alternative restaurant onsite concierge extremely helpful giving u restaurant recommendation mapsi definitely',\n",
       " 'husband nice hilton march  second hiltonwhen checked original main building asked moved cliff nice moved right away nice day bedroom balcony direct access cliff right floor clean bed extremely comfortable ground nice spread shuttle take resort want walk two main pool main family pool adult pool adult pool nice quiet family pool looked nice lot kid including water slide also number smaller pool resort fitness center nice however annoyed ten dollar day charge use fitness centerwe ate breakfast resort bad ate different pointe view one outstanding get reservation early later time want sit outside beautiful table outside sunset wonderful come back',\n",
       " 'soso booked wanted kid allot wanted able go spa  year old daughter treat however could get reservation spa everything booked paid almost  day standard nice roomy nothing spectacular view alley really dissapointed went use gym wanted charge extra  day use itthe pool area nice clean irritated check everytime wanted play water ranch get wrist bandsoverall ok money look something nicer next time',\n",
       " 'nice alla time river ranch pool area definite plus nice kid although requested newly renovated upon booking full older available pretty run dingy liveable say within  minute  year old sock literally black carpet although someone sent immediately clean still didnt jobso wore shoe time unfortunate  month old couldnt crawl floor though say customer service goodanytime called request someone within  minute request refrigerator crib pack n play supplied within  minute arrival extra charge overall nice propertythe ground nicely maintained property didnt seem sprawling described previous reviewseverything definitely within walking distance',\n",
       " 'fun hilton booked reservation phone number listed website specifically asked reservationist check ranch pool hour arriving late book ranch open couple hour arrived told open  pm arrived  pm asked bellman verify ranch hour also said open  pm well guess rushing check rushing change running ranch using map bellman gave u wouldnt get lost vast property ranch closed disappointed especially  year old son booked complained front desk manager told hilton responsible information given reservation agent since site asked bellman lack correct information manager said talk joke besides issue ranch facility old serious need updating regular pool area swim bar went could get ranch cold jacuzzi jet work jacuzzi water colder pool pool attendant speak english unwilling find someone help u also numerous breakfast tray sitting walkway led huge gap walkway stair railing could extremely dangerous young child positive note inside updated clean size everything operational well maintained bed though soft liking sure ask newly renovated area booking hate see unrenovated roomsall disappointing experience hilton book real treat fairmont scottsdale princess fabulous well worth extra ',\n",
       " 'bit worn around edge phoenix several time always stayed scottsdale since teenage son u decided water park water park indeed make staying worthwhile everything working always case like hilton property az service poor call manger one day get water slide turned except concierge expect much service based reading site insisted renovated suite spacious spotless gave u  separate  tv make everyone happy north phoenix drawback plus scottsdale  minute away ha much offer place could use face lift rate kid kid tiime',\n",
       " 'nice resort drawback decent option business vacation large updated nicely furnished comfortable bed water pressure shower pool water park nice fun kid age convenient golf shopping business scottsdale areadrawbacks  service bit spotty eg dirty dish service sat hallway day  slow nonattentive checkin  sprawling nature complex inconvenient make long walk  poor cell phone coverage throughout facility',\n",
       " 'roam accomodating resort chose property based hilton brand name plus casitas enticing review sounded offered much square footage average reason trip annual getaway girlfriendsupon arrival checked promptly driven golf cart casita property expansive huge plus willingness bell show w golf cart transport guest place place fact arrived phoenix friend rented car didnt join later day bell actually drove van local walgreens drove back completed shoppingi say original casita bit shabbycarpet worn frayed smelled musty dresser proper closet bedroom booked casita based inhouse reservation agent description never occured ask dresser traditional closet bedroom immediately called front desk must say manager accomodating changed casita much nicer offered upgrade additional adjoining bedroom suffice say three u comfortable w two bedroom found later casitas due renovation next month april  im glad brought manager attention shabbiness first casita especially paying seasonal rate nice reflection property manager right thing accomodate gueststhe property beautiful well maintained bit cold swim water park highly recommend property vacationing family single business traveler convention center attached property filled capacity one never perception packed due fact property spread onsite restaurant two wellstaffed food service crew erred quite time disappointing always strived correct problem also dvd player delivered wo remote new one delivered next day charge although mistake made shabby first service omission dvd player wo remote every effort made correct problem make customer happy final comment workoutspa facility workout fantastic ha long hour operation spa ha delightful technician service quite satisfactory definitely spa beauty parlor w private shower one chaise lounge lady face wall dusty silk plant opinion facility call spa least relaxation w sofa lounge chair technician delivered service beautifully price charged customer want bask true spa atmosphere treatmenti recommend staying dont expect top notch wellappointed spa even paying  per employee manager exceptionally friendly helpful except one front desk clerk asked want called remote w dvd playeri consider staying conveniently located near airport highway restaurant shopping yet feel bit secluded due beautiful terrain mountainous backdrop confidence long tolerant personality afraid insist upon proper service',\n",
       " 'amazing pool area stayed one property casitas twice last month review particular type casitas large private carport private entry lot family downstairs dining table  sofa tv wet bar small refrigerator  bath upstairs main bedroom full bath bed decor casitas bit run really old burgundy carpet outdated bathroom fixture furniture desperate need reupholstering think simple remodeling update could firstrate property one casitas nice large balcony main bedroom huge sundeck right second floor sundeck full sized table  chair umbrella  lounge chair awesome soaking arizona sun one casita overlooked private pool much fun step right outside hit water super resort kid main swimming pool area amazing holeinthewall river ranch ha huge lazy river waterfall mini golf western themed town gorgeous outdoor patio firepit smores kid super place',\n",
       " 'liked resort hated resort fee stayed two day business business function including food handled well true suite better embassy suite full refrig stove microwave large flat screen tv bedroom smaller tv living small porch area table chair overlooking courtyard comfortable bed checkin friendly efficient except forgot free bottle water hilton gold member biggie remember ask fitness fin multiple crosstrainers treadmill bike machine free weight pool nice well kid pool areawaterpark looked like funalso close highway supermarket gas station restaurant want use firtness center large pool kid waterpark putting green pay  per day resort fee compare paying day fee use fitness center also wired internet day wireless lobby youre going whack people day nickle dime  resort fee use fitness center large pool seemd place otherwise classy resort',\n",
       " 'squaw peak better expected lazy river',\n",
       " 'nothing special stayed hilton squaw peak conference earlier reviewer said bed extremely comfortable however property little rundownmissing roof tile tired carpet kind thing fourth floor one main building get ride one elevatorby mean service elevator half time youre trying negotiate around giagantic serivce cart maintenance equipment strange part stayed reminiscent super  cheap motel outdoor walkwaysnothing special certainly resorty know conference planner thinking booked spot clearly place family little kid minute fromnowhere thing asked toilet fixed ran time fixed dripped time equally annoying sleepdepriving smalleuropean smalland dark dark dark trash inadequate one deskalthough business traveler conference planner must day',\n",
       " 'business conferenceslarge meeting planner company national sale meeting year approximately  employee stayed pointe hilton squaw peak february th thi experience working event planner resort food excellent clean comfortable meeting space ground beautifuli definitely consider pointe hilton squaw peak another business meeting personal travel sale meeting attendee impressed pleased',\n",
       " 'boy loved place returned day kid want move phoenix lot recommend hilton water feature particular boy age   played mini golf putting green surround pool hour could even let wander together without supervision thats huge plus coyote club really nice large facility clearly devoted fun art project endeavor including hunt arrowhead taken time scatter mountainous hill ahead time couple recommendation go aware casitas two floor door closing upstairs downstairs want private time spouse kid well within earshot think might preferred stayed large main reason read another review lackluster maintenance problem clogged heating filter banged long neighbor heatac ran every  minute hiltons credit apologetic made appropriate compensation u reported else superb tennis lesson paul dean tennis pro saturday yoga class also spa service excellent really like spa treatment recommend driving one upscale resort biltmore phoenician speaking lunch poolside biltmore played checker lawn oversize piece beautiful historical place worth seeing dont miss local eatery chelseas kitchen truly romantic dinner try lons boy loved rawhide western theme place  mile',\n",
       " 'spa first family vacation twoyear old son looking forward time river ranch little due weather nap really nice addition nicely appointed appeared newly renovated unfortunately thats thing end overall bit run hardly anything included price eating property expensive  breakfast buffet lantana grill one meal hole wall service terrible even plenty open seating live music fun kid though finally biggest gripe ha spa call spa ridiculous run athletic club appeared s beauty parlor attached scrub massage terrible mainly ambience lack thereof worth one penny especially ever massage treatment place even slightly better revamp revamp revamp well probably going back food package could included consider get spa experience somewhere else',\n",
       " 'kid family highly recommend property family stayed  bedroom casita plesed decision bed extremely comfortable decor casita bit dated clean well maintained coyote kid club probably best kid club experienced negative side thing certain area near pool noisy doesnt seem much reduce noisethis couple family destination kid',\n",
       " 'wrapped fine although think earlier advice found web site request newer portion key sprawling resortstyle like single building version hiltons accustomed rest country clean top floor stayed north building quiet maintenance could stand bit better shower drain ran slowly toilet never stopped running latter item annoying given extreme shortage water part country beyond real complaint',\n",
       " 'hit miss place definitely plus minus pretty suite quite nice embassy suite comfortable nonetheless pleasant food pretty negative side place layout extremely confusing hard find way around also spread large area get one place sometimes pretty long walk addition multiple elevator working id id probaly try something else first',\n",
       " 'helpful arrived christmas day friendly wonderfully clean well equipped remained friendly facility service received grill excellent definately hilton',\n",
       " 'nice solid hilton resort wife stayed squaw peak hilton early january bcs title game spite sold status encountered nothing outstanding service make sure request one recently upgraded original bit worn quickly accomodated request different pool looked nice clean use visit rest ground outstanding visit close freeway hiking opportunity squaw peak camelback mtn etc centrally located scottsdale lot shopping dining glendale game site overall nice resort hesitate',\n",
       " 'relaxing resort wife stayed  weather cool snow valley time upon arrival upgraded casita basically small townhouse apartment upgrade due hiltonhonors gold statusthe livingroom diningroom kitchen refrigerator microwave  bath upstairs bedroom  queen sized bed full bath patio umbrella tablechairs chaise lounge poolhotub pod casitas approx  fountain pool ground made relaxing atmosphere surrounding neighborhood safe mixture condo office buildingsthe professional polite personable went way ensure staythe restaurant average nothing exceptional one dinner three breakfastsbreakfast comped recommend friendsfamily',\n",
       " 'horrible boyfriend booked last minute attend wedding scottsdale really excited heard really nice place really excited assigned u condo type covered parking space well drove back duplex one larger u upset four parking spot taken dont know parked street fine let get horrible part ready bed pm heard loud rap music apparently coming u called front desk called music stopped okay fine right way am awoken loud music bunch kid screeming happy birthday called front desk sent security music stopped  min later music started seriously seemed like wall paper thin could hear kid cussing yelling even smelled pot furious point am called front desk asked another refused said call security security nothing made kid leave kid standing outside window cursing breaking bottle hilton called front desk yet demand new call police still nothing let tell even afraid go outside check car well called got manager name obviously inexperienced kid morning spoke manager nothing oh wait took  bill furious absolutely never ever cannot believe hilton allow didnt even mention kid came back morning  began slamming door please dont want peace quiet',\n",
       " 'value spent two pointe hilton squaw peak jan   arrived phoenix early due medical appointment tried checking rather early  standard problem housekeeping wasnt completely finished suite breakfast one onsite restaurant toured facility water park activity area kid suite comfortably appointed unlike many clean fresh smelling know mean king size bed pleasure sleep sheet seem  thread count soft luxurious evening meal lantana grill adequate golfed sister resort nearby lookout mountain golf course course wife stayed pool area kid blast service friendly courteous overall felt experience average class value rate paid night definately opportunity arise',\n",
       " 'loved kid friendly loved went fiesta bowl knowing expect property love place water park restaurant',\n",
       " 'hilton squaw peak value view balcony bedroom',\n",
       " 'stayed week july  july hot arizona really enjoyed pool complex appreciated possibilty kid could late dip pool friendly lot oppurtunities sport tried golf tennis retreated pool way hot julybut excellenttonnesen family copenhagen denmark',\n",
       " 'tip youll thank stayed property thanksgiving wonderful time probably place couple retreat despite amenity appeal couple getting away weekend place family kid fouryearold ball cousin lazy river excellent experience really much fun picture appear also enjoyed waterslide minigolf cant say enough hole wall restaurant ha favorably reviewed bargain pricewise food everything family ate tasty also enjoyed outdoor fire introducing son smoreswhat place didnt nickle dime guest didnt charge extra minigolf didnt even mention sort extra charge  cousin mom dad showed use pool wasnt separate resort fee didnt charge parkingcouples wont disappointed resort dont want hear people complaining large number kid pool hot tub enjoy next time phoenix area place high list return',\n",
       " 'never week long past thanksgiving week let say never againthe place run bunch teenager especially know nothing customer service security think local law enforcement even though older upon checkout noticed charge phone call totalling  never made makethe call international  number assume either scam maid trying make call unless let anyone charge call roomtoo bad hilton doe spend time teaching employee customer service place could something',\n",
       " 'used hhonors point squaw peak october got gold upgrade casita quite spacious casitas excellent close river ranch hole wall restaurant fitness centerthe bed new quite comfortable read casitas scheduled remodel shortly currently unit little dated however didnt detract overall experience extra including downstairs powder bath kitchen especially kidswe excellent experience hole wall eating  day breakfast dinner service food excellent setting overlooking main pool waterfall gas outdoor firepit roasting marshmellows enjoying desert evening serve warm fry bread meal describe tasting like light flat doughnut excellent uniquethe pool relaxing super crowded time year poolside bar selection snacklunch item drinksoverall experience like return',\n",
       " 'beautiful resort stayed squaw peak first year anniversary midoctober south tower asked recenty remodeled impressed decorfurniture water park awesome often lazy river playing basketball beach volleyball pool playing putt putt enjoying jacuzzi ate lantana grill enjoyed food also free pool table outdoor patio fireplace two negative found got dozen donut breakfast following morning covered ant called front desk come spray werent impressed service contrary review also didnt experience hole wall restaurant first breakfast cold got meal free decided try second time ended leaving getting service  minute overall impressed resort also highly recommend hike summit peak take day tour see sedona grand canyon',\n",
       " 'cant wait go back spend week resort get away found helpful friendly time arrived till time checked one casitas smaller average clean comfortable probly renovated   year ago bed exceptionally comfortable really help food service restaurant exellent bit renovation stll happening one bigger building could even notice anywhere rest ground pool bar drink pool bar expensive time car take day drive sedona two hour drive well worth time awsome senery',\n",
       " 'remodelled need major improvement time booking told south tower suite remodelled north tower get south tower completed arrived shocked walked one bedroom suite everything exactly stayed  year ago difference hilton bed comfortable new tile bathroom floor chair ripped old furniture old carpeting even took refridgerators left empty hole call maintenance managed find old one sit top sink sister never got call remodel bathroom sink small toiletry put large tv one shelf put stuff  small drawer poollazy river though wonderful pretty landscaping clean ground poor quality food pool bar  small hamburger bag chip eat restaurant even though get reasonable rate staying squaw peak due quality careful taking elevator old one working time',\n",
       " 'best hilton stayed second time september   unfortunatelywe hilton gold member stayed many different hiltons throughout year business vacation happily say best ever stayed atthis property resort service amenity located onsite view surrounding mountain add beauty place didnt venture resort cant comment pheonix tourist destinationupon arrival upgraded casita basically  floor full kitchen dining area living downstairs bedroom bathroom changing area upstairs private pool believe come covered parking spacethese probably best stayed big comfortable airy lot amenties wireless internet access unfortunately resort ha plenty pool spa lazy river running around fun playing basketball pool area followed lounging lazy river drink river wasnt dirty therewe ate dinner breakfast hole wall restaurant think thats called excellent food service overall fantastic short break recover vega grand canyon wish could stayed longer',\n",
       " 'dr ordered ended choosing resort thanks review tripadvisorcom disappointed girlfriend stayed fine resort  day early oct found review true accurate rather sharing useless detail instead provide suggestion enjoy fullest hopefully suggestion make trip successful  request remodeled upon making reservation remodeled contain new everything awesome checked yet remodeled price thankful made request thanks review tripadvisorcom  request fridge upon checking cost u nothing proved nice  take advantage free shuttle system upon request bell desk granted u free shuttle fashion mall squaw peak summit extremely courteous informative assuming adventurous enjoy outdoors cannot say enough thing squaw peak summit climb  mile  foot beautiful climber friendly view die sure bring camera plenty water  eat hole wall food fantastic reasonable service professional timely ate day dominic waiter friendly  take advantage concierge knew little area along attraction nearby helpful provide array attraction availability price recommendation etc  lastly plan making trip walgreens local grocery store first day water complete rip  bottle drink pool  weak mixed drink negative could come first day stocked water bought liquor grocery store order make trip affordable enjoyable wouldhave highly recommend resort friend family simply hope enjoy trip much enjoyed',\n",
       " 'family friendly nice resort clean friendly stayed suite north tower originally put u south tower asked north tower since part south tower construction pool area nice spent time north tower pool well main pool main pool service wasnt go bar wanted anything north tower service betterthe hole wall restaurant surprise food reasonable looking restaurant close sure try houston camelback rd fish market kid friendlyoverall pleasant visit',\n",
       " 'family vacation spot family  stayed resort  commencing august   located two storey  bedroom casita unit close river ranch convienient disturbed construction ongoing nearby fact impressed sound proof unit seemed resort kid swimming waterslides lazy river cost refreshment food poolside high side certainly add thirsty hungry child service received encountered problem either check check enjoyed separate pool near casitas break river ranch well use river ranch closed resort exactly looking',\n",
       " 'major construction major construction going building put u dissapointing especially since mentioned either website checkin sunday am woken noise chisel hammer inconsiderate cheap league called front desk comment got notify supervisor monday never heard back place',\n",
       " 'family resort third year staying hilton squaw peak stayed five day able get complimentary upgrade wour hilton reward point one bedroom  story casita perfect family  child river ranch wonderful kid adult alikethe slower paced lazy river want float inner tube waterslide kid adult want go faster time year usually hotter az thus water park even relaxing extremely accomodating friendly helpful watch bill accurate quite bit accidental overcharge hole wall restaurant kid love ordering rattlesnake  dinner roast smores right table  recommend arizona style bloody mary drink served olive pepperocinis extra spicevery tasty took free shuttle service sister resort tapatio cliff  min mtn enjoyed pool one day tapatio cliff seemed bit upscale squaw peakmuch adult pool nice cushion pool chair etc kid fun swimming relaxing lagoon style pool well also enclosed water slide cliff place nice resort convenient able shuttle coyote camp place drop kid desert themed artscraftsactivities etc age  yr cost  per hr per childworth opinion daughter  yr ha going coyote camp  yr row one favorite thing resort coyote camp always warm welcoming accomodating kid  year love dowe also visited phoenix science center downtown phoenix stayed  hoursi highly recommend itwe ate lite lunch victorian tea house next door science center afterwardsand also place eat even childrens menuyou spend order poolside nonalcoholic drink  sodatea pay glasscupfor instance time wanted glass iced tea paid free refill definitely add convenient sit pool someone bring drinksfood etcotherwise trip around summer best time go rate cheapwe definitely recommend hilton squaw peak tapatio cliff anyone especially family',\n",
       " 'time went  two girl age   comfortable northpointe loved pool complex enjoyed brunch lantana grill overall happy choice thereour issue slow speed lazy river asleep allowed u play going around enjoyed dive movie rest complex',\n",
       " 'lazy river view',\n",
       " 'familes think twice let even  feel like got deal property dated one stop short dirty huge poorly laid walk lot unlikely park near charge everything provide little pay internet local call pack play course fridge microwave continental breakfast like hi express et al water park ok unless say  important part  dont mind marginalout date though kid loved fair best place service wretched booked nonsmoking called ahead ensure one course put smoking elevator broken whole soda machine ate money comedy error marriott desert ridge place saving game barebones hi express back',\n",
       " 'river ranch need lot help returned hilton squaw peak must say ha major problem nowehere website doe indicaqte property undergoing major renovation traveled  family two air conditioner problem requiring move move took least hour accomplish one move required guest move luggage bellman refused move bag asked drag lady dress ground told bell station move  day due construction problem half closed construction leaving two ice machine entire wing meant hardly ice ever available elevator broke since one elevator south wing wanted get walkthe pool nice kid enjoyed south pool closed get north pool fire described event lanatanna caused restaurant hole walloverall service poor river ranch doe seem hilton quality like comfort inn quality',\n",
       " 'kid water go together place fun loved lazy river place relax casita showing sign getting older though loved bathroom vanity though double sink balcony casita sit outside drink pool excellent crowded weekend stayed line long bar kid loved movie water excellent well summer month water reason',\n",
       " 'family atmosphere stayed resort three day july live phoenix area took advantage reasonable summer rate family four stayed cassita two story townhouse suite plenty everyone suite come one two bedroom upstairs upstairs bathroom downstairsthere pull couch kitchen sink fridge microwave supply cot additional bedding needed resort also ha motel suite two boy age   really enjoyed plenty western themed pool areasuch tubing lazy river basketball sport pool miniature golfing ask value pack save money miniature golfing fitness club also saturday movie pool area younger kiddy might want set pg movie sport pool area older resort kept pretty well pool area need kind pebbletec path avoid burning foot wasnt safe suite big problem whole family go pool resort close camelback area additional place dine fashion square mall street well time',\n",
       " 'disappointed let first say particularly hard please person join tripadvisor write review family recent started w many others ready time checkin time pm wait twice long line regaridng status finally got key pm front desk personnel rude offer apology wait little kid imagine wait around hour also parking situation horrible park property get spot lazy river dirty overall pool area overrated food average best way overpriced local phoenix area never pointe squaw peak much nicer resort town similar price summer say pas go somewhere like biltmore westin keirland',\n",
       " 'kid family two adult four child aged   stayed  couple week ago stopoff san diego grand canyon booked casita pleased note close river ranch pool complex casita clean bed comfortable even sofa bed although felt could brightening bit settling headed pool complex quieter expected enjoyed lazy river sport pool chose bring food breakfast keep cost back pool am next morning opened time retreat shade cool casita hour lunchtime found young pool area helpful ice cold water cooler bonus gift shop reasonably priced son enjoyed mini golf discovered chance second day entitled free golf half price ice cream apparently value package nice told upon arrival aware courtyard near pool close pm group teenager seemed occupying causing trouble loud young child could disrupt early therefore pleased casita couple day pool ideal u',\n",
       " 'loved two child greatest time greatest time squaw ipeak best place child much kid hardly never left resort stayed year old  year old never wanted leavea place teenager stayed  day could easily stayed another  day friendly helped every way pool nice stayed open late considering hotthe tombstone shootout excellent kid love also movie big hit everyone bar pool side polite friendly every one loved lazy river could stayed day fitness center included package excellent class equipment greatwe also hiked mountain street fun dothank making vacation fun rewarding time',\n",
       " 'enjoyed stayed squaw peak july july   check friendly bell hop personable helpful stayed king bed suite nice bed linen nice towel spa product quality bathroom immaculately clean bed verrrry comfortable small kitchenette minibar sink coffee maker couch uncomfortable sit although son slept fine pulled limited cable channel tv rented stillintheater movie  ground well maintained didnt see roach people arent used south palmetto bug big ugly harmless southern state spray continuously keep bay please dont let seeing one scare time resort huge area noisier others river ranch nice enjoyed lazy river got crowded go early grab chair umbrella leave stuff save seat get pretty crowded poolside service couple place get food plenty fresh towel cooler cold water drink didnt long didnt get early enough chair make sure leave shoe walk around made mistake heading lazy river without nearly burnt foot ha ha hot hot hot cubby top leave flip flop found little late saturday close  set dive movie show pg movie poolside pretty cool kiddy admission always free guestsalso pretty cool resort convenient day trip  hour grand canyon scottsdale close check shopping art shop view nice plenty restaurant kind nearby give rave review consierge dave awesome friendly insightful know everything everywhere quick figure every need like dislike ever make sure tell trip advisor member sent rave review professional way',\n",
       " 'thanks decided take husband child relaxing father day treat sure wasted moneycheck adequate id expected hilton guy reception job friendly niceities chit chat information check paperswe got taken golf cart boy enjoyed pointed right direction river ranch convieniently behind roomour bag carried guy friendly right thing saynice chit chat pleasanteriesthe ok nice sitting area separate bedroomdecor ha seen better day though wonderfully softluxurios bed plenty squishy pillowsac worked perfectthe tiny little outside area cant call patio wasnt big enough swing cat looked straight onto car park keeping check vanwe kept shade pulled try hide pretend wasnt really thereriver ranch finethe boy loved busy many tweenagers pushing front little one filling water cooler occassionally wouldnt kill anyone spent time quieter pool within courtyard lobby le crowded much relaxedwe dinner hole wallwhich priced worth itthe server couldnt wait finish table  could get party  walked door obviously going tip u left pitance lousyinatentive servicewe breakfast lantana grill really nice fresh fruitcerealspastrieseggsbacon etc offer ment boy ate free adult mealsthis wasnt mentioned u checked told sat downall shouldnt wasted money wasnt cheap boy enjoyed river ranchwould way',\n",
       " 'nice place stayed wife two child   yr pointe  june last minute change sedona due recent oak creek canyon fire resort available inexpensive needed place moving another resort scottsdaleresort located midst city surrounded heavy traffic road etc though could hear road noise due landscaping faced inward pool area separate two queen bed bedroom tv bureau credenza closet security safe though odd shape led use pocket door instead regular door plus one bed partially blocked door exit otherwise bedroom fine patio sliding door bedroom looked pool neighboring hallway enough two chair useful dry swim suit bathroom split toilet tubshower one sinkcountertop open area next bedroom living sofa chair chairdesk tv stand minibar fridgecounter coffee maker minibar stocked usual minibar overpriced drinkssnacks asked refrigerator microwave delivered later day furniture looked fine carpet bit dated fine though wornparking far easy path get luggage initial day elevator broken requiring lugging everything second floor hand nd day elevator functional ground well maintained manicured greenerybest asset pointe water park pass guest quieter smaller pool two complex pool well maintained plenty towel chair cleaned pool kiddie pool whirlpool chilled water coolercups water park typical lazy river sport pool volleyball regular pool water fall busy need visited see offered adjacent grill provided food food typical grill food childrens menu service offered though partakeall slightly average see cockroach bug place clean though bit dated worn lobby cheerful friendly helpful place trying hard make people happy price',\n",
       " 'customer service looking clean spacious conveniently locatedand enjoy family friendly environment exceptional service may although lacking initial wow factor expected thought hilton provided amazing service concierge friendly extremely helpful always clean pool attendant welcoming service quick delicious thing wished bit different sitting dark even three lamp air conditioning little loud sinkmirror separate showertoilet light switch bathroom located outside bathroom door traveling practical joker time expense nothing earth shattering food thought back fun stuffthe offer many different pool accomodate people age even movie courtyard pool closed earlier posted may want check hour conveniently located sight seeing take time drive around look mountain gorgeous scottsdalephoenix ha wonderful restaurant ny pizza delivers fast delicious charleston black angus casual nice wonderful food excellent service bahama breeze ha food fun environment also outstanding service kierland common desert ridge shopping center offer fun shopping nice area even window shopping plenty antique shop golfing opportunity abound antique shopper traveling family beware one town particular well known antique shop beautiful brochure extremely misleading see gang graffiti turn around doe get much better obvious town trying clean thing actual downtown area renovated look quite lovely surrounding areanot lovely isnt worth risk although feel little guilty indirectly ratting feel deeper loyalty innocent family may get harm way dont miss desert botanical garden beautiful peaceful also plenty little squirrel quail amuse everyone crackerjax offer miniature golfing gocarts arcade although entirely perfect hilton offer comfortable environment whole family nearperfect service rate right definetely give try',\n",
       " 'awayterrible june  june  june  staywe arrived  pm  kid ready get pool relax long day traveling upon check greeted checked given key led appropriate parking lot building pointed direction carried luggage dark hallway last ok worth price paid smoke detector hanging wall wire hanging wall sure worked said quickly changed headed pool took u  minute find pool found noticed  family leaving child minute later realized leaving  young adult clearly drunk acting loud obnoxious drinking inappropriate behavior famale male happening jacuzzi area told kid end pool since really wanted swim minute later young male climed top pool bar roof started jumping pool finally decided call front desk assurred send security  minute later called security personnel ever came pool area another  minute  security personnel officer arrived young adult bad mouthing security refusing get pool turn even guest little later  family left earlier returned kid swim pool security officer wlking ground next morning left ground breakfast town realizing offered child eat free purchase adult meal thats told anything upon check information information special map information hole wall water park complained guest relation told hear general manager received call head security explaining young adult escorted ground information already knew response received issue addressed called guest relation inform heard response general manager told received call head security addressing concern told customer relation true filed another complaint led discounted june  badwe offered  discount given facing courtyard seemed nice attempting make bad service previously experienced went pool enjoyed nice quiet time got ice cold jacuzzi one help fix went back take shower questioned bathroomroom cleaned cleaned used bathroom used towel hanging back door hair floor shower tub shower curtain angry point wanted leave  got ready bed daughter pulled sheet bed discovered hair strand sheetsshe almost threw verge tear didnt want sleep next morning decided take kid hole wall water park attached discovered mail pool closed hour walked see open saw bug floating pool roach type bug huge big ask real child toy real ground keeper maintance worker running around morning didnt know going know bug everywhere sprayed think opened later scooped bug pool right away scared let child pool didnt know chemical bug also floating lazy riveryuk point wanted run fast could place water park rude one helpful called guest relation complain told hear general manager today july  heard word anyone far away possible could get better service area far le money',\n",
       " 'nice stayed resort one week business conference phoenix onebedroom suite clean bedding exceptional probably best sleep ever staying ate two breakfast site slim pickens restaurant first breakfast buffet sunday exceptional eat  service excellent second time ate week breakfast cost service acceptable thought young waiter quit mealthe propery well kept problem pool area located area ha pool first day pool disarray every morning towel picked food beverage container still everywhere wednesday thing changed pool area spotless possibly person charge pool vacation beginning week another problem pool private company giving swimming lesson small child day conference nice get pool wasnt always possible last pool rule posted child throwing ball diving pool diving sign many obnoxious real parenting going could said lazy river luckily wasnt relaxing vacationwhile consider staying nice probably look another place',\n",
       " 'awsome place kid adult still kid custody  year old grandson found squaw peak hilton website wanted fun place take looked like booking became concerned reading tripadvisor review stayed number hilton property tell child place go river ranch ha multiple pool long lazy river use poolsupplied inner tube water slide kiddie pool neat waterfall kid adult play also hot tub river ranch food river ranch outdoor bar price pool resorta little pricey outrageuos plenty water station pool large container free cold water plenty cup along side aspect bothered week closed  pm thought earlyespecially temp hitting  degreesthe hole wall restaurant river ranch price reasonable play miniature golf hot looked fun stayed regular suite  queen bed fine comfortable bed could put personal item fridge bought styro cooler street walgreens kept filled ice ice machine located every floorif eating outside resort need car walk aunt chiladas mexican foodneat atmosphere reasonable pricesgood margarita purchase shaker take home need drive choice claim jumper price kid friendlyneat menu choicesto die  layer chocolate cakeit  dollar dessert feed host people another fun place take kid  diner juke box every table milk shake served stainless shakersterrific food real really reasonably priced pizza inexpensive street new york  day go tour day trip grandson enjoyed pool much matter u go anywhere else pool closed  pm could swim southend pool complex thought water cloudy complex pool enjoyed anyway looking forward using complex hot tub river ranch closed first ice cold warm remaining thoughwe check hilton tapatio resort also phoenix kid adult like water play stick squaw peak think pricing squaw peak kid coyote camp high since grandson perfectly happy making friend river ranch water area use camp river ranch open later fri sat nightsthey show outdoor kid movie sat kid swim watch movie timethat kinda coolit bother safe roomsthat need attention  dollar day charge internet service ridiculousi pay thateven thought took wireless laptop sorry free friendly took moment chatted grandson whenever wanted show latest purchase gift shop needed scotch tape glue something working onmuch appreciated lady rd floor kid concierge played board game one hot afternoonthanks concierge lobby really knew area recommend printed map u one asked direction eatery print boarding pass day leavethat help usi think need handicapped parking husband requires handicapped parking always hard find one availableespecially weekend really fun time swimming exploring resort complex trying new restaurantsjust spending quality family time together relaxing grandson ready go next year ditto husband',\n",
       " 'nice property group friend stayed pointe hilton   purpose trip besides relax visit friend golf overall resort nice however biggood luck getting around wo map ive indicated pro con belowpro pool north south building pool hot tub bar river ranch huge multiple tiered pool river although slow nice pretty long basically ride large innertube pool area family kids general service thought service helpful  nice nice upscaled stayed regular bedroom suite cant speak bigger unit casitas easy check inout aware pm checkin though service meal goodcons construction work floorchanging lock much inconvenience bit hassle getting new key resort starting show alittle wear tear hence need constant fixes maid service reminded makeup rooms resort bit expensive hilton many discount ie aaa entertainment exist family resort however given group kid tagging along got alittle tired little one running around thats problem go elsewherethings do sedona day trip ill certainly make another trip someday golfing played sanctuary arizona biltmore course sanctuary tight desert course biltmore traditional course temperture brutal however  degree',\n",
       " 'family vacation spotduring offseason least stayed squaw peak resort four week  typically lot research go vacation element vacationlike quality hotelcan make break entire trip must admit bit nervous reserving squaw peak resort mixed online review people reported poorly lit others said property dated one review said kind people though im exactly sure meantso scoopthis place four season phoenician however doe charge star resort rate eitherwe paid night aaa rate true suite separate bedroom respect quality accomodations squaw peak resort line embassy suite caters conventioniers famlies diversity made possible river ranch water park area nice familyoriented swimming pool recreation area separated buldings parkng lot part separation keep family away business people le ornate pool respective wing overall ground pleasant river ranch area nice lazy river swimming pool allows float innertube around property fun highly relaxing photo seen lazy river really dont justice pretty expansive scenery diverse toothe food pool area solid service hole wall restaurant border excellent matter fact everyone friendly courteous also ha workout area available guest small feemuch better standard gymwith extensive weight separate aerobics try service adjacent spa looked decent like thing life thing complain noticed first day lot inevitable litter drink cup etc people leave around multiple swimming pool didnt get cleaned staffthis epecially true lazy river crushed beer lingered day wall around one bendsa small complaint walking distance anything particular result really need car want change scenary  minute drive scottsdale ha shopping dining people watching second item isnt much complaint concernwhat place like spring break went low season kid school resort wasnt crowded told spring break summer highly discounted rate available place really hopping river ranch big big one probably lot le relaxing time bigger wonder however ha drinking age kid could see mix college kid little kid poor place serf alcohol poolside overall squaw peak resort offer family value dollar six yearold thought par maui disneyland vacation destinationpretty high praise agree pretty special trip definitely',\n",
       " 'customer service reading  review skeptical sometimes wonder review help hinder trip family   girl   travelled parent phoenix  day vacation mother hard please time positive negative every person encountered friendly average nicest hilton family stayed north building  bdrm suite nice shut door watch tv kid slept one sink dressing area bedrooom price actually relative paid basic best western didnt near pool area pool right wanted change wandered river ranch something child enjoyed thouroghly food holeinthewall breakfast dinner bit pricey average suggest rent car try restaurant phoenix ha offer dont cracker barrel restaurant search one best also aunt chiladas ok come area mexican food enjoy restaurant version try eat macayos much better price better customer service encountered many high end resort stayed wondered people stayed got compared review agree hilton install safe father retired police officer caught yr old trying steal walletts river ranch',\n",
       " 'time excellent amenity slight problem reservation called march week arrive told u reservation change made december listed anywhere file reservation agent pleasant said couldnt change reservation check day earlier planned since reward trip upset book one sedona since going anywaymy wife checked monday afternoon kid asked got upgrade casita asked checking change place magic didnt say word cancelled sedona reservation arrived evening impressed casita ground floor full kitchen dinning half bath plus living fold bed tv walk upstairs bedroom full bath private balcony bedroomwhile car dont understand previous poster said nothing within walking distance aunt chiladas strip shopping center across street chinese carryout sort sport bar  mile away drug stroreliquor store across street supermarketthe kid enjoyed lazy river tube minature golf ended buying resort package although golf free since diamond level sending receiving large fax made economical restaurant open complaint food read post always wonder resort people negative positive found balanced report telling ',\n",
       " 'enjoyable family returned last minute spring break vacation packed full capacityit decent pool area family friendly plenty shallowwading area little kid water slide bigger kid complaint amount people spring break expect crowdedwith almost every lawn chair taken  chair packed close together cant walk definitely understaffed amount people pool area probably appealing another time year making reservationrequest renovated upper floorour first bottom floor renovated dark felt little bit like motel  requested move second far far better renovated two queen bedsit also larger one king bed hard believe charge price two different lastly ac problem second requested fixed   pm found couldnt fixed offered move u pm two little kid stayed talk management next morning took one full inconvenience appreciated overall think value pay probably go back',\n",
       " 'family resort recently stayed hilton spring break overall fantastic upgraded regular casita hilton honor status nice family four bumping constantly two bathroom available even private pool tucked couple building provided nice break noisier river ranch areathe ground nice found pleasant helpful concierge personnel helpful suggestion always worked well card suggested address direction printed convenient fault pointed earlier lack safe management really need ask temselves expect family leave wallet device leave morning spend day poolthe breakfast buffet offered onsite restaurant average made order omlettes waffle often available hilton resort addition ice creamcandysnack shop onsite closed  pm unbelievable wouldnt open later time yearoverall family time definetly return',\n",
       " 'dont robbed  property staying end arizona vacation decided high priced resort give treat thought waterpark activites place family vacation end unfortunately didnt turn way last day vacation went waterpark day husband placed short containing wallet key eyeglass locked locker men changing went check locker afternoon discover lock cut bolt cutter signed breakfast morning also receipt number allowed thief go remove everything value computer camera ipod many personal item cannot replaced safe waited ten hour phoenix police show thing hilton offered pay dinner still proccess sorting financial problem advice insist staying leave valuable home',\n",
       " 'absolutely wonderful family ha stayed numerous time last july  staying many phoenix area ha best far u oh im comparing biltmore heaven sake scottsdale princess another trip without kid paid rate high  right  depending time year either rate never greater time staying  boy age   entertained regular basis july  rate far best far manager recd hysterical call evening went manager ever ha seems booked incorrectly u checking one day prior arrival date manager assured although didnt show problem following day arrive following day led townhouse type didnt request didnt tell stayed walked  story  bedroom townhouse suite complete deck  bathroom smaller swimming pool backyard shared others treat friendly efficient always ready help maid service exceptional eatery exactly looking fuss inexpensive yet food delicious always served smile time nice sitting fire talking til wee hour come phoenix least  time year sometimes kid sometimes without main reason visiting area close friend relocated nj mesa az impressed dig moved weekendwe stayed  never dull moment water park nice starting ending point touring day nice welcome plain ol pool property u adult revelled lazy river even took ride  story slide trying ouch',\n",
       " 'family younger kid suite nice amenity excellent central restaurant hiking spring training baseball accomodating helpful whenever asked food fine decent price kid ok adult overall place u   year old',\n",
       " 'teen outgrowing pointe spring break trip probably last ofmany previous trip pointe   yearolds finally outgrown lazy river mini golfand koyote kid resort virtually sameplace visited first time  year agothe restaurant serve average overpriced food virtually pool service although everychair adorned service flag brightside suite recently remodeled much modern decor still lacking doublevanity nutshell think resort stillnice kid  year old younger want tohang pool older kid bored',\n",
       " 'beautiful resort property nice couldnt staffed professional people arrived late tuesday went restaurant wonderful service food wine little expensive glass kendal jackson  golf course spectacular per husband challenging lost  golf ball warning property large may take shuttle around walk fair distance depending really didnt mind walking prefer smaller property large two mini bar personal item balcony primarily overlooked parking lot limited view butte property kept clean free clutter also spa treatment lady working spa helpful overall time problem',\n",
       " 'recommended im reviewer delaware  place look lot better website doe person im pretty much overall agreement reviewer commentsthe dark average smelled strongly freshener nauseating decor standard hilton nothing imaginative interesting came kid youd probably appreciate pool activity dont kid arent really disneythemed plastic decoration including fake old western town store front theme thought price  per pretty high gotthe spa opinion misleadingly described one  best arizona dont know list working cant imagine case booked  massage massage ron quite kind money usually pretty nice spa experience go along case checked girl counter didnt even offer take locker give robe ask locker regular gymtype locker coed steam sauna whirlpool saw man steam stretching hamstring full workout gear including gym shoe wouldnt gone steam paid shower badly need overhaul mildewed water pressure waiting basically sofa beauty salon strong smell nail varnish massage table rocked throughout needed sort repair everytime water turned hair salon heard loudlyone nice place hike phoenix mountain park east glendale past highway  nice hike although drive  minute get therethe aunt chiladas place place grab bite coffee plantation near intersection glendale th also nice',\n",
       " 'family best bed ever slept pool kid weather little cool pool heated still able swim afternoon plenty suite nice provided refrigerator charge brought quickly also printed boarding pass morning leaving think may renovating kitchen food service little limited concierge able provide detailed local restaurant information close airport free shuttle service available sister resort tapatio cliff pool adult oriented pool didnt long resort definitely',\n",
       " 'place family river ranch main pool',\n",
       " 'expected view bedroom note brick wall size patio',\n",
       " 'star hilton star resort ha nice allsuite property excellent new bed fact give hilton bed nearly equal mark westins heavenly version rest property bland think suburban version standard hilton city nice pool well landscaped couple significant complaint  per day use gym outofhand especially factoring cost also im sorry guest penalized kitchen renovation twice send food back service poor quality',\n",
       " 'still second time around second time came first time studio casita time suite south tower clean modern comfy couch big tv living flat screen marble counter bedroom king bed nice plenty pillow worried weekend waterpark crowded wasnt water park water heated point dont feel chill stepping give many towel want barcafe site burger dog beer also deliver fooddrinks seat easily spent day loved lazy river waterslide big waterfall tip allowed bring pool toy long theyre huge restaurant food friendly waitress able keep cool yelled crazy lady  kid sitting across restaurant crowded always call order go pick  minute later take back enjoy fave tv show small pool also nicely heated late swimoverall price shop around discount dont get rack rate found deal night govt discount night season also go middle dec school find night',\n",
       " 'rated dissapointing chose reading review yes ground pretty dissapointed especially phoned advice recommendation package accommodation suite sitting sofa sleeper bedroom  double first south pointe block dated vanity end bed main bedroom  small drawer  people clothes week paint flaking woodwork smelled dirty even though looked clean bathroom basic thought smallest bathroom experienced usa spent day driving shut put next morning got transferred north pointe block updated ground floor said ok desk clerk failed mention five foot screen blockwall enclosing tiny patio adjoined car park suite tidier bathroom even smaller first short tub slightly better shower head thankfully vanity recess seperate bedroom pretty granite countertop nice fitting could get one side bed found got crashed wall quite petite clothes storage though suite better suited  people occupancy  teenage son amused maid walked  time am sofa sleeper waiting shower made sure used disturb sign registration told u sorry wrongly advised booked casitafood advised take bounceback breakfast package extra  tax kid breakfast free kid age confirmation slip reservation knew  age  cut kid meal bounceback breakfast cost  table cheaper pay charge table daily basis purchase voucher advance kid breakfast included  breakfast bill extra  daily top quoted got another im sorry misinformed also check restaurant bill wrong  day  bounceback breakfast option varied depending server despite written clearly menu opted skip breakfast couldnt face meal im sorry misinformed comment restaurant closed restroom hole wall labelled squatter stander actually found offensiveriver ranch nightly rate cover  people per suite extra kid  daily another im sorry misinformed specifically asked resort fee included  u booked told yes courseriver ranch ha lazy river actually river lazy slow paddle order move  flume type slide toddler pool  swimming pool hot spa liked cleaned one others dipped toe said ouch walked away hot  year old kept amused amount time regular pool older kid particularly impressed actually didnt bother swimming everyday booked specifically treat kid better pool facility seen pool area website looking forward staying toostaff always friendly courteous saying sorry misinformed pointed issue desk clerk checked due departure date experience ruining vacation much checked alternative accommodation refunded unused bounceback voucher said im sorry get rest',\n",
       " 'loved beautiful friendly efficient unfortunately spent one weekday probably advantage expect weekend get pretty crowded anyway id loved stayed longer definitely planning return',\n",
       " 'beautiful beautiful stayed one arrived late enjoyed sedona long kid disappointed find river ranch closing arrived close  open  leave morning able enjoy one pool  suite huge bed comfy bar area refrig two tv easy drive nice mall got airport le  minutescheckin easy friendly enjoy time',\n",
       " 'excellent luxurious living hilton reputation stayed  business stayed array far best check quick easy arrived upgraded suite wow two huge comfy bed wide screen tv lovely bathroom kitchen area breakfast bar sitting area balcony dont excellent view lucky get pool view others look car park etc werent long managed sample water slide pool lovely nice setting also numerous pool nearer jacuzzis open  hour lot kid obviously get bit crowded meal hole wall restaurant nice ha cow boy theme sell grill type food entertainmerment sit outside inside quite poorly lit found made drowsy indeed also took quite food served large group u suppose could expected service found friendly nothing much trouble also shop onsite sell souvenir drink etc quite handy liked spend bit time felt didnt really see whole complex fairly large complaint couldnt find safe sure well hidden haha definately ',\n",
       " 'family vacation stayed hilton squaw peak week family neighbour family hh diamond booked upgraded casita given two breakfast voucher per day kid age  loved river ranch friendly helpful went early october aside weekend people pool fairly quiet even saw people floating lazy river reading book 鈥you probably couldn鈥檛 high season also spent afternoon tapito cliff hilton nice suited adult family although waterslideall excellent vacation return next year',\n",
       " 'beautiful landscapedangerous couch fianc茅e arrived squaw peak hilton   hilton gold card member upgraded nice spacious  half bathroom  tv kitchen area large couch boardroom table could seat  minus sink outside bathroom 鈥i hate thathowever getting settled happened notice small shard glass living couch alarmed obviously dangerous someone sat child picked otherwise clean monday  awoke loud racket  find large crane right outside bedroom balcony sort building work needle say ruined chance restful morning finished  question management need disturb guest early hour noise began  fair enough  early directly outside occupied ground beautiful pool area clean well kept hole wall restaurant option restaurant renovated also bar available apart pool bar limited hour ive never hilton without inside bar least coffee shop neither',\n",
       " 'nice family vacation spot got back five day hilton squaw peak found nice suite nice change extra television set daughter bed comfortable nice linen comforter although need phoenix august felt dark needed updating dont care sink outside bathroomand guessed ithere sink outside bathroom initially checked given first floor south suite liking since dark part building seemed way immediately went back desk offered u fourth floor betterhowever elevator get ac fan work realized problem already unpacked five day daughter ran stair get husband decided tuff elevator note told husband complain elevator insisted probably something well aware continuedat end review appeared lot updating around premise elevator pool area south building closed due renovation however never witnessed renovation work going water park area nice since midweek crowd contend lazy river soooo lazy sometimes actually paddled way high mark cleanliness pool area especially bathroomskept nice cleanate several time hole wall pleased food waitress first time ate sure return waitress brought attention kid eat free unaware nice bonus however upon return visit charged daughter meal remind server service got worse worse return trip never saw first waitress ate aunt chiladas found excellent dining experience chipsalso breakfast th diner enjoyed every time wanted eat away needed drive least  min liked place eat shop bit closer walkable selected read many review selectedthe hilton based information gathered kidfriendly factor key selection daughter enjoy water park facility liked spiffier accommodation husband feel bit pampered guess rate got paid back elevator storyi didnt forget checking decided mention desk person elevator part building ac fan caused lot inconvenience u said unaware one else mentioned husband didnt believe seem sincerewho know',\n",
       " 'squaw peak score high excellent facility restaurant surprisingly value considering hilton food excellent hole wall restaurant recommend buy  day ticket allows play golf ride lazy river fitness etc fitness well equipped could little updating excellent whole recommend',\n",
       " 'weekend getaway husband spent weekend enjoying excellent resort summer rate regular suite nice comfortable bed little hard bad faced patio instead pool quiet even everyone came back water park river park lot fun even dont kid slide river float enjoyable place people watching got crowded u went one smaller pool tip drink  cheaper bar next pool behind main lobby park want sit water drink spend afternoon guest big poolthe service outstanding service guy pool boy everyone friendly seemed really enjoy job block highway  squaw peak express get highway quickly baseball park  minute away improv nightclub tempe  minute travel rush hour shopped around heavily rate usual hilton web site best rate package definitely return next summer',\n",
       " 'family fun stayed   june booked directly website selected bounceback vacation  nightly included breakfast two adult advised quick pleasant straightforward checkin kid eat free deal advertised came welcome surprise optional  daily resort pass explained u pressured buy fact seemed represent value shared family use additional facility booking requested far pool allocated remodelled top floor north tower yes balcony overlooked inescapable car park directly beyond mountain fantastic view sunrise jet lag able fully appreciate morning excepting casitas close could river ranch poolsthe ground attractively landscaped commendably vigilently maintained suite immaculate spacious comfortably overfussily furbished well laid generous storage bathroom dressing area fitting superb wonderfully comfortable bed especially plumpest ever pillow get special thumb upthe river ranch family younger kid nothing hardcore thrill seeking teenager mind one decent water slide lazy river waterfall sporty pool set volleyball basketball etc kid pool name time generously staffed well maintained particularly impressed poolside restroom cant easy keep spotless day long managed refrigerated drinking water freely available throughout resort pool water probably heavily chlorinated skin appreciates certainly pool river ranch opening hour am pm goodsized tranquil courtyard pool hot tub open am pm think noise sensitive might appreciate allocated ground floor area kid koyote club way budget send kid fun remaining onsite  per child per day session think dobt valuable service conference needing time also offered  midday movie popcorn entice kid midday sun ate three time hole wall restaurant two breaksfasts one dinner service food consistently exceptional child friendly indeed lovely terrace overlooking river ranch icing cake lest review read like shareholder although experience might consider let say negative experience breakfast lantana grill place seems oriented squaw peak key market conference family market visit customer seemed outnumbered  one yet took  minute order taken another  breakfast arrive order wrong running late confess let go lantana grill menu price seemed comparable hole wall neither portion quality food close stood around large group talking ignoring u visited restroom clearly hadnt checked hour bin flowing wet floor strewn wet towel crawling along foor saw cockroach spotted entire resort groundswe also dined adjacent aunt chiladas mexican ha enthusiastically reviewed site confess disappointed food appeared table blink eye order taken bland overcooked however admit complimentary chip dip ever tasted ambience fortunate visit midweek resort lively enough buzzing way crowded leaving start july  holiday weekend clearly heavily booked getting hectic possibly may enjoyed weekend quite much first choice romantic weekend away kid doubt exclusive resort phoenix plusher pool towel price range  daily delicious generous breakfast four lovely environment relax day entertainment poolside without fork extra penny best sleep away home quite distracted lamenting heatif management hilton squaw peak extremely proud succeed keeping place pristine providing genuine welcome family',\n",
       " 'price suite s couch chair wet bar fridge filled overpriced goody well large television sitting separate bedroom also television sink toilet showertub separate neither large fine two u linen quality towel soft absorbent plentifuland fresh clean well maintained step pool night plus tax special price class reunion seemed like anyone could say event get price seems like could check reservation department find group time wanted join group spirit saving helpful got u information restaurant direction get food barbque restaurant horrible nearly inedible found el paso barbque glendale terrific cheap hugh portion ice cream soda sugar bowl scottsdale blvd indian school rd fifty year old ice cream shop still treat buffet brunch camelback inn take book sit outside spend morning eat much like welcoming biltmore missed place visit place breakfast time money wright place supposed best place visit phoenix area paolo soleris arcosanti find internet sure visit facinating',\n",
       " 'tale idiot desk clerk facility acceptable case water park desk could judged somewhere incompetent hostile arranged girl desk provide key son arriving later day wed reserved extra smilingly assured u taken care returned late afternoon discovered phone son still ready hadnt checked suspected something amiss waited line talk smiling girl whod promised everything go smoothly avoided talking u turn arrived signalled male desk clerk take care u though point wed given sign upset simply wanted know son arrived obviously knew thing proceeded according plan afraid face uswe directed rather escorted speak male desk clerk already bristling though nothing yet said wife asked son arrived told yes given key hadnt picture id ha passport flew montreal wife said lower voice youre speaking man replied though didnt note anything extraordinary tone escapist reply might comical rude arranged given key wife continued nearly whispering glancing side formerly smiling girl leaving reception area escape possibility becoming involvedi wondering man say regard passport obviously son could fly without adequate picture id dont point hand man instead replied though wife resting right hand holding car key countertop left hand still holding pursethat desk clerk could termed cretin loose cannon untrained idiot faulty tower like clerk whatever little inclination ever return smiling girl apparently feared involvement colleague probably intervened refused son keythe pointes ground squaw peak extensive searched son nearly hour found path hole wall dantano restaurant pool convention center nearly crossed several time till finally called nth time one phone received word hed checked joke  pm also received message phone effectthe following day idiot clerk graced u perky morning etc smiling girl avoided looking felt strong inclination answer morning dont raise voice escalate thing morontheyve got water park maybe justifies dealing idiot ill leave matter guest balance item nonfunctional eg highspeed internet could easily overlooked fact one overlook lot small deficiency civil took friendly attitude apology display concern none idiot displayed',\n",
       " 'squaw peak hilton hilton phoenix north squaw peak nice cozy ha atmosphere well restraunts loved walk shady garden sit outside warm arizona air problem moldy bathtub stopper reported management problem dealt quickly otherwise clean comfortable service value money recommend highly',\n",
       " 'poor service recent pointe hilton squaw peak resort scalefrom   we stayed one two bedroom casitas although clean itdid old musty smell cicada outdated needof upgrade particularly carpet spared expense onthe bed bed comfortable blanket andpillows  year old daughter said wouldnt  starhotel wasnt bedsthe hole wall restaurant food average service thefirst couple meal fine one morning breakfast waitedover  min never saw food water trackhim order get bill wife meeting toattend box food take charge theyinformed u busy morning apologized service pool horrendous people totake care large area average wait time ahalf hour drink one point server noticed halfdozen flag lounge chair told u serverwas busy walked sat next girl sun bathing andcontinued talk waited guy show upthere many order take another  min wereceived drink oh forgot two daughter drinksafter decided go bar slim pickens onlyproblem isnt enough service serversand people bar people cant get served wifewas meeting pool service continued like thisfor three day hungry wife day  never servedbreakfast met u pool lunch figured hotdog lunch anddrinks saw one server line thebar  min wait wife called let manager knowthat pool way staffed cant get served andcant bring anything pool area going eat manager sent u director slim pickens hole thewall guy nice apologetic offered get u aseat hole wall informed chancewe get served earlier experience breakfastthis man personally served u lunch pool hecompletely fixed pool service problem six people showed andall line went away server walking around asking youwanted anything everyone taken care also oursurprise took care dinner bill nightwe also ate aunt chiladas restaurant food itcould coincident ok service first sowe went back next took two hour time satdown time got bill food though',\n",
       " 'squaw peak need facelift stayed  rented two bedroom casita traveling parent two girl casita large enough u nice size living area small kitchen nothing refridgerator microwave bedroom fine bathroom needed better lighting guess feel paying  nice alright dated looking dark wornout looking large pool lazy river nice crowded stake chair early morning normally went go lazy river came back small pool casita swim lay nice time probably unless renovated',\n",
       " 'place kid stayed spring break  march    u kid    brba casitapros ton casita lower level living area huge kitchenette covered parking large deck upstairs  br  u br worked fine two queen bed pullout sofa  bath downstairs nice big pool area kid loved lazy river water slide excellent fitness center plenty free weight machine cardio kid concierge area plenty free game check outcons breakfast everyday restaurant mainly voucher terrible service yes crowded still severely understaffed also breakfast expensive  soso buffett didnt include coffee juice last  day went buffett anyway wait order get food long though large fine u definitely dated need remodel fairly soon though obviously busy time year pool area got crowded chair overall nice place pretty especially love swim little one',\n",
       " 'change pace spring break returned  nt squaw peak resort march th two family went  kid age     felt resort better expected family stayed south pointe suite found fairly comfortable family  splurge casita rate decent money issue coyote club kid stars first class way kid begged u go well worth money wish included price enjoyed holeinthe wall restaurant fire pit creamery aunt chiladas pool minigolf course main pool bit crowded spring break spent morning sister resort tapatito cliff nice change pace warm friendly took guided hike enjoyed spa many attraction az ha offer botanical garden rawhide spring training baseball game time highly recommend resort yes nicer resort area one perfect family small child affordably priced',\n",
       " 'family holiday went pointe hilton squaw peak last march arrived pouring rain flooded everywhere didnt mind cause snowour check went smoothly offered bellhop service chose find requested away  hour pool le noisy top floor possible request met clean spacious even microwave view parking lot partially screened huge palm tree growing right outside window end row closest side entrance complexgood werent people walking back forth front bad view wasnt either window also garbage truck came side entrance might disturbed noisewe bought bounceback package gave u food voucher breakfast every day either two restaraunts property deal loved lantana mexican shredded beef hole wall fun right outside pool suggestion read far get early cause fill fast never ate buffet many tasty thing menu lunch broke bank ordered poolside heh live quesadilla quite gooddinner went property aunt chilladas across street large serving mexican reasonably priced hike far side property bellman drive cart went way town place sawdust floor necktie hanging ceiling place one guide book maybe frommers waste money sorry cant recall name pool lot fun even   year old boy enjoyed floating slowly crowded bottle neck occurred lot lazy river also fun larger pool well another hint still reading lounge chair hard get especially umbrella make sure get early get pool get chair mean stand line pool entrance open lot others already promise warning dont try save chair sneaking early thru tennis court empoyees watch tactic take stuff away send back way first hand experiencewe fun playing tennis choosing early morning evening court time avoid heat sure book reservation fill uphave fun wont disappointed family resort destinationthis property family try youll see',\n",
       " 'place family returned  day getaway really enjoyed warm pool beautiful ground friendly water park fun lobby pool close warm rained quite bit went pool anyway spa bit pricey passed ground resturants back next year',\n",
       " 'ok nothing selected water park child enjoy wasnt exciting literature led u believe lazy river lazyreally really slow kid went pool underwater bar closing thought blast drinking course adequate terribly bright first assigned first floor dark recommend bedroom decent size beware thoughboth bed uncomfortable u living area ok guidebook described ground lushly planted bit generous ground nice nothing spectacular nice latanya grille pretty fabulous corn bread restaurant within walking distance aunt chiladas nice courtyard food overall decent value paid  place get excited',\n",
       " 'casitas comfortable stayed bilevel casita week comfortable bed layout quiet felt pretty private property large workout doe get crowded phoenix convenient complaint decor wasnt also little lighting bathroom keep window open heat lamp see shower happy full size fridge private carport id willing lot fancier option phoenixscottsdale price little id rather pay little something awesome travelling business didnt get chance try lazy river pool looked nice place bring family service',\n",
       " 'ideal family stayed pointe hilton august time polite helpful suite size family four food drink overpriced restaurant kid ate free kid menu asked fridge could stock beer soda available didnt mind u taking everything mini bar using charge made stayed north pointe  min walk main reception cant understand complaint area mile pool etc advertised large resort expect plenty golf buggy scootin happy give ride waterpark quite impressive imagined doe get crowded weekend kid enjoyed get much always use one smaller pool one right outside door used one weekend building ha washing machine dryer one floor useful really enjoyed certainly recommend squaw peak anyone want base explore surrounding area sit back glass wine kid spend day pool',\n",
       " 'phoenix best kept secret food quality accommodation polite courteous excellent facility kidswe certainly recommend',\n",
       " 'time pointe got back  resort went along two family time arrived  pm allowed checkin early requested close water park minifridge got also able get right next told  occupancy rate holiday weekend didnt seem crowded fine nice size small bathroom furnishing little old suffficed family five quiet clean ate lunch daily restaurant pool  daily food credit deal convenient food service slow waterpark ok stayed pointe south mountain last summer water park much better offer one small waterslide lazy river kiddie pool four year old well larger pool zero entry pointe south mountain offer free cabana umbrella lucky enough snag one get pool  claim spot shaded area met several family return every year u rather spend little money go back pointe south mountain offer older child also   yr old resort seems little newer',\n",
       " 'pointe hilton squaw peake stayed three beginning june   gotten internet rate including breakfast adult normally offpeak time unprepared crowd water park nearly impossible find lounge chair  said child loved waterpark pool saturday resort show gpg rated movie poolisde kid watch water planned activity weekend large clean food well priced resort definitely child',\n",
       " 'prepared crowd must stayed busy weekend planned three couldnt wait get one told low rate offered local people season must taken advantage waterpark nice way crowded enjoyeven  year old didnt want deal suite family decor pleasant think located overlooking  hour pool didnt help either doe pool really need open long breakfast included rate enjoyed couple choice restaurant better rate camelback inn doubletree paradise valley chose unless kid dont mind crowded water park',\n",
       " 'highly recommended family though first stayed  year earlier enjoyed much without child stayed three may  touring arizona early flight meant arrived  though wasnt problem immediately checked suite seperate living perfect u  year old son view wasnt lovely pool swimup bar childrens pool downstairs really didnt matterthe waterpark fun surprisingly relaxing son content float around lazy river age whilst relaxed waterpark busy sun quiet mon tuethe lantana restaurant best place food though hole wall breakfastour real complaint kid club closed apparently require  kid open guess start low season still disappointment blurb led u believe open year roundif travelling uk booked cheaply trailfinders paid 拢 inc tax better web deal',\n",
       " 'place waterfall background pointe hilton squaw peak',\n",
       " 'fun resort older stayed friend summer  free voucher older resort older average water feature kid adult alike love lazy river float around water course innertube provided resort waterfall several pool water volleyball fantastic drink special western themed restaurant dining please go elsewhere phoenix boast many restaurant none resort resort tucked away city reach restaurant etc within  minute drive',\n",
       " 'family vacation spot returned resort husband two girl age   ball river ranch fun something everyone lazy river relaxing slide waterfall kid updated service property clean well maintained restaurant enjoyable family friendly squaw peak meet need looking relax fun kid phoenix area',\n",
       " 'disappointment stayed squaw peak last week business meeting eagerly anticipating since ive sister propertythe tapitio cliff reallly enjoyed boy disappointedthis property old look fineclean updatedbut property quite run front desk friendly helpful never got passed fact nowhere near peakits busy road across street bankand ground elevator hallway messthe food main restaurant adequate best service youre thinking planning meeting warnedthe catering really subparif business id never pleasure least earned hilton point',\n",
       " 'stayed mandarin suite returned one edward ii inn choice san francisco holiday weekend one limited place required three highly concerned reading review late took chance since staying bed breakfast private bathswe really problem pleasant helpful clean mandarin suitethe odd short staircase directly breakfast door heavy sound adjoining issue door bit hard open locked securely decor asian theme oriented nice black lacquer chinese style headboard bed pretty painted screen rest furniture quite dated frankly needed updating electric fireplace completely worthless produced heat faced way couldnt see fake flame bed couch tv whopping screen clear reception dvd player bathroom clean spacious plenty towel none super plush smelled looked felt clean blow dryer shower enclosure bit odd said lot towel could clean spray odd thing bathroom door toiletshowersinkif looking privacy forget bathroom door ha large glass window cold mini fridge paid twice much warm fridge small wet bar type sink closet complete ceiling high lighting period appearance old buildingso ada compliant overall fineit clean theme provided charm otherwise outdated interiorthe window frosted couldnt see minimal alley type noise could hear dish clanking restaurant next door quiet  pm next noise heard around am garbage truck came hey crowded city staying old buildingi expecting absolutely quiet many wonderful place eat wine bar coffee spot shop chestnutone street lombardthe breakfastthis also quite nice price paying hot fresh homemade quiche yogurt two type cereal store bought danish pastry several type bread fruit plate milk water tea coffee hot cocoa orange juice dish clean jai kept bringing piping hot quiche newspaper access internet waiting u morning told u leaving dont open pub much public want drink evening happy serve wish told u checked ini idea european shared bathroom likebut think everyone satisfied bed breakfast guided u food public transportation option think accommodation fine certainly luxurious againnote take bus  powell bart stationdo attempt walk end trolley car line lombard inn mistake made coming boy climb big hill suitcase grueling bus  lifesaver getting oakland airport marina area problemtake air bart bus bart station oakland head san francisco save money put towards meal',\n",
       " 'people limited budget noticed reservation said shared bathroom never stayed something like since booked  bed thought one bath shared  personslol tiny barely fit  queen  junior bed ok know land expensive breakfast better la quinta hot quiche cake also banana milk coffee tea yogurt cereal itarea doe look scary felt safe front desk nice restaurant around pharmaciesbad side internet charged extra noisy faced street woke   time hte friend said ok totally disliked green mold around sink furniture yes sink front face beside closet smelled bad coudl even say peeing absolutely disgusting surprised shared bathroom share bathtub located one toilette located another one morning going ot bathroom saw man coming bath towel take shower noted toilette occupiedi think pee bath tubi booked becasue could find another going interview university although student trying wave detail order get student price back herejust find another availablein hte whole sfo',\n",
       " 'miserable experience recommend edward ii anyone except people put ahead everything else tiny extremely cold day asked turn heat told building heat wasnt turned way heat individual closet contained two hanger advertised gourmet breakfast featured open bowl kind dark brown dry cereal open plate bread pastry along uncovered graylooking quiche stale coffee left boil hotplate chose individual package yogurt fruit gourmet promised lack elevator taking luggage family never return edward ii recommend friend',\n",
       " 'grotty little wife given tiny stuffy supreme queenin bed obliged shoved one wall mattress sagging disaster ventilation consisted window broken blind opening wall shower control broken loose tile bathroom tv remote didnt work sign decay absence maintenance everywhere breakfast consisted cold quiche packaged pastry white bread toast used place price ha really gone hill',\n",
       " 'nice place outside',\n",
       " 'british b little bb form traditional british bbthe owner jai lovely wife could done u visitwe car emergency arose jai drove wife store medical supply helped u finish vacationalittle piece britain marina district san franciscothe flying scotsman',\n",
       " 'another b went honeymoon tough trip reason kinda small cozy landing place long day decided rent car instead used bus system go everywhere made trip arduous fun ill fix next time last day jai operator nice guy earth like food gave u mandarin suite romantic last suite fantastic recommend spend little youll recieve much better far go trip remember thanks jai rita',\n",
       " 'place awful disappointment disappointment husband wanted nice place spend weekend inn website made sound perfect pub coffee throughout day english furnishing evening glass sherry coffee throughout day etc well disappointment  two tiny advertised upgraded queen tiny sparsely furnished hard thin mattress torn shower curtain wireless internet broken pub closed permanently guess food continental breakfast nothing special propietor heshe never showed face suggestion save money one dozen aging motel area doubt worse place',\n",
       " 'honeymoon place voted one romantic place san francisco according msn decided book honeymoon needle say severely disappointed outside attractive neighborhood okay quite close fisherman wharf area first made u pay front  planning staying   radisson miyako price climbed  flight stair tiny spectacular view brick wall alley full trash seriously reminded old maid tapestry teddy bear wicker furniture hear everyone come even though back could still hear traffic spotless though complaint department pleasant decided one since tired get refund  refund  parking paid advance oh yeah parking lot far pretty scary continental breakfast usual fare okay guess dont honeymoon stayed radisson miyako  le',\n",
       " 'value scott lombard breakfast friendly management adequate even though reserved shared bathroom bother bathroom clean step view bedroom window golden gate bridge fantastic bit noisey first thing morning thats earplug made provides need visitor sf spend hardly time returned day touring received warm welcome big smile diolch yn fawr',\n",
       " 'value october   family stayed inn  generally satisfied place premise clean knowledgeable friendly quite small adequate complaint regarding breakfast inn filled near capacity breakfast tiny always packed result either eat pub bring tray back also breakfast continental opposed fullyprepared meal gather concept bn b price reasonable close proximity several san francisco attraction budget trip city',\n",
       " 'disappointing booked family  last summer review big disappoinment family want honeymoon plain small ask lady front desk let cancell reservation looked another nice gave complete refund maybe better saw return try',\n",
       " 'love legacy patio legacy',\n",
       " 'choice quiet relaxation convenient  minute drive airport never hear plane surrounded nursery condo place rural home quiet  minute outlet mall arizona mill quick access freeway  minute drive anthem outlet  minute old scottsdale fashion square mall regular retail designer shop large number restaurant around gallaghers wanting view sport many tv screen restaurant legacy ha never disappointed extremely clean lower rate given service housekeeping missed u couple time week visit rd visit slightly odd set patio look parking lotif staying longer period say week sure keep one day aside  hour drive sedona red rock formation scenary spectacular grand canyon  hour away try plan overnight time allows',\n",
       " 'okay husband stayed golf spa benefit corporate rate gave u well located close mall highway etc arrived impressed well ground kept large complex beautiful view south mountain pool clean people worked friendly professional however issue noise thin wall unit also patio door facing main driveway nd floor noise car golf cart driving back forth little disturbing especially around end day also needed refurbished carpet cleaned must also reiterate though happy help accomodating arrived early checkin mistakenly given checked hour prior everything mess however offered another said wait also given free lunch restaurant bad place really even dont golflaura ontario canada',\n",
       " 'place booked legacy preferred access really enjoyed one week first studio upgraded  bedroom walking model easy studio  bedroom feel like home lot parking site restaurant small food friendly washer dryer even studio full kitchen nice ha everything need go buy grocery move right fry market   mile awayonly downsize resort free internet pay  per day get onlinepretty much middle phoenix area easy freeway access quiet clean roomswe definitely back legacy',\n",
       " 'wellkept secret super booked priceline got studio  upgraded one bedroom suite timeshare condo studio one bedroom lockout unit one bedroom larger unit full kitchen unit clustered two story eight plex unit elevator nice view golf course living dining bedroom agree positive statement made prior review negative  six parking space every eight saturday unusual one host party guest use parking space counted  car  parking permit last saturday security made attempt police parking problem plan enjoy nightlife prepared long walk golf course parking lot back condo  housekeeping clean last two day complain solution leave  pm  pm time clean since noon  pm clean go along solution gave new towel long discussion empty trash although wifi free internet free access computer printer lobby print boarding pass waiting check also dialup phone call fifty cent unlimited call typical time share kingsize bed bedroom queensize sofa bed living however two drawer one small closetthankfully lot floor space lay suitcase',\n",
       " 'opportunity legacy twice last month facillities accomodations top notch especially considering reasonable price definately staying future',\n",
       " 'legacy golf resort nice place beautiful ground large unit plenty freeparking charge use phone wifibest way go hwy using baseline rd dont use mapquest direction several resturants coffee shop nearby haveresturant site however use since unit full kitchen like eat town ice machine broke one unit nearbysome noise unit wall think central ac unit runningnicely decorated clean  tv roompool nice except quite family wkids min shade areasstaff helpful golf course site add nicegrounds part property private residence allgated',\n",
       " 'loved suite food excellent golf course definately return',\n",
       " 'laud legacy visiting legacy golf resort nd st phoenix regularly past  year plan continue future comparison resort valley sun find golf course accommodation ammenities represent valley best golf resort value far golf course kept superb shape even heat summer course challenging fair test golfer ability practice facility extensive golf shop ha selection golf apparel get  discount filling questionaire swimming pool restaurant tennis sand volleyball hot tub also property morning guest announcement voice mail planned activity available day one bedroom condo provide everything need short extended washer drier complete kitchen stereo  tv double vanity sink jetted tub separate standing shower another single vanity sink dishwasher balcony dining area even studio dishwasher washer drier fridge sink microwave  burner range area around legacy ha restaurant arizona mill mall movie theater attraction close finally found friendliness helpfulness guest could ask carol ha taken reservation girl registration check desk louie joe starter course moto one cart guy nick zell ha given lesson two chris head pro chris morrow time share sale others dont know name impression get friendliness sincere come across real people nice way rather robotic type serve paid resort visitedi look forward future visit nick next tackle short game lolsubmitted allan popsack',\n",
       " 'legacy town wedding april booked  bedroom unit legacy golf resort weekend requested unit close pool nd floor view plesantly surprised upon checkin request met loved unit spacious new kitchen huge bathroom jacuzzi nice patio looking pool golf area comfortable living dining sorry check  day liked spent time travel phoenix area several time year visit family wouldnt hesitate return legacy',\n",
       " 'wonderful view personnel spent week legacy golf resort although dont play golf enjoyed view golf course mountain ground excellent condition employee friendly whenever saw helpful question several meal restaurant friend everyone praised food convenient airport freeway shopping major grocery store nearby stock kitchenwhich complete fullsize appliance including dishwasher clothes washerdryer highly recommend legacy golf resort enjoyable phoenix',\n",
       " 'doesnt get better balcony view',\n",
       " 'golf yes peace nice facility best phoenix lot shopping within short drive nice clean excellent maid service even start dishwasher gone property nice golf course outstanding pool nothing write home noisy lot kid service except bar unfriendly except golf could count one hand number time anyone spoke ask needed anything golf accommodating service oriented  degree woke july th nite multiple  gunshot outside window party erupted parking lot gunshot took place police arriving investigate scary probably try facility phoenix come back',\n",
       " 'new rulesno bar service pool  pm four u decided enjoy sunset pool margarita went dinner local restaurant arrived pool near  pm guy group went get drink directed bartender go clubhouse pool bar closing clubhouse told liquor license allow serve u drink take pool questioned bartender rude asked manager manager ryan confirmed concession restaurant pool bar sold different party effective jan  result liquor law allow serve liquor actually observed pool confiscate someone el drink later left pool went clubhouse drink appetizer karen excellent waitress indicated could give u drink plastic cup take shouldnt take pool taken u cant imagine resort expected vacationer enjoy drink pool sunset essential part vacation experience',\n",
       " 'balcony',\n",
       " 'bad thing need aware first resort pretty nice facility well maintained big wall thin pool bit smaller picture depict usually bit walk music bit loud also weird part built scottsdale surrounding neighborhood bit rough say least mind expect security gate entrance lowandbehold isnt resteraunts baseline road part going take bit drive find decent place eat golf course real savior course well maintained even considering june challenging',\n",
       " 'nice resort stayed three legacy ground beautiful well kept stayed one bedroom unit unit nice wall thin could hear neighbor talking restaurant ate breakfast dinner tried numerous occasion call conceirge one ever answered called front desk ask question said didnt know answer transfer u conceirge answered phone said ask someone else hung say negative experience staying ran coffee walked front desk asked time got back unit coffee waiting toilet became clogged someone unit within minute overall experience legacy except concierge',\n",
       " 'loved legacy golf resort returned week legacy golf resort phoenix perfect u close airport asuwe attended graduation yet quiet away busy street large grocery store mile away starbucks target many store ha outdoor pool lap swimming found paved running trail onlly mile resort could  mile run away traffic  bedroom unit spacious quiet appreciated dvd player stereo unit golf use restaurant cant comment thosesome previous comment negative regarding lack friendliness really didnt much contact busy thing timeshare daily phone message attend presentation never responded anyone confront uswe ignored phone message much better way hound mexicowe definately',\n",
       " 'handy golf airport resort ha golf facility excelent golf kitchen needed restaurant ha limited service nd floor studio suite appear located loud mechanical device rate  star resort otherwise  star',\n",
       " 'consistently poor service stayed wedding midapril  property looking golf course amazing pool nice back customer service  year old running place one person checkin ready pm lot guest waiting checkin around pool day talked early checkin request concierge  year old girl spent day emailing text messaging cell phone ask question even look away phone mind paid  part wedding group gladly paid stayed nearby marriott resort seriously',\n",
       " 'place last week march conference nearby used legacy golf resort guest overflow extremely willing assist member need everyone stayed found accommodation delightful definitely use',\n",
       " 'legacy compared marriott canyon villa wife stayed marriott canyon villa cv scottsdale day timeshare promotion marriott okay cv stayed quite cramped hall leading stark concrete poorly lighted parking lot felt like crowded apartment building feel comfortable walk felt like parking lot everywhere use jw marriott across road drive take shuttle drove fairly healthy hike parking lot huge facility everything huge crowded corporate contrast finished legacy golf resort legacy pleasant place well maintained larger nicer marriott feel human pleasant walk around nice scale liked wildfire faldo course marriott golf course legacy nice probably bit challenging though comparable much cheaper little restaurant club veranda food service workout facility fine block away farm south mountain  charming restaurant one breakfast lunch dinner breakfast liked legacy better',\n",
       " 'time legacy booked group legacy received service prior responsive need provided prompt service met need ensured pleasant checkin checkout easy beautiful ground well kept book legacy',\n",
       " 'trip experience travel lot year landed phoenix anticipation staying legacy golf resort weve heard lot resort husband golf buddy overall trip clean went u spacious nicely decorated overall happy highly recommend',\n",
       " 'legacy customer service substandard recently booked suite legacy golf resort phoenix one worst customer service experience ever experienced travel upon checkin appeared little time check guest arrived waiting line approximately half hour told ready clear indication given ready upon inquiry including request speak management finally given number told could check housekeeping finished cleaning reason given delay previous guest checked late resort control however approached suite noticed several suite still process cleaned leading u believe resort understaffed one point made management booking suite fact love worth wait wonderful view mountain golf course upper balcony finally able occupy stepped onto balcony wonderful viewof two large eucalyptus treeswhich totally blocked view booked suite resort several time past reluctant future poor customer service',\n",
       " 'resort dobbin lookout point',\n",
       " 'beautiful accomodations stayed legacy september  found accomodations clean beautifully decorated two tv set dvd player kitchen jacuzzi tub dining area etc workout wellequipped date machine tv definitely return',\n",
       " 'longest week life traded week timeshare mistake customer service consistently bad however food worse restaurantbar supposed close pm  different closed early sheet short called housekeeping offered deliver sheet stopped housekeeping entire week shower head like standing high pressure washer without actual 鈥渟hower鈥 given bad information checkin internet questioned resolve issue told sorry cant anything overall disappointing resort never recommend',\n",
       " 'fair reading review need know dont golf arent interested pool booked right price thought quiet relaxing week shopping phoenix unless go timeshare presentation never know amenity place nothing roomnot even restaurant menubut get voice mail message every morning telling come concierge desk welcome packet packet ha family activity week concierge give hardsell pitch go timeshare presentation pretty full schedule arent new phoenix didnt want waste time presentation  wall thin heard everyone around u tvslike lessthanaverage motel heard outside noiseno bird woke u morningbut hear rhythmic creaking bedspring us pretty propery golf course view relaxing kitchenette helpful bed comfortable price definitely right paid  studio concierge seemed really know phoenix well heard telling people dont mind hearing neighbor go offseason decent placejust nothing special',\n",
       " 'resort golfing husband along brother got back  legacy golf resort timeshare owner resort spread ha really nice booked one bedroom  block called casitas  minute walk main buildinggolf pro shop didnt mind walk unless booked golfing drove bag drop area want walk far book casitas    furthest awaythe spacious amenity expected although couldnt find remote nd television didnt call complain oh pepper shaker empty otherwise beautiful brother slept pullout couch said wasnt comfortable thought going target get bed pad  never got around king bed ok definitely hilton westin typeone complaint close life u  year old drive  minute old tempe nightlife wanted serious nightclub  minute away never actually made one u always sober phoenix old tempe awesome always happy hour  close lot pub including uno expectation conceirge desk helpful want go casino conceirge desk ha ticket free limo ride take back long agree  hour golfing ownership rate   spa youre owner im sure incentive go tourwe drove property owned legacy called orange tree got really pretty golf course expensive right golf course private legacy legacy privacy edge industrial area pool horseshoe shaped ha  hottubs lovely day golfingwe also went phoenix coyote game bought ticket box office cheap seat  st period moved better seat cheap entertainmentalso drove tuscon way took detour biosphere  cool youre science saw facility  people lived glass dome  yearsalso drove grand canyon took  hour went american thanksgiving road dead mapquest say supposed take  hour judge drive worth gorgeous scenery dont forget drive sedona thats  hour phoenix totally awesome scenery hikinglike cheap shopping  minute away arizonz mill shopping centre wwwarizonamillscomwell thats im sure well come back year book two bedroom wish closer stuff',\n",
       " 'loved two couple used rci point  bedroom week golf wonderful clean spacious date furnishing one complaint sheet use fitted sheet bottom kept coming ground beautiful easy access airport lot nice golf courseswe golfed legacy twice nice course well kept also golfed raven south mountainit okay liked legacy better estrella mountainreally liked courseespecially back nine fav dinosaur mountaindid twice cannot wait go backdo hesitate resort',\n",
       " 'relaxing timeshare exchange u  bedroom  u found quite spacious ground beautiful clean date young college age people friendly helpful able talk learn alot area never arizona gave u lot information whole resort beautiful area around dreary definitey many wonderful place visit arizona',\n",
       " 'im glad free husband stayed one incentive sitting boring sale pitch  hour time sharing however im glad free refridgerator ran long annoying turned one point bad restaurant soso ordered hamburger fry tasted like something could cook home waiter pompous lazy told wanted order hamburger looked like three head guess never heard hamburger ask bar wench refill water since busy lollygagging kitchen employeesoverall im glad didnt cost cent certainly mad actually pay crap',\n",
       " 'legacygreat price vacation couple went legacy boyfriend june bedroom casita huge immaculate entire night left dish drainer even pop dishwasher u absence first afternoon problem pool closed promptly reopened next morning although parking lot almost always jampacked guest place near entrance overlooking golf course quiet peaceful throughout resort warm earnestly helpful older woman help desk obligated soft sell timeshare said weren鈥檛 interested pitch immediately ended wasn鈥檛 brought sightseeing conjunction resort grand canyon trip organized daylong van tour friend took u river tubing also made way diamondback gamemy first indoor stadium toured botanical garden slooowly  temp equally happy crashing place watching dvd ceiling fan patio lovely touch well go back legacy heartbeat affordable vacation plus saved major buck min layover flight',\n",
       " 'resort youre white recently stayed legacy golf resort week going well started using fitness facility basicallly booted fitness center white felt like black man kkk meetingi thought racism ha died since  apparently dead wrong racism prejudice still much alive country particular arizonai wouldnt recommend staying resort unless white',\n",
       " 'resort ha everything need got back four legacy golf resort chose resort based positive review website disappointed particularly fancy resort ha everything need comfortable especially family apartmentlike facility unit hand feel besieged kid running around resort spread enough resort part shell timeshare system pressure join resort consists dozen cluster twostory townhouses unit ha balcony patio sit asked unit view got one second floor facing th fairway nice studio spacious king size bed sitting area sofa two armchair full kitchen sink half size fridge coffee maker toaster stove two burner washing machine dish glass pot pan utensil dont remember microwave unit also ha stacked washerdryer handy provide soap dishwasher also handwash dish reason soap washerdryer biggie clean seemed relatively new dirt peeling wallpaper visible sign wear housekeeping service every day regular parking outside unit ground well keptcheckin smooth registration desk young somewhat le polished five star resort friendly efficient problem high speed internet connection   hour moved another right away request instead sending someone fiddle wiresthe main building also house golf pro shop restaurant spagym tried pro shop well stocked well run golf course shape well maintained score  star golf digest high golf course phoenix area fancy course enjoyed round especially twilight rate  guest  nonguests start noon yes hot expect go phoenix junei breakfast dinner restaurant basic food like expect clubhouse little pricey get outrageous service complaint didnt use spa service use gym reasonably well equipped two treadmill bicycle weight swimming pool next main building popular family though use itthe resort ten minute south airport others noted pas couple spotty neighborhood way may want think twice stopping nearby gas station late people hang resort fine security guard driving around parking lot time felt safe couple shopping mall five minute away car another direction resort centrally located access golf course restaurant think positive resort outweighs negativesallinall legacy place without expensive frill summer rate amazing book directly website highly recommend place',\n",
       " 'nice place value business trip phoenix decided legacy thought could get round golf business figured place golf course empty snow bird normally leave april luck place golf course full brim go next door raven golf coursestayed studio pretty well furnished nice deck partial view one fairway breakfast club house reasonable also nice pool area must say employee nice went way say helloprobably business anyway recommend vacationer',\n",
       " 'nice resortgood value stayed legacy first  may  came away w generally feeling place first problem direction web site coming airport rental car ha relevance direction life became better checked w smooth checkin nice concierge went way solicit need mayhave dinner recommended rustler roost nice wine barorganic restaurant next door new sport bar gallaghers  mile away nice big w sitting area marble bathroom bonus refrigerator microwave small stove dw nice patio w  deck chair beer nite onsite restaurant really golf bar however free corporate card breakfast morning top notch even chance play golf one nite pm teeoff club complimentary staying onsite charged  hole threw cart nice course knowledgeable golf employee yet top notch resort w better onsite restaurant bit better onsite experience could achieve couple year value excellent w corporate rate stayed legacy hampton inn price',\n",
       " 'lovely resort beautiful ground stayed two bedroom condo legacy week two teenage son unit actually one bedroom apartment adjoining studio apartment spacious spotlessly clean boy used studio basically sleepwashup hang although kitchenette terrace washerdryer one bedroom ha huge living roomdining roomkitchen fully equipped washerdryerdishwasher etc detergent etc supplied go hiking nearby south mountain state park wash clothing afterwards one bedroom bathroom enourmous soaking jacuzzi although jet back marble shower toilet duh three sink studio bathroom pretty standard one bedroom ha two tv dvd vcr plus internet fee helpful whatever needed gave u promptly smile food clubhouse fine nothing special golf course arent pool area nicely kept clean grill housebar fitness huge well equipped better four star actually travel lot business massage daylong hike done quite well cmt strongly recommend request top floor quiet view either golf course mountain week advance called reconfirm happy accommodationsthe south phoenix neighborhood basic scary written certain strolling material need go drugstore starbuck supermarket several immediately area resort ground spacious enough feel need peaceful dinner walk literally road nd st  minute walk farm south mountain internationally reknown slow food organic restaurant coincidentally featured usa today one  top pick country open breakfast lunch happy hour dinner best place eat downtown wild thaiger  block central ave past heard museum outstanding thai food better la nyc overall certainly legacy deal easy drive place might want see phoenixscottsdale area',\n",
       " 'nice deal legacy compromise price value  mile airportdriving pas basic neighborhood factorgrounds excellent along accomodationsclean nice viewsgood restaurant nice golf course challenginggolf rate reasonable  includes  discount staying thereclubs comlpimentaryi definetely go backonly negative one time maid service issuecame  asked leavingwe staying nightthey know thishad call cleaned returned pmseems language problem understand englishi sure norm service',\n",
       " 'wonderful unit close proximity airport husband stayed legacy two onebedroom upstairs corner unit overlooked golf course reading review requested upstairs unit quiet nice view pleased surprised request met furnishing nice unit spotlessly clean view balcony lovely people front desk pleasant efficient particularly liked gym afforded pleasant view golf course got takeout food restaurant reasonably priced tasty enough swimming pool looked nice swimmer never ventured first hardly slept kept hearing sounded like front door opening footstep coming hall bit scared even got investigate big brave staying id called front desk enquire going way heard noise day addition odd noise never figure noise end surmised perhaps place haunted could building settling however wed legacy close proximity airport added attraction',\n",
       " 'enjoyed th elegacy golf resort three u stayed legacy golf resort last week standard week long golf holiday cramped dough jammed three u standard everything fine pool closed reno thats finewe golf new pool opened day departed look real nice golf course nice nothing special course nonetheless nice clean comfortable ample cooking facility inclined prep meal etc daily newspaper nice treat neighborhood fine complex something like  acre le gated safe safety nonisuse u despite one two folk say neighborhood minor issue front desk fax document u dont believe ever faxed make worse document shredded office maintained policy say least found little odd life roll legacy real close sky harbor airport downtown phoenix tempe virtually everything wed wouldnt faxing next time',\n",
       " 'place pool looking',\n",
       " 'absolutely fantastic resort husband stayed legacy resort  day beginning october th beautiful resort landscaping fantastic view incredibly food restaurant stayed time reseeding golf course pleasure crowded golfer view south mountain evening beautiful romantic  bedroom condo combination larger home beautiful red marble bathroom topnotch furniture kitchen appliance weve stayed number gold crown timeshares place absolute best cant say enough thing place hesitate go',\n",
       " 'time legacy loved legacy stayed four early october studio suite golf course view second floor first ton amenity kitchenette microwave two burner stove minifridge toaster coffee maker even washer dryer earlier reviewer noted bed little firm side find inhibited sleep additionally young family check adjoining suite notice noise result however think enough problem keep staying legacy againthe view golf course balcony pool large uncrowded fun little pool bar resort practically abuts south mountain park phoenix resort activity offered lot free activity guest watercolor painting hiking park etc also fitness complimentary guest ate resort restaurant food wonderful creamy rich steak diane well thought extremely wellpriced booked online booking service got deal really enjoyed legacy visiting phoenix id definitely consider staying',\n",
       " 'amenity well maintained stayed two bedroom unit legacy golf resort   resort well maintained two bedroom one bedroom plus studio unit impressed one bedroom studio dishwasher washerdryer two bedroom unit resort dishwasher washerdryer larger unit huge jacuzzi tub nice touchthe full kitchen made convenient make meal eat timethe front desk accommodating helpful enjoyed resort againby way dont miss excellent city view south mountain park short drive resort sunset view fantastic',\n",
       " 'simply best stayed  didnt want return home site kept spotlessly clean immaculately manicured cannot speak highly enough extremely friendly helpful particularly restaurant golf shopplayed course twice excellent bunker punishing cost use range  unbelievable value free use chipping putting fantasticif mention negative choice restaurant menu slightly limited although food service excellent however part holiday exploring place eat plenty choice short drive awayin conclusion absolutely best place ever stayed wholeheartedly recommend cannot wait return',\n",
       " 'plan resort prior review saying warning misfortunated event sorry accommodated manager thing aside situation rare affect others like legacy golf resort truly best experience resort time arrived every level service called ahead confirming reservation  bedroom condo golf view incredible thanks expedia legacy golf resort awsome look forward visiting soon',\n",
       " 'confortable place find deal entrance legacy',\n",
       " 'terrific legacy beautiful plenty space housekeeping came inconvenient time pm wanted get ready dinner kept spotless little trouble broken coffeepot took  try  day finally going front desk pot asking new one view beautiful golf course south mountain loved washer dryer availableespecially horseback riding south mountain sedona pool area nice lot shopping restaurant closeby large mall arizona mill baseline le  minute plenty activity resort adult well kid go back anytime',\n",
       " 'place courtyard unit',\n",
       " 'nice resort showreview full',\n",
       " 'comfort home showreview full',\n",
       " 'excellent onenight given free upgrade king suite upon arrivalthe suite larger many apartment ive king bed extremely comfortable quiet everything tried worked internet fast didnt chance try jacuzzi tubwe also didnt time continental breakfast cant comment vending machine floor choice water soft drinksthe shuttle ran every half hour airport preferred every  minute idea standard iswed definitely',\n",
       " 'clean comfortable quiet attractive stayed property booking hotwire checkin went smoothly front desk friendly helpful assigned clean quiet comfortable space especially appreciated comfortable king bed happily againthe ideal access car phoenix airport arizona state university tempe',\n",
       " 'value friendly stayed   hour exremely friendly helpful clean adequate',\n",
       " 'doe exactly supposed looking place sleep long transatlantic flight didnt distinguish many others fine bed really comfortable quick easy find airport access driving phoenix next day breakfast tooonly issue concern restaurant bar waffle house car park barrestaurant next door think deliver really problem place rest weary head',\n",
       " 'place long flight booked basis review site thanks guy excellent long journey due delayed heathrow inevitable long time take get security getting car hire centre getting little oasis needed snack sold pot instant noodle shop trick spotless everything needed quick stopover began road trip next day continental breakfast exactly described set u day chap reception really helpful question asked including direction could onto intersate next daythere computer connected internet reception guest use free big help need bit research traveli think best sleep whole trip apart another holiday inn express benson az',\n",
       " 'better expected stayed one flown new york heading north flagstaff booked two twin bedded next husband  kid checked trip advisor review expected clean basic however pleasantly surprised two queen sized bed spotlessly clean bed comfortable ever slept air conditioning worked well noisy bathroom also spotless choice complimentary shampoo etc slight disappointment continental breakfast offered little choice however  reckoned reasonable value overall use',\n",
       " 'value airport convenience recently drive phoenix sedona needed place shuttle service airport best place shuttle came within  min call driver pleasant requested first floor since traveling mother helpful accommodated u immediately everything expected hi expressespecially cinnamon roll next morning shuttle bus right time  next morning took u terminal time place need near airport shuttle service',\n",
       " 'choice early flight choice quick access car rental return airport desk clerk friendly checkin pleased everything else nice clean small refrigerator microwave one pancake restaurant nearby drive little way find restaurant dinner since early flight werent able enjoy complimentary breakfast noticed computer internet access printer lobby checkout unnecessary since statement placed door need near phoenix airport happy',\n",
       " 'really nice really thought nice bed super comfy lot pillow choose clean shower definitely ever visit area',\n",
       " 'bed showreview full',\n",
       " 'easy access rental car return showreview full',\n",
       " 'park showreview full',\n",
       " 'perfect need showreview full',\n",
       " 'perfect airport showreview full',\n",
       " 'excellent h么tel showreview full',\n",
       " 'recommended excellent welllocated friendly nice spa pool think overthetop amazing however perfectly nice reasonably priced breakfast jerry deli',\n",
       " 'sofitel comfortable bed',\n",
       " 'excellent way service top notch time walk door reluctantly leave bellman front desk service waiter spa everyonewas amazing attentive curteous friendly time always immediately service smilethe decor modern surprise since last time stayed year ago conservative french decornow ultra modern isnt favoritebut tasteful nonethelessthe bed amazingly comfydown comforter pillow feather bed top mattress flat panel tv every high end toilettriesthe maid service efficient neat every gym really nice one nicest ive ever seen always high end free water gym internet service lobby gymoddly enoughbut convenient also alt internet access nobody expect itthe concierge friendly well experiencedthe spa amazing toothey offer foot soak hot tea wait treatment therapist excellent spa beautiful nicely appointedthere also fresh rosemary growing outside spa nice aroma walked slight problem wthe valet slightly disorganizedthe first morning left rush get work waited  min key although called ahead car sitting front attendant much concerned wthe car coming one leaving waited long forgot give tip insist give key made stressful start day excellent food breakfast dinner outside bar ha wonderful fire pit made cold enjoyablethe seating inside restaurant comfortablebut unbearableall wonderful',\n",
       " 'regret couldnt longer perfect time walked sooooo friendly eager help perfect across street beverly center  minute walk robertson boutique  minute ride rodeo drive travelling alone wanted make sure stayed place felt comfortable despite hot spot quiet clean bed heavenly never wanted get shower cool seeing hollywood sign hill behind id definitely recommend plan returning longer',\n",
       " 'best place ever stayed best time ever view north ',\n",
       " 'glossy exterior incompetent service decor chic looking sleep decent service got neither th floor could sleep wee hour morning music blaring disco st floor music discontinued called complain am begs question priority running disco repeated slipups breakfast order put lost another breakfast order arrives peanut butter god know butter toast lunch worst ceasar salad chicken soup ever ate article clothing lost bag moved one another bellman never recovered favor find competent le chic',\n",
       " 'ultimate place front exterior',\n",
       " 'super lovely frette towel linen roger gallet toiletry hollywood regency dorothy draper style decor heaven complaint stone lounge drink expensive  still cant believe put margarita small wine glass also stone lounge loud dont try business meeting',\n",
       " 'excellent another picture',\n",
       " 'comfy bed stayed sofitel renovation year ago decided give another go see changedthe still efficient become friendly nice seemed little smaller bathroom bit bigger much nicer bit cluttered shower enormous two different shower head choice bed pleased say must believe bed die sooooo comfy unbelievable',\n",
       " 'lovely nice comfy bed view see hollywood sign',\n",
       " 'experience everything top front desk helpful courteous small suite beautifully done flat panel living area bedroom small television bath bose sound system although wed brought cd two sofitel cd internet service free provide cord desk drawer connect bed comfortable almost didnt want leave extra thick downfeather pad four pillow assorted firmness topped wonderful comforter perfect shower another treat rainhead think thats named window could see bedroom also flip switch became opaque privacy big jetted bathtub wellif go sure drink bar downstairs stone rose later evening busy lot fun outdoor patio ha wonderful couch give feeling privacy also nice fire pit sit aroundwe wonderful meal restaurant simon la patio wish paid attention ordering seafood appetizer priced pp making kind expensive plenty lobster shrimp mussel clam oyster delicious various entree especially seared tunathe fitness area well done free weight cardio weight equipment provides headphone water bottle fruit cool damp towel scented wmint also went spa ideal facial vanessa nearly best facial ive ever friend massage said start spa experience tea foot soak relaxing access steam bath shower guest even dont spa treatment shower woman locker area  jet minute recommend everybody told went extensive renovation year ago place la',\n",
       " 'choice recommend cant better architecture interior design bathroom incredible okthe thing didnt like spent  one pay internet connectionthe service employee really kind also valet guy',\n",
       " 'best los angeles sofitel recently stayed los angeles sofitel say best stayed anywhere beautiful friendly smile willing help make sure onethe pool nice clean even bbq going need go looking place eat nice clean view hollywood every detail perfect nice carpeting art gym best clean supply water towel fruit welli always come back los angeles since sofitel los angeles beat long shot',\n",
       " 'nice back roomi upgraded soelite  sq ft king bed laid like rectangle large small triangle cut diagonally top corner large triangle bathroom large bath fully glassenclosed rainfall shower vanity toilet small triangle stepin closet two set french door leading onto tiny balcony deep shoe it鈥檚 still nice touchthe bed one 鈥渁lmost鈥kings 鈥husband鈥檚 foot reached way end bed soft comfy plenty pillow like firm bed likely soft lighting either side bed reader also two small dresser one doubled nightstand chaise desk wheel little cramped fit much furniture overly advertised plasma tv actually lcd still nice tv alarm clock doe adaptor mp player wasn鈥檛 obviousthe bathroom lighting took minute figure multiple position rockerdimmers phone next toilet need connected time tv sound also played bathroom want hear tv get ready water pressure also 鈥too much hubby preferred bit le shower sink ha small towel rack next shavingmakeup mirror used sink shower glass wall huge shower stonetile small builtin bench shelf toiletry photoelectric window look bed flip switch it鈥檚 opaque flip it鈥檚 clear much fun flipping switch back forth nice shower view hollywood hillsamenitiesthe closet  frette robe  pair slipper padded lingerie hanger well made shoe horn safe fit laptop thought slipper nice touch even little put idea wearing 鈥渦sed鈥slippers closet also terrific sewing kit queen amenity bath small canister cotton puff qtips plenty fluffy towel usual array soap shampoo body lotion roget gallet brand hairdryer small cubby vanity nice didn鈥檛 take excess counter space also bathroom loofah mitt sealed package thought little silly wore adhesive bra evening scrub excess adhesive next morningthere high speed internet pay  day seems little steep lowend motel offering free wifi computer savvy husband able find unsecured network easily computer skill won鈥檛 need pay minibar well stocked although crazy expensive minibar aredon鈥檛 try get anything you鈥檝e left behind gift shop sell everything soap robe lamp sheet mattress toothbrush bottle aspirin however hour drugstorechemists right around corner every needstaffthe polite helpful still small snag although specifically asked hollywood hill view made reservation first given faced beverly center sure get hollywood hill view it鈥檚 much nicer also asked checkin pm checkout last day got new request didn鈥檛 seem go last morning chambermaid trying get still bed call front desk straightened quickly bit hassle first stayed wanted watch pay movie system called front desk someone supposed call back fixed i鈥檓 glad never went sleep midnight skipped turndown service one 鈥not major issue know take decorator pillow throw bed valet stand always seemed like one knew going car always waiting u soon called it鈥檚 made clear parking day given really choiceallinall small snag certainly staying sofitel',\n",
       " 'really liked often sofitel one right line nice sofitel chicago enjoy labor day weekend upgraded sick view hollywood hill big signature sobed amazing floor ceiling window bathroom also nice size huge rain shower complaint sliding door bathroom didnt shut way service par sofitels everyone nice polite best part besides view free poolside labor day weekend bbq awesome fitness center youre willing pay  per rate definitely recommend area fun full restaurant shopping close everything',\n",
       " 'outstanding sofitel got back england  wonderful sofitel la arrival greeted friendly porter valet service men desk also friendly superb specification hd tv stylish bathroomshower enjoyed complimentry spa steamroom sauna facility visited every morning prime access beverly centre includes top designer shop also ha stunning bar restaurant overall found sofitel truly unforgettable experience definitely',\n",
       " 'elsewhere  never stayed dazzled pitchblack hipperthanthou fauxtrendy d茅cor place youotherwise amateur hour sofitel took beautiful frenchstyle comfortable reasonable turned exorbitantly overpriced hideous postmodern house nightclub spa charm cultural revolutiontheyve seen every inconvenience common arrogance aggressive postmodern designer lightswitch inside door stagger around dark find one electric outlet lamp plugged therein didnt work alarm clock didnt work none key card worked go way downstairs get new one front desk every time went roomthe lighting bathroom harsh extreme poorly aimed hard locate operatemy traveling partner unacceptably small strange triangular wedge exorbitant rate normal rectangular featured glass window bed looking bathroom since activity bathroom considered acceptable display window bedroomthe bed covered huge duvetquilts top sheet one lay feel like thick floppy supportless goosefeather pallet kind bedboard actually mattress pallet ripped pallet undersheets threw complete human stain floor extracted quilt duvet cover approximate universal standard mattress normal bedclothesthere sundries shopnothing happens try get service like checkout tv theyve set clock back twenty year requiring frontdesk checkoutthe pitchblack lobby hideous metal construction matched already threadbare carpeting elevator aggressive unattractive orange curleyques corridor carpeting number offset diagonal cant read one ha passed door inset numbernothing date faster today hip trend even done artistically finesse cashhappy twentysomethings seem exclusive clientele seem happy cutting edge yesterday',\n",
       " 'sofitel amazing stayed sofitel business  recent renovation ha catapulted different category entire beautiful well comfortable bed extremely soft white comforter pillow bathroom design amenity top notch rain head shower brand name toiletry even speaker bathroom may listen news get ready morningalso located across street beverly center mall road cedar sinaithe restaurantlounge lobby serf food typical price well worth cotton candy dessert die ask waiter assorted tray dessert evening lounge becomes vip type place expect velvet rope come ',\n",
       " 'overrated hallo travelersif book specal rate ok clean check internet cafe next reception stick keyboard found open bottle wine behind flatscreen tv best cool guy valet parking cool forget client',\n",
       " 'suite bedroom',\n",
       " 'mixed blessing stayed  first facing beverly blvd sleep  downstairs nightclub closed large french window poor noise insulationthe second third better got facing hollywood hill could even see hollywood sign bed still constant slamming door am made restful sleeping weekend close impossiblethe professional courteous understanding restaurant breakfast brunch dinner excellent valet fast reliablein summary get even numbered facing hill still expect restful atmosphere one otherwise expect level',\n",
       " 'ho hum stayed final push refurbishment thing pretty topsy turvey incredibly helpful nothing much trouble didnt even mention smelt wed spent week nicaraguan jungle however hugely expensive cleaning came back jungle bakedin rather cleaned given upgrade junior suite looked beautiful bed sumptuous however whole thing rather spoilt road noise double glazing looked main road found bit bind guess thats im british like walk take bus everywhere long hot walk hollywood bus dont seem stop near maybe using wrong bus food restaurant without first class',\n",
       " 'pleasenot la due corporate policy wish wasn鈥檛 case don鈥檛 hate staying sofitel certainly don鈥檛 love said perfect bed unbelievably comfortable soft actually sell they鈥檙e i鈥檝e contemplated buying one probably move walkin closet perfect woman dont exactly travel light bathroom also nice spacious shower wbenches toiletry rather masculine smell cant use may sound silly also alarm clock soo loud ive never overslept despite super comfy bed management beyond awful everyone unfortunately overshadowed bunch wannabe actor can鈥檛 job use personal credit card check hadn鈥檛 alerted cc company traveling didn鈥檛 go straight instead asked call verify charge well checkin guy made loud fuss card declined insisted wasn鈥檛 possible didn鈥檛 care arguing try received phone call cc鈥檚 fraud dept asking charge didn鈥檛 call verify finally got hour later apology wannabe actor upon checkout learned company ridiculously fake nice superficial since checkout info entered system ha consistently fake nice every time arrive hope ha fired nope鈥lways unless like located near express way highway鈥ot sure large fast road horrible view nonexistent also located across street monstrosity known beverly center beverly center handy ton mass dept chain store shop aren鈥檛 exterior hideous cute gift shop stock wonderful thing like marvis toothpaste alongside novelty like mile high kitslastly la every ha fun pool scene strong restaurant fun bar 鈥except sofitel like mix business pleasure plan head nightlife destination',\n",
       " 'heart sofitel sofitel leaf one detail spared stayed king superior night shopping many many labh found reasonable one sofitel wont regret one penny spent decorated white brown modern clean appearance shower unbelievable fog window watch tv  hd lcd surround sound bathroom showering wish supply bathroom fine soap shampoo enjoy travel tonthe customer service excellent never felt place swanky someone help everything luggage valet housekeeping come prepared plenty  bill parking night comparable la added expense must consideredthe pool fitness center excellent luckily pool wasnt crowded quiet relaxing pool chair super comfortablethe fitness state art best equipment available also offered free bottle water cool scented towelswe sofitel future whenever possible',\n",
       " 'amazing travel ny week several year like place fun however wont sacrifice service enjoy business trip work music business time called travel office told new try sofitel la resisted heard assured placesure enough met artist usually hot place every many year problem usually something hot bar hot eatery however usually bad service la storynot case service area nightlfe even surprisingly outstanding spa look like finally found hot one fade scene overlooked something thought everything look like la ha stepped game found new home away homeand dont need spend like king boring posh locationsif considering another business trip might well enjoy trip check place true hollywood hollywood people dont see guest part scene though one famous celebs live beverly hill treated wellim looking forward summer secretly enjoying trip la everyone work think im another arduous trip work',\n",
       " 'ok nicely located near everything ok shower like everyone mention must every average size bed comfortable view side mall huge billboard evan almighty conceirge fabulous helpful best part bellhop doll soooo helpful guy front desk bit stuffy never got use pool close pm learned nobody like walk la chose walk farmer market grove people thought nut wasnt bad took cab back  walking distance ivy lunch walking also close spago dinner parking  la bad fun call every time needed car course time called car tip valet mall across street felt safe time sofitel overall think overpriced nice nothing write home though',\n",
       " 'management replaced fourth refurbished booked sofitels priority service clueless fact comfortable booked premium single clerk tried book minimum lower floor facing berverly center everytime id arrive ask stayed front desk valet recognize since drive la desk clerk management weakest link service front desk need work dont european manning front desk instead people selling coffee starbucks returning another ive used checkout waited twenty minute belman',\n",
       " 'experience perfect shopping restaurant lobby beautifulwe checked realized cold turned heater waited  hour never got warmapparently window sealed moved u another extremely hotand air conditioner work move u third time small appeared working heat air  could finally settle rest management apologize even offer explanationin fact person front desk rude checked first thing next morning went hyatt wonderful never understand thing happen apology nice',\n",
       " 'loved go back卢 ',\n",
       " 'comfortable free silppers',\n",
       " 'fabulous la highly recommend stayed  time last year wanted add voice praise sofiteli stayed penthouse level run house balcony high floor get view la skyline local area really nice atmosphere perfect get feeling high quality stuffy plenty customer service concierge fantastic waiter serviceall fixture fitting extremely high quality ha refurbishment programme ha made even better bathroom lot little extra wouldnt even thought ofnice large plasma screen tv choice channel well stocked minibar top notch snack drink fabric furnishing high quality bed comfortable like soft bedsthere taxi rank next always least couple car waiting westfield century city name changed shopping area also grove minute taxi lot shop best part find beverly shopping centre opposite side road lot shop even cinema catch latest movie whenever go back la staying understand point made another reviewer slightly sniffy french service reception uk used dealing french problem recommend expensive worth extra dollar',\n",
       " 'professional service one problem recently stayed sofitel la  overall service excellent professional fast gracious however one issue way handled surprisingly unprofessional first goodthe comfortable bathroomshower excellent huge bed pretty theyre new count lot little soft side due featherbed turndown service bottle evian someone always front door welcome open door one door one valet saw coming ran open breakfast simon   time excellent time serve excellent french press coffee im terrible coffee snob one morning asked new cup let coffee turn lukewarm instead got entire fresh new pot french press forgot avocado omelet rushed entire plate avocado also let u sit forever sunny morning also dinner drink simonstone rose scene little much food excellent best thing order menu iron chef burger tiny perfect burger fry truffle oil little milkshake dont miss itthe fitness center clean open am helpful youre shoot also provided bottle evian chilled towel brownie muffin internet access computer headphone pretty complete place hang spa ha nice treatment facial massage though pricey im new york compare priciest spa however cant top massage relaxing setting couple minute bed sauna open yet unfortunately locker nicewhat else cant beat walked dinner many sure thats even possible part la also walked shopping weekend couple minor service issue along way maid opened door came one morning am still bed apologized quickly left shampoo conditioner replaced day call housekeeping get new one sent came quickly big deal ok bad  day two car parked front desk called confirm credit card charge piling charge asked oh  per day per car charge thats  extra parking rental car  daysi went front desk speak manager dont problem paying whatever need paid thought wrong werent told mention valet ticket hand mention literature mention packet give checkin option park separate lot instead apologizing informing u charge making small gesture example  credit restaurant spa something wouldnt cost much god forbid apology said la parking premium yes said understand im new york dont problem paying parking problem sneaking charge onto credit card something le professional place doesnt fit rest experience hereanyway continued way manager refusing acknolwedge told getting increasingly huffy mention  nightsin end paid  consoled taking extra brownie bottle evian fitness center still nice place though pain say probably',\n",
       " 'sofitel los angeles cest si bon photo',\n",
       " 'like like short drive rodeo drive think  mile sunset blvd also right across mallthe also nice big new furniture like marble bathroom adjustable shower pressurewe didnt eat cant say gym pretty large fully equipped equipment little old',\n",
       " 'nice stayed sofitel los angel stop first impression nice one since checkin took  minute get pm also request view reservation view wall beverly mallafter initial disappointment clean nicely decorated nice bathroom helpful friendly breakfast service ok excellenthotel excellent opposite beverly mall plenty walking distance short taxi ride',\n",
       " 'overnight la stayed la beginning transcalifornia roadtrip arriving christmas day front desk friendly courteous even though clearly quite crowded given stylish seemingly new furniture bedding concierge efficient knowledgable self parking us valet us expensive seems norm la areahotel breakfast morning incl free aaa rate delicious friendlyhighly recommended surprisingly reasonable rate',\n",
       " 'excellent service big problem outside noise terrible rating wonderful service travel frequently business typically star reluctant complain never asked change anything like read first  review didnt see many complaint noise guess booked last minute negotiated lower rate  eligible quiet perhaps quiet already taken make sure get high floor ph least bar front drive construction site oh construction th floor avoid well bring earplug cautionary tale given th floor bar outside area first subject loud music rowdy patron well wee hour wednesday manager extremely sympathetic moved u side th floor personally inspecting also gave u  discount seemed quieter day got back around pm could hear raucous party band tent front luckily ended pm tried go sleep realized directly front driveway busy intersection valet blowing piercing taxi whistle car honking etc also construction site across street noisy luckily brought earplug able sleep allotherwise nice remarkably friendly helpful professional didnt mind cost valet parking convenient fast well worth even cleaned bug windshield drove sf nice touch',\n",
       " 'excellent service century city hyatt make delightful place service highly professional attentive detail every single interaction delightful also large clean well appointed much enjoyed sitting balcony watching sunset evening conference meal conference defintely well average thing could really find fault price high  however los angeles prime price tage go',\n",
       " 'constant world change staying many year one amazing thing number longterm seem able effortlessly remember year year make transaction really amazing must see thousand upon thopusands people week week really relationship based atmosphere really constant world change seen number chain run place remain thisck thin sure minor niggles arent thing go wrong time time always proper response issue certainly youre planning staying foreseeable future make sure northern end property away construction site occupies site former doomed st regis start early call advance',\n",
       " 'ouch conscience hurt stayed conference meaning didnt pay kind money belongs kid college account chain delightful service housekeeping front desk really large super comfortable bed small okay bathroom thank covering unhygenic bedspread freshly laundered duvet cover wish every star stayed omnicnn atlanta still dont appreciated makeup mirror found toiletry strongly scented taste u fragrance allergy hello people cute balcony overlooking bank building across street five minute santa anna wind sent inside allergy attack much use anybodythe real kicker kid really laughed later starving arrival couldnt find restaurant price range mall nearby didnt know yet ordered  service pizza came another  tax service fee charge ate  pizza never hear end kid probably never nice lasted',\n",
       " 'excellent stayed business happy quality hotelcheck easy welcoming starbucks lobby pick coffee walk office morningthe arent large furnishing modern comfortablei supposed  meeting cancelled therefore stayed  problem checking early charged cancellation fee second rate despite giving le  hour notice policy state impressed try double dip',\n",
       " 'hyatt century plaza topnotch century plaza wonderful arrived late asked colleague able check wheni spoke front desk follow soon gave name without looking record front desk agent said oh colleague ha checked service throughout short front desk offered amazing service however restaurant fall short expectation food alternated high quality mediocre service slow seemed confused',\n",
       " 'century plaza ten second time stayed century plaza used westin hyatt regency experience simple  located walking distance incredible outdoor mall restaurant shop excellent view attentive well appointed simple clean buzz feeling southern california energy people moving lobby lobby bar always ha people meeting enjoying class act highly recommendedcentrally located far large number los angeles hollywood convenient cant say enough thing chance',\n",
       " 'still one favorite stayed hyatt regency century plaza westin looking forward returning business month disappoint although wear tear property continues excellent choice area conveniently located professional also wonderful starbucks property agree reviewer bathroom dark side youd think notice la place made getting ready full schedule dinner meeting bit difficult definitely hyatt recommend due intense competition area management fund upgrade property',\n",
       " 'nice service clean well appointed sign age nothing shabby nice outdoor area',\n",
       " 'friendly place stayed  day conference south end hall drawback early morning noise construction next door late noise loudspeaker fully automated parking garage remember take parking ticket parking  day inout privilege offproperty structure behind  day inout hike including incline  flight stair offproperty structurethe architecture straight s think austere glass featureless hot day glass make entire western exposure furnace keep blackout drape drawn day amount ac cool getting sun day longdo skimp housekeeping day  still made  pm  pm glass lined hallway morning still along trash left behind housekeeper morningthe nice bed dream towel soft plump nice toiletry though generally use prefer fragrancefree dont understand dont provide shower cap anymore item cant cost couple cent matter much pay anymore never get one plead housekeeping send ha cost labor walk upstairs save leaving make look soooo cheapnew flat screen digital tv sleep timer remote newfangled clock radio let dock gadget youve got em dont way reset time correct time way adjust blindingly bright display darkthe shockingly poor condition furnishing ballroom area something remark filthy stained worn upholstery chair sofa lounge area stuffing coming pillow dark ugly stain chair cushion poolside cabana guess given choice id rather sleeping better maintained okay overall impression make seriously eroded condition public areasfor size public area leave lot desired one smallish restaurant reasonable item lunch menu  turkey burger excellent sandwich astronomical price poor service eat hunched coffee table lobbylounge ask twice napkin silverware long wait check closed starbucks shoeboxsized gift shop offering soft drink candy bar option service menu limited extremely pricy dont know customer id say business clientele definitely right vibe vacationer pleasure tripper charm warmth expensive',\n",
       " 'nice lot kink nicely appointed however major problem internet service completely messed ability work compled service complained didnt matter internet service expected businessfocued property like thisroom service menu way limitedbathroom dark need light',\n",
       " 'better la stayed hyatt century city late july bar exam quiet nicely furnished complaint though found toiletry subpar inroom coffeemaker feel free spend money starbucks downstairs guest arent allowed put anything minibar fridge ive never heard thingparking expensive either   expected la quite hike lothotel also walking distance century city mall ha bloomingdales overall ok youre visiting la much century city except mall youd probably better time staying beverly hill',\n",
       " 'excellent except construction work going stayed century plaza  got ph penthouse level rear building view little surprised get easily got cheap travelocity assumed quiet found reason next morning building site came alive around am mention booking reception checking didnt complain although mention checkout due early next  morning anyway nice know fairy considering basically financial office tower westfield shopping centre across street ideal grab food macys bloomingdales amongst others  minute walk rodeo drive area seemed safe enough also bus form big blue bus company leaf around corner go santa monica take  min dependant traffic cost c per person one way absolute bargain get detail bus stop concierge found helpful car needed know could get easily foot public transport overall enjoyable going back la probably somewhere else compare',\n",
       " 'family friendly pricey hotelnot worth moneyif kid look elsewherenot family hotelhotel restaurant poor expensive foodroom refrigerator came prestocked expensive snacksno put drink waterhad repeatedly ask towel two three peopleparking also expensivebe prepared keep lot extra cash tipping valet',\n",
       " 'expensive nice stayed century suite really comfortable quite spacious careful minibar pay item moment move spite come back recommend',\n",
       " 'beautiful renovation spent three late august year old son terrific time property renovated eye detail dark wood modern furniture large lcd tv terrific bed stylish bathroom bathroom light werent functioning properly promptly sent courteous repairman fix problem even hallway elevator lobby floor stylish told pool area renovated soon kind surprised nice looking forward seeing itwe booked aaa rate pleasant surprise given voucher free breakfast u three day restaurant breeze serf terrific breakfast although certainly spend  breakfast two coming pocket terrific went eat century plaza mall several time standouts houston french  terrific food treated son respect food court top level ha nice lunch option well went see harry potter movie new amc movie theater mall ha comfortable stadium seatingmy real issue  valet parking charge feel excessive nice southern california think outrageous aside loved place back',\n",
       " 'cool best pool areahot tub los angeles area hoel huge quietif youre lucky enough backside youll nice view mountainswestwood areapool areathe service presented well came promptly ordered bed firm comfortable individual ac worked perfectparking easiest  yard parking ran  day valet parking considerably moreyou also short walk westfield shopping center ha plenty restaurant quick bite eat looking middle hollywood close rodeo beverly hill',\n",
       " 'loved loved dog husband stayed unplanned grossed le parc checked immediately made reservation day valet line using free wifi found everyone extremely nice accomodating spotless balcony equipped small table chair loved dog always welcoming booked yahoo received  food credit hint avoid service charge order meal go restaurant sushi walking rodeo westfield mall right next door gelsens market die enjoyed every minute outside  parking lot across street dont want pay  parking bonus farmer market across thursday fresh produce prepared food',\n",
       " 'amazing fabulous close shop restaurant didnt sample nightlife locally short cab ride sunset strip easy access public transport santa monica one way hollywood  helpful immaculate luxurious huge balcony could sit pool area nice although didnt use always lively huge shopping mall literally doorstep plusa upmarket booked priceline got deal impressive say least',\n",
       " 'beautiful decor stayed hyatt two earlier month allgirls trip american girl store driving disneyland called find long take u get told two half hour incredulous sure enough took u le hour arrive checked asked long take u get american girl store grove  mile away told fortyfive minute maybe gauge travel time based peak travel multiple car accident along way estimate far reality werent helpful allwe taken aback valet parking charge  per day told alternate parking  priveleges parking valet front desk clerk told u cost u  every time parked left arrived late wanted get sleep parked didnt check veracity information regarding parking lot another review mentioned front parking area quite congested sure call ahead car brought around use parkingeverything beautiful lobby hallway bed comfortable decor lovely probably cringe thought parking chargewe used pool one evening close  think thats bit early considering loud voice coming outdoor bar area well past midnight since visit centered around visiting grove american girl store perfect took u  minute get going morning',\n",
       " 'place fantastic can鈥檛 say enough much enjoyed clean date loved view 鈥hdtv friendly extremely helpful close many thing la spent  day la family vacation centrally located attraction wished visit fortunately eliminated deal traffic concern made sure located nonbusiness floor distract many business traveler delivers everything expect pay',\n",
       " 'nothing special fine business travel certainly nothing special constantly line front desk hold interminably called report problem television housekeeping bit spotty day others greatthey didnt king id reserved available arrival offer move next daythere construction going next door begin quite early morningthe equinox gym wonderful day charge bit steep',\n",
       " 'fee charge guessed fee dont get wrong quite lovely look clean well furnished lobby something seenbut traveller beware charge anything come reason forour  service became  required gratuity convenience feeour parking one  yikesand let forget hefty occupancy fee suprised get top price still dont understand one got didnt waive occupancy feeto top thing wedding knew note reserve congrats checked nothinin opinion hyatts slogan regency century hyattyoure lucky even let',\n",
       " 'fantastic used site thought contribute least giving review hope help people choosing lai visited la sf ny   stayed  along way hyatt regency century plaza far best whole tripstayed  picked hire car airport drove directly omg traffic got pm valet parking bit chaotic limited space front lobby grand could expect hyatt went receiption told detail showed newly registered gold pas told since used online agent point earned except incidental nevermind worth try guy alessandro something polite nevertheless parking  think inout asked high floor got assigned th floor tipped guy  helpfulthought given smallest surprise big king delux could easily fit another bed faced ave star directly opposite  office building across road could see bit distanced house even bit sunset although right main road couldnt hear much door balcony shut balcony carpeted two chair still space move around bathroom huge well plenty toileteries shower wasnt powerful though wasnt space put toileteries ledge rack bit inconvenientsince hadnt eaten since morning hurrily went century plaza well recommended food court omg stuck many choice settled sushi  min checking counter ate outside beware pigeon hungry eye quite disturbingwent gelsons get fruit water etc nice store recommend store close one open  hour think sonta monica blvd close san vicente intersection much cheaper century plaza famous brand thoughwent back checked pool gym pool one main coupe splash pool kid outdoors ok sure temp arrangement gym next door equinox needed pay use apparently popular among celebs long waiting list membershipsexpress discontent pay use one basic facility alex guy mentioned whispered person talking immediately offered breakfast coupon shut u magic tippingso got enjoy breakfast every morning marie breeze restaurant served u morning attentative tipped every morning food ok chose buffet breakfast easier fruit choice cereal cooked section could better choice limited ok though also newspaper daily time got probably one goldpass benefitsall enjoyed much highly recommended think star star opinion definately given chance',\n",
       " 'biz recently renovated mod plush gorgeous bathroom tv furniture top notch youll get la experience pool nice ground restaurant new x bar really cool outdoor lounge firepits cool excellent safe albiet happening spot youre close everything rodeo drive universal pch melrose',\n",
       " 'luxurious booked priceline looking safe convenient base first trip la mom  teenage girl turned excellent almost every waythe perfect close  major artery la around corner santa monica blvd close beverly hill hollywood sitesthe friendly helpful concierge gave u easy direction day suggestionsthe public space clean updated lovely overlooking pool cool view bed really comfortable slept late morning really beautiful hotelas others stated drawback ridiculous valet parking charge although valet kind efficient  per day lot tack already expensive  really choice mall next door saw parking garage next block inconvenient also expensive found parking la exorbitant everywhere went first time life paid park mall hyatt certainly making enough money reasonable parking system much ask',\n",
       " 'loved loved classy lovely lobby beautiful pleasant didnt eat located short stroll upmarket outdoor mall nice restaurantscafe valet parking service pricey returned uk appeared charged wrong amount credit card tried sort email insisting write want copy account hugely convenient live side world hope get sorted appear significantly overcharged cant sort',\n",
       " 'hyatt first rate got priceline beautiful everyone manager valet guest friendly nice  mo son microwave refrigerator delivered could store prepare food everyone attentive guest need sat lanai every morning watch car people go parking pricey luxury ive come across charging rate dont think something get away unless lower end self parking trouble worth opt valet service century city mall next door grocery store bottom level awesome necesities needed quickly overall enjoyed',\n",
       " 'valet parking aaahh recently stayed  july convenient next century city mall close beverly hill nice luxurious comfy bed view open balcony lovely pool area suitable age starbucks onsite complaint mandatory valet parking found expensive  per day plus tip parking station around back charge  per day quite walk safety wouldnt like late parked mall day free st  hour least saved paying tip quite aloof attitude similar new york encountered mall supermarket gleesons deli coffee shop',\n",
       " 'excellent century plaza recently returned reluctantly returned might add excellent hyatt regency century plaza la business central provided u outstanding home base  westfacing view pool area large extremely clean modern inviting large balcony overlooking pool fabulous flat screen television nice touch cleaning polite accommodating front desk concierge valet extremely polite helpful pleasant starbucks main lobby welcomed addition early morning alsotwo negatives day parking fee absolutely excessive valet service available directly inconvenience one car brought time want leave day bit pain given rate parking fee opinion unreasonable unless laptop computer internet access available anywhere except business centre needed access home email couple time short period time unable anywhere except business centre lower level inconvenientall outstanding certainly ive found new favourite place los angeles',\n",
       " 'need car one hallway ever slightly curved',\n",
       " 'booked priceline got fantastic ratewe town son graduation ucla andwe couldnt pleased nice size withbalcony looking gorgeous ground hoteland mall right next door handy walkedover lst day got salad grocery store andsat outside pleasant overall wonderfulstay clean convenient',\n",
       " 'got priceline  although reserved priceline gave th floor renovated comfy close beverly hill big shopper mall nearby parking insanely expensive stillit well worth ',\n",
       " 'fantastic spent five may  fabulous extremely busy whole time didnt stop going way make u welcome remember u whenever saw u lobby sean front desk lance lincoln nicest people went way u well located right across road large mall fairly close santa monica beverly hill quite central thing although la need car spending month travelling u lovely end time overseas definetely againnote people like curious mini bar lift something fridgeyou chargedbe warned',\n",
       " 'nice place stayed three june pleased large big enough daughter size three phone might bit overboard bed comfortable desk swivel chair came handy bathroom larger mosti agree previous review front could get noisy road traffic new construction th floor woke sound speeding motorcycle car couple time contruction work started early morning next block woke daughter slept right waking early problem however balcony offerred nice place sit read paper morningthis first visit la without renting car  parking rate helped decide try cab public transportation long way subway bus slow packed westfield mall across street nice place visit every major store might want taxi ride airport early sunday morning  traffic might taken onethere gelsons grocery store mall garage sandwich salad picked something twice took balcony offer nice place sit eat enjoy cool breeze also plenty restaurant mall variety food overall nice place probably rent car next time pay parking',\n",
       " 'nice friendly helpful cleanliness awesomeamenities pool family oriented restaraunts shopping across street w movie theater complaint parking said parking garage dont state price  day little walk away challenging much stuff small kid valet parking  day doe include tiplocation close la hollywood beverly hill site area',\n",
       " 'classy stayed hyatt regency century plaza near beverly hill one recently pleased experiencepros nice lobby sophisticated quiet hallway widescreen lcd tv hidef channel nice comfortable pillow linen portico bathroom supply friendly valet service con breakfast restaurant insanely priced  pancake cmon noise road fronting also beginning big construction across expect noise get worse staying backside way go could bad depending youre looking within walking distance mall shopping quick eats food court also somewhat unique mall bc open outside downside near party district type place however right santa monica easy get area like west hollywood beverly hill parking bit steep well  selfpark w inandout  valet per w inandout valet service pricey didnt use pool looked pretty nice heated',\n",
       " 'noisy weekend party husband recently stayed hyatt regency century city memorial day weekend lcd tv well stocked bathroom real plus friendly helpful walked wilshire beverly drive easily friday afternoon huge sandwich favorite deli nate n al could beat business district therefore quiet daytime hoursthe one downside overall weekend amount noise meeting hall area lower level occurred evening th floor probably bad people music two party held saturday sunday evening excessive thankfully  hour day disneyland made u tired slept much noise accommodating letting u know party expressed apology bargain booked expedia package however one always beware cheap rate classy',\n",
       " 'wonderful decorated contemporary style abstract painting hallway outside friendly accomodating group need cozy roomy pool area beautiful provided lot sunas convenient located right across outdoor century city mall also opened cool x bar nice decent walk nice run beverly hill convenient access   freeway right heart city relax enjoy beautiful surroundings',\n",
       " 'breathtaking best ive breathtaking balcony view mgm studio opposite',\n",
       " 'mindblowing found rate online paid  per werent expecting much paid bit intercontinental next door previously lot lot loews santa monica two earlier pleasantly surprised queue checkin kinda long pretty efficient waited  minute lobby magnificient lot open space polished quite big superb stonethrow away century city mall cab instantly available outside rodeo drive quite close bythe quite generously proportioned big plasma tv pool view greatthe bathroom clean well maintained problem allnot huge though enoughthe bed cozy soft however turn service availablethe pool area amazing spacious main pool surprisingly big unlike intercontinental next doorthe service concierge go way help find informationdirections drink reasonably priced mojitos amazingone best ive ever experienced',\n",
       " 'awesome returned hyatt regency century plaza saturday reluctanly really experience arrived sunday around  able check soon arrived husband requested west side wonderful view lady desk willing help request got wasnt coffee maker called requested one brought within matter minute received coffee maker guest service even called make sure received problem coffee filter previous user still really wasnt big deal waited limited time car time requested concierge helpful tour getting back airport whole nice quite attentive request recently went major renovation nice definitely returning hyatt regency century plaza',\n",
       " 'enjoyed enjoyed century city hyatt booked two adjoining traveling family three kid clearly business family oriented part problem kid read listing another member served free starbucks coffee gold passport member platinum hyatt gold passport member little disappointed wasnt aware offer pleased nice sized view pool liked deck service directly middle two place wanted go hollywood santa monica one disappointment rather offended near spafitness center pool side decided walk get mall across street treated rudely spa employee could see door exit onto street insisted walk back spa pool area walk around block child allowed spa child loud toddler    first sign spafitness door asking child enter secondly spa front desk right next main entrance spa therefore convinced time gotten desk spa client inconvenienced u continuing said guest hyatt trying save time crossing street woman spa said part hyatt yet list spa hyatt door attendant also appear work door well outfit etc planned book spa service decided due one interaction beyond spa pleased definately',\n",
       " 'wonderful hyatt stayed property ha gone  million renovation look updated modern fresh beautiful public space enjoy well pool area lovely spacious get facing ocean poollovely see west hollywood santa monica mountain well large city terrace feel even larger clean well decorated incredibly nice prompt service personalized well always try use name make large chain little personal concierge arranged tour restaurant reservation keen idea needsa family la experience made excellent recommendation u especially enjoyed tour recommended nice drive hollywood get small co offer knowledgable tour originally hoped santa monica experience definately return superbcentrally located everything le driving result also nice outdoor mall across street nice food court option dont want get car eat although enjoy restaurant going la child highly recommend fantastic',\n",
       " 'older still winner older property last stayed ten year ago ha feel service pretty bed comfortable large flat screen tv plusparking expensive  day valet pay lot  daythere coffee could get golf channel disappointmentthe banquet facility meeting facility excellent course century city area la',\n",
       " 'one best u stayed conference newly renovated beautiful property stayed classic even flat screen tv beautiful bathroom balcony also amazing willing help conceirge even able get ticket see jay leno',\n",
       " 'quality  plaza expect  u bedroom large balcony bed incredibly comfortable ha nice bustling lobby area pool area nice although gym currently temporary marquee new gym finished look like high quality gym across road excellent shopping mall really food courtthe one thing say lack evidence history like ',\n",
       " 'kind restaurant manager breeze ireland scotland excellent time new century plaza run hyatt company change service come every december france week shopping christmas areawe ate breeze morning got know breeze day manager got know u forget hi name ireland lot laugh morning highlight daywhat wonderful staffjean blanc',\n",
       " 'nicely renovated hyatt near century citybeverly hill view entrance',\n",
       " 'pleasant la hyatt experience photo',\n",
       " 'new stayed  back october   end  month around world tripthe going major renovation check upgraded u newly renovated floor th nice gesturerooms nice lcd tv lovely king size bedsdidnt eat generally find pricey westfield accross road nice restaraunts open nighthotel ha hertz agency located handy hired car drove around mailub santa monica beverley hill centrally located major plusalso far lax eitherhope help',\n",
       " 'nice introduction la pool staying conference looking forward conference quite time kept checking website information website told pool going closed due construction renovating lobby construction wasnt bad sound like people bowling floor thats begin expect type forewarning im used staying best western quality inn really looking forward staying nice nice basic ammenities found lower class missing instance refrigerator coffee maker hand soap bathroom importantly one traveling la seattle october one expects pool closed pool probably biggest disappointment bowling alley sound another strike youd think construction happening wouldnt put people floor directly underneath construction definitely lacking basic communication customer service skill valet nice conference facility right next outdoor mall nice',\n",
       " 'cursed behemoth first stayed century plaza back late s peak played host luminary like ronald reagan othersin early  started slide bought westin chain abandoned recently appropriated hyatt last fifteen year somewhat cursed business ha fallen ha lost glossy sprawling sheen used haveand feel like barren architectural husk left side highway admittedly isonce againin transition signboard lobby tout glory come redesigned new spa sumptuous new restaurant right however disasterthe gift shop firesale cleaning cart stand idle abandoned lobby service tray congealed food line hall utmost look positive offer brisk service midst gloomy malestrom around theyre fighting losing battle make matter worse century city construction day hotela mammoth business complexfuture home talent agency caais erected right across street awakened every morning sound earsplitting jackhammer forced business spent whole time wishing could slip next door far grander park hyatt oreven betterthe four season doheny give century plaza second chance new yearit rude preemptive supposebut right avoid cost',\n",
       " 'star treatment front view',\n",
       " 'exceptional located  minute drive sunset strip exceptional regard amenity undergoing  million dollar renovation stayed renovated section large extremely clean newly furnished exceptionally modern bathroom fitness centre rival professional gym size quality quantity equipment pool hot tub outdoors area provide place relax curteous helpful always offering friendly hello afternoon eveningthe drawback price parking  valet option public lot charge  everytime enter lot however valet service expensive quite convenient quick call guaranty car waiting exit exit reenter many time like',\n",
       " 'love returned staying hyatt regency century plaza convention july th pricey even convention rate well worth money time pulled valet parking area checkedout treated u important guest checkin wasnt ready lady desk put hold  double bed able check within next hour bag promptly brought bell man wonderful duvet cover table two chair workstation bedside chair stand minibar emptied small fee could use refrigfor picnic supply closet ironing board safe bathroom wonderful coffee maker also nice view pool mall next door sliding patio door balcony felt like getting star treatment able handle convention  people turn around day handle high profile political person staying without compromising convention activity located wonderful area  minute hollywood  minute grove  minute beverly center  minute lax definately recommend others',\n",
       " 'impressed century plaza stayed  moving world class beverly hill bland lobby doe much character kind reminded walking large office building plain lackluster like year ago stayed  issue two three telephone work one lamp back chair missing light bulb balcony filthy stain balcony carpet cigarette butt left corner previous guest entire th floor musty smell well invest air freshener far outstanding valet friendly kind went way guest housekeeping bad left trash knocked door am even disturb sign got decent internet rate  per plus tax bad considering close beverly hill also pool potential poolside attendents actually job bring guest drink standing around talking waiting guestsi think ran better westin management',\n",
       " 'loved stayed century plaza week th wedding anniversary trip worth every penny got double bed suite breath taking view city linen comfortable ever slept pool area beautiful peaceful cozy spotless parking pricey day valet treat like gold never waited long car public parking lot behind choose use ha affliation however   much better use valet service highly recommend romantic quick getaway weekend plan staying',\n",
       " 'pricey worth friend traveled la conference hyatt construction little santa monica blvd exitng freeway several lane closed time upon arrival hyatt able checkin quickly front desk friendly accomodating congestion front like others guest loading unloading valet parking etc parking issue u responsible valet parking area day selfparking found garage behind spa owned third party used guest shopper century plaza mall guest farily large double closet inroom safe extremely small jewelry faced construction site across street yuck cute balcony chair let get beverly hill sunshine day bed bathroom clean wellmaintained bed pillow comfortable plentiful fluffy like meeting facility acoustic always plus mostly accesible main bank elevator mezzanine level accesible staircase lobby second bank elevator youre shopper youll love close proximity everything century plaza macys louis v ann taylor etc directly across street rear door hyatt rodeo drive beverly center  mintue drive away nightly rate hyatt run upwards  case worth u',\n",
       " 'best hyattbut bad got decent price priceline easy get beverly hillsthe strip also santa monica concierge service fantasticnot called multiple restaurant get u table saturday also made suggestion followed call cell phone confirm plan excellent service valet price top choice consider part cost sign hyatt gold passport free website use gym free otherwise pay exorbinate fee nickel dimed bed comfortable size didnt hear real hallway noise though street noise present even th floor obviously put lot money updating otherwise dated eatdrink lobby vibe lot business traveler drink time',\n",
       " 'nice experience tarnished gothchas check fast car surrounded valet parking guy aggresively hyped valet saying save money selfpark got bill shocked added  half day parking add tip came nearly  first offered smelled strongly like smoker moved u quickly hall similar otherwise ample rollaway delivered quickly unpleasant surprise  supposed tv movie order daughter simply turned tv watched  hr disney sitcom cost  obvious disclosing guest remove charge politely protested heart century city business district street parking whatsoever kind want opinion exploit otherwise decent accross major highrise construction quite worth  incl tax etc paid wire gotten much better value priceline half onethird cost nearby anaheim doubletree suite reading review hyatt common theme emerges aggressive charging extra cloud view otherwise nice roomstay comfortable bed bath etc',\n",
       " 'stayed  day visiting la valet terrific although daily price  little high lounge area nice drink appetizer wait restaurant superb u taste testing different smoothy walking distance mall movie theater ate fabulous italian restaurant called carmine santa monica blvd short drive long walk hyatt bed pillow rollaway bed first class',\n",
       " 'nice pool ok food stayed hyatt century city  day business conference spacious bathroom negative comment housekeeping took  minute get fresh towel one evening  day row bathroom area swept mopped still plenty hair bathroom floor paying night la expect housekeeping service bit betterthe catering served bellpepper goulash  different occasion get old fast going use catering department please taste food handi suberb friendly',\n",
       " 'nice reading review bit skeptical upon arrival pleasantly surprised find none problem others experienced board nice clean comfy bed nice spacious bath well car parked valet inout priveledges within  minute calling car waiting frontthere mini barsnacks quite expensive noticed sheet product checked used contacted front desk told u charged also incorrect charge upon check taken care well front desk polite friendly helpful printed boarding pass usi definitely recommend la aware much way entertainment restaurant etc surrounding need car available',\n",
       " 'live beautiful place clean nicely decorated kind bed pillow comforter never want get extra  per day lovely spa steam sauna fabulous shower excellent workout facility front desk service although spa werent especially adept helping acquaint first time user facility hope much possible',\n",
       " 'wonderful experience beautiful suite th floor view ',\n",
       " 'value stayed carrying hyatt westin name four one top floor well furnished beautiful modern bathroom bed extremely comfortable free etherent internet access upon arrival early hour morning noticed tv wasnt working quick arrival maintenance technician soon solved problem spite late hour initially concerned see major construction site across road nevertheless never heard anything forgot first class expensivespa nice mall currently refurbishment  minute away experience',\n",
       " 'disappointed recently stayed century plaza los angeles quite disappointed stained carpet mildew bath along missing grout floor actually slanted wall point tv armoire acutally secured wall heavy chain spent  per thisonly positive bed comfortable charged use courtesy barwhen never opened italthough took charge complained went front desk get new invoice noted clerk phone another guest apparently charged bar calling complain erroneous chargealmost felt like kind scam valet parking privilege pricey  per day recommend given poor condition',\n",
       " 'nice stayed  september  nice overlooking pool thought decor nice bathroom decor hip bathroom clean size bed super comfortable normally dont like bed one ammenities side price fortunate got special rate business however think price overall high dont even get breakfast gym free use thats ridiculous also price id expect common corridor lot cleaner thought carpet area looked bit dingy personally someone left service dish hall dropped something forever think star rating price cleaned ive stayed price star rating never leave dirty service dish hall way send someone collect dishesanyway youre going anytime soon get facing pool construction across street nice view valet parking pricey  day privilges believe cheaper self park wasnt floored service though cleaning exceptional also thursday patio area give complementary manicure tip entertainment etc nice',\n",
       " 'okay awful convenient century city mall dont car budget staying  day quickly become boringthe hall lobby luxurious gotta keep appearences always clean thats pointswe spent  day beggining august happenedwe arrived midnight arm full bagages none helped u two womenwe made lobby could understand word lady checked u sayingwe went th floor following order take elevator opposite side check desk still one help u baggageswe entered smell musty old dropped bed slept instantly awoken construction  amthe cold came balcony made icy cold  even drape closed useful dont touch floor rd day employee knocked told u due leave earlier morning told  day  day excused saying must computer errorwe ran cheking desk scared charge u  imaginary day credit card confirmed computer said supposed  day told voucher gave checked said  day course said lost voucher make research everything settled departure date tone clearly said leave side check take  day credit card pay back lyingi call travel agency call could confirm  day paidthen went back desk asking paper saying wouldnt take money credit card told end day nothing said manager wanted wait  hour make paper could understand said ok nothing asked paper next dayi yell young guy nicely print front page file computer eventually dont know irritated woman told come back nothing woman pretended help u looked u like dirt shoe travel agency called themeven concierge wasnt helpful think limited knowledge job',\n",
       " 'better option la better bonaventure ok size redone catch  none cool new feature like flat panelsvery limited benefit platinum member club concierge level free breakfast welcome gift bonus point exchange lack welcome gift even though ton suite upgrade offered upon check valet  buck self par doe include priviledgesstaff ok pool ok due massive construction accross street fron side noise hvac system mall back sidespa fitness center look nice beverly hill pricesin internet worked finetv ha around  channel ten espn sport network',\n",
       " 'classic la stayed recently business trip quintessential la even plopped blindfolded wouldve known laits got feel large clean heavenly bed dissapoint service food exceptional steak sandwich best id ever delivered quickly pool bar area also looked enticing hollywood although never used two minor complaint  service average pretty much expect impersonal chain  centrally located actual building kind desolate surrounded office building mall walk la westin hesitation recommend anyone la business pleasure',\n",
       " 'westin century classic',\n",
       " 'clean well located greatthe furniture updated modern bathroom im really picky thing noticed carpet little worn nothing complain bed bathroom every ha balcony view downtown lathe pool patio area seemed didnt get spend enough time thoughour complaint valet parking kind mess took little get cabkeep mind la really walk around city drive take cab pretty much everywhere located right huge shopping area short cab rodeo drive area sunset strip go back heartbeat fyi got deal priceline made even better',\n",
       " 'rude physical plant lovely public area pool etc westins several time month usually service luxe westin property rude unhelpful example someone calling sale manager incredibly snobby snippy asked simple question chin length straight blondish hair look went pool towel stand empty towel two people standing behind counter woman uniform man suit asked could find towel stared coldly didnt respond guess beneath answer standard justifiable question valet incredibly cold snobby movie star dared approach ask autograph driving expensive car tip extravagantly wasnt basis idea problem exception recall sweet older asian gentleman polite helpful worst one valet tail top hat older man bore slight resemblance victor garber treated u filthy street urchin stuck finger food also heavenly bed least heavenly westins ive stayed mattress especially comfortable',\n",
       " 'fine beware construction spent three lovely however significant construction happening across street get facing ocean view quiet destroyed booked two king bed said want construction view get two two double bed supposedly king face constructionand see one looked nightmarish romantic beware large bed crucial enjoymenthowever spacious balcony excellent view hill west la santa monica pacific horizon fantastic ocean breezesthe checkin process smooth friendly valet service excellentefficient fast clean comfy bed nice bathroom including doubleheaded shower decent superspacious bathtub internet service inroom fast give genuine  hour  dollar wireless lobby wellroom service fast efficient breeze onsite restaurant delicious many item organic freerange hormonefree meat veggie grown dedicated garden cooked fresh pleasant dine outside patio definitely come back assured face constructionnot done',\n",
       " 'fine enjoyed lovely weekend westin century plaza came la see king tut exhibit spg gold membership upgraded lovely suite view pool hint pacific ocean however enjoy comforatable bed contemporary bathroom liked turndown service twice daily housekeeping happy supply extra towel robe request superbclose beverly hill shopping pool nice morningbut afternoon sun blocked neighboring mgm building spa looked nicebut booked treatmentsmy fault planning ahead lunch dinner breeze pleasant service prompt acurate problem valet parkingas call ahead car overall nice return',\n",
       " 'stayed  may  shopping vacation convenient beverly hill santa monica right santa monica blvd century city obviously visiting la need car exception short drive almost attraction comfortable bedding bathroom excellent counter space enough three woman get ready closet space well ha balcony pool area appeared nice however cold explore fully attempt selfpark selfparking sign take garage affiliated ha privilege service asked air conditioning turned extra towel received request immediately also allowed u check  pm day leaving rather  problem definitely next la trip',\n",
       " 'couldnt wait get cancelled best western wish id saved money thought id treat soulless place doe match westin ive stayed avidly read review site high expectation place spend first la big disappointment workmanlike dont feel really welcoming individual dont expect pay  car valet parking suggest take bag deeply disappointed bath tub one couldnt bothered complain starwood preferred customer also annoyed get bath robe convenient century city mall thats breeze restaurant never easy woman eat somewhere relieved check am',\n",
       " 'bad news booked westin century city birthday getaway spent time arguing front desk valet service waited  minute front desk check even given accomodations reserved elevator broken none ammenties preffered guest robe coffee etc operator impossible reach phone travel  day month mostly staying high end property never many thing wrong one compounded disinterested personnel ever encountered realize many deficiency due long running union strike explain around midnight every horn megaphone engaged outside street draw attention strike id say necessary evident add insult received ax bill charged incorrectly spend time arguing id make wide detour around disaster',\n",
       " 'complaint worked twin tower across street year ive eaten meeting company party recently first opportunity  attending back back ucla event building newest curve building bit throw back different era add charm ample upgrade made westin bed always comfortable bathroom far lacking bit cozy wouldnt recommend  people staying one one sink bathroom big whoop quite bit construction going abc entertainment center across street transformed wasnt enough wake wasnt silent either valet wasnt impressively prompt obnoxiously long wait either service decent nothing spectacular breakfast breeze bit overpriced typical dining variety affordability walk across street century city plaza food court side mall enjoy walk favorite mall best starwood preferred guest sign online charge request late check pm relax lay bed watch movie',\n",
       " 'comfy stayed one end disneyland trip closer lax attractive bed super problem first given barking dog next roomwe quickly switched another quiet large nice first since one complain breakfast next morning breeze dining food service bit pricey   adult  child nice visiting getty center hollywood',\n",
       " 'dull place snob located dull enclave building century city nothing interest vicinity upon entering startled many rich arrogant snob knew disappointed charge everything including use gym  parking  valet service rip food expensive employee except maid really stuck security ha attitude problem harassed wearing jean hideous look like thing bad s arent roomy found small problem upscale shouldnt evident incl mold curtaintiles ice bagstonsils bad tv remote stain pillow sheet wont staying felt uncomfortable snobish attitude big factor dress casual youll stand security think walked street boring place avoid cost',\n",
       " 'bed amazing service really fast found friendly also massage spa amazing  min ',\n",
       " 'nice deal booked via price line got rate  per well worth large business make balcony excellent patented bed shower clean modern upscalethe work facility part spa  per day average also get access locker sauna steam whirlpool rainfall shower five minute drive rodeo  min west hollywood',\n",
       " 'adequate stayed century plaza twice recently last marginal first thing pretty centrally located get downtown west side valley canyon community easily courteous helpful hand standard adequate short quite small business spa facility standard glaring problem service bill highly padded fee delivery service charge food inedible ordered calamari ceasar salad apple pie calamari ball batter dipping sauce rancid salad dressing oily mess even ceasar apple pie bitter fortunately discussion upon checkout meal removed bill wont staying century plaza',\n",
       " 'drawback stayed week august  nicely decorated ample space service general front desk bell hop valet parking professional bed linen bath towel comfortable breakfast breeze restaurant one morning experience service quality food restaurant expensive surprise however starbucks across street aig sun life building open weekday cheap breakfast carry back also large shopping center right next door starbucks get variety meal  day per week starbucks shopping center short pleasant walk every ha terrace provides wonderful time view surrounding area high floor especially liked quiter la found central travel activity universal studio hollywood sony studio pasedena near beverly hill remember youre la mean driving everywhere matter family vacation parking la cost dont expect get free except sunset plaza strip shopping center near mels diner valet parking  per unlimited inout found convenient ha charge everything including  fee making toll free phone call use internet business center many smaller chain charge localtoll free call often provide free high speed internet access pc business center billing error drawback thought could better job cleaning never heard vacuum entire felt bathroom simply recieved wipedown instead disinfectant cleaning didnt give  star rating expensive place felt received money worth used starwood best rate internet price guarantee match lower price found web',\n",
       " 'loved wow upgraded suite complete living dining table large bedroom  bathroom furniture decoration dated elegant ground pool fabulous westin awesome kid deliver high chair crib anything else need cost toddler received complimentary cooky milk bed time kid menu service could asked better helpful friendly',\n",
       " 'perfect family consistently visit la summer ha stayed many  star la santa monica area century plaza pleasant surprise family 鈥渓uxurious鈥 nicely decorated maintained valet service helpful assisted u direction around town spacious nicely decorated balcony overlooking pool garden landscaping pool area fabulous pool side menu located directly across westfield mall grocery store movie theater spa top notch array service pamper two complaint heavenly bed white bedding consistently stained even asked bedding change 鈥渘ew鈥bedding stained well yuck complaint pay  time used fitness facility paying grand fitness included surcharge regardless bedding fitness absolutely century plaza can鈥檛 wait next la visit book century plaza',\n",
       " 'awful food food expensive badbreakfast three people  including tip attending convention meal luncheon dinner awful thoughit near beverly hill mall across street extensive food court nice restaurant heavenly bed shower wonderful watch daily starbucks coffee thoughthe first item free charge make second packet',\n",
       " 'wish id spend time checking went spa mystique couple massage spouse quite experience even though got late didnt much time massage really nice relaxation area massage sore day got sleeping tiger deep tissue massage boy loosen muscle ha balcony really nice th floor view nice well bathroom pretty large stylish loved definately',\n",
       " 'comfortable stayed century plaza quick overnight trip nice sized bathroom quiet best part heavenly bed make worth close second best showerhead everything well accommodated parking expensive  self park  valet expected time try restaurant bar pool definitely westin dreamy heavenly bed close uclawestwood',\n",
       " 'nice nice time lobby pool one negative fitness center really nice cost day though waive buy spa treatment daythe negative nice outdoor mall next door much else within walking distance far could tell car youre fine short drive santa monica rodeo drive etc try eating outside mccormick schmicks rodeo wilshire',\n",
       " 'nice place stayon expense account showreview full',\n",
       " 'elegant showreview full',\n",
       " 'attractive showreview full',\n",
       " 'saw many star place showreview full',\n",
       " 'nice place showreview full',\n",
       " 'bellissimo',\n",
       " 'nice quiet place big city bed',\n",
       " 'careful cheap shabby nice place well past best checked initial impression ac really working fridge kitchenette close properly clean need updating wife could sleep double hot non functioning acthe positive nice areahelpful staffnegativespoor parking enoughrooms shabbywill going back',\n",
       " 'value boston stayed one easy get heart boston subway spacious free breakfast got early let u check early area seems safe sure covered using airmiles extra score',\n",
       " 'nice experience u immaculate extremely clean visiting boston university daughter ten minute ride train one block impressed informed completely renovated april breakfast served lobby tea coffee cereal waffle lot free parking something cant find many place around boston also took train downtown one day really convenient exceeded expectation cant wait go back see like renovation complete back every time back boston',\n",
       " 'awful booked boston college website listed local place planned staying two booked two rate  per arrived husband commented looked like bates motel inside horrified decorated  never updated extremely shabby bedspread carpet stained worst disgusting smell smoke stale air bad told front desk clerk didnt want clerk informed u may charge u anyway told fine knowing stop credit card payment make formal complaint trip boston area ended lovely checked doubleday suite happy rate actually le expensive two suite  accommodated family fine bottom line dont best western inn boston many option place',\n",
       " 'ok con stayed  october clean seemed safe neighborhood provided adequate breakfast one block walk green line b branch washington st however rather far downtown trolley ride slow tedious found green b line train infrequent usually took u least  minute get downtown addition second kept awake loud party amam called front desk found extremely unhelpful completely unconcerned best value could find still decent neighborhood clean problem however due inconvenient unhelpful',\n",
       " 'happy local transport boston yards away overall happy condition friendly helpful able park right outside king suite seperate kitchenliving bonus large tv roomsthe main problem breakfast area small meant getting much could carry going back eat also noise train start running am overall happy',\n",
       " 'area ended getting priceline conference town hard time finding anything else even regular reservation overall disappointed start first shower wall busted mold wasv everywhere also kitchen list every ha kitchen must saved priceline customer moved promptly bit larger kitchen least tactpros nice unexperienced nice quiet residential right next tcons dirty bathroom infested house centipedesi saw family bathtub drain took hour shower finished asked everyday fixed never large group neighborhood quiet group lot party nonsmoking smelled thick smokei report unhappiness corporate office said contacted management one ever contacted ha potential need complete overhaul',\n",
       " 'expected booked close boston university dropping daughter graduate school area fine able walk grab bite eat surrounding area without difficulty free parking definite plus main gripe damp warm whole even bed linen felt humid damp also free breakfast marginal many people scurrying table towards end designated hour stopped putting food could picked others well looking another place go back visit boston',\n",
       " 'best best western stayed  month old daughter week june  supposed nonsmoking certainly didn鈥檛 smell way area seemed ok 鈥however hear sounded like  gunshot am 鈥which didn鈥檛 exactly make u feel secure basically clean hadn鈥檛 refurbished seemed like year didn鈥檛 feel really clean first portable crib sent broken wasn鈥檛 bad 鈥but responsive wanted 鈥it took day fix acheat worst i鈥檝e stayed mean 鈥but definitely best wasn鈥檛 standard expect best western probably wouldn鈥檛',\n",
       " 'tourist value booked best western terrace inn per special go boston card ordered online tourism dept called day advance reserve really  per right green line although almost outside edge near boston univ west  min downtown driving free parking okay free expanded continental breakfast waffle cereal fruit etc wonderful spanish restaurant around corner friendly price able extra day marriot embarcadero charge  per day park',\n",
       " 'short trip game nice clean small clean included mini kitchen ie stove top fridge mini microwaveand sink dish cook wear susplied shower cramped clean bed say queen seem like double kind roll middle day check new bed installed might help excellant helpful arrived checked instantly safefree parking close maybe block walk boston exspect walk went game clean quick close one note ground floor level im light sleeper could hear upstairs walking around am  next morning proptly asked booked soild could switched problem could said feel like gentleman went way rebook make perk deffiantly return game visit soxs lost visited return hopefully see winning game',\n",
       " 'free parking favorite spent  terrace inn located nice area large tended roll center bed making  long loved short block walk mta line convenience taking public transportation especially since dig collapse made car travel even difficult parking free big plus boston ice machine located block away different building last day helpful able leave luggage lobby picked go airport however failed deliver message u shuttle service saying minutes late even though sitting lobby reading caused u anxiety unneeded call shuttle service',\n",
       " 'pleasantly surprised pleasantly surprised service price downtown boston price near  per offer refreshing discount next subway continental breakfast right pay high price downtown literally minute away',\n",
       " ' not bad terrace inn convenient well maintained ha reasonable breakfast reasonably priced bostoni liked rate  star annoying thing happened stayed recently made reservation   month prior date boston university graduation weekend wife  relative coming called several time  month make sure stil  time reasured reservation  got letter stating since busy weekend deposit non refundable canceled within week date nice accepted since coming sure arrived day came  pm told u  reserved ready yet problem leave luggage see sight wonderful boston return dinner safe called  pm see needed anything else  reservation said everything taken care  returned  pm told   overbooked since  thought could get  said nicely complaint weekend manager stuck situation didnt create boston booked late gave u  gave u two suite two relative share two single bed wife next morning requested got additional upon checking asked manager happened said dont purpose sometimes happens traveller tell happens frequently ha never happened  year emailed best western office said hear within week havent heard anything   week terrace inn got ok one wasnt big deal question take money dont show cant make sure everyone put money ha looked mistake see often happens wouldnt nice respond question referred main officeso suggest study overbook policy drop refund policy busy weekend make reservation might want cancelable reservation somewhere else case',\n",
       " 'totally gross cheesy let first admit im giving ok rating due fact wifi worked connection walked looked awful super cheap comforter awful appliance really dusty gross closet unsure feeling really walk carpet make sure wasnt thinking coworker traveled plus horrid smelling ok clsoe train hard find driving isnt really worth finding fine going   could least get musly smell first time last time sure',\n",
       " 'value many convenience stayed terrace inn dozen time business always found clean comfortable like terrace inn free easy parking friendly helpful kitchenette free wireless cheap book directly often get midweek manager special  unbeatable market close bc bu one block away whole food market usually get dinner also many small restaurant nearby stop block away b line comm ave incredibly slow stopping nearly every street corner weather may faster walk beacon street catch c line may faster bad weather walk brrrrrrrri usually skip breakfast provide basic cheerio plain froot loop yogurt toast english muffin pastry appetizing hardboiled egg juice coffee tea wish offered fresh fruit breakfast pleasant open  pm guest use microwave nuke kitchenette often cable selection including hbo dont laptop use computer lobby free printer also available dont know charge per page one water pressure shower fairly weak typical category lot hair budget extra time shampoo toiletry basic one reviewer complained seem fine hairdryers roomsan earlier reviewer complained bed havent problem perhaps like firm mattressmy regular little dark keep lowwattage bulb lamp stayed couple hampton inn recently boston much nicer also much expensive twostar terrace inn amazing threestar still pretty budget dont need namebrand shampoo mint pillow look',\n",
       " 'eh stayed overnight  first positive close stop block awaybrookline area nice neighborhooda little way tourist area price reasonable adjoining little kitchenette didnt use could helpful relatively clean basic lodgingfree wi fi worked free parking negative bed hard stone didnt sleep well even  glass wine small rough bath towel soap smelled like dial soap bring soap dial really harsh door handle loose made u little nervous leaving laptop little noisy could hear people u walking around  teenaged girl adjoining bagel got breakfast buffet hard bed jokingly calling barney betty rubble overall changed bed something comfortable better towrels toiletry budget option family',\n",
       " 'paper plate wife stayed august found place clean presentable breakfast bland edible toaster one side toast take juice coffee polystyrene cup paper plate well yard away hiring car trouble parking eating area vinny coming top pinos pizza door vinnys also worth visit running cash cheap cheerful food',\n",
       " 'stayed  day pleasantly surprised especially reading negative review posted experience ie cobweb etc kitchenette stove refrigerator ironboard also queen size bed price night including tax clean housekeeping job daily also wifi access wonderful used daily notice however certain part signal stronger others seemed strongest sat desk continental breakfast  block boston subway convenient took city graduated boston univ took also close boston college overall friendly helpful although one guy kind attitude thus give rating  also recommend others best western hilton value think',\n",
       " 'roomy suite could cleaner suite best western terrace inn decent size plenty storage area full kitchen sofa bed uncomfortable continental breakfast included helpful front desk free outdoor parking pc free internet access printing located front desk could cleaner rug needed vacuuming could without web wall visiting boston college boston university northeastern',\n",
       " 'best best western ive found far stayed terrace inn beginning march  delighted find quality high well appointed spaciouscar parking adequate well controlled validationthe friendly helpful especially towards novice touristsdefinitely place id recommend',\n",
       " 'worse miyako showreview full',\n",
       " 'away new otani showreview full',\n",
       " 'ok bit isolated n showreview full',\n",
       " 'little thing count second time year ive stayed luxe sunseti agree reviewer called little couldif take time updateimprove certain thing greatpros cool vibe huge bathroom con valet parking take long shuttle service anywhere thin wall front desk need trained basic knowledgethe concirege never returned call went home evening leaving u find restaurant make reservation asked help front desk could name one mexican restaurant areathe front desk ha knowledge spa make reservation inform charge  cancel talk front desk manager get thing fixedlittle thing like burned light roomthe wrong service menu welcome folder forgotten turn service dead battery remote control tub draining entire weekend air conditioning shutting middle one person knowing reset common occurance happened june wellmind took place executive juinor suitei like interior doe get pain call front desk every  minute remind somethingthe front desk manager reduce rate trouble got together could',\n",
       " 'lukewarm experience staying luxe bel air seemed idea close destination like roller coaster 鈥 moment seemed well next pro freeway place look outside front desk friendly valet friendly confusion time cost  parking day didn鈥檛 use pool restaurant et al due lack time people using restaurant seemed fine clean bed comfortable tv tv plus movie free internet connection roomcons service inconsistent 鈥 told front desk  hour service yet late hour service consisted cold item menu page read hot cold item questioned said didn鈥檛 know call u back  daily paper offered eg los angeles time los angeles asked one got back u one could get one  checkout time offered full valet parking personnel  bellman causing long wait bring baggage  hallway painted dark color look long dark   suite inconvenient electrical switching small section carpet wet bedside showerhead regular rather deluxe expected suite situated could watch tv bed sofa minibar small liquor bottle scattered top frig plus stocked well help somewhat service deficiency',\n",
       " 'recommended young people pool',\n",
       " 'get pay travel la every couple month reluctant try due somewhat mixed although mostly acceptable review wife town last weekend attend genesis concert hollywood bowl client looking something close wilshire park n ride concert purpose also near getty center lunch next day luxe angelino next door fit bill soso experience latter decided give luxe shot say thing started little rocky carroom package trouble getting reservation department respond inquiry confirmation pickup car much effort part thing finally sorted day prior arrival general managerthis one department need get act together arriving sunset boulevard tiny signeasily missedin front equally wellconcealed driveway lead uphill pullthrough entry court valet parking clearly peninsula however done decent job updating old spacious facility like reviewer think could use bit polish applethis ikea quality redo rochebobois although clearly look going lobby entry area look promising nice decor lighting chic replacing old steel door moulding bathroom fixture patina use draw attention hasnt updated long overly dark hallway trying cool attitude really come long overly dark shame thing consprire cheapen otherwise stylish decor biggest issue detail example nice idea hd flat screen mounted wallsbut isnt hd signal coming every channel look distorted due expanded aspect ratio flat screensspringing hd service solve illfitted front door close tightly letting lot noise hallway wall others mentioned bit thin noise adjacent obtrusive said basic ingredient success present lovely new carpeting nice decor bedding decent bath huge ground common area especially outdoor seating area lounge restaurant lovely one realize   foot away unless fringe property valet parking responsive  well rate la whove quibbled tipping valet repeatedlygo motel  god sake la get practically stuff money hand seemed reluctant accept tipthe restaurant small wellappointed service leisurely breakfast although kitchen seem know egg easy supposed look like price reasonable los angelesthe true highlight front back house absolutely warm gracious helpful la attitude arrived bit early offered complimentary glass wine waiting checked housekeeping supervisor le  people called came sure everything order welcome bag dried fruit nut marketing director nice touchit score future business sure really intend positive review price quality youd hard pressed touch elsewhere la unfortunately easy nitpick luxe much right know little money work invested facility make place even finer sure  star youre treated like  star guest lowkey elegant surroundings private clubby feel forget bargain rate come expect everything actually  star quality thats  price range los angeles overall experience simply cannot beaten honestly say got way paid fori cant wait return',\n",
       " 'loved luxe stayed luxe august  august  loved much came back end august another week australian travelling la upon hearing returning luxe genuinely thankful kept thanking u coming back luxe beautiful boutique clean well maintained prefer smaller name found one perfect helpful friendly always say hello whether front desk housekeeping valet per previous review thought  parking enough didnt tip never treated rudely valet alwasy friendly never waited long car although service menu isnt huge food nice reasonably priced service menu restaurant menu poolside menu loved getting food drink pool pool area really nice relaxing never busy always got bed refresh towel several time day pool heated nice temperature matter time day nice music playing loud steep walk get pool front golf cart giving ride pool dont want walk also tennis court provide racket ball basic big roomy bed extremely comfortable plenty pillow decorated really nicely nad brown beige nice picture shell flat screen tv cable also provide free wifi throughout well business centre use computer printer free charge bathroom nice also roomy kept extremely clean housekeeping came everyday first located valter parking area never problem noise car people located sunset blvd border brentwood extremely upscale neighbourhood mostly gated street neighbourhood extremely safe walk regularly took walk local shop called brentair milk one time jennifer garner getting dinner also staying soprano bad boy actor joe pantoliano located directly  freeway although close could never hear traffic noise close  mean easy access want go located  minute drive beverly hill east  minute west pacific coast hwy santa monica excellent safe definately next trip la could afford live brentwood cannot say enough positive thing luxe average us per well worth money area safety extremely important area cannot beat find something wrong kind person find something wrong matter price star rating',\n",
       " 'time arrived th august left th well average ha two section upper level problem bag car although valet parking english paying  day includes far concerned ability go come please extra cost whatever yank say lovely quiet well fitted although lift floor top floor  couldnt helpful housekeeping doe need checked helpful gave u direction needed breakfast well priced ok service ha well refurbished pool wife certainly recommend luxe vacation la',\n",
       " 'disaster stayed luxe near home due plumbing problem house arrived person front desk decided based appearance came late work informal clothing husband relegated far level told driven tired went go get shuttle told drive husband arrived separately upper level valet parking fine told also parking level third floor fourth floor elevator told either carry computer heavy bag upstairs asked queen bed told believe true next day left early morning returned couple hour requested given late checkout went sleep twice employee attempted enter although privacy hanger placed door time door opened person could enter since door chained respect sign failed advise member late checkout complaining made partial adjustment bill beautiful new disappointed poor service bad treatment part hope isolated incident',\n",
       " 'nice huge almost uncomfortably solo traveler  sqft nice amenity separate shower booth etcthe consists  building main spa tower assigned latter like ride main tower steep uphill doe offer ride internet improved wirelessvalet parking take long shortstaffed breakfast need car nearest starbucks youd probably eat restaurant  get fwy  need make sharp left busy sunset blvd coming back problem',\n",
       " 'lovely serene comfy sadly needed go la moment notice go family funeral luxe belair made trip relaxing comforting king overlooking front drive lower building furniture decor west elm bo concept style giant comfy bed dozen pillow whitechocolate brownchrome color scheme sleek ipod dock style alarm clock flat screen tv hear street noiseim familiar la even though dont like bev hill bel air spitting distance freeway right next uclawestwood halfway beach melrosewehofarmers marketmuseum area also reasonable drive valley service always kind responsive front desk always friendly incredibly knowledgeable local dining recos seemed new area always got car valet within  minute one hand outthe hill one building steep hill always found valet take u pool area upper building via golf cart didnt feel like walking one afternoon  local relative came  little kid  adult kid could swim eat lunch gracious one questioned whether kid guest etc one valet even gave kid zigzag disney tram ride golf cart pool prompt response request extra towel service restaurant friendly slow esp four hungry wet kid want chocolate milk hot dog fry burger otherwise service breakfast prompt esp one morning told hurrywe booked expedia get breakfastincluded plan pay top dollar still usual lodging budget plus charge night mandatory valet parking yikes considering circumstance regret decision complaint mandatory parking charge bathroom needed towel hook common deficiency notice teenytiny closetps mazel tov girl bat mitzvah party sunday fun watch distance',\n",
       " 'missing attention detail recently stayed luxe hotelbel air first time furnished nicely though everything seems painted olive drab green pleasantly surprised upgraded suite although nd floor rather noisy driveway valet area lot door slamming loud voice etc clean comfortable well decorated finding thing simple light swtich chore maid turned bed turned number light none worked wall switch lack convenient plug charge cell phone laptop show age original construction attention detail thing shampoo lotion bathroom remote control thatwas inoperative rectified quick phone call housekeepking really shouldnt nescessary level facility bathroom lighting well suited bathroom difficult see shave awful applying make wife nice marble shower motel  shower head high enough  tall personthey excellent wireless internet free surprised find daily newspaper door although claim offer website attention detail lastly requested airport pickup drop concierge prompt courteous extra cost handled outside service operated hence return airport town car smelled like old ashtray',\n",
       " 'nice outside stayed two birthday weekend id give b overall pro courteous comfy bed beautiful restaurant airy walkway fairly nice decor close getty fine dining con noise night valetonly parking broken fixture roomthis seems like tried cover formerly crappy paint nice ikeaish furniture accent make seem luxurious really several wall outlet cover falling ipod docking clockalarm broken wall fairly thin kind welcoming one inconvenience mostly made fault doubt night though',\n",
       " 'amazing service ambiance poolside',\n",
       " 'little could stayed luxe one nite vacation travel thought place pretty appealing also thought could put bit money could really little gem initially poolside view second floor upper building nice little balcony could hear noise  quite charming furnishing fine refrigerator looked like came someone dorm hear loud hummotor come think airconditioning unit u roof think could find way dampen sound really stayed hot weather cycling onoff time could quite annoyingthe shower handle came tried use called maintenance within  minute someone take look explained wouldnt able fix immediately move another surprised speed within another  minute someone came move u husband asked time city view former la resident thought nice city side balcony hear little highway noise view pretty amazing anyone want think business might want upper building go lower building breakfast bar lobby etc etc hurry might want walk take golf cart shuttle package came breakfast food fine outdoor eating area nice best part place truly pleasant helpful next best thing pool fine think tiny bit upgrading could quite joint',\n",
       " 'liked luxe stayed luxe weekend feb thth really loved decor lobbymodern w clean line throughout really spacious got  double bed also like friendly staffsome issues sunset right  bit noisy need silence sleep may place hear freeway  parking cost  day uncommon la however day self parking permittedso top charge tip valet park carunable rate restaurant pool spa really used crashpadi might id say average except noise',\n",
       " 'wasnt disappointed didnt expect much since think got excellent rate us per wasnt expecting ritzthe friendly enough dont recall seeing cleaning size nice two sized queen bed separate bathroom toilet overall pleased itselfhowever stayed happened wedding party sort facing rearside overlooking outdoor dining area back kind hall private party made hell noise jetlagged thursday party went early hour even shutting window didnt help careful party happening time stayits little way dont car rented one charging something like us per overnight parking nothing hourly chargesid probably got rate rate higher',\n",
       " 'nice excellent reading review little nervous staying reasonable price however made give go along close proximity  stayed  found nice comfortable large clean although stated review wall seem little thin could hear toilet flushing next door cant say anything negative friendly problem checking inout definitely los angeles area',\n",
       " 'cozy modern quiet time insanely high price los angeles give place nice surprise seems recently remodeled   era thats done quite nice modern danishasian style warm earthy tone liked itrooms largemodern amenity flat screen tv radio alarm clock ipod docking stationtucked back tree hillside even though next  convenient cant hear car allvery quietgood food restaurantnice open air lobby ha resortlike feelpotential drawbacksmy colleauge said wall paper thin construction building doesnt seem',\n",
       " 'renovation nightmare suppose holiday lifetime holiday booked nov  first choice signature meant reputable firm three week prior travel told u extensive renovation apparently going since oct  managment knew unlikely finished time nice tell usthey stated disrupt that get shuttle bus  hour return another across la pool closed fridge room noise pm day due completion day returnthey added wish enjoyable holidayit noisy work disrupt definately recommended',\n",
       " 'luxe sux though bel air address convenient tasteful decor make one think upon arrival true gem ha found dont fooled july  filled serious costly problem fro beginning arrived home rnovations pool spa continue available information given fact website phone mean information parking steep day valet one arrives ha option choose electricity went every day three four time daiy although nothing plugged originally garbage eft patio near patio door day baking heat asnt removed several call later childrens accompanying lock fixed management amenity wer available robe slipper pool spa information posted conveyed issue anywhere anyone management honor reserved price listed confirmed website confirmation worst hundred dollar unauthorized charge billed credit card luxe realized pon rturn homethis wolf sheep clothing',\n",
       " 'enjoyed husband  teenage son stayed recent trip tour ucla located  freeway sunset blvd stayed  far main lobby average chain decor modern enjoyed nice change marriott sheraton etc bedding comfortable concerned reserved one  u doe queen sized bedswe  double twin sized roll way bed older son  really appreciated roll way real twin mattress one mattress fold half comfortable free wireless internet connection strong able  laptop connected internet bathroom beautiful travertine floor showertub bathroom average size ha upgraded sink hardware bathroom clean moldmildew lot counterspacethe pool renovated available mentioned arranged guest use another pool elsewhere ucla believethe parking  thought steep la beware leaving almost impossible go east sunset go west make uturn leave extra minutesoverall nice definitely told touring ucla gave ucla rate think  cheeper try get discount',\n",
       " 'nice ammenities service lacking husband stayed attending wedding site weekend reading review asked renovated added  price renovated roomour huge nice furnishing decor even kitchen requested one nice wide flatscreen tv mounted walldiscovered shower broken knob pull get shower turn broken called front desk promised get somebody fix fixed time returned wedding inconvenientwe requested service breakfast next morning arrive time requested noticed nobody even picked request left door morning get order prepared quickly another minor inconvienceupon checking asked could use business center print airplane boarding pas center occupied front desk offered print u nice',\n",
       " 'freeway oasis ditto',\n",
       " 'cool convenient well located right  sunset easy get restaurant street sunset cool old la kind way know la staying mean way large comfortable looking nice pretty service spot dont looking  star service want everything brand new',\n",
       " 'large comfortable showreview full',\n",
       " 'quiet service showreview full',\n",
       " 'dissapointed problem bed   forget king size bed like requested looked like full asked smoking could find ashtray besides shower handle felt like going come wall water pressure miserable toilet looked like something see jail movie didnt even cover realize biltmore older classic ive seen nicer budget motel anyhow dont feel like got paid defense hurry time allow address concern',\n",
       " 'run star war barno mean dont pay attention photo anything read make think worth price arrived call supervisor confirm reservation tell bejust listen barked difference adjoining two next rude comment got called said mixed review online wasthose people complain like going live heremanagement need read comment respondor change management confirmed allrun way',\n",
       " 'worst experience ever please cannot believe still business checked sunday thanksgiving week  min later wanted car park outside since parking fee  got car back car damaged told fill accident report told someone call back next day one called complaint front desk told none business parking outsourced different company today  week thanksgiving still received call might fix car insurance unprofessional care customer',\n",
       " 'biltmore millenium beautiful foyer restaurant terrible stayed millenium october work  downtown la lot going downtown la pm working convention convention center anyways walking impressive beautiful foyer chandelier high end restaurant etc hustling bustling go dinner fitness center pool alsorestaurants esmereldis food breakfast pricey sai sai expensive sushi really food atmosphere sport bar little dirty pub farerooms millenium lack old carpet small old bed really old tv small getting internet pain long hallway walk bathroom poor water pressureoverall millenium historic peaked s dean martin company used ang seen picture property place business traveller',\n",
       " 'worst bed ever organized luncheon  people biltmore spent ate late dinner grand avenue bar waitress mixed order food bland bed club floor horrible could feel individual spring mattress bathroom really small old club floor breakfast nice customer service outside club left lot desired id think twice hosting event sent u diagram  table insisted set  threw fit  min luncheon began also couldnt find twentyone x foam core board delivered day luncheon board appear  min luncheon found insisted didnt',\n",
       " 'old world charm la business spent  biltmore downtown la grand old ha pro con pro include high ceiling wide entryway give one feeling space furnishing tasteful bit dated closet dresser space limited though main drawback lack electrical outlet outdated least appearance nature existing one rest offer fantastic photo ops ornate lobby grand hall dining fresco chandelierseven pool fitness center recommend staying downtown area although deal evening',\n",
       " 'one expect much booked via british airway ba emailed emailed several time simple request regarding quiet view miranda reservation said problem experienced completely differentthe common area ground floor simly majestic mixture alphonso xiii seville nacional de cuba havana however beauty stop view imagine u shaped wall window base u limited view upsetting though spending time email busy hallway difficult sleep h flight h difference london disconsiderate young girl shouting hallway am la time door thin nevermind engine like permanent noise came somewhere outside probably underground made even thing bathroom vibrate double glazing basic look like   star offered next floor probably problem am went business print  page cost together min spent online amount almost  dollar could pricey american seems suit big noisy group quiet tired people receptionist said doe plan future renovation bathroom definitely benefit am checked am comfortably checked beverly hilton thats call outstanding service based lack sleep presentation rate experience terrible  star',\n",
       " 'tired got  priceline fair price downtown la needed near disney concert hall never huge place public area quite beautiful tired mostly based fact bathroom hadnt renovated  year mismatched tile etc housekeeping standard terriblethick layer dust bathroom light ventilation grill also expect much higher quality bed youre going claim  star',\n",
       " 'loved stayed september  making reservation read review many contradictory made little worried people rated terrible others excellent whats dump one lovely place another expect brand new people stayed certainly nobody going paint wall guest leaf im trying say review helpful time take  truth checked party  people helpful checked prompthly big nicely decorated clean loved hearbeat',\n",
       " 'tired recently stayed biltmore downtown la disappointed part large notforprofit conference group guess rate stayed like say conference facilites food better average type situation really tired old faded furniture old bathroom tiny tv non little amenity make bit nicer ie makeup mirror mini bar safe even upgraded suite bigger pretty barren least suite slightly larger tv closet plus business center charged  minute use computer really nut downtown la sketchy attending conference biltmore try one nearby fine accomodations poor',\n",
       " 'disappointing stayed part road trip expensive disappointing time snooty reception desk surprising clientele dressed casually given one worst place dank dark dusty complained immediately someone front desk said allocate another didnt materialise phoned front desk four time one need long journey want unpack take shower given slightly better still disappointing plus side met couple nice member concierge could helpful lady served bar lovely think carefully booking wish gone something like chateau marmont similar',\n",
       " 'lot history definately place heart historic downtown la booked thru priceline bid  dollar  star downtown came one sure try find parking one public lot street parking though pull lot virtually blocked pay  buck valet worth park outside like  buck even le also  buck sandwich water bit pricey style may wanna steer clear service dont use priceline end paying  bathroom door wouldnt lock closed bathroom pretty small huge lot class sure thats priceline sends',\n",
       " 'lovely round well say perfect bit apprehensive first time la read mixed reviewsall say found every aspect fineall receptionist bellboy valet etc helfpful friendlywe standard adequate coffee maker power showerthe ideal get shop bar restaurant close went day felt quite safethe arranged tour la hollywood u informative valu money collected taken meet tour bus returned afterwardsi know others complained valet cost seem high  dollar look around average la areamrs edge liverpool uk',\n",
       " 'ok reception look nice seems guest time business travelersthe rudethe noisy could open window noise looked right also could figure work heater coldthe big tv radio alarm clock bed nice several lamp light walking way front door window darkthe bathroom small necessary amenitiesall okthe area business hour otherwise',\n",
       " 'amazing historic downtown',\n",
       " 'history come alive amazing appreciate beauty early th century architecture opened  still retains early grandeur clean large stylish two double bed average size fine restaurant expensive side los angeles neighborhood heart downtown female alone feel nervous uncomfortable area people complain area must making first trip lifetime big city never seen homeless person loved biltmore cant wait go back',\n",
       " 'simply beautiful beautiful everything lobby area hallway architecture beautifuli stayed one club business traveler th th floor one perk access business lounge th floor offer continental breakfast morning refreshment evening inclusive rate keep mind paying higher rate sure necessarily worth leisure traveler breakfast average coffee juice cereal fruit yogurt pastry evening refreshment consisted soda cracker cheese meat fruit cooky nice setup lounge area table couch flat screen tv internet access also free access loungespeaking internet access cost   hr period also building older wireless reception signal quite weak make sure bring ethernet cable along plug cell phone reception also quite weak mine kept fading depending hotelroom beware thatthe size awesome much floor space sitting area couch table also sure available club standard feature disappointment bathroom size one hand huge ton floor space even walkin closet yet bathroom tiny much move also tub bad shape crack drainage area think bathroom needed renovationall place excellent want downtown seems like quite restaurant area didnt much time get grabbed bite smeraldis one sai sai next restaurant within smeraldis italian meditteranean touch really food excellent creme brulee best ive la far sai sai japanese place beautiful setting excellent service',\n",
       " 'mom  year old daughter  year old daughter spent  early august choice vacationwe found biltmore perfect central touristy thing wanted  day venice beachsanta monica pier rent chopper bike  hourssooo fun day san diego wild animal park  day shopping melroserobertson course  day catalina island  day disneylandthe perfect u easy drive everything large nice bathroom looked fitness center fine busy use ita solid  star hotelstaff fine little time spent parking underground across street  instead valet perfect u felt completely safe even returning late midnightwe dinner fast food place within walking distance werent la eat several lovely late dessert fancy restaurantsthe biltmore pleasant surprise definitely go back highly recommend',\n",
       " 'charm king ',\n",
       " 'lovely shame area arrival problem booking family didnt credit card going charge  per cash alot haggling got  per certainly didnt need  hour flightthe beautiful clean couldnt fault found little rude didnt clue transport around areait easy use metrotrain busvery frequent cheap area full tramp group youth hanging aboutbut trouble area upgraded lot building work taking place nothing open pm nothing travel see anything metro easy convenient use',\n",
       " 'close attraction stayed august  found central place tourist looking see lawe able visit universal studiosbeverly hillsrodeo drive malibu pacific coast highwaymullholand drive venicesanta monica beach withing range hotelwe also lucky see lot filmvideo shooting downtown areait seems lot around downtownsave money  parking expensive  try parking underground garage located olive st across street rear entrance hotelit cost  overnight parking weekend even cheaper   eating subway quiznos dominoson olive street right behind located within walking distance hotelone complaint bathroom smelled horrible like mould growing felt safe walking',\n",
       " 'rudest encountered extremely rude especially concierge nobody speaks english cant get direction amenity speak english dont know anything everything extremely priced  parking  drink vending machine website say ha continental breakfast complimentary breakfast breakfast outmeal bagel cost  access fitness center pool walk elevator main lobby set stair',\n",
       " 'disgusting horrible despite history first took hour check family six asked two next impossible second took hour deliver bag literally hour maybe didnt tip enough way day parking next biggest complaint historical dark appeared never cleaned bathroom tile tainted black cigarette butt corner nonsmoking top road noise reached way ninth floor couldnt fall sleep party held around am never recommend ever unless yyou want take picture beautiful lobby',\n",
       " 'overall experience stayed millenium biltmore  la wedding really enjoyed fortunate enough get nice big booked grab really enjoyed beautiful decor fabulous lobby corridor cognac bar place meet friend sip wine agree review charming ever seen feel bit like another faceless guest time exception one waiter restaurant efficient helpfulthe area around thing interest block away downtown library art exposition going time lot outdoor art around many skyscraping building car almost essencial though want see anything block away quite empty pm deserted weekend',\n",
       " 'beautiful gem heart la  biltmore los angeles lobby common area absolutely beautiful home academy award bathroom small everything needed shower id highly recommend anyone looking affordable central downtown la negative cost valet parking  day inout privilege overnight parking across street park  per day better option',\n",
       " 'balanced picture biltmore im writing review dispel complaint first downtown los angeles homeless people female never felt threatened surroundings youre concerned neighborhood ask tip guideline go another fact visiting los angeles need car downtown la like many business center empty workday option might limited yes relatively small bathroom also bathroom showed tiny sign neglect look hard see never felt penned ac strong cool broiling socal weekendhowever responsive lobby indeed gorgeous dont like restaurant check many fine dining establishment commonplace downtown la need car enterprise office across street lot potential around biltmoreoverall though biltmore fine definitely wasnt fourstar youre likely best booking priceline hotwire dont let bad review scare away',\n",
       " 'horrible paid arm leg worth disappointed outside internet photo biltmore still look grand luxurious reality subpar bed joke thin bouncy mattress thin pillow linen made itch minute sitting little creepy ha kept dated historic way small tv little counter space stuff parking  day outrageous looked website find much cost could find price listed anywhere see star downtown charge day valet drive car distant parking lot somewhere downtown waiting get back left standing waiting long time appalled didnt even sleep left hour stayed somewhere else',\n",
       " 'loved architecture grand stayed  day husband two teenager decor beautiful reminder extravegant luxurious past upon arrival cherry coated chocolate personalised welcome letter main restaurant smiraldis service excellent food definately best al carte meal america waiter extremely friendly professional definately recommend anyone wanting experience charm grand old lizzie australia',\n",
       " 'amazing old entire building unbelieveable really ornate like palace built almost  year ago sure dont make like anymore little pricy downtown la much historical appeal worth splurge',\n",
       " 'grand first blush service extra cost ruin value historic grand common area look service targeting rental meeting rather service traveler dont fooled website photo photo provide accurate overall picture environment generally use choice clarion decided go something ordinary make trip exciting bad decision true cost reflected rate charge every service use dingy dire need repairsupgrades entered certain  star repair tile plumbing fixture looked like performed bellhop workmanship material low grade tile grout replaced poorly installed silicone caulkultra cheap service   hr internet access free internet access something come take granted another mistake news la library half block away offer free internet access public walking destination breakfast early dinner charge local call  charge tollfree call  linen terrible sheet thin pillow towel thick niceparking  per day fan giving car stranger gouged parking parked across street evening  underground parking garage felt safe secure little elevator driveway valet drop offpool exercise pool ha classic look tile throughout attractive brass railing around unfortunately small three people pool felt crowded get also floor surrounding pool dirty exercise equipment might installed original grand opening  crammed much le space needed enjoy workout restaurant ate smeraldis first food service slow price reasonable second evening stopped tout downtown la hottest sport bar must downtown la sport bar open sunday uh dont sporting event occur sunday anyway food poor beer warm service slow actually get table go bar ask drink refill environment dark dreary plenty television want watch gameallinall lousy place whatever cost final cost far high accommodation value',\n",
       " 'better expected recently stayed millenium biltmore evening july th needed place los angeles area without drive back riverside evening slightly concerned reading review staying bad feared arrived around pm evening th quickly helped bellman car whisked away within second unloaded wait checkin polite professional bellman literally followed u friend exception taking service elevator took public one even though met th floor time quickly showed u unloaded bag friend quite shopping trip rodeo dr earlier day asked needed anything additional even offered fill ice bucket thought nice touch planned go later evening called ahead valet get car ready time walked call approx  minute car ready waiting usa stated previous post older holtel vary size located quite large maybe even bit large furniture believe could use bit upgrade term bedding rest furniture seemed plentiful plenty electrical outlet stylist product friend use view wasnt much could see part olive st better building smaller size crowded downtown checkout fast efficent called valet get car ready ahead time time  minute left car ready waiting againoverall professional helpful hesitation staying aging bed linen could definately use upgrade bring  standard',\n",
       " 'terrible service husband stayed biltmore wedding booked special treat could afford honeymoon since graduate student since history buff booked biltmore historical value seemed like closest could get european grandeur without go europe vega heaven forbidlike others stated entrance spectacular picture speak booked standard hoping get free upgrade similarclass provide service new bride groom fact nearly friend received free upgrade complimentary champagne strawberry wedding similar area hilton westin intercontinental hyattwe walked full wedding attire received many congratulation random people however met rudeness concierge service curt mention congratulation asked kind upgrade service available front desk person seemed appalled even ask mentioned friend received service omni recently said well maybe booked omniwe expecting demanding kind upgrade inquired based upon experience married friend fact rebuffed rude way major sore spot wedding end staying almost offensive price paid even stayed nicer hostel europe fraction price husband felt sorry spend wedding like close getting another bonaventure street stayed although small furnishing decor par  star even called bonaventure biltmore inquire availability asked service new bride groom concierge replied professionally guaranteed yes bonaventure always provides upgrade bride groom based availability definitely received suite booked evening ultimately decided book since exhausted wedding didnt want pay another  valet parking top wasted feethe grand day biltmore certainly behind judging service tell struggling cannot keep competitor standard measure hospitality downtown los angeles rapidly developing ironically swanky fashionable biltmore able keep gentrifying surroundings',\n",
       " 'gorgeous delightful arrived looked like palace europe incredible ceiling hall bright clean surprise even though booked hotwire upgraded suite lovely king bed walk closet separate sitting sofa dining table downside soundproofed could traffic noise audible though bad prevented sleep',\n",
       " 'classy old girl millennium biltmore beautiful old public area gorgeous old girl definitely sense history especially enjoyed work facility pool felt like working  really fun quite nice large well apportioned able get wireless worked quite well convenient shopping dining difficulty finding concierge former conicerge often depend upon concierge ensure concierge hard find alternate betweee upstairs lounge downstairs desk overall',\n",
       " 'classic elegance stayed biltmore onenight recently everyone least onenight gorgeous old simply experience small window let lot noise decor luxurious trapping missed gallery bar place hang watch drunken bridesmaid hit old bartender professional courteous front desk checkin timeconsuming nightmare price make inconvenience though overall',\n",
       " 'terrible money love downtown la much staple center public transit subway long beach restaurant dodger stadium short drive away la every month work always time mention love staying los angeles lobby bar absolutely beautiful couldnt wait get roomthe bad acceptable actually thought seriously going different luckily wife doubt stayed bed linen must  year old everything looked tired dirty tv  inch tv kitchen  year ago asked employee ever eaten sushi restaurant ever heard anything said wouldnt eat noted smelled really fish time heard bad thing stayed competition bonaventure marriott wilshire grand gladly stayed although ecommend wilshire bonventure deal kind neat hang around remember none modern mavels',\n",
       " 'low price exquisite became life time memory staying like staying palace however feel lacking marketing price worth far asked people willing pay thing included asking price parking internet refregerators microwave date tv set feel price far bei definately',\n",
       " 'price couldnt better boyfriend stayed millenium hilton short los angeles police concert dodger stadium booked expedia rate saturday  including tax fee rare upscale day especially large city recently paid price fleebag motel montereypros amazing public space felt like transported glamour day hollywood past felt like grand old new york style bar sport bar main bar attached lobby gorgeous drink however expensive appletini  free nut though charming high ceiling nice moulding bed comfortable quiet care tv bit smallwe watch tubeeasy find neighborhood scary like people reported business district lot going youll need drive want nightlife unless course walk standard roof top bar club greatcons sport bar ech dark dingy serve late food actually really difficult find late eats besides service menu expensive valet parking  per also crowded air confusion drive car whisked away even know whats going make sure thing exit vehicle heard difficult retrieve item car ha parkedwe didnt visit pool liked comment picture look amazingall worth money well backohone thing expedia give  half star rating class believe based review  star reported website agree  star rating could use little tlc',\n",
       " 'wonderful experience everyway kansa anymore insulting disagree grew kansa city slicker dont see homeless people around street clean safe live san francisco much intimidating lovely ha service furthermore want   star rate  per parking cant believe way people self serving theyd ruin experience price average income working american see historic architectural place ha restaurant everywhere walked street last pm problem aint four season overall best downtown la',\n",
       " 'mixed reaction believe letter sent manager afteri checked sum expierence preface thing expierences past get response manager phone call follow give high remark however manager offer compensation kind said call next time stayed letter checked today june   honestly say one worst experience stayed nd pleasant experience last time think twice reserve continue recommend friend family assigned drab wall bare piece wore badly rm  asked switch class reserved stuck overlook industrial portion needle say left shutter shut disgusting view additionally unfriendly one every smiled point except maid made point say hello morning everyone else big chip shoulder valet attendant lax hung around one decided get car one point waited  minute get car entire time guest dropping picking car saw ticket come car lien guy standing around nothing least  minute one decided pick slip retrieve car pay  day lastly checked wasn鈥檛 even asked typical hospitality protocol given bill sent away wasnt even opportunity reviewthe bill charged credit card printed handed shocked horrible everything establishment like really greatly disappointed',\n",
       " 'experience biltmore perfect interested grandeur past housekeeping service quick clean efficient tea lovely except server engaged hand bartender lounge outstanding terrific story past looking flat screen tv sleek duvet trendy touchesthis place love ambiance garndeur public spacestime check',\n",
       " ' star loved history service grandeur biltmore ball',\n",
       " 'millenium biltmore real treat',\n",
       " 'classic meeting space classically outdated biltmore really feel like la old common space lobby meeting facility dramatic beautiful filled history book meeting youll happy meeting hosted academy award starfilled function look today must  year agothe another story open wardrobe find look like year old small tv sheet blanket thin old bathroom functional small large bed moderately comfortable food ok old outlet premium especially laptop blackberry ipod etc plug ini got rate  expedia thats fair',\n",
       " 'nice service take one incident to bathroom',\n",
       " 'excellent choice wife stayed millennium biltmore memorial day weekend initially went based deal expedia hoped best right arrival thing went greeted warmly checkin informed upgraded junior suite huge super modern immaculate also given voucher free breakfast two morning round drink bar compensate minor remodeling going weekend didnt effect quality one bit gorgeous throwback old la place ha ton history character still basic amentities needed modern world ie high speed internet business center indoor pool gym etc centrally located base exploring los angeles finally highly recommend martini offer gallery bar',\n",
       " 'stayed millennium biltmore conference earlier month immediately present challenge area feel comfortable safe single female traveler walking around day let alone nightthe common area really quite beautiful reflect grandeur glamourous old hollywood however posse none allure worn dingy sheet questionable bedspread match dismal view constant hum busy downtown traffici could go banquet food par dismala supreme could bridged gap make experience memorable fell short however notable exception julio bar possessed savvy service level beyond property also director whose name escape misquoted service delivery time failure deliver package ridiculous  charge chicken finger bar yikes worst part apathy lack ownership apparent everywhere problem seemed going mantraall place care return',\n",
       " 'okay best biltmore millennium conference earlier month agree majority previous poster travel quite bit business feel lobby public area guest sadly overlookedwhen arrived definitely impressed lobby front desk area truly stunning front desk clerk tried upgrade check night fee declined however say large stepped one lucky one conference people half size mine matter prmarketing person stated old property definitely understand variation older hotelswhat cant understand however lack quality everything inside guest small large sheet thin paperlike pillow like burlap sack comforter ratty bathroom amenity shampoo soap etc never replaced entire even though used fact one day maid knocked lampshade lamp making bed even though back two additional never fixedwhat ticked though way nickelanddimed understand high business thought process people expense account care thing cost wrong day strict budget need adhere travel business dont appreciate  charge print boarding pass flight grand total time business center  minute advertises hi speed internet public area guest aware certainly complimentarythe food conference however meeting little chilly meeting arent beautiful ballroom extraordinary always pleasant helpfuli agree poster however best locationwise tourist didnt feel unsafe neighborhood get little seedy nightso renovation complete think fine property event business meeting tourist however reconsider',\n",
       " 'grand ha seen better day spent four biltmore say lobby meeting impressive opulent old world hollywood way attentive polite professional however serious need update bed pillow hard comforter reminded something seen budget restaurant service extremely overpriced ate restaurant three different time service slow food exceptionally overpricedif enjoy part historic suggest however looking comfort luxury look somewhere else',\n",
       " 'nice avg terrible neighbourhood member helpful common area quite beautiful lovely high ceiling wellkepthowever stayed  quite small tired looking view brick wall linen old luxurious meansthe neighbourhood around pretty sketchy much particularly weekend even starbucks close closed sunday downtown la next time meeting downtown la santa monica beverly hill rent car',\n",
       " 'beautiful husband recently stayed millennium biltmore los angle business trip overall id say pretty satisfied beautiful ha fascinating history careful watch walking busy looking beautiful wall ceiling lucky enough get see several ballroom conference attending amazed rest small sufficient keep reminding older didnt necessarily big right elevator though heard ding elevator hour air conditioner worked well made awful banging noise turned could even hear banging air conditioner neighboring also trouble water draining bathtub probably le  minute shower water ankle late snack dont count vending machine floor alternated vending ice machine search couple floor vending machine turned coke machine friendly nice food restaurant expensive somewhat expected problem saturday sunday store restaurant city closed didnt much choice eat food nice option also fyi information ammenities offered ie restaurant menu least highlight price range pool hour fitness facility hour city transportation information etc found bit odd',\n",
       " 'much returned day lobby meeting quite lovely old hollywood feel however need serious update large dreary window overlooked brick wall hardly chance sunlight sheet low quality bedspread dingy shower head low water flow base vanity kind painted plywoodi could go business meeting downtown convenient much else tourist like see also didnt feel safe walking around weekend evening',\n",
       " 'place best coffee bar ever',\n",
       " 'millenium biltmore basic overpriced boyfriend stayed  october  arrival greeted friendly efficient manner directed lobby public area fantastic exactly style im contemporary decor public area looked fantastic traditional decor entered corridor lift though noticed standard dropped dramatically instead looking fresh like lobby corridor looked dated need redecoration entered  star pleased grubby fact moved chair towards wall make bit space crumb previous guest obviously cleaned properly dark bathroom completely outdated dirty looking old tile wooden panelling painted white long time ago dirty yellowy colour nothing special bathroom wasnt impressed going complain ask change decided maybe expecting much like probably wouldlater lay bed intention watching telly large mahogony televisiondrawers unit foot away end bed side facing bed pulled sliding tray television far could swivelled far could still could comfortably see television bed bad set altogether mind  chair front television unit perhaps youre meant watch television concierge though helpful helped u organise rental car day trip disneyland brilliant help u must say thison first morning went breakfast restaurant mistakenly thought included price fault walked seemed bit help yourselfwell take order table set waiter staring u approaching explain routine felt pressure something took seat free table waiter approached asked could take order wanted bowl frosties slice toast boyfriend ordered omlette got feeling waiter must something wrong ordering caused inconvenience never took time explain supposed therefore could rectify result whatever wrong waiter proceded quite rude abrupt u throughout serving u nearly cut look asked nd glass orange juice next thing shock horror bill arrived breakfast wont believe price  dollar plus tax small bowl frosties  dollar plus tax one slice toast butter  dollar small glass orange juice  dollar omlette served breakfast potato queried waiter politely whether breakfast included stomped check reception came back said wasnt didnt argue took bill left u momentarily organised money total bill including tax around  dollar put  dollar bill booklet stood leave waiter practically ran table picked bill booklet front u rudely opened bill acknowledged  dollar threw eye heaven loud tut clearly didnt think  dollar enough tip making people feel uncomfortable rude right throughout servicethe sport bar dingy really undesirable ate first food ok homeless person managed come hassle u tip eatinglocationwise ok rented car day two also metro stop around corner brought place easily enough bit trek hollywood universal studio gym swimming pool poor well unfortunatlely didnt feel urge use facility saw themunfortunately price paid grubby accomodation especially measly overpriced breakfast rudeness waiter dirt sport bar enough say money could probably get better la possibly better honestly wouldnt recommend anyone especially tourist maybe look u felt could throw u old wed content honest seems hold lot business conference etc day restaurant breakfast seems classy financial district type restaurant professional go business meeting dinner something could concentrating accommodation though unless different set business guest dont understand',\n",
       " 'enjoyed millenium husband stayed two millenium biltmore la waiting board cruise ship first time la thoroughly enjoyed city car rental must though get around see everything impressive old beautiful comfortable bed wonderful restaurant accomodating highly recommend',\n",
       " 'biltmore bit loud spent four end april must say really disappointed ive stayed previously faced courtyard street trip eigth floor youd think street noise wouldnt factor unfortunately old doe double pane window hear everything outside since la always busy always noise also drape morning sunlight also problem woke much earlier id prefer huge corner suite small chair desk couch lounge unfortunately also ac work half time sounded like lawnmower running closet valet also brutal car take forever pull driveway really small cant accomodate lot traffic restaurant arent either close really early overpriced need serious upgrade wont coming back',\n",
       " 'nice lobby horrible stayed one ilast december family moment arrive yo see beautiful lobby get want leave even service really extremely old old charm appear aretry find downtown worth',\n",
       " 'beautiful reasonably priced old husband stayed millenium biltmore long weekendand really enjoyed common area breathtaking carved ceiling especially nothing terribly special clean spacious thevery reasonable price think choice',\n",
       " 'classic even arent truely classic grand public area demonstrate rich wood high ceiling flair taste doe take back early th century old match stayed x standard club level need degree freshening general furniture decor dated worn club level bit provide nice sized corner suite plenty light included level excellent breakfast offering juice fresh fruit yogart assortment fresh bakery etc well appreciated provided similar happy hour sort early evening also nice touch much prefered club level consider staying service overall acceptable superior terriblethere several restaurant within close walking distance choose youre looking luxurious boutique surroundings across street checker stayed also visit biltmores lobby expect pay serious cash difference',\n",
       " 'ha class also flaw arriving biltmore entering lobby impressive indeed spacious rather grand long hallway run behind lobby contains restaurant shop convention ha business near dorothy chandler pavillion went check wait  minute entire computer system crashed however way wait way unacceptablefirst looked like something s older looking lowlevel queen bed complete ss style cream bedspread dust ruffle didnt match didnt fit torn retro bad retro badthe carpet stained small dark view wall bathroom tiny poorly remodeled one wingback chair looked incredibly uncomfortable also small couldnt possibly sit chair watch tv tv dresser desk desk chair however desk table nightstand weird heavy boxlike object like overturned computer box lying floor right next bed various wire attached sure bed light place put anything lay bed didnt see clock phone desk reachable bedthe worst part however huge stain creamcolored bedspread point demanded new roomi upgraded junior suite large separate sitting furniture still somewhat dated couldnt fairly describe suite attractive luxurious carpet stained tile missing dressing area counter tv   best bathroom ok small also bit dated also minibar bottled water coffee tea sure vending machine tap water nothing drink service unremarkable neither bad concierge helpful checkout slow  people line one person provide assistance service breakfast fine prompt tasty dinner japanese restaurant service didnt make use facilitiesi get impression end could mean difference decent unsatisfactory one sure type need request club level didnt maybe betteroverall experience merely okay second ive stayed many nicer price thus probably look elsewhere return',\n",
       " 'nice restoration stayed millenium biltmore town guest could shopping jewelry district convenient pleased get dinged  overnight parking charge mention booked although expect youll pay charge parking big city expected attention unloading bag checking etc got way way ended feeling fortunate valet finally parked car beautifully restored common area immaculately clean stayed concierge floor th pleased bed comfortable quiet fitness center nice fairly small steam loved generally hard find concierge lounge acceptable really anything special need get early interested snack run arent replenished friend experienced poor service big bar went find sport bar enjoyed much service issue although small prevent giving maximum star overall really enjoyed',\n",
       " 'upscale common area average price stayed several time past year never disappointed first impression lobby ballroom hall bar fantastic reminiscent old hollywood ha gym also need update bed linen get par chain hilton nice bathroom bit small cramped tv small wireless internet  park guest think outrageous book far enough advance rate beautiful ammenities never paid  downtown la rate hilton across street close  sport bar ha pretty food walk block mccormick schmidt well certainly recommend busienss traveler even tourist least check place',\n",
       " 'movie set biltmore kept traditional mannerit full history respect fascinating hotelit ha used many many film tv show recognised since stayed staged oscar s jfk campaign hq ha lot claim fameit still well appointed nice large comfortable clean well appointedthe window old therefore noise cold problemthe also bit problem arein la tourist quite way hollywood blvd fro example street around biltmore virtually empty lead feeling bit intimidating walking back metro etcwe lucky enough able watch filming without trace done lift used reception day gone byit interesting seeif staying definately worth speaking member history place seemed well educated workplacefrom al capone beatles victim black dahlia murder',\n",
       " 'old school charm stayed millenium biltmore business ha downtown easy get parkingvalet area biltmore ha old school charm attended several conference gone smoothly ballroom beautiful look old picture past event celebrity first given time check walked strong mildew smell bottom comforter stained also drafty loud window sealed  inch gap top bottom window asked moved put another smaller cute comfortable clean dinner service always prompt food didnt breakfast fitness center doe open am people get going early doesnt work fitness center doe variety weight machine cool indoor lap pool front friendly efficient',\n",
       " 'look dont exudes golden age hollywood lobby common area nothing short spectacular sure look wonderful photograph memorabilia strongly suggest visit drink walkthrough recommend overnight elegance end get comparable cheapest motel cheap bedspread linen bad furniture terrible art etc minibar coffe pot one cup paper le model bathroom even worse attempt bring date failed miserably instead capturing era pitiful mix style terrible use space add shower water pressure tepid water morning worst one ha made attempt soundproof least diminish traffic noise th floor sworn window open old original window place plantation shutter broken piece nothing muffle noise neither drape older fan ac system turned high muffle street sound one stuck noise far worse heard nyc reading changed review terrible okay lobby beauty structure cant make woeful inadequacy bill luxury property nothing luxurious accommodation',\n",
       " 'architectural public space nice understand public space redone five seven year ago fact movie filmed least marginal clean everything seemed empty large bookcase secretary desk book scratch paper pen etc astounded learned management company changed five seven year ago yet item logo name still old management companythe located downtown la learned downtown area essentially close pm walked around within block either direction find restaurant deli get something eat arrival nothing open walking block found area rather seedyi think attend conference use base vacation',\n",
       " 'beautiful lobby ballroom arent unless royalty stayed christmas  may see historic tour la old hollywood buff want see s academy award held lackluster underkept comparison lobby ballroom ballroom locked best part lock guest sneal peek one day biltmore bowl crystal ballroom beautiful got lucky day film crew unlocked resturant bothered asked coffee go cup told dont cold distant security plentiful cold also hard get people smile around two queen bed bathroom worst mold old broken cheap fixture bathtub never cleaned grand come short guestroom money must go keeping lobby ballroom beautiful look pretty online main entrance like plush cleanliness',\n",
       " 'spent christmas biltmore rendevous court stairway',\n",
       " 'suitable tourist stayed  november  three nightsthe beautiful decor history place interesting worth getting early jet lag walk around fine old size adequate yes bathroom small expect old stayed brand new smaller bathroom clean serviced every day  looked side noise bit problem traffic stopping london light sleeper might want pack earplugsthe reception fine concierge helpful problem la three wanted see sight downtown took long time get anywhere even metro one option menu breakfast buffet  tax slightly steep compared stayed plenty choice service fine though waiter could little friendlier recommend anyone staying business anyone going la leisure pick wisely unless want beautifully decorated ha bit hollywood history glamour',\n",
       " 'fine price basic neat tidy third floor',\n",
       " 'biltmore blue run walk house event downtown option change plan disorganized disaster heard sold may account poor service weekend long front desk gave away bridal hospitality suited though signed six month ago signed contract argued ever guaranteed though recovered bridal suite late day friday found hospitality parent located different floor guest rather one mom scheduled six month ago inefficiently ineffectively crowning mismanagement error came woke sister new husband  dawn following wedding saying bill must settled immediately villainous hotelier actually came suite pounded door refused leave already imprint credit card desk please tell friend away venue don鈥檛 act together',\n",
       " 'grand old recently stayed biltmore  friendly arrived clean tidy coffee tea facility two double bed small table chairthe foyer reception lobby area impressiveon arrival demonstration pershing park created noise window open overall quiet couldnt hear neighbourswe pleased service cleanliness history shop full interesting photo fact hotelwe los angeles',\n",
       " 'grand historic biltmore rendezvous court could get drink late relax',\n",
       " 'worldl luxury wonderfull experience large character situated downtown la atmosphere ombience classic ha experienced believei double check paid sure exepensive load load historywe visited hearst castle  day like going back hearst castleyou must visit believe',\n",
       " 'beautiful classy please pay attention say negative thing biltmore obviously expecting new hilton something likethe biltmore lovingly restored originally built  decorative classic enjoyed moment stepped foot inside perfect every need quickly attended tocheckin breeze always easy gigantic wedding going onwe wandered around looked banquet beautifully restored moulding beam mural carving like absolutely beautiful work original muralist known smeraldi whose painting also sistine chapelthe restaurant simply breathtaking beauty food unparallleledthe high tea rendezvous something want miss tea lovely scone goody excellent service ambience make feel like royaltywe th floor furnished nicely wellcared obvious older still remnant dumbwaiter little bygoneera touchesbut loved place cant wait return',\n",
       " 'experience love new store come la ca biltmore la every  month made trip california last weekend september must say wonderful experience lobby impressed always love little shop one older shop replaced new shop believe store named treasurer beautiful store product helpful service addition ideal tourist like go buy suveniers definitely stopping next trip definitely reccomend toursits visitor biltmore overall wonderful experience doubtcaroline r',\n",
       " 'cant see problem stayed millenuim biltmore september th th thoroughly enjoyed staythe lobby public area beautiful felt like oldworld hollywoodmy size small two double bed plenty relax spread outthe bathroom adequate largeeven although starting show age whole well maintained cleani found pleasant helpful providing u direction advice valet excellentmany complain price parking welcome big city holiday coming sydney australia price par courseas far went u easy get major attraction car train two block away',\n",
       " 'unimpressed biltmore biltmore old beautiful downtown los angeles however old portion outweighed beautiful part lobby accompanying area quite welldone interesting staying ha hosted many s award show seems though redone since right  show surprised tv color modern feature appreciate historic point guest need update property large figure reason housekeeping shabby job cleaning overall disppointed especially come another historic santa monica done everything right dont need downtown la business dont downtown however work brings city look elsewhere quality biltmore missed mark',\n",
       " 'could far one best stayed see anyone rate bad beautiful everybody helpful one problem air stopped working upgraded price everytime show picture everybody comment pool area recommend everyone matter state blitmore go wrong yes bit homeless people ga bother stepping show blessed attraction sate',\n",
       " 'booked two concert overnight impressed friendly helpful put least booking priceline sometimes case clean charming lobby glamour expected original sight academy award breakfast outstanding walking hall taking historic photograph visit entertainment history museum use pool truly work deco art somewhat worried booking reading negative ta review positive one start finish mean everyone going pleased everyone going end bad experience either highly recommend lovely step away typical city high rise',\n",
       " 'beautiful lobby friendly service biltmore lobby beautiful courteous friendly booked deluxe king however traveling  preteen girl needed  bed first received two double bed queen available wasnt comfortable older inside anticipated though clean along courtyard asked could change two queen following day accommodated u extra charge much expected downtown traffic bit noisy tired playing didnt much matter',\n",
       " 'mixed feelingas biltmore mixed feeling biltmore let start positvethe price value especially includes breakfastthe buliding impressive grand clean comfortable breakfast excellent attention waiter liked used nearby subway station pershing square get univeral studio hollywood public transport cheap efficient even got bus santa monica however negativeswe arrived pm flight uk first told availabledespite booking paying well advance reputable company uk receptionist offered u  upgraded club floor allowed use extra facility floor told phone  pm see available  u  adult  kid aged   tried get bit rest  double bed lucky gentleman checking time sent away despite reservation number pm advised available pm point spoke manger told going meal got back wanted another half hour later nd albeit  floor one probem manage get late check free charge day left asked given grudgingly receptionist seemed think  upgraded sufficient compensation subject difference could see club standard decor newspaper deliverd free bottled waterrooms clean comfortable need little tlc bit worn place need upgrade bath small even british standard definatley need upgradepool use repairlocation lot panhandler problem may make people uneasythe probelms check didnt end spoil wary staying',\n",
       " 'millenium biltmore unfriendly place stayed biltmore july th th  family husband three child aged    travelling australia wed  day disneyland staying anaheim moved anaheim biltmore immediately felt didnt fit lady reception extremely unfriendly asked question answered extremely reluctantly husband drink gallery bar child watching tv barman also friendlythe concierge wonderful man called james made unfriendly charming friendly manner gave u sort helpful tip market nearby could purchase fruit child bought  banana u  cent wow australia currently banana cost au advice sort tour la go onyes biltmore beautiful impressive colourful history however first ive stayed bar fridge cost extra  per pool child desperate try available whole time middle summer grrr spacious comfortable overall',\n",
       " 'glamour biltmore exterior biltmore classic architecture',\n",
       " 'wouldnt pay stayed  meeting glad didnt pay lobby ballroom lovely stop small dingy bathroom gross mold tile bathtub didnt drain properly ended standing foot water towards end shower say regard meeting logistics av problem took forever get took long time get thing straightened speak english well seem fully understand visit admire lobby beauty never pay',\n",
       " 'top shut water',\n",
       " 'biltmore spectacular',\n",
       " 'nothing better fantastic wife another couple coming la conference end april reserved biltmore started reading review know review map positive negative well let conservative canadian edmonton describe biltmore first impression driving entrance wow let u check   hour adhead posted check time service average size king size bed care bathroom little small  range thus end short hall noise ever  nites became became friend doorman bellman fantastic champ sport bar friendly food pool area average history nothing amazing public area like nothing ever seen neighborhood felt comfortable going walk  morning  nite far homeless far polite homeless met city importantly take time talk realize like rest u reason afraid also polite enough say hello every day remember biltmore neighborhood one want downtown place nice easy  minute walk staple center convention center need commended positive attitude although world traveler hesitation recommend biltmore back recommend people know going la management thanks wonderful experience',\n",
       " 'shiny front shabby back smoker brochure website photo laud grand ballroom lobby indeed magnificent belie behind somewhere better walk look usd didnt expect find bathroom door hinge continuing struggle triviality providing coffee satchets guy fixed door resigned fact colleague real job hand told u lucky didnt plumbing problemsparking expensive valet compulsory valet service get surly tipped extravagantlyon plus side smoker biltmores fire escape lobby alarmed monitored open little balcony perfect quiet smoke without get dressed leave',\n",
       " 'enjoyable historical experience wife stayed biltmore one part muchlonger trip la southern ca lot tourist business traveler go biltmore highclass reputation historical significance part selfguided architectural history walking tour highly recommend btw check la conservancy web site best feature public area make sure allocate time sit lobby look banquet drink martini bar expensive romantic definitely swim beautiful italiantile pool think aware popularity public area got dressed took several picture pool point security person showed looked left smiled waved small clean bed wonderful decor classy material somewhat old bathroom small nicely tiled worked well view interior air column walking around downtown la cant say benefitted much exterior view nice polite busy get impression lot people checking time internet free parking expensive neighborhood ha improved lot last decade felt safe lot disheveled muttering people wandering occasionally panhandling polite southern california styleoverall id comment worth historical reason experience personally wouldnt recommend kid long tourism experience outside downtown la area',\n",
       " 'complaining beautiful',\n",
       " 'overpriced relic thought magnificent piece history thing confined past standard relation price poor comparison place stayed california found car parking charge  per day parking free hidden cost could done without oh valet parking careful rental car want know nearest convenience store dont bother asking receptionist overall clean bit relic heart place service polite necessarily efficient cannot speak english certainly fourstar',\n",
       " 'classic wife spent three biltmorewe heap praise upon attentive particularly personnel dining made comfortable pleasingwhile generally favor size ofthe biltmore principally think thatthe service suffers recommend propertyfor large crown base mouldingsand shutter spectacular lobby wonderful settingfor tea offer afternoonsurprisingly wellequipped gym next art deco pooland atmosphere grace note downtown la whirl activity biltmore near freeway even better thinking metro union station wish get explore suggest taking train pasadena long beach short trip skip socal traffic dread next visit los angeles return biltmore',\n",
       " 'always wanted disappointed old always wish list place oppurtunity came visit mother christmas holiday knew right wanted stayfrom time checked everyone nice please keep mind traveling alone  year old woman look  took seriously answered question thing like expedia tell booking needed credit card could hold  day extra charge phone call service etc explained front desk clerk happily waived fee use phone lobby could still receive phone call charge cell phone worked fine th floor problem methe wonderful dash service get almost anywhere downtown quarter drop right front go bus underground system  block away shopping macys plaza shop th fig block awayas food dinning bit pricey ton fast food small place around area mention domino pizza delivers concierge desk helpful information needed place eat downtown museum hour holiday getting history comfortable clean minibar thankful temptation regular happy choiceall recommend anyone pleasent place within piece downtown los angeles history',\n",
       " 'phantastic historic value view pershing square',\n",
       " 'love old spent long weekend biltmore plus friendly helpful surprisingly huge quiet valet parking efficient quick afternoon tea delight gym indoor pool time machine exploring peoplewatching convenient everything downtown minus nonexistent water pressure shower lovely view airshaft price valet parking overall couldnt recommend highly definitely',\n",
       " 'service questionnable millenium biltmore expected millenium biltmore start totally completely missed everything important quality hotelfirst arrived larger event  pm took u  minute even get close parkingvalet area ugh checked knowing  pm reservation restaurant published open till  desk call say latewe asked bag taken could go dinner bell hop said must cannot deliver  minute explained dinner reservation said bad relent take  minute laterwe got restaurant  pm ugh basically blasted extremely unfriendly hostess lady get new job one heck unpleasant person deal said bad people call cancel reservation closing restaurant wont seat get ugh guest mistreated getting yelled atwe went upstairs talk front desk ugh suggested couple place could dinnerhe said block away arrived  closing  pmwe asked last place know place open luckily standard doe standard actually ha food fun bar areawe went back toilet brokenwe wait hour get fixed also found bathroom extremely tight corner ughfor price worth staying herewe find service menu enjoyed service japanese breakfast couse got use checkout non functional took bit get car front door valet note morning bell hop wonderful timelybut shortservice want get yelled told wrong information mistreated way went bar stayed open till midnight munchies menu realize customer bar simply moved',\n",
       " 'getaway stayed thanksgiving buffet enjoyed bar area especially standard rooftop lounge nice old place parking included club rate breakfast bar following day',\n",
       " 'millennium biltmore beautiful returned la stayed  millennium biltmore grand beautiful spacious comfortable stayed standard treat decided upgrade club last happy standard adorned oil painting beautiful furniture bed comfortable ha coffee maker club course bigger luxuriously furnished doe coffee maker request one suppose reason club guest access club lounge served complimentary beverage including alcohol snack  pm fridge ice available various floor throughly enjoyed experience millennium biltmore service pleased service bell service concierge front desk housekeeping also enjoyed traditional afternoon tea rendevous court impressed spread delightful sandwich tart cake price food rendevous court reasonable ha wonderful ambience casual yet stylish fountain centre breakfast smeraldis another reaturant food two wedding held ballroom peek entrance ballroom getting ballroom ready beautiful also short walk department store macys robinson may number cafe restaurant within vicinity located financial district nicer part downtown la summary grand history enjoy splendour grand old building love millennium biltmore',\n",
       " 'surprise millennium biltmore convienently located downtown los angeles near freeway access shop plaza across street lobby public space beautiful full classic molding decoration like history enjoy staying feel like walking back time walk hall lobby even hall full photo first academy award ceremony held ballroom problem people worked checkin clerk valet parking attendents everyone nice friendly u booked priceline upgraded suite pleasant surprise four u husband two young child extra space wonderful bonus suite size small apartment complete small entry hall huge living dining plus wet bar refrigerator separate spacious bedroom  double bed bathroom two tv kid could watch show one clean nicely furnished window shutter blocked sunlight morning suite located corner could see across street towards pershing plaza roof top lower building felt comfortable safe staying herei peeked standard report standard spacious average bedroom suite disappointed standard alland review mentioned coffee makerwe one maybe came suite always request coffeemaker freeit stated guest book also includes packet coffee paper cup sip go lid complaint water temperature bathroom uneven happened lot shower water temperature sink ok also took forever hot water reach u slow time wed thurs guest friday saturday hot water come soon turned think need upgrade bathroom especially showersalthough understand parking space premium downtown la anywhere la matter werent thrilled  per day valet parking fee yes garage across street around block charge  fee evening entry pmam charge  per hour am total come close not much saving figured money saved went toward parking overall everything evened  per still deal downtown la parking includedoverall definitely recommend biltmore anyone',\n",
       " 'liked one wedding took place view may askew wedding area dining wedding took place magnificent family  comfortable large nicely appointed addition roll away bathroom dirty old old compared rest feel like bathroom third ratewe problem luggage anyone fact called someone come shine kid shoe wedding sent someone immediately shoe didnt get shined couldnt find brown suede polish hey made effort nice itany food expensive overpriced many inexpensive perfectly food option soon walk door hoteloverall liked',\n",
       " 'confuse anyone girlfriend spent two biltmore thought beautiful whose generally pleasant person rude u doorman checking outbut guy perfectly pleasant u way assume treat terribly level service seems vary wildly area around bit dodgy generally safe daytime besides youll need car get interesting stuff anyway pool nice roman bathsstyle decor bar expensive speak concierge various ghost',\n",
       " 'goodness utter letdown huge disappointmenti booked two month advance three first universal studio package breakfast uni studio ticket valet parking two weekend package included valet parking rate admittedly unlike one review read actually extremely easy find using google map direction aide however upon arriving wait  minute get valet parking area granted prom got reception area beautiful quite empty looking could use decorator greeted use word grain salt checkin counter rude young man made feel quite uncomfortable got pretty indeed went bathroom reddish sort stain bathtub fixture dirty looked though theyd never cleaned saw view also club floor distressing view back building waited luggage arrive wanting go evening needed change time ticked still luggage also realized werent given universal studio ticket checked directory service menu etc called bellhop find luggage might asked lady asked luggage brought ummyup course replied yes asked valet send even told exactly bag needed putting hold interminable length time came back phone say didnt know wanted brought umm thats interesting since record reservation three day really sure without luggage plain view car like direction car could go get exaggeration well ive never asked little dumbfounded gathering wit nicely said impression bellhop bringing transferred bellhop shockingly also asked like come get put perspective  yr old daughter three week roadtrip two large suitcase one smaller suitcase one laptop one large toiletry bag sundry bag carried manageable amount luggage go pick lobby anyway eventually brought let tell hard give guy tip even though course none fault phoned front desk ask uni studio ticket questioned saying given checkin surprised hear guess didnt believe told given think easily enough checked put hold age finally came back tersely said shed send ask directory said housekeeping issue id speak point transferred although half expected hang id phone spoke housekeeping nice luggage still arrived fact eventually arrive taken hour fifteen minute time late u make dinner reservation west hollywood id month little choice order service menu unlike person nebraska commented price reasonable omg  hamburger call reasonable must heartily disagree believe im budgetminded person stretch imagination bill came  hamburger  tiny half bottle up  piece apple pie ice cream included although informed gratuity added tip make total  tax phoned day later ask bill high told gratuity already added said theyd refund  tip fact done made difference anyway quite unbelievable badly wanted complain whole experience thought id wait another see thing went didnt end complaining though truly wish done person checked u rude made feel uncomfortable felt terribly intimidated didnt even ask point said something whether everything liking question come expect calibre say nothing surrounding area indeed slummy looking area coming north highway fine mu metropolitan art etc area immediate block south around becomes highly unsafe looking feeling advise daughter look anyone driving area ugly scary looking member canoga park said area unsafe kidding say east must mean block east west south well circumstance walk around daughter area surrounding fact wouldnt chance male adult either never unless take serious instruction customer service art dealing people effectively people care represent impression leave people apparently management advised downfall probable reason get little repeat business architecture beautiful history steeped tradition big shame ruined lacking service many frontline shame shame many employee huge disappointment',\n",
       " 'love biltmore stayed biltmore several time past year andhave always loved area downtown la biltmore islocated dangerous near skid row eastyes occasional panhandler minor nuisancethere lot see downtown museum contemporary artdisney hall concert etc beautiful mural thelounge next bar missed eaten saisaithe japanese restaurant many time excellent roomsare charming many view',\n",
       " 'thing always better second time around husband stayed  wonderful time promised go back well wish hadnt kept promisewhen arrived front desk peronnel wasnt friendly last time fact werent helpful bellhop sooooooooo nice without asking told u everything la could could go also told u amenity informativewe stayed th floor club level told check renovated happy oh renovated hate see rest th floor smelled old musty bathroom dirty wall looked patched shower head disgusting looked like hadnt cleaned since first installedwhen sat bed felt hard rock called housekeeping ask bed pad lady told didnt think pad call front desk ask moved since mattress replaced last year mattress one one hadnt called front desk said check front desk called back rudely informed mattress floor hadnt replaced nothing could said send housekeeping put pad bed jump thru hoop get itbecause stayed club level evening snack continental breakfast wow definitely worth upgrade breakfast delicious plentiful fresh pastry scrambled egg bacon sausage fresh oj freshestsweetest mix berry ive ever eaten ate sai sai onsite japanese restaurant eaten wonderful experience time waitress handed u menu returned  minute later exaggeration asked u made mind told needed time became irritated hovered u without helpful whole time felt like shouldnt uncomfortable food arrived coldthe th floor concierge definitely much helpful friendly lobby gentleman manning concierge desk spent considerable amount time showing u map la telling u go eat followed suggestion werent disappointedcheck different story valet must bad mood rude everyone people complaining management sad im sure happened last year biltmore big disappointment u wont back ive stayed old updated facility without losing historical charm unfortunately biltmore isnt one place also hope front desk valet remembers represent seek friendly advice bellhop',\n",
       " 'best choice downtown la one best region millenium biltmore classic excellent service beautiful atmosphere guest immaculate tastefully appointed restaurant superb architecture make landmark local treasure excludes glamour elegance bygone era los angeles almost extinct la area history ambiance biltmore definitely worth visit downtown la vibrant city biltmore within easy walking yes walking la distance major corporate cultural tourist site dont want walk cab limo easily obtained biltmore mustdo experience los angeles',\n",
       " ...]"
      ]
     },
     "execution_count": 22,
     "metadata": {},
     "output_type": "execute_result"
    }
   ],
   "source": [
    "Text_data1"
   ]
  },
  {
   "cell_type": "markdown",
   "metadata": {},
   "source": [
    "# Split the data into train and test "
   ]
  },
  {
   "cell_type": "code",
   "execution_count": 23,
   "metadata": {},
   "outputs": [],
   "source": [
    "from sklearn.model_selection import train_test_split"
   ]
  },
  {
   "cell_type": "code",
   "execution_count": 24,
   "metadata": {},
   "outputs": [],
   "source": [
    "X_train, X_test, y_train, y_test=train_test_split(Text_data1,data['Sentiment'],test_size=0.3,random_state=555)"
   ]
  },
  {
   "cell_type": "markdown",
   "metadata": {},
   "source": [
    "### Construct tf-idf matrix"
   ]
  },
  {
   "cell_type": "code",
   "execution_count": 25,
   "metadata": {},
   "outputs": [],
   "source": [
    "from sklearn.feature_extraction.text import CountVectorizer,TfidfVectorizer"
   ]
  },
  {
   "cell_type": "code",
   "execution_count": 26,
   "metadata": {},
   "outputs": [],
   "source": [
    "from nltk.corpus import stopwords\n",
    "stop = stopwords.words('english')"
   ]
  },
  {
   "cell_type": "code",
   "execution_count": 27,
   "metadata": {},
   "outputs": [],
   "source": [
    "count=CountVectorizer(strip_accents='unicode',ngram_range=(1,2),stop_words='english')\n"
   ]
  },
  {
   "cell_type": "code",
   "execution_count": 28,
   "metadata": {},
   "outputs": [],
   "source": [
    "tfreq=count.fit_transform(Text_data1)"
   ]
  },
  {
   "cell_type": "code",
   "execution_count": 29,
   "metadata": {},
   "outputs": [],
   "source": [
    "Dense_mat=tfreq.todense()"
   ]
  },
  {
   "cell_type": "code",
   "execution_count": 30,
   "metadata": {},
   "outputs": [],
   "source": [
    "A=pd.DataFrame(Dense_mat,columns=count.get_feature_names())"
   ]
  },
  {
   "cell_type": "markdown",
   "metadata": {},
   "source": [
    "## Lets construct TF-idf matrix based on the train documents"
   ]
  },
  {
   "cell_type": "code",
   "execution_count": 31,
   "metadata": {},
   "outputs": [],
   "source": [
    "tfidf_transformer = TfidfVectorizer(ngram_range=(1,1),stop_words='english')"
   ]
  },
  {
   "cell_type": "code",
   "execution_count": 32,
   "metadata": {},
   "outputs": [],
   "source": [
    "count=CountVectorizer(strip_accents='unicode',ngram_range=(1,2),stop_words='english')\n"
   ]
  },
  {
   "cell_type": "code",
   "execution_count": 33,
   "metadata": {},
   "outputs": [],
   "source": [
    "X_train_tfidf = tfidf_transformer.fit_transform(X_train)"
   ]
  },
  {
   "cell_type": "code",
   "execution_count": 34,
   "metadata": {},
   "outputs": [
    {
     "data": {
      "text/plain": [
       "(4400, 22358)"
      ]
     },
     "execution_count": 34,
     "metadata": {},
     "output_type": "execute_result"
    }
   ],
   "source": [
    "X_train_tfidf.shape"
   ]
  },
  {
   "cell_type": "code",
   "execution_count": 35,
   "metadata": {},
   "outputs": [
    {
     "data": {
      "text/plain": [
       "(1887, 22358)"
      ]
     },
     "execution_count": 35,
     "metadata": {},
     "output_type": "execute_result"
    }
   ],
   "source": [
    "# Get the tfidf matrix for test documents\n",
    "X_test_tfidf = tfidf_transformer.transform(X_test)\n",
    "X_test_tfidf.shape\n",
    "X_test_tfidf.shape"
   ]
  },
  {
   "cell_type": "code",
   "execution_count": 36,
   "metadata": {},
   "outputs": [
    {
     "name": "stdout",
     "output_type": "stream",
     "text": [
      "  (0, 2747)\t0.0553929702307985\n",
      "  (0, 3753)\t0.1170320567869043\n",
      "  (0, 2827)\t0.1408568667071144\n",
      "  (0, 5958)\t0.17008692671998554\n",
      "  (0, 8911)\t0.06989294736278731\n",
      "  (0, 7330)\t0.0732821052905102\n",
      "  (0, 14404)\t0.07411212023829962\n",
      "  (0, 16628)\t0.2099290360772506\n",
      "  (0, 1021)\t0.04004008983594123\n",
      "  (0, 17982)\t0.07227329675121488\n",
      "  (0, 11036)\t0.10925930068078975\n",
      "  (0, 15477)\t0.11916983276834578\n",
      "  (0, 21827)\t0.11054074749708397\n",
      "  (0, 11286)\t0.05695720887104299\n",
      "  (0, 14868)\t0.05869099987917735\n",
      "  (0, 8819)\t0.07010499733140076\n",
      "  (0, 17473)\t0.0758151986057802\n",
      "  (0, 1649)\t0.08973982644041856\n",
      "  (0, 2977)\t0.04602541222515768\n",
      "  (0, 13932)\t0.04485932027751007\n",
      "  (0, 11313)\t0.047463767877352916\n",
      "  (0, 12755)\t0.08587893318853847\n",
      "  (0, 1133)\t0.05420349475487775\n",
      "  (0, 17171)\t0.07422017082370529\n",
      "  (0, 8626)\t0.05644892686061126\n",
      "  :\t:\n",
      "  (4398, 21356)\t0.155661457748139\n",
      "  (4398, 19811)\t0.15604088114648834\n",
      "  (4398, 9202)\t0.09578088928365201\n",
      "  (4398, 10020)\t0.10478775076373352\n",
      "  (4398, 21)\t0.08429697062350934\n",
      "  (4398, 14284)\t0.09212122959324721\n",
      "  (4398, 10886)\t0.08152372471887889\n",
      "  (4398, 6991)\t0.08152372471887889\n",
      "  (4398, 16188)\t0.11562152458727126\n",
      "  (4398, 21102)\t0.15040163628888997\n",
      "  (4398, 9630)\t0.09592353081482294\n",
      "  (4398, 16984)\t0.12676282393357574\n",
      "  (4398, 2087)\t0.11493277979503598\n",
      "  (4398, 16989)\t0.13689001561900072\n",
      "  (4398, 6058)\t0.14090802531275806\n",
      "  (4398, 9568)\t0.15618363034633023\n",
      "  (4398, 18340)\t0.2559087189970673\n",
      "  (4398, 7412)\t0.158505569565678\n",
      "  (4398, 8100)\t0.1540831808268018\n",
      "  (4398, 9171)\t0.1714592353799024\n",
      "  (4398, 10596)\t0.3833049736803685\n",
      "  (4399, 6757)\t0.26805397579177825\n",
      "  (4399, 1740)\t0.2302888301643161\n",
      "  (4399, 5807)\t0.7674574391164474\n",
      "  (4399, 10708)\t0.5349048512666491\n"
     ]
    }
   ],
   "source": [
    "print(X_train_tfidf)"
   ]
  },
  {
   "cell_type": "markdown",
   "metadata": {},
   "source": [
    "### Implementing Naive Bayes Classification model"
   ]
  },
  {
   "cell_type": "code",
   "execution_count": 37,
   "metadata": {},
   "outputs": [],
   "source": [
    "from sklearn.naive_bayes import MultinomialNB\n",
    "nb_clf = MultinomialNB().fit(X_train_tfidf, y_train) #nb_clf is the classifier\n",
    "pred_train = nb_clf.predict(X_train_tfidf) #get predictions on train data\n"
   ]
  },
  {
   "cell_type": "code",
   "execution_count": 38,
   "metadata": {},
   "outputs": [],
   "source": [
    "from sklearn.naive_bayes import MultinomialNB\n",
    "nb_clf = MultinomialNB().fit(X_train_tfidf, y_train) #nb_clf is the classifier\n",
    "pred_train = nb_clf.predict(X_train_tfidf) #get predictions on train data\n",
    "\n",
    "from sklearn.metrics import confusion_matrix\n",
    "prediction=confusion_matrix(y_train, pred_train) #get confusion matrix for train predictions"
   ]
  },
  {
   "cell_type": "code",
   "execution_count": 39,
   "metadata": {},
   "outputs": [],
   "source": [
    "nb_clf = MultinomialNB().fit(X_train_tfidf, y_train) #nb_clf is the classifier\n"
   ]
  },
  {
   "cell_type": "code",
   "execution_count": 40,
   "metadata": {},
   "outputs": [
    {
     "name": "stdout",
     "output_type": "stream",
     "text": [
      "Train_Confusion Matrix:\n",
      " [[  21    0  724]\n",
      " [   0   97 1273]\n",
      " [   0    0 2285]] \n",
      "\n",
      "Results of Naive Bayes on train data: \n",
      "Accuracy: 0.5461363636363636\n"
     ]
    }
   ],
   "source": [
    "print(\"Train_Confusion Matrix:\\n\",prediction,\"\\n\")\n",
    "\n",
    "from sklearn.metrics import recall_score, precision_score, accuracy_score\n",
    "\n",
    "acc_train = accuracy_score(y_train, pred_train)\n",
    "\n",
    "print(\"Results of Naive Bayes on train data:\",\"\\nAccuracy:\",acc_train)"
   ]
  },
  {
   "cell_type": "code",
   "execution_count": 41,
   "metadata": {},
   "outputs": [],
   "source": [
    "pred = nb_clf.predict(X_test_tfidf) #predict on test data\n",
    "prediction = confusion_matrix(y_test,pred) ##get confusion matrix for test predictions"
   ]
  },
  {
   "cell_type": "code",
   "execution_count": 42,
   "metadata": {},
   "outputs": [
    {
     "name": "stdout",
     "output_type": "stream",
     "text": [
      "Test_Confusion matrix:\n",
      " [[  1   0 357]\n",
      " [  0  14 587]\n",
      " [  0   2 926]] \n",
      "\n",
      "Results of Naive Bayes on test data: \n",
      "Acc:  0.49867514573396926\n"
     ]
    }
   ],
   "source": [
    "print(\"Test_Confusion matrix:\\n\", prediction,\"\\n\")\n",
    "acc = accuracy_score(y_test,pred)\n",
    "\n",
    "print(\"Results of Naive Bayes on test data:\",\"\\nAcc: \",acc)"
   ]
  },
  {
   "cell_type": "code",
   "execution_count": 43,
   "metadata": {},
   "outputs": [],
   "source": [
    "from sklearn.metrics import confusion_matrix,accuracy_score,classification_report,roc_curve"
   ]
  },
  {
   "cell_type": "code",
   "execution_count": 44,
   "metadata": {},
   "outputs": [],
   "source": [
    "from sklearn.metrics import confusion_matrix"
   ]
  },
  {
   "cell_type": "markdown",
   "metadata": {},
   "source": [
    "## Accuracy on naive bayes is 0.49867514573396926"
   ]
  },
  {
   "cell_type": "markdown",
   "metadata": {},
   "source": [
    "## Implementing Logistic Regression"
   ]
  },
  {
   "cell_type": "code",
   "execution_count": 45,
   "metadata": {},
   "outputs": [
    {
     "name": "stdout",
     "output_type": "stream",
     "text": [
      "Train_Confusion matrix:\n",
      " [[ 526    2  217]\n",
      " [   2  947  421]\n",
      " [  22  113 2150]]\n",
      "Test_Confusion matrix:\n",
      " [[194   4 160]\n",
      " [  2 288 311]\n",
      " [ 18 114 796]]\n"
     ]
    }
   ],
   "source": [
    "from sklearn import linear_model\n",
    "\n",
    "logreg_train = linear_model.LogisticRegression()\n",
    "lr_clf = logreg_train.fit(X_train_tfidf, y_train) #fit logreg model on train data\n",
    "\n",
    "pred_lr_train=lr_clf.predict(X_train_tfidf) # predict on train data\n",
    "pred_lr_test=lr_clf.predict(X_test_tfidf) # predict on test data\n",
    "\n",
    "\n",
    "print(\"Train_Confusion matrix:\\n\", confusion_matrix(y_train,pred_lr_train))\n",
    "print(\"Test_Confusion matrix:\\n\",confusion_matrix(y_test,pred_lr_test))"
   ]
  },
  {
   "cell_type": "code",
   "execution_count": 46,
   "metadata": {},
   "outputs": [
    {
     "name": "stdout",
     "output_type": "stream",
     "text": [
      "Results of Logistic regression on train data\n",
      "\n",
      "Acc:  0.8234090909090909\n",
      "Results of Logistic regression on test data\n",
      "\n",
      "Acc:  0.6772655007949125\n"
     ]
    }
   ],
   "source": [
    "print(\"Results of Logistic regression on train data\")\n",
    "acc=accuracy_score(y_train,pred_lr_train)\n",
    "print(\"\\nAcc: \",acc)\n",
    "\n",
    "\n",
    "print(\"Results of Logistic regression on test data\")\n",
    "acc=accuracy_score(y_test,pred_lr_test)\n",
    "\n",
    "print(\"\\nAcc: \",acc)"
   ]
  },
  {
   "cell_type": "markdown",
   "metadata": {},
   "source": [
    "## Accuracy on loistic regression 0.6772655007949125"
   ]
  },
  {
   "cell_type": "code",
   "execution_count": 47,
   "metadata": {},
   "outputs": [],
   "source": [
    "logistic = linear_model.LogisticRegression()"
   ]
  },
  {
   "cell_type": "code",
   "execution_count": 48,
   "metadata": {},
   "outputs": [],
   "source": [
    "penalty = ['l1', 'l2']\n",
    "C = np.logspace(0, 4, 10)\n",
    "hyperparameters = dict(C=C, penalty=penalty)"
   ]
  },
  {
   "cell_type": "markdown",
   "metadata": {},
   "source": [
    "## logistic regression GRID SEARCH "
   ]
  },
  {
   "cell_type": "code",
   "execution_count": 49,
   "metadata": {},
   "outputs": [],
   "source": [
    "from sklearn.model_selection import GridSearchCV"
   ]
  },
  {
   "cell_type": "code",
   "execution_count": 50,
   "metadata": {},
   "outputs": [],
   "source": [
    "from sklearn import linear_model"
   ]
  },
  {
   "cell_type": "code",
   "execution_count": 51,
   "metadata": {},
   "outputs": [],
   "source": [
    "logistic = linear_model.LogisticRegression()"
   ]
  },
  {
   "cell_type": "code",
   "execution_count": 52,
   "metadata": {},
   "outputs": [],
   "source": [
    "penalty = ['l1', 'l2']\n",
    "C = np.logspace(0, 4, 10)\n",
    "hyperparameters = dict(C=C, penalty=penalty)"
   ]
  },
  {
   "cell_type": "code",
   "execution_count": 53,
   "metadata": {},
   "outputs": [],
   "source": [
    "clf_grid = GridSearchCV(logistic, hyperparameters, cv=5, verbose=0)\n"
   ]
  },
  {
   "cell_type": "code",
   "execution_count": 54,
   "metadata": {},
   "outputs": [],
   "source": [
    "best_model = clf_grid.fit(X_train_tfidf, y_train)\n"
   ]
  },
  {
   "cell_type": "code",
   "execution_count": 55,
   "metadata": {},
   "outputs": [
    {
     "name": "stdout",
     "output_type": "stream",
     "text": [
      "Best Penalty: l1\n",
      "Best C: 2.7825594022071245\n"
     ]
    }
   ],
   "source": [
    "print('Best Penalty:', best_model.best_estimator_.get_params()['penalty'])\n",
    "print('Best C:', best_model.best_estimator_.get_params()['C'])\n"
   ]
  },
  {
   "cell_type": "code",
   "execution_count": 56,
   "metadata": {},
   "outputs": [],
   "source": [
    "logistic_final = linear_model.LogisticRegression(penalty=\"l2\", C = 2.7825594022071245)\n"
   ]
  },
  {
   "cell_type": "code",
   "execution_count": 57,
   "metadata": {},
   "outputs": [
    {
     "data": {
      "text/plain": [
       "LogisticRegression(C=2.7825594022071245, class_weight=None, dual=False,\n",
       "          fit_intercept=True, intercept_scaling=1, max_iter=100,\n",
       "          multi_class='ovr', n_jobs=1, penalty='l2', random_state=None,\n",
       "          solver='liblinear', tol=0.0001, verbose=0, warm_start=False)"
      ]
     },
     "execution_count": 57,
     "metadata": {},
     "output_type": "execute_result"
    }
   ],
   "source": [
    "logistic_final.fit(X_train_tfidf, y_train)\n"
   ]
  },
  {
   "cell_type": "code",
   "execution_count": 58,
   "metadata": {},
   "outputs": [],
   "source": [
    "from sklearn.metrics import accuracy_score"
   ]
  },
  {
   "cell_type": "code",
   "execution_count": 59,
   "metadata": {},
   "outputs": [],
   "source": [
    "pred_final_train=logistic_final.predict(X_train_tfidf) # predict on train data"
   ]
  },
  {
   "cell_type": "code",
   "execution_count": 60,
   "metadata": {},
   "outputs": [],
   "source": [
    "pred_final_train=logistic_final.predict(X_train_tfidf) # predict on train data"
   ]
  },
  {
   "cell_type": "code",
   "execution_count": 61,
   "metadata": {},
   "outputs": [],
   "source": [
    "pred_final_test=logistic_final.predict(X_test_tfidf)#predict on test data "
   ]
  },
  {
   "cell_type": "code",
   "execution_count": 62,
   "metadata": {},
   "outputs": [
    {
     "name": "stdout",
     "output_type": "stream",
     "text": [
      "Results of Logistic regression on train data\n",
      "\n",
      "Acc:  0.9118181818181819\n",
      "Results of Logistic regression on test data\n",
      "\n",
      "Acc:  0.6873343932167462\n"
     ]
    }
   ],
   "source": [
    "print(\"Results of Logistic regression on train data\")\n",
    "acc=accuracy_score(y_train,pred_final_train)\n",
    "\n",
    "print(\"\\nAcc: \",acc)\n",
    "\n",
    "print(\"Results of Logistic regression on test data\")\n",
    "acc=accuracy_score(y_test,pred_final_test)\n",
    "\n",
    "print(\"\\nAcc: \",acc)"
   ]
  },
  {
   "cell_type": "code",
   "execution_count": 63,
   "metadata": {},
   "outputs": [],
   "source": [
    "##Accuracy on logistic regression using grid search best parameters 0.Acc:  0.690779014308426"
   ]
  },
  {
   "cell_type": "code",
   "execution_count": 64,
   "metadata": {},
   "outputs": [],
   "source": [
    "pred_final_train=logistic_final.predict(X_train_tfidf) # predict on train data"
   ]
  },
  {
   "cell_type": "code",
   "execution_count": 65,
   "metadata": {},
   "outputs": [],
   "source": [
    "pred_final_train=logistic_final.predict(X_test_tfidf) # predict on train data"
   ]
  },
  {
   "cell_type": "code",
   "execution_count": 66,
   "metadata": {},
   "outputs": [],
   "source": [
    "from sklearn.ensemble import RandomForestClassifier"
   ]
  },
  {
   "cell_type": "code",
   "execution_count": 67,
   "metadata": {},
   "outputs": [],
   "source": [
    "rfc_mod=RandomForestClassifier(n_estimators=50,oob_score=True)"
   ]
  },
  {
   "cell_type": "code",
   "execution_count": 68,
   "metadata": {},
   "outputs": [
    {
     "data": {
      "text/plain": [
       "RandomForestClassifier(bootstrap=True, class_weight=None, criterion='gini',\n",
       "            max_depth=None, max_features='auto', max_leaf_nodes=None,\n",
       "            min_impurity_decrease=0.0, min_impurity_split=None,\n",
       "            min_samples_leaf=1, min_samples_split=2,\n",
       "            min_weight_fraction_leaf=0.0, n_estimators=50, n_jobs=1,\n",
       "            oob_score=True, random_state=None, verbose=0, warm_start=False)"
      ]
     },
     "execution_count": 68,
     "metadata": {},
     "output_type": "execute_result"
    }
   ],
   "source": [
    "rfc_mod.fit(X=X_train_tfidf,y=y_train)"
   ]
  },
  {
   "cell_type": "code",
   "execution_count": 69,
   "metadata": {},
   "outputs": [],
   "source": [
    "pred_train_rf=rfc_mod.predict(X_train_tfidf)\n"
   ]
  },
  {
   "cell_type": "code",
   "execution_count": 70,
   "metadata": {},
   "outputs": [
    {
     "name": "stdout",
     "output_type": "stream",
     "text": [
      "Accuracy on train is: 0.9977272727272727\n"
     ]
    }
   ],
   "source": [
    "print(\"Accuracy on train is:\",accuracy_score(y_train,pred_train_rf))\n"
   ]
  },
  {
   "cell_type": "code",
   "execution_count": 71,
   "metadata": {},
   "outputs": [],
   "source": [
    "pred_test_rf=rfc_mod.predict(X_test_tfidf)"
   ]
  },
  {
   "cell_type": "code",
   "execution_count": 72,
   "metadata": {},
   "outputs": [],
   "source": [
    "from sklearn.metrics import confusion_matrix,accuracy_score,classification_report,roc_curve"
   ]
  },
  {
   "cell_type": "code",
   "execution_count": 73,
   "metadata": {},
   "outputs": [
    {
     "name": "stdout",
     "output_type": "stream",
     "text": [
      "Accuracy on test is: 0.604133545310016\n"
     ]
    }
   ],
   "source": [
    "print(\"Accuracy on test is:\",accuracy_score(y_test,pred_test_rf))\n"
   ]
  },
  {
   "cell_type": "code",
   "execution_count": 74,
   "metadata": {},
   "outputs": [],
   "source": [
    "##Accuracyon random forest classifier is 0.6208267090620032"
   ]
  },
  {
   "cell_type": "markdown",
   "metadata": {},
   "source": [
    "## XGBOOST"
   ]
  },
  {
   "cell_type": "code",
   "execution_count": 75,
   "metadata": {},
   "outputs": [],
   "source": [
    "from xgboost import XGBClassifier\n",
    "XGB_model = XGBClassifier()"
   ]
  },
  {
   "cell_type": "code",
   "execution_count": null,
   "metadata": {},
   "outputs": [],
   "source": [
    "XGB_model_train= XGB_model.fit(X=X_train_tfidf,y=y_train)"
   ]
  },
  {
   "cell_type": "code",
   "execution_count": null,
   "metadata": {},
   "outputs": [],
   "source": [
    "%time XGB_model.fit(X=X_train_tfidf,y=y_train)"
   ]
  },
  {
   "cell_type": "code",
   "execution_count": null,
   "metadata": {},
   "outputs": [],
   "source": [
    "pred_train_XG = XGB_model.predict(X_train_tfidf)\n",
    "pred_test_XG = XGB_model.predict(X_test_tfidf)\n"
   ]
  },
  {
   "cell_type": "code",
   "execution_count": null,
   "metadata": {},
   "outputs": [],
   "source": [
    "from sklearn.metrics import confusion_matrix,accuracy_score,classification_report,roc_curve"
   ]
  },
  {
   "cell_type": "code",
   "execution_count": null,
   "metadata": {},
   "outputs": [],
   "source": [
    "print(\"Accuracy on train is:\",accuracy_score(y_train,pred_train_XG ))\n",
    "print(\"Accuracy on test is:\",accuracy_score(y_test,pred_test_XG ))\n",
    "print(classification_report(y_true = y_train,y_pred = pred_train_XG ))\n",
    "print(classification_report(y_true = y_test,y_pred = pred_test_XG ))"
   ]
  },
  {
   "cell_type": "code",
   "execution_count": null,
   "metadata": {},
   "outputs": [],
   "source": [
    "##Accuracy using XGBOOST is 0.0.6422893481717011"
   ]
  },
  {
   "cell_type": "code",
   "execution_count": null,
   "metadata": {},
   "outputs": [],
   "source": [
    "from sklearn.svm import SVC\n",
    "svc = SVC()\n",
    "svc"
   ]
  },
  {
   "cell_type": "code",
   "execution_count": null,
   "metadata": {},
   "outputs": [],
   "source": [
    "svc_c5_rbf = SVC(C=5,kernel='rbf')\n",
    "svc_c5_rbf"
   ]
  },
  {
   "cell_type": "code",
   "execution_count": null,
   "metadata": {},
   "outputs": [],
   "source": [
    "svc_c5_rbf.fit(X=X_train_tfidf,y=y_train)"
   ]
  },
  {
   "cell_type": "code",
   "execution_count": null,
   "metadata": {},
   "outputs": [],
   "source": [
    "pred_svc = svc_c5_rbf.predict(X_train_tfidf)"
   ]
  },
  {
   "cell_type": "code",
   "execution_count": null,
   "metadata": {},
   "outputs": [],
   "source": [
    "pred_svc_test=svc_c5_rbf.predict(X_test_tfidf)"
   ]
  },
  {
   "cell_type": "code",
   "execution_count": null,
   "metadata": {},
   "outputs": [],
   "source": [
    "accuracy_score(y_test,pred_svc_test)"
   ]
  },
  {
   "cell_type": "markdown",
   "metadata": {},
   "source": [
    "## Accuracy using SVC is 0.0.4917859035506094"
   ]
  },
  {
   "cell_type": "code",
   "execution_count": null,
   "metadata": {},
   "outputs": [],
   "source": [
    "from sklearn.model_selection import GridSearchCV"
   ]
  },
  {
   "cell_type": "code",
   "execution_count": null,
   "metadata": {},
   "outputs": [],
   "source": [
    "svc_grid = SVC(random_state=555)"
   ]
  },
  {
   "cell_type": "code",
   "execution_count": null,
   "metadata": {},
   "outputs": [],
   "source": [
    "param_grid = {\n",
    "\n",
    "'C': [0.001, 0.01, 0.1, 1, 10],\n",
    "'gamma': [0.001, 0.01, 0.1, 1], \n",
    "'kernel':['linear', 'poly', 'rbf', 'sigmoid']}\n",
    "\n",
    " \n",
    "svc_cv_grid = GridSearchCV(estimator = svc_grid, param_grid = param_grid, cv = 3)"
   ]
  },
  {
   "cell_type": "code",
   "execution_count": null,
   "metadata": {},
   "outputs": [],
   "source": [
    "svc_cv_grid.fit(X = X_train_tfidf, y = y_train)"
   ]
  },
  {
   "cell_type": "code",
   "execution_count": null,
   "metadata": {},
   "outputs": [],
   "source": [
    "print(svc_cv_grid.best_score_,svc_cv_grid.best_params_)"
   ]
  },
  {
   "cell_type": "code",
   "execution_count": null,
   "metadata": {},
   "outputs": [],
   "source": [
    "pred_train = svc_cv_grid.predict(X_train_tfidf)"
   ]
  },
  {
   "cell_type": "code",
   "execution_count": null,
   "metadata": {},
   "outputs": [],
   "source": [
    "pred_test = svc_cv_grid.predict(X_test_tfidf)"
   ]
  },
  {
   "cell_type": "code",
   "execution_count": null,
   "metadata": {},
   "outputs": [],
   "source": [
    "print(y_train.shape)\n",
    "print(X_train_tfidf.shape)"
   ]
  },
  {
   "cell_type": "code",
   "execution_count": null,
   "metadata": {},
   "outputs": [],
   "source": [
    "print(accuracy_score(y_train,pred_train))"
   ]
  },
  {
   "cell_type": "code",
   "execution_count": null,
   "metadata": {},
   "outputs": [],
   "source": [
    "print(accuracy_score(y_test,pred_test))"
   ]
  },
  {
   "cell_type": "code",
   "execution_count": null,
   "metadata": {},
   "outputs": [],
   "source": [
    "new_test=pd.read_csv(\"Test-1555730055539.csv\")"
   ]
  },
  {
   "cell_type": "code",
   "execution_count": null,
   "metadata": {},
   "outputs": [],
   "source": [
    "new_test.head()"
   ]
  },
  {
   "cell_type": "markdown",
   "metadata": {},
   "source": [
    "## gradient boosting "
   ]
  },
  {
   "cell_type": "code",
   "execution_count": null,
   "metadata": {},
   "outputs": [],
   "source": [
    "from sklearn.ensemble import GradientBoostingClassifier\n",
    "GBM_model = GradientBoostingClassifier(n_estimators=50,\n",
    "                                       learning_rate=0.3,\n",
    "                                       subsample=0.8)"
   ]
  },
  {
   "cell_type": "code",
   "execution_count": null,
   "metadata": {},
   "outputs": [],
   "source": [
    "GBM_model.fit(X=X_train_tfidf,y=y_train)"
   ]
  },
  {
   "cell_type": "code",
   "execution_count": null,
   "metadata": {},
   "outputs": [],
   "source": [
    "pred_test_GB = GBM_model.predict(X_test_tfidf)\n",
    "pred_train_GB = GBM_model.predict(X_train_tfidf)\n",
    "print(\"Accuracy on train is:\",accuracy_score(y_train,pred_train_GB ))\n",
    "print(\"Accuracy on test is:\",accuracy_score(y_test,pred_test_GB ))\n",
    "print(classification_report(y_train,pred_train_GB ))\n",
    "print(classification_report(y_test,pred_test_GB ))"
   ]
  },
  {
   "cell_type": "markdown",
   "metadata": {},
   "source": [
    "## Decision trees"
   ]
  },
  {
   "cell_type": "code",
   "execution_count": null,
   "metadata": {},
   "outputs": [],
   "source": [
    "import graphviz\n",
    "from sklearn.tree import DecisionTreeClassifier, export_graphviz\n",
    "from sklearn.metrics import accuracy_score\n",
    "from sklearn import tree"
   ]
  },
  {
   "cell_type": "code",
   "execution_count": null,
   "metadata": {},
   "outputs": [],
   "source": [
    "dtc = DecisionTreeClassifier()"
   ]
  },
  {
   "cell_type": "code",
   "execution_count": null,
   "metadata": {},
   "outputs": [],
   "source": [
    "dtc.fit(X=X_train_tfidf,y=y_train)"
   ]
  },
  {
   "cell_type": "code",
   "execution_count": null,
   "metadata": {},
   "outputs": [],
   "source": [
    "pred_train = dtc.predict(X_train_tfidf)\n",
    "pred_test = dtc.predict(X_test_tfidf)\n",
    "print(\"Accuracy on train is:\",accuracy_score(y_train,pred_train))\n",
    "print(\"Accuracy on test is:\",accuracy_score(y_test,pred_test))\n",
    "print(classification_report(y_train,pred_train))\n",
    "print(classification_report(y_test,pred_test))"
   ]
  },
  {
   "cell_type": "code",
   "execution_count": null,
   "metadata": {},
   "outputs": [],
   "source": [
    "##Accuracy using Decisiontrees is 0.5246422893481717 "
   ]
  },
  {
   "cell_type": "markdown",
   "metadata": {},
   "source": [
    "## PREDICT ON NEW TEST DATA "
   ]
  },
  {
   "cell_type": "code",
   "execution_count": null,
   "metadata": {},
   "outputs": [],
   "source": [
    "data1=pd.read_csv(\"Test-1555730055539.csv\")"
   ]
  },
  {
   "cell_type": "code",
   "execution_count": null,
   "metadata": {},
   "outputs": [],
   "source": [
    "data1.head()"
   ]
  },
  {
   "cell_type": "markdown",
   "metadata": {},
   "source": [
    "## Removing Punctuation\n"
   ]
  },
  {
   "cell_type": "code",
   "execution_count": null,
   "metadata": {},
   "outputs": [],
   "source": [
    "data1['reviewtext'] = data1['reviewtext'].str.replace('[^\\w\\s]','')"
   ]
  },
  {
   "cell_type": "markdown",
   "metadata": {},
   "source": [
    "## stop words removal "
   ]
  },
  {
   "cell_type": "code",
   "execution_count": null,
   "metadata": {},
   "outputs": [],
   "source": [
    "from nltk.corpus import stopwords\n",
    "stop = stopwords.words('english')\n",
    "data1['reviewtext'] = data1['reviewtext'].apply(lambda x: \" \".join(x for x in x.split() if x not in stop))\n",
    "data1['reviewtext'].head()\n"
   ]
  },
  {
   "cell_type": "markdown",
   "metadata": {},
   "source": [
    "## common words removal "
   ]
  },
  {
   "cell_type": "code",
   "execution_count": null,
   "metadata": {},
   "outputs": [],
   "source": [
    "freq = pd.Series(' '.join(data1['reviewtext']).split()).value_counts()[:10]\n",
    "freq"
   ]
  },
  {
   "cell_type": "code",
   "execution_count": null,
   "metadata": {},
   "outputs": [],
   "source": [
    "freq = list(freq.index)\n",
    "data1['reviewtext'] = data1['reviewtext'].apply(lambda x: \" \".join(x for x in x.split() if x not in freq))\n",
    "data1['reviewtext'].head()\n"
   ]
  },
  {
   "cell_type": "markdown",
   "metadata": {},
   "source": [
    "## transform review text to lower case "
   ]
  },
  {
   "cell_type": "code",
   "execution_count": null,
   "metadata": {},
   "outputs": [],
   "source": [
    "data1['reviewtext'] = data1['reviewtext'].apply(lambda x: \" \".join(x.lower() for x in x.split()))\n",
    "data1['reviewtext'].head()"
   ]
  },
  {
   "cell_type": "code",
   "execution_count": null,
   "metadata": {},
   "outputs": [],
   "source": [
    "##spelling correction "
   ]
  },
  {
   "cell_type": "code",
   "execution_count": null,
   "metadata": {},
   "outputs": [],
   "source": [
    "from textblob import TextBlob\n",
    "data1['reviewtext'][:5].apply(lambda x: str(TextBlob(x).correct()))"
   ]
  },
  {
   "cell_type": "markdown",
   "metadata": {},
   "source": [
    "## Rare words removal"
   ]
  },
  {
   "cell_type": "code",
   "execution_count": null,
   "metadata": {},
   "outputs": [],
   "source": [
    "freq_rare_test= pd.Series(' '.join(data1['reviewtext']).split()).value_counts()[-10:]\n",
    "freq_rare_test"
   ]
  },
  {
   "cell_type": "code",
   "execution_count": null,
   "metadata": {},
   "outputs": [],
   "source": [
    "freq_rare_test = list(freq_rare_test.index)\n",
    "data1['reviewtext'] = data1['reviewtext'].apply(lambda x: \" \".join(x for x in x.split() if x not in freq))\n",
    "data1['reviewtext'].head()"
   ]
  },
  {
   "cell_type": "markdown",
   "metadata": {},
   "source": [
    "## lemmetize"
   ]
  },
  {
   "cell_type": "code",
   "execution_count": null,
   "metadata": {},
   "outputs": [],
   "source": [
    "from textblob import Word"
   ]
  },
  {
   "cell_type": "code",
   "execution_count": null,
   "metadata": {},
   "outputs": [],
   "source": [
    "data1['reviewtext'] = data1['reviewtext'].apply(lambda x: \" \".join([Word(word).lemmatize() for word in x.split()]))\n",
    "data1['reviewtext'].head()"
   ]
  },
  {
   "cell_type": "markdown",
   "metadata": {},
   "source": [
    "## spelling correction"
   ]
  },
  {
   "cell_type": "code",
   "execution_count": null,
   "metadata": {},
   "outputs": [],
   "source": [
    "from textblob import TextBlob\n",
    "data['reviewtext'][:5].apply(lambda x: str(TextBlob(x).correct()))"
   ]
  },
  {
   "cell_type": "code",
   "execution_count": null,
   "metadata": {},
   "outputs": [],
   "source": [
    "## Stop words removal "
   ]
  },
  {
   "cell_type": "code",
   "execution_count": null,
   "metadata": {},
   "outputs": [],
   "source": [
    "from nltk.corpus import stopwords\n",
    "stop = stopwords.words('english')\n",
    "data1['reviewtext'] = data1['reviewtext'].apply(lambda x: \" \".join(x for x in x.split() if x not in stop))\n",
    "data1['reviewtext'].head()\n"
   ]
  },
  {
   "cell_type": "markdown",
   "metadata": {},
   "source": [
    "## stemming"
   ]
  },
  {
   "cell_type": "code",
   "execution_count": null,
   "metadata": {},
   "outputs": [],
   "source": [
    "from nltk.stem import PorterStemmer\n",
    "st = PorterStemmer()\n",
    "data1['reviewtext'][:5].apply(lambda x: \" \".join([st.stem(word) for word in x.split()]))"
   ]
  },
  {
   "cell_type": "code",
   "execution_count": null,
   "metadata": {},
   "outputs": [],
   "source": [
    "data1.shape"
   ]
  },
  {
   "cell_type": "code",
   "execution_count": null,
   "metadata": {},
   "outputs": [],
   "source": [
    "##lemmetize"
   ]
  },
  {
   "cell_type": "code",
   "execution_count": null,
   "metadata": {},
   "outputs": [],
   "source": [
    "data1['reviewtext'] = data1['reviewtext'].apply(lambda x: \" \".join([Word(word).lemmatize() for word in x.split()]))\n",
    "data1['reviewtext'].head()"
   ]
  },
  {
   "cell_type": "code",
   "execution_count": null,
   "metadata": {},
   "outputs": [],
   "source": [
    "data2=data1[\"reviewtext\"]"
   ]
  },
  {
   "cell_type": "code",
   "execution_count": null,
   "metadata": {},
   "outputs": [],
   "source": [
    "data3=data2.tolist()"
   ]
  },
  {
   "cell_type": "markdown",
   "metadata": {},
   "source": [
    "## Removing white spaces and numbers "
   ]
  },
  {
   "cell_type": "code",
   "execution_count": null,
   "metadata": {},
   "outputs": [],
   "source": [
    "for i in range(len(data3)):\n",
    "    data3[i]=re.sub(r'\\s+', ' ', data3[i]) #Removing more than one white spaces in the sentence\n",
    "    data3[i]=re.sub('[\\d]', '',data3[i]) #Removing numbers"
   ]
  },
  {
   "cell_type": "code",
   "execution_count": null,
   "metadata": {},
   "outputs": [],
   "source": [
    "data3_tfidf = tfidf_transformer.transform(data3)\n",
    "data3_tfidf.shape"
   ]
  },
  {
   "cell_type": "code",
   "execution_count": null,
   "metadata": {},
   "outputs": [],
   "source": [
    "new_pred=svc_cv_grid.predict(data3_tfidf)"
   ]
  },
  {
   "cell_type": "code",
   "execution_count": null,
   "metadata": {},
   "outputs": [],
   "source": [
    "data1.shape"
   ]
  },
  {
   "cell_type": "code",
   "execution_count": null,
   "metadata": {},
   "outputs": [],
   "source": [
    "new_pred.size"
   ]
  },
  {
   "cell_type": "code",
   "execution_count": null,
   "metadata": {},
   "outputs": [],
   "source": [
    "data1.shape"
   ]
  },
  {
   "cell_type": "code",
   "execution_count": null,
   "metadata": {},
   "outputs": [],
   "source": [
    "pred5=pd.DataFrame()"
   ]
  },
  {
   "cell_type": "code",
   "execution_count": null,
   "metadata": {},
   "outputs": [],
   "source": [
    "data1['Sentiment'] = new_pred"
   ]
  },
  {
   "cell_type": "code",
   "execution_count": null,
   "metadata": {},
   "outputs": [],
   "source": [
    "data1.shape"
   ]
  },
  {
   "cell_type": "code",
   "execution_count": null,
   "metadata": {},
   "outputs": [],
   "source": [
    "data1[['Reviewid','Sentiment']].to_csv(\"Review_svc_cv_grid.csv\",index = False)"
   ]
  },
  {
   "cell_type": "markdown",
   "metadata": {},
   "source": [
    "# #predictions on test and upload  to sct "
   ]
  },
  {
   "cell_type": "code",
   "execution_count": null,
   "metadata": {},
   "outputs": [],
   "source": [
    "predictions_lr_grid = pd.DataFrame()"
   ]
  },
  {
   "cell_type": "code",
   "execution_count": null,
   "metadata": {},
   "outputs": [],
   "source": [
    "predictions_lr_grid[\"ReviewID\"] = new_test3[\"Reviewid\"]"
   ]
  },
  {
   "cell_type": "code",
   "execution_count": null,
   "metadata": {},
   "outputs": [],
   "source": [
    "predictions[\"Sentiment\"] = new_pred"
   ]
  },
  {
   "cell_type": "code",
   "execution_count": null,
   "metadata": {},
   "outputs": [],
   "source": [
    "predictions.to_csv(\"Review_predcitions.csv\")"
   ]
  },
  {
   "cell_type": "code",
   "execution_count": null,
   "metadata": {},
   "outputs": [],
   "source": [
    "pred2 =lr_clf.predict(new_test2_tfidf)"
   ]
  },
  {
   "cell_type": "code",
   "execution_count": null,
   "metadata": {},
   "outputs": [],
   "source": [
    "predictions_lr_newtest2 = pd.DataFrame()"
   ]
  },
  {
   "cell_type": "code",
   "execution_count": null,
   "metadata": {},
   "outputs": [],
   "source": [
    "predictions_lr_newtest2[\"ReviewID\"] = new_test[\"Reviewid\"]"
   ]
  },
  {
   "cell_type": "code",
   "execution_count": null,
   "metadata": {},
   "outputs": [],
   "source": [
    "predictions_lr_newtest2[\"Sentiment\"]=pred2"
   ]
  },
  {
   "cell_type": "code",
   "execution_count": null,
   "metadata": {},
   "outputs": [],
   "source": [
    "predictions_lr_newtest2.to_csv(\"Review_predictions_lr.csv\")"
   ]
  },
  {
   "cell_type": "code",
   "execution_count": null,
   "metadata": {},
   "outputs": [],
   "source": []
  }
 ],
 "metadata": {
  "kernelspec": {
   "display_name": "Python 3",
   "language": "python",
   "name": "python3"
  },
  "language_info": {
   "codemirror_mode": {
    "name": "ipython",
    "version": 3
   },
   "file_extension": ".py",
   "mimetype": "text/x-python",
   "name": "python",
   "nbconvert_exporter": "python",
   "pygments_lexer": "ipython3",
   "version": "3.6.5"
  }
 },
 "nbformat": 4,
 "nbformat_minor": 2
}
