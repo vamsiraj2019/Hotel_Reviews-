{
 "cells": [
  {
   "cell_type": "markdown",
   "metadata": {},
   "source": [
    "- Develop a recommendation system using the ratings data available.\n",
    "\n",
    "- Train Dataset name: user_hotel_rating-1555730075105\n",
    "\n",
    "- Features:\n",
    "\n",
    "- Hotelid, userid, rating"
   ]
  },
  {
   "cell_type": "code",
   "execution_count": 1,
   "metadata": {},
   "outputs": [
    {
     "name": "stdout",
     "output_type": "stream",
     "text": [
      "Requirement already satisfied: scikit-surprise in c:\\users\\hp\\anaconda3\\lib\\site-packages (1.0.6)\n",
      "Requirement already satisfied: scipy>=1.0.0 in c:\\users\\hp\\anaconda3\\lib\\site-packages (from scikit-surprise) (1.1.0)\n",
      "Requirement already satisfied: six>=1.10.0 in c:\\users\\hp\\anaconda3\\lib\\site-packages (from scikit-surprise) (1.11.0)\n",
      "Requirement already satisfied: numpy>=1.11.2 in c:\\users\\hp\\anaconda3\\lib\\site-packages (from scikit-surprise) (1.14.3)\n",
      "Requirement already satisfied: joblib>=0.11 in c:\\users\\hp\\anaconda3\\lib\\site-packages (from scikit-surprise) (0.13.0)\n"
     ]
    },
    {
     "name": "stderr",
     "output_type": "stream",
     "text": [
      "WARNING: You are using pip version 19.2.1, however version 19.3.1 is available.\n",
      "You should consider upgrading via the 'python -m pip install --upgrade pip' command.\n"
     ]
    }
   ],
   "source": [
    "!pip install scikit-surprise\n"
   ]
  },
  {
   "cell_type": "code",
   "execution_count": 2,
   "metadata": {},
   "outputs": [],
   "source": [
    "from surprise import Dataset\n",
    "from surprise import Reader, KNNWithMeans\n",
    "from surprise.model_selection import cross_validate\n",
    "import pandas as pd"
   ]
  },
  {
   "cell_type": "code",
   "execution_count": 3,
   "metadata": {},
   "outputs": [
    {
     "data": {
      "text/html": [
       "<div>\n",
       "<style scoped>\n",
       "    .dataframe tbody tr th:only-of-type {\n",
       "        vertical-align: middle;\n",
       "    }\n",
       "\n",
       "    .dataframe tbody tr th {\n",
       "        vertical-align: top;\n",
       "    }\n",
       "\n",
       "    .dataframe thead th {\n",
       "        text-align: right;\n",
       "    }\n",
       "</style>\n",
       "<table border=\"1\" class=\"dataframe\">\n",
       "  <thead>\n",
       "    <tr style=\"text-align: right;\">\n",
       "      <th></th>\n",
       "      <th>userid</th>\n",
       "      <th>Hotelid</th>\n",
       "      <th>OverallRating</th>\n",
       "    </tr>\n",
       "  </thead>\n",
       "  <tbody>\n",
       "    <tr>\n",
       "      <th>0</th>\n",
       "      <td>user_78131</td>\n",
       "      <td>hotel_558</td>\n",
       "      <td>3</td>\n",
       "    </tr>\n",
       "    <tr>\n",
       "      <th>1</th>\n",
       "      <td>user_78131</td>\n",
       "      <td>hotel_603</td>\n",
       "      <td>2</td>\n",
       "    </tr>\n",
       "    <tr>\n",
       "      <th>2</th>\n",
       "      <td>user_78131</td>\n",
       "      <td>hotel_610</td>\n",
       "      <td>3</td>\n",
       "    </tr>\n",
       "    <tr>\n",
       "      <th>3</th>\n",
       "      <td>user_78131</td>\n",
       "      <td>hotel_574</td>\n",
       "      <td>3</td>\n",
       "    </tr>\n",
       "    <tr>\n",
       "      <th>4</th>\n",
       "      <td>user_78131</td>\n",
       "      <td>hotel_570</td>\n",
       "      <td>3</td>\n",
       "    </tr>\n",
       "  </tbody>\n",
       "</table>\n",
       "</div>"
      ],
      "text/plain": [
       "       userid    Hotelid  OverallRating\n",
       "0  user_78131  hotel_558              3\n",
       "1  user_78131  hotel_603              2\n",
       "2  user_78131  hotel_610              3\n",
       "3  user_78131  hotel_574              3\n",
       "4  user_78131  hotel_570              3"
      ]
     },
     "execution_count": 3,
     "metadata": {},
     "output_type": "execute_result"
    }
   ],
   "source": [
    "user_ratings = pd.read_csv(\"user_hotel_rating-1555730075105.csv\")\n",
    "user_ratings.head()"
   ]
  },
  {
   "cell_type": "code",
   "execution_count": 4,
   "metadata": {},
   "outputs": [
    {
     "data": {
      "text/plain": [
       "userid           object\n",
       "Hotelid          object\n",
       "OverallRating     int64\n",
       "dtype: object"
      ]
     },
     "execution_count": 4,
     "metadata": {},
     "output_type": "execute_result"
    }
   ],
   "source": [
    "user_ratings.dtypes"
   ]
  },
  {
   "cell_type": "code",
   "execution_count": 5,
   "metadata": {},
   "outputs": [
    {
     "data": {
      "text/plain": [
       "(271935, 3)"
      ]
     },
     "execution_count": 5,
     "metadata": {},
     "output_type": "execute_result"
    }
   ],
   "source": [
    "user_ratings.shape"
   ]
  },
  {
   "cell_type": "code",
   "execution_count": 6,
   "metadata": {},
   "outputs": [
    {
     "data": {
      "text/plain": [
       "5010"
      ]
     },
     "execution_count": 6,
     "metadata": {},
     "output_type": "execute_result"
    }
   ],
   "source": [
    "user_ratings.userid.nunique()"
   ]
  },
  {
   "cell_type": "code",
   "execution_count": 7,
   "metadata": {},
   "outputs": [
    {
     "data": {
      "text/plain": [
       "130"
      ]
     },
     "execution_count": 7,
     "metadata": {},
     "output_type": "execute_result"
    }
   ],
   "source": [
    "user_ratings.Hotelid.nunique()"
   ]
  },
  {
   "cell_type": "code",
   "execution_count": 8,
   "metadata": {},
   "outputs": [
    {
     "data": {
      "text/plain": [
       "1"
      ]
     },
     "execution_count": 8,
     "metadata": {},
     "output_type": "execute_result"
    }
   ],
   "source": [
    "user_ratings['OverallRating'].min()"
   ]
  },
  {
   "cell_type": "code",
   "execution_count": 9,
   "metadata": {},
   "outputs": [
    {
     "data": {
      "text/plain": [
       "5"
      ]
     },
     "execution_count": 9,
     "metadata": {},
     "output_type": "execute_result"
    }
   ],
   "source": [
    "user_ratings['OverallRating'].max()"
   ]
  },
  {
   "cell_type": "code",
   "execution_count": 10,
   "metadata": {},
   "outputs": [],
   "source": [
    "no_of_users = 1000\n",
    "## Preparing data to make it compatible for \"Surprise\" Package\n",
    "reader = Reader(line_format = 'user item rating', rating_scale=(1, 5))\n",
    "## Reader is a function which returns a object compaitable with surprise package\n",
    "data = Dataset.load_from_df(user_ratings.iloc[:1000], reader)"
   ]
  },
  {
   "cell_type": "code",
   "execution_count": 11,
   "metadata": {},
   "outputs": [],
   "source": [
    "sim_parameters = {'name': 'cosine',\n",
    "               'user_based': True \n",
    "               }\n",
    "algo = KNNWithMeans(sim_options=sim_parameters)"
   ]
  },
  {
   "cell_type": "markdown",
   "metadata": {},
   "source": [
    "# Running  a cross_validation procedure for a given algorithm, reporting accuracy measures and computation times"
   ]
  },
  {
   "cell_type": "code",
   "execution_count": 12,
   "metadata": {},
   "outputs": [
    {
     "name": "stdout",
     "output_type": "stream",
     "text": [
      "Computing the cosine similarity matrix...\n",
      "Done computing similarity matrix.\n",
      "Computing the cosine similarity matrix...\n",
      "Done computing similarity matrix.\n",
      "Computing the cosine similarity matrix...\n",
      "Done computing similarity matrix.\n",
      "Computing the cosine similarity matrix...\n",
      "Done computing similarity matrix.\n",
      "Computing the cosine similarity matrix...\n",
      "Done computing similarity matrix.\n",
      "Evaluating RMSE, MAE of algorithm KNNWithMeans on 5 split(s).\n",
      "\n",
      "                  Fold 1  Fold 2  Fold 3  Fold 4  Fold 5  Mean    Std     \n",
      "RMSE (testset)    1.0306  0.9324  1.0465  0.9883  0.9556  0.9907  0.0432  \n",
      "MAE (testset)     0.8061  0.7554  0.8245  0.7795  0.7406  0.7812  0.0310  \n",
      "Fit time          0.01    0.01    0.01    0.01    0.01    0.01    0.00    \n",
      "Test time         0.03    0.02    0.02    0.02    0.02    0.02    0.00    \n"
     ]
    },
    {
     "data": {
      "text/plain": [
       "{'test_rmse': array([1.03058069, 0.93238155, 1.04648155, 0.98832495, 0.95563999]),\n",
       " 'test_mae': array([0.80607602, 0.75538862, 0.82454975, 0.77950248, 0.74057921]),\n",
       " 'fit_time': (0.01093292236328125,\n",
       "  0.007974386215209961,\n",
       "  0.0059833526611328125,\n",
       "  0.009006977081298828,\n",
       "  0.006978034973144531),\n",
       " 'test_time': (0.029904603958129883,\n",
       "  0.023890256881713867,\n",
       "  0.022941112518310547,\n",
       "  0.024901628494262695,\n",
       "  0.015958547592163086)}"
      ]
     },
     "execution_count": 12,
     "metadata": {},
     "output_type": "execute_result"
    }
   ],
   "source": [
    "cross_validate(algo, data, measures=['RMSE', 'MAE'], cv=5, verbose=True)"
   ]
  },
  {
   "cell_type": "code",
   "execution_count": 13,
   "metadata": {},
   "outputs": [],
   "source": [
    "#### Training the model on complete data"
   ]
  },
  {
   "cell_type": "code",
   "execution_count": 14,
   "metadata": {},
   "outputs": [
    {
     "name": "stdout",
     "output_type": "stream",
     "text": [
      "Computing the cosine similarity matrix...\n",
      "Done computing similarity matrix.\n"
     ]
    },
    {
     "data": {
      "text/plain": [
       "<surprise.prediction_algorithms.knns.KNNWithMeans at 0x1764b6b5d68>"
      ]
     },
     "execution_count": 14,
     "metadata": {},
     "output_type": "execute_result"
    }
   ],
   "source": [
    "#Using full data for training\n",
    "trainset = data.build_full_trainset()\n",
    "algo.fit(trainset)"
   ]
  },
  {
   "cell_type": "markdown",
   "metadata": {},
   "source": [
    "## Filtering instances which can be used for predictions"
   ]
  },
  {
   "cell_type": "code",
   "execution_count": 15,
   "metadata": {},
   "outputs": [],
   "source": [
    "# Getting data points where predictions can be made\n",
    "testset = trainset.build_anti_testset()"
   ]
  },
  {
   "cell_type": "code",
   "execution_count": 16,
   "metadata": {},
   "outputs": [
    {
     "name": "stdout",
     "output_type": "stream",
     "text": [
      "<class 'list'>\n"
     ]
    }
   ],
   "source": [
    "print (type(testset))"
   ]
  },
  {
   "cell_type": "code",
   "execution_count": 17,
   "metadata": {},
   "outputs": [
    {
     "name": "stdout",
     "output_type": "stream",
     "text": [
      "1562\n"
     ]
    }
   ],
   "source": [
    "print (len(testset))"
   ]
  },
  {
   "cell_type": "markdown",
   "metadata": {},
   "source": [
    "## Making Predictions"
   ]
  },
  {
   "cell_type": "code",
   "execution_count": 18,
   "metadata": {},
   "outputs": [],
   "source": [
    "predictions = algo.test(testset)"
   ]
  },
  {
   "cell_type": "code",
   "execution_count": 19,
   "metadata": {},
   "outputs": [
    {
     "data": {
      "text/plain": [
       "[Prediction(uid='user_78131', iid='hotel_517', r_ui=3.356, est=4.273445981397632, details={'actual_k': 7, 'was_impossible': False}),\n",
       " Prediction(uid='user_78131', iid='hotel_519', r_ui=3.356, est=3.6941598013110486, details={'actual_k': 10, 'was_impossible': False}),\n",
       " Prediction(uid='user_78131', iid='hotel_565', r_ui=3.356, est=3.1889780522621587, details={'actual_k': 10, 'was_impossible': False}),\n",
       " Prediction(uid='user_78131', iid='hotel_630', r_ui=3.356, est=3.9830660765615544, details={'actual_k': 13, 'was_impossible': False})]"
      ]
     },
     "execution_count": 19,
     "metadata": {},
     "output_type": "execute_result"
    }
   ],
   "source": [
    "predictions[0:4]"
   ]
  },
  {
   "cell_type": "markdown",
   "metadata": {},
   "source": [
    "#### Function to calculate top 10 predictions for each user"
   ]
  },
  {
   "cell_type": "code",
   "execution_count": 20,
   "metadata": {},
   "outputs": [],
   "source": [
    "# Fetching top 10 predictions for each user\n",
    "from collections import defaultdict\n",
    "def get_top_n(predictions, n=10):\n",
    "    '''Return the top-N recommendation for each user from a set of predictions.\n",
    "\n",
    "    Args:\n",
    "        predictions(list of Prediction objects): The list of predictions, as\n",
    "            returned by the test method of an algorithm.\n",
    "        n(int): The number of recommendation to output for each user. Default\n",
    "            is 10.\n",
    "\n",
    "    Returns:\n",
    "    A dict where keys are user (raw) ids and values are lists of tuples:\n",
    "        [(raw item id, rating estimation), ...] of size n.\n",
    "    '''\n",
    "\n",
    "    # First map the predictions to each user.\n",
    "    top_n = defaultdict(list)\n",
    "    for uid, iid, true_r, est, _ in predictions:\n",
    "        top_n[uid].append((iid, est))\n",
    "\n",
    "    # Then sort the predictions for each user and retrieve the k highest ones.\n",
    "    for uid, user_ratings in top_n.items():\n",
    "        user_ratings.sort(key=lambda x: x[1], reverse=True)\n",
    "        top_n[uid] = user_ratings[:n]\n",
    "\n",
    "    return top_n\n",
    "\n",
    "from itertools import islice\n",
    "\n",
    "def take(n, iterable):\n",
    "    \"Return first n items of the iterable as a list\"\n",
    "    return list(islice(iterable, n))\n"
   ]
  },
  {
   "cell_type": "code",
   "execution_count": 21,
   "metadata": {},
   "outputs": [],
   "source": [
    "top_n = get_top_n(predictions, n=10)"
   ]
  },
  {
   "cell_type": "code",
   "execution_count": 22,
   "metadata": {},
   "outputs": [
    {
     "data": {
      "text/plain": [
       "collections.defaultdict"
      ]
     },
     "execution_count": 22,
     "metadata": {},
     "output_type": "execute_result"
    }
   ],
   "source": [
    "type(top_n)"
   ]
  },
  {
   "cell_type": "code",
   "execution_count": 23,
   "metadata": {},
   "outputs": [
    {
     "data": {
      "text/plain": [
       "dict_items([('user_78131', [('hotel_536', 4.505715411903823), ('hotel_517', 4.273445981397632), ('hotel_539', 4.2203583682805945), ('hotel_545', 4.2203583682805945), ('hotel_547', 4.2203583682805945), ('hotel_524', 4.019518006073826), ('hotel_526', 4.0023255813953496), ('hotel_630', 3.9830660765615544), ('hotel_529', 3.945507488709044), ('hotel_515', 3.8215312164626667)]), ('user_21002', [('hotel_536', 4.492278719397364), ('hotel_539', 4.206921675774135), ('hotel_545', 4.206921675774135), ('hotel_547', 4.206921675774135), ('hotel_524', 4.005363578287614), ('hotel_526', 3.988888888888889), ('hotel_529', 3.9298079760462112), ('hotel_600', 3.8455296950041493), ('hotel_593', 3.841875696646769), ('hotel_629', 3.830441757916404)]), ('user_24128', [('hotel_536', 3.63928726640591), ('hotel_539', 3.3539302227826817), ('hotel_545', 3.3539302227826817), ('hotel_547', 3.3539302227826817), ('hotel_628', 3.209888665414903), ('hotel_524', 3.152940984927734), ('hotel_526', 3.135897435897436), ('hotel_630', 3.117132313114653), ('hotel_529', 3.080883626788323), ('hotel_600', 2.9991525887587662)]), ('user_27174', [('hotel_536', 3.4207811348563006), ('hotel_517', 3.206355870222807), ('hotel_539', 3.135424091233072), ('hotel_545', 3.135424091233072), ('hotel_547', 3.135424091233072), ('hotel_628', 3.042979762508112), ('hotel_524', 2.936215308767107), ('hotel_526', 2.9173913043478263), ('hotel_529', 2.8582724112395406), ('hotel_605', 2.8139069983831124)]), ('user_36448', [('hotel_536', 4.145697522816167), ('hotel_539', 3.8603404791929385), ('hotel_545', 3.8603404791929385), ('hotel_547', 3.8603404791929385), ('hotel_524', 3.6608564187890202), ('hotel_526', 3.6423076923076927), ('hotel_529', 3.5844948227333857), ('hotel_600', 3.5080419378759027), ('hotel_593', 3.4939240448877866), ('hotel_605', 3.4851837329037987)]), ('user_44791', [('hotel_536', 3.5783898305084745), ('hotel_539', 3.293032786885246), ('hotel_545', 3.293032786885246), ('hotel_547', 3.293032786885246), ('hotel_524', 3.089915667099338), ('hotel_526', 3.075), ('hotel_630', 3.016573439292323), ('hotel_529', 3.0163377889186576), ('hotel_593', 2.922187678335221), ('hotel_629', 2.9082038713232583)]), ('user_53199', [('hotel_593', 5), ('hotel_605', 5), ('hotel_600', 5), ('hotel_628', 5), ('hotel_566', 5), ('hotel_560', 5), ('hotel_599', 5), ('hotel_506', 5), ('hotel_517', 5), ('hotel_519', 5)]), ('user_58433', [('hotel_517', 5), ('hotel_536', 5), ('hotel_628', 4.8446799396133695), ('hotel_526', 4.781967213114754), ('hotel_529', 4.726241097280964), ('hotel_600', 4.641344135723604), ('hotel_593', 4.641014277918409), ('hotel_605', 4.615599062403361), ('hotel_515', 4.603128597449278), ('hotel_522', 4.52791698611536)]), ('user_62574', [('hotel_536', 4.856451054998271), ('hotel_517', 4.622728069116094), ('hotel_539', 4.571094011375042), ('hotel_545', 4.571094011375042), ('hotel_547', 4.571094011375042), ('hotel_628', 4.423955640766071), ('hotel_524', 4.371739597818511), ('hotel_526', 4.353061224489796), ('hotel_529', 4.29871977291206), ('hotel_593', 4.21395120892013)]), ('user_66567', [('hotel_517', 5), ('hotel_539', 5), ('hotel_545', 5), ('hotel_547', 5), ('hotel_536', 5), ('hotel_526', 4.912765957446808), ('hotel_630', 4.8708194402302185), ('hotel_600', 4.779130961077416), ('hotel_515', 4.72675337155948), ('hotel_605', 4.7124820056648185)]), ('user_68496', [('hotel_536', 4.223797993773781), ('hotel_539', 3.938440950150552), ('hotel_545', 3.938440950150552), ('hotel_547', 3.938440950150552), ('hotel_524', 3.7360112525143467), ('hotel_526', 3.720408163265306), ('hotel_630', 3.7042972927057503), ('hotel_529', 3.663237472438231), ('hotel_593', 3.579828116168097), ('hotel_605', 3.5662208668205153)]), ('user_71452', [('hotel_536', 3.374121537825548), ('hotel_517', 3.1518802359939055), ('hotel_539', 3.0887644942023194), ('hotel_545', 3.0887644942023194), ('hotel_547', 3.0887644942023194), ('hotel_524', 2.8956317859236913), ('hotel_526', 2.8707317073170735), ('hotel_529', 2.8179314976045955), ('hotel_515', 2.68369899317778), ('hotel_634', 2.6498730719381145)]), ('user_76546', [('hotel_536', 5), ('hotel_517', 4.930055813992924), ('hotel_539', 4.875479595395884), ('hotel_545', 4.875479595395884), ('hotel_547', 4.875479595395884), ('hotel_628', 4.713963424472886), ('hotel_524', 4.673932494432719), ('hotel_526', 4.657446808510638), ('hotel_529', 4.600227443009995), ('hotel_600', 4.517326246417294)]), ('user_76643', [('hotel_593', 5), ('hotel_605', 5), ('hotel_600', 5), ('hotel_629', 5), ('hotel_628', 5), ('hotel_517', 5), ('hotel_630', 5), ('hotel_515', 5), ('hotel_507', 5), ('hotel_539', 5)]), ('user_77336', [('hotel_539', 4.714642956376771), ('hotel_545', 4.714642956376771), ('hotel_547', 4.714642956376771), ('hotel_628', 4.599331725508369), ('hotel_524', 4.516558417888889), ('hotel_526', 4.496610169491525), ('hotel_630', 4.492983454444957), ('hotel_529', 4.437279322717259), ('hotel_515', 4.3118047028191535), ('hotel_507', 4.295147020029951)]), ('user_78926', [('hotel_536', 4.474223163841808), ('hotel_517', 4.240503882559103), ('hotel_539', 4.18886612021858), ('hotel_545', 4.18886612021858), ('hotel_547', 4.18886612021858), ('hotel_628', 4.060001544333083), ('hotel_524', 3.989798016890548), ('hotel_526', 3.9708333333333337), ('hotel_529', 3.9147786406813827), ('hotel_515', 3.777356684316759)]), ('user_79024', [('hotel_536', 3.5033898305084743), ('hotel_517', 3.2602068051964688), ('hotel_539', 3.218032786885246), ('hotel_545', 3.218032786885246), ('hotel_547', 3.218032786885246), ('hotel_524', 3.0214978782756416), ('hotel_630', 2.970780839630039), ('hotel_629', 2.845166086953195), ('hotel_605', 2.8296474043896205), ('hotel_507', 2.7997780187584946)]), ('user_79636', [('hotel_536', 4.495056497175141), ('hotel_517', 4.271558286782936), ('hotel_539', 4.209699453551913), ('hotel_545', 4.209699453551913), ('hotel_547', 4.209699453551913), ('hotel_628', 4.0754245593838325), ('hotel_524', 4.0059194771841), ('hotel_526', 3.9916666666666667), ('hotel_529', 3.9338357793742444), ('hotel_593', 3.8528381393400286)]), ('user_79737', [('hotel_536', 4.515889830508474), ('hotel_539', 4.230532786885246), ('hotel_545', 4.230532786885246), ('hotel_547', 4.230532786885246), ('hotel_628', 4.088137506694667), ('hotel_524', 4.029983379102466), ('hotel_526', 4.0125), ('hotel_529', 3.9554079832568023), ('hotel_515', 3.833122168465575), ('hotel_522', 3.7617703536380134)]), ('user_79840', [('hotel_536', 4.3948791922106025), ('hotel_517', 4.158983911887436), ('hotel_539', 4.109522148587374), ('hotel_545', 4.109522148587374), ('hotel_547', 4.109522148587374), ('hotel_628', 3.9736552912706373), ('hotel_524', 3.90942863057826), ('hotel_526', 3.891489361702128), ('hotel_529', 3.833515643256516), ('hotel_600', 3.7550720698073805)]), ('user_21936', [('hotel_536', 4.953389830508474), ('hotel_517', 4.729892843943566), ('hotel_539', 4.668032786885246), ('hotel_545', 4.668032786885246), ('hotel_547', 4.668032786885246), ('hotel_628', 4.503261480635931), ('hotel_524', 4.4736995793868255), ('hotel_526', 4.45), ('hotel_529', 4.39851507143012), ('hotel_600', 4.314410207043626)])])"
      ]
     },
     "execution_count": 23,
     "metadata": {},
     "output_type": "execute_result"
    }
   ],
   "source": [
    "top_n.items()"
   ]
  },
  {
   "cell_type": "code",
   "execution_count": 24,
   "metadata": {},
   "outputs": [
    {
     "data": {
      "text/plain": [
       "[('user_78131',\n",
       "  [('hotel_536', 4.505715411903823),\n",
       "   ('hotel_517', 4.273445981397632),\n",
       "   ('hotel_539', 4.2203583682805945),\n",
       "   ('hotel_545', 4.2203583682805945),\n",
       "   ('hotel_547', 4.2203583682805945),\n",
       "   ('hotel_524', 4.019518006073826),\n",
       "   ('hotel_526', 4.0023255813953496),\n",
       "   ('hotel_630', 3.9830660765615544),\n",
       "   ('hotel_529', 3.945507488709044),\n",
       "   ('hotel_515', 3.8215312164626667)]),\n",
       " ('user_21002',\n",
       "  [('hotel_536', 4.492278719397364),\n",
       "   ('hotel_539', 4.206921675774135),\n",
       "   ('hotel_545', 4.206921675774135),\n",
       "   ('hotel_547', 4.206921675774135),\n",
       "   ('hotel_524', 4.005363578287614),\n",
       "   ('hotel_526', 3.988888888888889),\n",
       "   ('hotel_529', 3.9298079760462112),\n",
       "   ('hotel_600', 3.8455296950041493),\n",
       "   ('hotel_593', 3.841875696646769),\n",
       "   ('hotel_629', 3.830441757916404)]),\n",
       " ('user_24128',\n",
       "  [('hotel_536', 3.63928726640591),\n",
       "   ('hotel_539', 3.3539302227826817),\n",
       "   ('hotel_545', 3.3539302227826817),\n",
       "   ('hotel_547', 3.3539302227826817),\n",
       "   ('hotel_628', 3.209888665414903),\n",
       "   ('hotel_524', 3.152940984927734),\n",
       "   ('hotel_526', 3.135897435897436),\n",
       "   ('hotel_630', 3.117132313114653),\n",
       "   ('hotel_529', 3.080883626788323),\n",
       "   ('hotel_600', 2.9991525887587662)]),\n",
       " ('user_27174',\n",
       "  [('hotel_536', 3.4207811348563006),\n",
       "   ('hotel_517', 3.206355870222807),\n",
       "   ('hotel_539', 3.135424091233072),\n",
       "   ('hotel_545', 3.135424091233072),\n",
       "   ('hotel_547', 3.135424091233072),\n",
       "   ('hotel_628', 3.042979762508112),\n",
       "   ('hotel_524', 2.936215308767107),\n",
       "   ('hotel_526', 2.9173913043478263),\n",
       "   ('hotel_529', 2.8582724112395406),\n",
       "   ('hotel_605', 2.8139069983831124)]),\n",
       " ('user_36448',\n",
       "  [('hotel_536', 4.145697522816167),\n",
       "   ('hotel_539', 3.8603404791929385),\n",
       "   ('hotel_545', 3.8603404791929385),\n",
       "   ('hotel_547', 3.8603404791929385),\n",
       "   ('hotel_524', 3.6608564187890202),\n",
       "   ('hotel_526', 3.6423076923076927),\n",
       "   ('hotel_529', 3.5844948227333857),\n",
       "   ('hotel_600', 3.5080419378759027),\n",
       "   ('hotel_593', 3.4939240448877866),\n",
       "   ('hotel_605', 3.4851837329037987)]),\n",
       " ('user_44791',\n",
       "  [('hotel_536', 3.5783898305084745),\n",
       "   ('hotel_539', 3.293032786885246),\n",
       "   ('hotel_545', 3.293032786885246),\n",
       "   ('hotel_547', 3.293032786885246),\n",
       "   ('hotel_524', 3.089915667099338),\n",
       "   ('hotel_526', 3.075),\n",
       "   ('hotel_630', 3.016573439292323),\n",
       "   ('hotel_529', 3.0163377889186576),\n",
       "   ('hotel_593', 2.922187678335221),\n",
       "   ('hotel_629', 2.9082038713232583)]),\n",
       " ('user_53199',\n",
       "  [('hotel_593', 5),\n",
       "   ('hotel_605', 5),\n",
       "   ('hotel_600', 5),\n",
       "   ('hotel_628', 5),\n",
       "   ('hotel_566', 5),\n",
       "   ('hotel_560', 5),\n",
       "   ('hotel_599', 5),\n",
       "   ('hotel_506', 5),\n",
       "   ('hotel_517', 5),\n",
       "   ('hotel_519', 5)]),\n",
       " ('user_58433',\n",
       "  [('hotel_517', 5),\n",
       "   ('hotel_536', 5),\n",
       "   ('hotel_628', 4.8446799396133695),\n",
       "   ('hotel_526', 4.781967213114754),\n",
       "   ('hotel_529', 4.726241097280964),\n",
       "   ('hotel_600', 4.641344135723604),\n",
       "   ('hotel_593', 4.641014277918409),\n",
       "   ('hotel_605', 4.615599062403361),\n",
       "   ('hotel_515', 4.603128597449278),\n",
       "   ('hotel_522', 4.52791698611536)]),\n",
       " ('user_62574',\n",
       "  [('hotel_536', 4.856451054998271),\n",
       "   ('hotel_517', 4.622728069116094),\n",
       "   ('hotel_539', 4.571094011375042),\n",
       "   ('hotel_545', 4.571094011375042),\n",
       "   ('hotel_547', 4.571094011375042),\n",
       "   ('hotel_628', 4.423955640766071),\n",
       "   ('hotel_524', 4.371739597818511),\n",
       "   ('hotel_526', 4.353061224489796),\n",
       "   ('hotel_529', 4.29871977291206),\n",
       "   ('hotel_593', 4.21395120892013)]),\n",
       " ('user_66567',\n",
       "  [('hotel_517', 5),\n",
       "   ('hotel_539', 5),\n",
       "   ('hotel_545', 5),\n",
       "   ('hotel_547', 5),\n",
       "   ('hotel_536', 5),\n",
       "   ('hotel_526', 4.912765957446808),\n",
       "   ('hotel_630', 4.8708194402302185),\n",
       "   ('hotel_600', 4.779130961077416),\n",
       "   ('hotel_515', 4.72675337155948),\n",
       "   ('hotel_605', 4.7124820056648185)])]"
      ]
     },
     "execution_count": 24,
     "metadata": {},
     "output_type": "execute_result"
    }
   ],
   "source": [
    "take(10, top_n.items())"
   ]
  },
  {
   "cell_type": "markdown",
   "metadata": {},
   "source": [
    "## Top Predictions Matrix"
   ]
  },
  {
   "cell_type": "code",
   "execution_count": 25,
   "metadata": {},
   "outputs": [
    {
     "name": "stdout",
     "output_type": "stream",
     "text": [
      "user_78131 ['hotel_536', 'hotel_517', 'hotel_539', 'hotel_545', 'hotel_547', 'hotel_524', 'hotel_526', 'hotel_630', 'hotel_529', 'hotel_515']\n",
      "user_21002 ['hotel_536', 'hotel_539', 'hotel_545', 'hotel_547', 'hotel_524', 'hotel_526', 'hotel_529', 'hotel_600', 'hotel_593', 'hotel_629']\n",
      "user_24128 ['hotel_536', 'hotel_539', 'hotel_545', 'hotel_547', 'hotel_628', 'hotel_524', 'hotel_526', 'hotel_630', 'hotel_529', 'hotel_600']\n",
      "user_27174 ['hotel_536', 'hotel_517', 'hotel_539', 'hotel_545', 'hotel_547', 'hotel_628', 'hotel_524', 'hotel_526', 'hotel_529', 'hotel_605']\n",
      "user_36448 ['hotel_536', 'hotel_539', 'hotel_545', 'hotel_547', 'hotel_524', 'hotel_526', 'hotel_529', 'hotel_600', 'hotel_593', 'hotel_605']\n",
      "user_44791 ['hotel_536', 'hotel_539', 'hotel_545', 'hotel_547', 'hotel_524', 'hotel_526', 'hotel_630', 'hotel_529', 'hotel_593', 'hotel_629']\n",
      "user_53199 ['hotel_593', 'hotel_605', 'hotel_600', 'hotel_628', 'hotel_566', 'hotel_560', 'hotel_599', 'hotel_506', 'hotel_517', 'hotel_519']\n",
      "user_58433 ['hotel_517', 'hotel_536', 'hotel_628', 'hotel_526', 'hotel_529', 'hotel_600', 'hotel_593', 'hotel_605', 'hotel_515', 'hotel_522']\n",
      "user_62574 ['hotel_536', 'hotel_517', 'hotel_539', 'hotel_545', 'hotel_547', 'hotel_628', 'hotel_524', 'hotel_526', 'hotel_529', 'hotel_593']\n",
      "user_66567 ['hotel_517', 'hotel_539', 'hotel_545', 'hotel_547', 'hotel_536', 'hotel_526', 'hotel_630', 'hotel_600', 'hotel_515', 'hotel_605']\n"
     ]
    }
   ],
   "source": [
    "# Printing top predictions\n",
    "for uid, user_ratings in take(10,top_n.items()):\n",
    "    print(uid, [iid for (iid, _) in user_ratings])"
   ]
  }
 ],
 "metadata": {
  "kernelspec": {
   "display_name": "Python 3",
   "language": "python",
   "name": "python3"
  },
  "language_info": {
   "codemirror_mode": {
    "name": "ipython",
    "version": 3
   },
   "file_extension": ".py",
   "mimetype": "text/x-python",
   "name": "python",
   "nbconvert_exporter": "python",
   "pygments_lexer": "ipython3",
   "version": "3.6.5"
  }
 },
 "nbformat": 4,
 "nbformat_minor": 2
}
